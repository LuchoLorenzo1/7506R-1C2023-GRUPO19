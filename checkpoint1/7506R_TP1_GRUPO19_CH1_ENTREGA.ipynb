{
 "cells": [
  {
   "cell_type": "markdown",
   "id": "aab10070",
   "metadata": {},
   "source": [
    "# <center>Organizaci&oacute;n de Datos</center>\n",
    "## <center>Trabajo Práctico 1 : Reservas de Hotel</center>\n",
    "## <center>Checkpoint 1</center>\n",
    "### <center> </center>\n",
    "\n",
    "#### Integrantes grupo 19: Sudanalytics \n",
    "* Adrian Leandro Re\n",
    "* Alan Toulouse\n",
    "* Luciano Lorenzo 108951"
   ]
  },
  {
   "cell_type": "code",
   "execution_count": 133,
   "id": "4cecfa7f",
   "metadata": {
    "tags": []
   },
   "outputs": [],
   "source": [
    "import pandas as pd\n",
    "import numpy as np\n",
    "import seaborn as sns\n",
    "import matplotlib.pyplot as plt\n",
    "%matplotlib inline"
   ]
  },
  {
   "cell_type": "markdown",
   "id": "437b6cbe-9b00-49d3-8258-d8517e7bb277",
   "metadata": {},
   "source": [
    "Cargamos 3 data frames, el de todos los registros, y dos que nos servirán para analizar las demás columnas en función del **target** (`is_canceled`)."
   ]
  },
  {
   "cell_type": "code",
   "execution_count": 134,
   "id": "c5db876a-9ce1-44c4-962d-ff06b6bfd848",
   "metadata": {
    "tags": []
   },
   "outputs": [
    {
     "data": {
      "text/html": [
       "<div>\n",
       "<style scoped>\n",
       "    .dataframe tbody tr th:only-of-type {\n",
       "        vertical-align: middle;\n",
       "    }\n",
       "\n",
       "    .dataframe tbody tr th {\n",
       "        vertical-align: top;\n",
       "    }\n",
       "\n",
       "    .dataframe thead th {\n",
       "        text-align: right;\n",
       "    }\n",
       "</style>\n",
       "<table border=\"1\" class=\"dataframe\">\n",
       "  <thead>\n",
       "    <tr style=\"text-align: right;\">\n",
       "      <th></th>\n",
       "      <th>hotel</th>\n",
       "      <th>lead_time</th>\n",
       "      <th>arrival_date_year</th>\n",
       "      <th>arrival_date_month</th>\n",
       "      <th>arrival_date_week_number</th>\n",
       "      <th>arrival_date_day_of_month</th>\n",
       "      <th>stays_in_weekend_nights</th>\n",
       "      <th>stays_in_week_nights</th>\n",
       "      <th>adults</th>\n",
       "      <th>children</th>\n",
       "      <th>...</th>\n",
       "      <th>agent</th>\n",
       "      <th>company</th>\n",
       "      <th>days_in_waiting_list</th>\n",
       "      <th>customer_type</th>\n",
       "      <th>adr</th>\n",
       "      <th>required_car_parking_spaces</th>\n",
       "      <th>total_of_special_requests</th>\n",
       "      <th>reservation_status_date</th>\n",
       "      <th>id</th>\n",
       "      <th>is_canceled</th>\n",
       "    </tr>\n",
       "  </thead>\n",
       "  <tbody>\n",
       "    <tr>\n",
       "      <th>0</th>\n",
       "      <td>City Hotel</td>\n",
       "      <td>49</td>\n",
       "      <td>2016</td>\n",
       "      <td>September</td>\n",
       "      <td>37</td>\n",
       "      <td>5</td>\n",
       "      <td>1</td>\n",
       "      <td>2</td>\n",
       "      <td>1</td>\n",
       "      <td>0.0</td>\n",
       "      <td>...</td>\n",
       "      <td>9.0</td>\n",
       "      <td>NaN</td>\n",
       "      <td>0</td>\n",
       "      <td>Transient</td>\n",
       "      <td>115.5</td>\n",
       "      <td>0</td>\n",
       "      <td>1</td>\n",
       "      <td>2016-08-25</td>\n",
       "      <td>7aa4cc6b-b92c-4061-b21d-4f9e0cac4689</td>\n",
       "      <td>1</td>\n",
       "    </tr>\n",
       "    <tr>\n",
       "      <th>1</th>\n",
       "      <td>Resort Hotel</td>\n",
       "      <td>4</td>\n",
       "      <td>2015</td>\n",
       "      <td>October</td>\n",
       "      <td>44</td>\n",
       "      <td>31</td>\n",
       "      <td>0</td>\n",
       "      <td>1</td>\n",
       "      <td>2</td>\n",
       "      <td>0.0</td>\n",
       "      <td>...</td>\n",
       "      <td>NaN</td>\n",
       "      <td>NaN</td>\n",
       "      <td>0</td>\n",
       "      <td>Transient</td>\n",
       "      <td>42.0</td>\n",
       "      <td>1</td>\n",
       "      <td>0</td>\n",
       "      <td>2015-11-01</td>\n",
       "      <td>b1428f80-c56c-4ae4-91a9-6962edae08b1</td>\n",
       "      <td>0</td>\n",
       "    </tr>\n",
       "    <tr>\n",
       "      <th>2</th>\n",
       "      <td>City Hotel</td>\n",
       "      <td>25</td>\n",
       "      <td>2016</td>\n",
       "      <td>October</td>\n",
       "      <td>42</td>\n",
       "      <td>13</td>\n",
       "      <td>0</td>\n",
       "      <td>1</td>\n",
       "      <td>2</td>\n",
       "      <td>2.0</td>\n",
       "      <td>...</td>\n",
       "      <td>9.0</td>\n",
       "      <td>NaN</td>\n",
       "      <td>0</td>\n",
       "      <td>Transient</td>\n",
       "      <td>229.0</td>\n",
       "      <td>0</td>\n",
       "      <td>2</td>\n",
       "      <td>2016-10-14</td>\n",
       "      <td>2226c018-ea20-4c4e-8f71-ea66aee70d7c</td>\n",
       "      <td>0</td>\n",
       "    </tr>\n",
       "    <tr>\n",
       "      <th>3</th>\n",
       "      <td>City Hotel</td>\n",
       "      <td>26</td>\n",
       "      <td>2016</td>\n",
       "      <td>December</td>\n",
       "      <td>51</td>\n",
       "      <td>12</td>\n",
       "      <td>2</td>\n",
       "      <td>5</td>\n",
       "      <td>2</td>\n",
       "      <td>0.0</td>\n",
       "      <td>...</td>\n",
       "      <td>154.0</td>\n",
       "      <td>NaN</td>\n",
       "      <td>0</td>\n",
       "      <td>Transient</td>\n",
       "      <td>75.0</td>\n",
       "      <td>0</td>\n",
       "      <td>0</td>\n",
       "      <td>2016-11-29</td>\n",
       "      <td>314f56dc-2e4d-4298-9bdd-27bb008bffff</td>\n",
       "      <td>1</td>\n",
       "    </tr>\n",
       "    <tr>\n",
       "      <th>4</th>\n",
       "      <td>City Hotel</td>\n",
       "      <td>104</td>\n",
       "      <td>2017</td>\n",
       "      <td>March</td>\n",
       "      <td>12</td>\n",
       "      <td>19</td>\n",
       "      <td>2</td>\n",
       "      <td>5</td>\n",
       "      <td>2</td>\n",
       "      <td>0.0</td>\n",
       "      <td>...</td>\n",
       "      <td>20.0</td>\n",
       "      <td>NaN</td>\n",
       "      <td>0</td>\n",
       "      <td>Transient-Party</td>\n",
       "      <td>75.0</td>\n",
       "      <td>0</td>\n",
       "      <td>1</td>\n",
       "      <td>2017-03-26</td>\n",
       "      <td>28c75445-c603-413a-babf-ad377018b592</td>\n",
       "      <td>0</td>\n",
       "    </tr>\n",
       "  </tbody>\n",
       "</table>\n",
       "<p>5 rows × 32 columns</p>\n",
       "</div>"
      ],
      "text/plain": [
       "          hotel  lead_time  arrival_date_year arrival_date_month  \\\n",
       "0    City Hotel         49               2016          September   \n",
       "1  Resort Hotel          4               2015            October   \n",
       "2    City Hotel         25               2016            October   \n",
       "3    City Hotel         26               2016           December   \n",
       "4    City Hotel        104               2017              March   \n",
       "\n",
       "   arrival_date_week_number  arrival_date_day_of_month  \\\n",
       "0                        37                          5   \n",
       "1                        44                         31   \n",
       "2                        42                         13   \n",
       "3                        51                         12   \n",
       "4                        12                         19   \n",
       "\n",
       "   stays_in_weekend_nights  stays_in_week_nights  adults  children  ...  \\\n",
       "0                        1                     2       1       0.0  ...   \n",
       "1                        0                     1       2       0.0  ...   \n",
       "2                        0                     1       2       2.0  ...   \n",
       "3                        2                     5       2       0.0  ...   \n",
       "4                        2                     5       2       0.0  ...   \n",
       "\n",
       "   agent company days_in_waiting_list    customer_type    adr  \\\n",
       "0    9.0     NaN                    0        Transient  115.5   \n",
       "1    NaN     NaN                    0        Transient   42.0   \n",
       "2    9.0     NaN                    0        Transient  229.0   \n",
       "3  154.0     NaN                    0        Transient   75.0   \n",
       "4   20.0     NaN                    0  Transient-Party   75.0   \n",
       "\n",
       "   required_car_parking_spaces  total_of_special_requests  \\\n",
       "0                            0                          1   \n",
       "1                            1                          0   \n",
       "2                            0                          2   \n",
       "3                            0                          0   \n",
       "4                            0                          1   \n",
       "\n",
       "   reservation_status_date                                    id is_canceled  \n",
       "0               2016-08-25  7aa4cc6b-b92c-4061-b21d-4f9e0cac4689           1  \n",
       "1               2015-11-01  b1428f80-c56c-4ae4-91a9-6962edae08b1           0  \n",
       "2               2016-10-14  2226c018-ea20-4c4e-8f71-ea66aee70d7c           0  \n",
       "3               2016-11-29  314f56dc-2e4d-4298-9bdd-27bb008bffff           1  \n",
       "4               2017-03-26  28c75445-c603-413a-babf-ad377018b592           0  \n",
       "\n",
       "[5 rows x 32 columns]"
      ]
     },
     "execution_count": 134,
     "metadata": {},
     "output_type": "execute_result"
    }
   ],
   "source": [
    "df  = pd.read_csv(\"../dataset/hotels_train.csv\")\n",
    "df_cancelado = df[df.is_canceled == 1]\n",
    "df_no_cancelado = df[df.is_canceled == 0]\n",
    "df.head()"
   ]
  },
  {
   "cell_type": "code",
   "execution_count": 135,
   "id": "3ed52479",
   "metadata": {},
   "outputs": [
    {
     "data": {
      "text/plain": [
       "0    0.50025\n",
       "1    0.49975\n",
       "Name: is_canceled, dtype: float64"
      ]
     },
     "execution_count": 135,
     "metadata": {},
     "output_type": "execute_result"
    }
   ],
   "source": [
    "df['is_canceled'].value_counts(normalize=True)"
   ]
  },
  {
   "cell_type": "markdown",
   "id": "087ff70e",
   "metadata": {},
   "source": [
    "Lo primero a tener en cuenta en el dataset de entrenamiento es que (casi) la mitad de los registros son de cancelaciones y la otra mitad no. Esto nos dice que al analizar independientemente una variable, esta no va a tener **individualmente** una relación con la cancelación de la reservación si tiene mitad de registros de cancelaciones y la otra mitad no cancelaciones.\n",
    "\n",
    "Esto no quiere decir necesariamente que la mitad de las reservaciones fueron canceladas, sino más bien que fueron seleccionadas para que haya la misma cantidad de registros de ambas para su análisis."
   ]
  },
  {
   "cell_type": "markdown",
   "id": "ea662e26",
   "metadata": {},
   "source": [
    "# Variables"
   ]
  },
  {
   "cell_type": "markdown",
   "id": "a746f5da",
   "metadata": {},
   "source": [
    "1. **Hotel**: variable categórica que nos dice en que hotel fue hecha la reserva. Los posibles valores que puede tomar son:\n",
    "    - City Hotel\n",
    "    - Resort Hotel."
   ]
  },
  {
   "cell_type": "code",
   "execution_count": 136,
   "id": "214422a7-aba3-417c-af2c-ceab2dec743b",
   "metadata": {
    "tags": []
   },
   "outputs": [
    {
     "data": {
      "text/plain": [
       "0"
      ]
     },
     "execution_count": 136,
     "metadata": {},
     "output_type": "execute_result"
    }
   ],
   "source": [
    "df['hotel'].isnull().sum()"
   ]
  },
  {
   "cell_type": "markdown",
   "id": "a50dd814-f360-4301-8d4f-fe1f1675f4f8",
   "metadata": {},
   "source": [
    "No presenta valores faltantes."
   ]
  },
  {
   "cell_type": "code",
   "execution_count": 137,
   "id": "c2335901",
   "metadata": {},
   "outputs": [
    {
     "data": {
      "text/plain": [
       "Text(0.5, 1.0, 'cantidad de reservas por hotel')"
      ]
     },
     "execution_count": 137,
     "metadata": {},
     "output_type": "execute_result"
    },
    {
     "data": {
      "image/png": "[encoded data removed]",
      "text/plain": [
       "<Figure size 640x480 with 1 Axes>"
      ]
     },
     "metadata": {},
     "output_type": "display_data"
    }
   ],
   "source": [
    "df['hotel'].value_counts().plot(kind='bar')\n",
    "plt.xticks(rotation=30,horizontalalignment='right')\n",
    "plt.title('cantidad de reservas por hotel')"
   ]
  },
  {
   "cell_type": "code",
   "execution_count": 138,
   "id": "e0029bf2",
   "metadata": {},
   "outputs": [
    {
     "data": {
      "image/png": "[encoded data removed]",
      "text/plain": [
       "<Figure size 640x480 with 1 Axes>"
      ]
     },
     "metadata": {},
     "output_type": "display_data"
    }
   ],
   "source": [
    "pd.crosstab(df.hotel, df.is_canceled).plot(kind='bar')\n",
    "plt.xticks(rotation=30,horizontalalignment='right')\n",
    "plt.ylabel('cantidad de reservas')\n",
    "plt.title('cantidad de reservas por hotel')\n",
    "plt.show()"
   ]
  },
  {
   "cell_type": "markdown",
   "id": "946b7d67",
   "metadata": {},
   "source": [
    "Observamos que es una variable importante con relación al problema, ya que de hecho se podrían hacer estudios separados para cada hotel. Pero lo más importante es que el 'City Hotel' presenta una significante cantidad superior de reservas canceladas, mientras que el 'Resort Hotel' es al contrario, presenta más reservasa no canceladas.\n",
    "\n",
    "Es muy fácil hacer un encoding para las categorías, ya que se trata de un caso binario. Creamos una nueva variable y le asignamos 1 al 'Resort Hotel' y 0 al 'City Hotel'"
   ]
  },
  {
   "cell_type": "code",
   "execution_count": 139,
   "id": "f63e59b7",
   "metadata": {},
   "outputs": [],
   "source": [
    "df['hotel_encoding'] = np.where(df['hotel'] == 'Resort Hotel', 1, 0)"
   ]
  },
  {
   "cell_type": "markdown",
   "id": "ab593187",
   "metadata": {},
   "source": [
    "2. `stays_in_week_nights`: Variable numérica (entero) que nos dicen cuantas noches de **días de semana** se quedan los huéspedes.\n",
    "    - *Moda:* 2\n",
    "    - *Media:* 2.510\n",
    "    - *Mediana:* 2\n",
    "    \n",
    "3. `stays_in_weekend_nights`: Variable numérica (entero) que nos dice cuantas noches de **fin de semana** se quedan los huéspedes. \n",
    "    - *Moda:* 0\n",
    "    - *Media:* 0.9241\n",
    "    - *Mediana:* 1"
   ]
  },
  {
   "cell_type": "code",
   "execution_count": 140,
   "id": "56dd9fa2-6852-4ebd-abce-571cc589e77c",
   "metadata": {
    "tags": []
   },
   "outputs": [
    {
     "data": {
      "text/plain": [
       "0"
      ]
     },
     "execution_count": 140,
     "metadata": {},
     "output_type": "execute_result"
    }
   ],
   "source": [
    "df['stays_in_week_nights'].isnull().sum()"
   ]
  },
  {
   "cell_type": "code",
   "execution_count": 141,
   "id": "625bde6f-1df0-411a-9f2c-91b2dfa7fde1",
   "metadata": {
    "tags": []
   },
   "outputs": [
    {
     "data": {
      "text/plain": [
       "0"
      ]
     },
     "execution_count": 141,
     "metadata": {},
     "output_type": "execute_result"
    }
   ],
   "source": [
    "df['stays_in_weekend_nights'].isnull().sum()"
   ]
  },
  {
   "cell_type": "markdown",
   "id": "eff7940c-42af-40ad-96c8-7edddf90d757",
   "metadata": {},
   "source": [
    "Ninguna de las variables presenta valores faltantes."
   ]
  },
  {
   "cell_type": "code",
   "execution_count": 142,
   "id": "4b2f873c",
   "metadata": {},
   "outputs": [
    {
     "data": {
      "text/plain": [
       "<Axes: >"
      ]
     },
     "execution_count": 142,
     "metadata": {},
     "output_type": "execute_result"
    },
    {
     "data": {
      "image/png": "[encoded data removed]",
      "text/plain": [
       "<Figure size 640x480 with 1 Axes>"
      ]
     },
     "metadata": {},
     "output_type": "display_data"
    }
   ],
   "source": [
    "df[['stays_in_week_nights', 'stays_in_weekend_nights']].plot(kind='box')"
   ]
  },
  {
   "cell_type": "markdown",
   "id": "7bcbe280",
   "metadata": {},
   "source": [
    "4. `arrival_date_year`: variabe numérica nos dice el año para el cual se reservó la habitación. Los valores están entre 2015 y 2017\n",
    "\n",
    "Si tenemos en cuenta que queremos crear un modelo que pueda predecir si una nueva reserva va a ser cancelada o no, es inútil entrenar a nuestro modelo explicitando los años anteriores. Es decir, no queremos encontrar un patrón con respecto a un año específico, ya que el hotel no va a volver a recibir reservaciones de un año que ya pasó.\n",
    "En cambio queremos encontrar patrones que generalicen a cualquier año y ayuden al modelo a determinar si la reserva va a ser cancelada. Por ejemplo, encontrando que a principios de año se producen más cancelaciones que a final de año, o algo por el estilo.\n",
    "\n",
    "Por estas razones creemos que la variable `arrival_date_year` es irrelevante para el análisis."
   ]
  },
  {
   "cell_type": "markdown",
   "id": "4b9d4ff0",
   "metadata": {},
   "source": [
    "4. `arrival_date_week_number`: variable numérica que nos indica la semana del año para la cual reservaron los huéspedes. \n",
    "    - *Moda:* 33\n",
    "    - *Media:* 27.2\n",
    "    - *Mediana:* 28\n",
    "\n",
    "Podemos plottear la distribucion de reservaciones canceladas y no canceladas durante todo el año:"
   ]
  },
  {
   "cell_type": "code",
   "execution_count": 143,
   "id": "e9cd4e36-d872-4ad4-9bd9-f33d4820fc62",
   "metadata": {
    "tags": []
   },
   "outputs": [
    {
     "data": {
      "text/plain": [
       "0"
      ]
     },
     "execution_count": 143,
     "metadata": {},
     "output_type": "execute_result"
    }
   ],
   "source": [
    "df['arrival_date_week_number'].isnull().sum()"
   ]
  },
  {
   "cell_type": "markdown",
   "id": "59ce3387-5836-46f9-9312-4884dc11edcf",
   "metadata": {},
   "source": [
    "Esta variable no presenta valores faltantes."
   ]
  },
  {
   "cell_type": "code",
   "execution_count": 144,
   "id": "53972890",
   "metadata": {},
   "outputs": [
    {
     "data": {
      "image/png": "[encoded data removed]",
      "text/plain": [
       "<Figure size 800x500 with 1 Axes>"
      ]
     },
     "metadata": {},
     "output_type": "display_data"
    }
   ],
   "source": [
    "fig, ax = plt.subplots(nrows=1, ncols=1, figsize=(8, 5))\n",
    "df.loc[df.is_canceled == 0, 'arrival_date_week_number'].plot(kind='hist', bins=53, alpha=0.7, ax=ax, label='no cancelado')\n",
    "df.loc[df.is_canceled == 1, 'arrival_date_week_number'].plot(kind='hist', bins=53, alpha=0.5, ax=ax, label='cancelado')\n",
    "ax.legend()\n",
    "ax.set_xlabel(\"Numero de semana del año\")\n",
    "ax.set_ylabel(\"Frecuencia\")\n",
    "ax.set_title(\"distribución de reservas a lo largo del año\")\n",
    "plt.show()"
   ]
  },
  {
   "cell_type": "markdown",
   "id": "cab078c3",
   "metadata": {},
   "source": [
    "Observamos que sobre la mitad del año se producen la mayor cantidad de reservaciones, este es el verano en los hoteles (recordemos que quedan en Portugal). Y también es donde se observan la mayor cantidad de picos de reservas canceladas."
   ]
  },
  {
   "cell_type": "markdown",
   "id": "67858e4c",
   "metadata": {},
   "source": [
    "5. `arrival_date_month`: es una variable categorica que nos indica el mes para el cual reservaron:\n",
    "\n",
    "Verificamos que en esta variable no se presentan valores faltantes."
   ]
  },
  {
   "cell_type": "code",
   "execution_count": 145,
   "id": "1c8beb55-5858-43e9-a85f-0b4e7eed30f9",
   "metadata": {
    "tags": []
   },
   "outputs": [
    {
     "data": {
      "text/plain": [
       "0"
      ]
     },
     "execution_count": 145,
     "metadata": {},
     "output_type": "execute_result"
    }
   ],
   "source": [
    "df['arrival_date_month'].isnull().sum()"
   ]
  },
  {
   "cell_type": "markdown",
   "id": "bcda4e0c-05a8-4dfc-8f36-9ef190099ddc",
   "metadata": {},
   "source": [
    "Podemos realizar un análisis parecido como con `arrival_date_week_number`, pero para cada mes:"
   ]
  },
  {
   "cell_type": "code",
   "execution_count": null,
   "id": "3eb2df96",
   "metadata": {},
   "outputs": [],
   "source": [
    "dd = pd.DataFrame({\n",
    "    'cancelado': df.loc[df.is_canceled == 1, 'arrival_date_month'].value_counts(),\n",
    "    'no_cancelado': df.loc[df.is_canceled == 0, 'arrival_date_month'].value_counts(),\n",
    "},index= ['January', 'February', 'March', 'April', 'May', 'June', 'July', 'August', 'September', 'October', 'November', 'December'])\n",
    "\n",
    "dd['ppt_cancelado']  =  dd['cancelado']  / (dd['cancelado'] + dd['no_cancelado'])\n",
    "dd['ppt_no_cancelado']  =  dd['no_cancelado']  / (dd['cancelado'] + dd['no_cancelado'])\n",
    "\n",
    "dd[['ppt_cancelado', 'ppt_no_cancelado']].plot(kind='bar', stacked=True)\n",
    "plt.title(\"porcentaje de reservas canceladas vs no canceladas por mes\")\n",
    "plt.xticks(rotation=30, horizontalalignment='right')\n",
    "plt.axhline(y = 0.5, color = 'r', linestyle = '-', label='0.5')\n",
    "\n",
    "dd[['cancelado', 'no_cancelado']].plot(kind='bar', stacked=True)\n",
    "plt.title(\"reservas canceladas vs no canceladas por mes\")\n",
    "plt.xticks(rotation=30, horizontalalignment='right')\n",
    "\n",
    "\n",
    "plt.show()"
   ]
  },
  {
   "cell_type": "markdown",
   "id": "fafd2656",
   "metadata": {},
   "source": [
    "6. `arrival_date_day_of_month`: variable numérica que nos indica para que día del mes llegan los huéspedes.\n",
    "    - *Moda:* 17\n",
    "    - *Media:* 15.78\n",
    "    - *Mediana:* 16"
   ]
  },
  {
   "cell_type": "code",
   "execution_count": null,
   "id": "efbbca7c-c41e-4e41-bb5b-69afd044f4ac",
   "metadata": {
    "tags": []
   },
   "outputs": [],
   "source": [
    "df['arrival_date_day_of_month'].isnull().sum()"
   ]
  },
  {
   "cell_type": "markdown",
   "id": "810f0ee7-8be8-4abf-b516-504bd421b3ba",
   "metadata": {
    "tags": []
   },
   "source": [
    "utilizando la variable `arrival_date_day_of_month` podemos analizar la distribucion de las reservaciones para cada mes:"
   ]
  },
  {
   "cell_type": "code",
   "execution_count": null,
   "id": "26a32619",
   "metadata": {},
   "outputs": [],
   "source": [
    "fig, ax = plt.subplots(nrows=1, ncols=1, figsize=(8, 5))\n",
    "df.loc[df.is_canceled == 0, 'arrival_date_day_of_month'].plot(kind='hist', bins=31, alpha=0.7, ax=ax, label='no cancelado')\n",
    "df.loc[df.is_canceled == 1, 'arrival_date_day_of_month'].plot(kind='hist', bins=31, alpha=0.5, ax=ax, label='cancelado')\n",
    "ax.legend()\n",
    "ax.set_xlabel(\"dias del mes\")\n",
    "ax.set_ylabel(\"Frecuencia\")\n",
    "ax.set_title(\"distribucion de reservaciones en un mes\")\n",
    "plt.show()"
   ]
  },
  {
   "cell_type": "markdown",
   "id": "ffd397a6",
   "metadata": {},
   "source": [
    "A simple vista no parece haber días en los que hayan más reservas, canceladas o no canceladas. Algo a tener en cuenta es que `arrival_date_day_of_month` y `arrival_date_month` pueden reconstruir a `arrival_date_week_number` perfectamente. Esto quiere decir que esta última variable esta implícita en las otras dos, por lo que en principio podríamos omitirla. O podríamos utilizar la de las semanas en lugar de las otras 2, si no queremos que el modelo quede ajustado a los meses y dias del mes."
   ]
  },
  {
   "cell_type": "markdown",
   "id": "3bbb2fab",
   "metadata": {},
   "source": [
    "7. `lead_time`: variable numérica que nos indica el numero de dias desde la reservación hasta la fecha de llegada al hotel.\n",
    "    - *Moda:* 0\n",
    "    - *Media:* 112.2\n",
    "    - *Mediana:* 78"
   ]
  },
  {
   "cell_type": "code",
   "execution_count": null,
   "id": "3539bef0-14df-4aa9-80a2-27b1fbd19766",
   "metadata": {
    "tags": []
   },
   "outputs": [],
   "source": [
    "df['lead_time'].isnull().sum()"
   ]
  },
  {
   "cell_type": "markdown",
   "id": "aa62c35d-3cfc-471a-bc43-ffa37a93b303",
   "metadata": {},
   "source": [
    "No hay valores faltantes en esta columna."
   ]
  },
  {
   "cell_type": "code",
   "execution_count": null,
   "id": "de13ab1f",
   "metadata": {},
   "outputs": [],
   "source": [
    "fig, ax = plt.subplots(nrows=1, ncols=1, figsize=(8, 5))\n",
    "df.loc[df.is_canceled == 0, 'lead_time'].plot(kind='hist', bins=31, alpha=0.7, ax=ax, label='no cancelado')\n",
    "df.loc[df.is_canceled == 1, 'lead_time'].plot(kind='hist', bins=31, alpha=0.5, ax=ax, label='cancelado')\n",
    "ax.legend()\n",
    "ax.set_xlabel(\"dias entre la reservacion y la fecha de llegada\")\n",
    "ax.set_ylabel(\"Frecuencia\")\n",
    "ax.set_title(\"distribucion de `lead  time` en un mes\")\n",
    "plt.show()"
   ]
  },
  {
   "cell_type": "markdown",
   "id": "c66a16aa",
   "metadata": {},
   "source": [
    "Observando la distribucion de `lead_time` parece tener una gran relacion con `is_canceled`."
   ]
  },
  {
   "cell_type": "markdown",
   "id": "542d19d0",
   "metadata": {},
   "source": [
    "11. `adults`, `children`, `babies`: variables numéricas que cuentan la cantidada de adultos, nenes y bebes registrados en la reserva."
   ]
  },
  {
   "cell_type": "code",
   "execution_count": null,
   "id": "2e7f03e0",
   "metadata": {},
   "outputs": [],
   "source": [
    "df[['adults', 'children', 'babies']].describe()"
   ]
  },
  {
   "cell_type": "markdown",
   "id": "0511cb94",
   "metadata": {},
   "source": [
    "Observamos como estas 3 variables varían muy poco, no solo por su bajo desvío estándar (menores que 1), sino porque desde el mínimo hasta el cuantil 75% los valores son los mismos.\n",
    "Esto podemos verlo en un dispersograma, ya que están todas en su mayoría concentradas en un lugar, y un par de valores atípicos alejados:"
   ]
  },
  {
   "cell_type": "code",
   "execution_count": null,
   "id": "913f1ae1",
   "metadata": {},
   "outputs": [],
   "source": [
    "fig = plt.figure(figsize=(5, 8))\n",
    "ax = fig.add_subplot(projection='3d')\n",
    "ax.scatter(df.babies,df.adults,df.children)\n",
    "ax.set_ylabel('Adults')\n",
    "ax.set_xlabel('Babies')\n",
    "ax.set_zlabel('Children')\n",
    "\n",
    "plt.title('Dispersograma de las variables adultos, nenes y bebes')\n",
    "plt.show()"
   ]
  },
  {
   "cell_type": "code",
   "execution_count": null,
   "id": "a93133bd",
   "metadata": {},
   "outputs": [],
   "source": [
    "df[['adults', 'children', 'babies']].isnull().sum() * 100 / len(df.index)"
   ]
  },
  {
   "cell_type": "code",
   "execution_count": null,
   "id": "f44225fd",
   "metadata": {},
   "outputs": [],
   "source": [
    "df[df['children'].isna() == True][['children', 'adults', 'babies']]"
   ]
  },
  {
   "cell_type": "code",
   "execution_count": null,
   "id": "a9d52c0e",
   "metadata": {},
   "outputs": [],
   "source": [
    "df['children'] = df['children'].replace(np.nan, 0)"
   ]
  },
  {
   "cell_type": "code",
   "execution_count": null,
   "id": "91e3ca6c",
   "metadata": {},
   "outputs": [],
   "source": [
    "len(df[df['adults'] == 0])"
   ]
  },
  {
   "cell_type": "markdown",
   "id": "c528f770",
   "metadata": {},
   "source": [
    "Algo a tener en cuenta, es que hay casi 200 registros que no presentan adultos. No aclara en el paper si es posible o no que hagan niños la reservacion, pero observamos que son todos en su mayoria del city hotel:"
   ]
  },
  {
   "cell_type": "code",
   "execution_count": null,
   "id": "deb5ca1c",
   "metadata": {},
   "outputs": [],
   "source": [
    "pd.crosstab(df[df['adults'] == 0]['hotel'], df['is_canceled'])"
   ]
  },
  {
   "cell_type": "markdown",
   "id": "509286d2",
   "metadata": {},
   "source": [
    "Asi que al parecer el city hotel permite que niños/adolescentes hagan reservaciones, por lo que en principio (por análisis lógico) no vamos a removerlos del dataset."
   ]
  },
  {
   "cell_type": "markdown",
   "id": "e9abec8b",
   "metadata": {},
   "source": [
    "Al ser escasos los registros en los que hay bebes y/o nenes, puede llegar a ser una buena opcion crear una nueva variable que represente si un padre tiene hijos o no. "
   ]
  },
  {
   "cell_type": "code",
   "execution_count": null,
   "id": "9762c702",
   "metadata": {},
   "outputs": [],
   "source": [
    "df['tiene_hijos'] = (df['children'] > 0) | (df['babies'] > 0)\n",
    "pd.crosstab(df['tiene_hijos'], df['is_canceled'])"
   ]
  },
  {
   "cell_type": "markdown",
   "id": "ef99eb7e",
   "metadata": {},
   "source": [
    "Vemos que en principio no parece tener una relacion con el target, pero podemos probarla a la hora de entrenar al modelo y ver si trae mejores resultados."
   ]
  },
  {
   "cell_type": "markdown",
   "id": "0388146b-85b9-42a9-a6dc-32d6ea37ae86",
   "metadata": {
    "tags": []
   },
   "source": [
    "12. **meal:** Esta variable es de tipo alfanumérica y contendrá (en forma de acrónimo) el tipo de servicio de comida correspondiente a la reserva. Los posibles valores que puede tomar son:\n",
    "  - Undefined: No se reservó servicio de comida. Aparece en 591 (0.95%) de los registros.\n",
    "  - SC: Tiene el mismo significado que Undefined. Aparece en 5556 (8.97%) de los registros.\n",
    "  - BB: Sólo desayuno. Aparece en 47837 (77.26%) de los registros.\n",
    "  - HB: Desayuno y otra comida (generalmente cena). Aparece en 5556 (8.97%) de los registros.\n",
    "  - FB: Desayuno, almuerzo y cena. Aparece en 477 (0.77%) de los registros\n",
    "  \n",
    "Como 'Undefined' significa lo mismo que 'SC', por efectos practicos los vamos a combinar:"
   ]
  },
  {
   "cell_type": "code",
   "execution_count": null,
   "id": "d4a6fbb4",
   "metadata": {},
   "outputs": [],
   "source": [
    "df['meal'] = df['meal'].replace(\"Undefined\", \"SC\")"
   ]
  },
  {
   "cell_type": "code",
   "execution_count": null,
   "id": "4bd0e673",
   "metadata": {},
   "outputs": [],
   "source": [
    "df['meal'].value_counts()"
   ]
  },
  {
   "cell_type": "markdown",
   "id": "0ebb7eba-4f44-4f60-bbf9-ce79420d0d93",
   "metadata": {},
   "source": [
    "Verificamos que no haya valores faltantes"
   ]
  },
  {
   "cell_type": "code",
   "execution_count": null,
   "id": "5ed5c085-278d-49f1-afb0-2fa0b2e08975",
   "metadata": {
    "tags": []
   },
   "outputs": [],
   "source": [
    "df['meal'].isnull().sum()"
   ]
  },
  {
   "cell_type": "code",
   "execution_count": null,
   "id": "df93e109-8231-4ca1-9f67-25ea890f9194",
   "metadata": {
    "tags": []
   },
   "outputs": [],
   "source": [
    "pd.crosstab(df['meal'], df['is_canceled'], normalize=True).plot(kind='bar')"
   ]
  },
  {
   "cell_type": "markdown",
   "id": "a3c547b6-c161-4b64-bd01-c9a6aa166fe5",
   "metadata": {},
   "source": [
    "Vemos que para cada servicio de comida, los porcentajes para los cancelados y no cancelados son casi equivalentes en casi todos los casos, por lo que no parece ser un gran predictor individualmente con respecto al **target**. Procedemos entonces a separar en casos dependiendo si incluye servicio de comida."
   ]
  },
  {
   "cell_type": "code",
   "execution_count": null,
   "id": "6bf33db3-ca94-4e3c-b559-39c79772238e",
   "metadata": {
    "tags": []
   },
   "outputs": [],
   "source": [
    "def mealsPorHotel(hotel):\n",
    "    return df[(df['meal'] == \"SC\") & (df['hotel'] == hotel)], df[(df['meal'] == \"BB\") & (df['hotel'] == hotel)], df[((df['meal'] == \"HB\") | (df['meal'] == \"FB\")) & (df['hotel'] == hotel)].replace(\"FB\",\"HB\")\n",
    "\n",
    "fig, axes = plt.subplots(nrows=2, ncols=3, figsize=(20,8))\n",
    "\n",
    "\n",
    "sin_comida, solo_desayuno, una_o_mas_comidas = mealsPorHotel(\"City Hotel\")\n",
    "pd.crosstab(sin_comida['meal'], sin_comida['is_canceled'],normalize=True).plot(kind='bar', stacked=True, xlabel=\"SC vs City hotel\", ax=axes[0][0])\n",
    "axes[0][0].axhline(y = 0.5, color = 'r', linestyle = '-', label='0.5')\n",
    "\n",
    "pd.crosstab(solo_desayuno['meal'], solo_desayuno['is_canceled'],normalize=True).plot(kind='bar', stacked=True, xlabel=\"BB vs City hotel\", ax=axes[0][1])\n",
    "axes[0][1].axhline(y = 0.5, color = 'r', linestyle = '-', label='0.5')\n",
    "\n",
    "pd.crosstab(una_o_mas_comidas['meal'], una_o_mas_comidas['is_canceled'],normalize=True).plot(kind='bar', stacked=True, xlabel=\"HB&FB vs City hotel\", ax=axes[0][2])\n",
    "axes[0][2].axhline(y = 0.5, color = 'r', linestyle = '-', label='0.5')\n",
    "\n",
    "sin_comida, solo_desayuno, una_o_mas_comidas = mealsPorHotel(\"Resort Hotel\")\n",
    "pd.crosstab(sin_comida['meal'], sin_comida['is_canceled'],normalize=True).plot(kind='bar', stacked=True, xlabel=\"SC vs Resort hotel\", ax=axes[1][0])\n",
    "axes[1][0].axhline(y = 0.5, color = 'r', linestyle = '-', label='0.5')\n",
    "\n",
    "pd.crosstab(solo_desayuno['meal'], solo_desayuno['is_canceled'],normalize=True).plot(kind='bar', stacked=True, xlabel=\"BB vs Resort hotel\", ax=axes[1][1])\n",
    "axes[1][1].axhline(y = 0.5, color = 'r', linestyle = '-', label='0.5')\n",
    "\n",
    "pd.crosstab(una_o_mas_comidas['meal'], una_o_mas_comidas['is_canceled'],normalize=True).plot(kind='bar', stacked=True, xlabel=\"HB&FB vs Resort hotel\", ax=axes[1][2])\n",
    "axes[1][2].axhline(y = 0.5, color = 'r', linestyle = '-', label='0.5')"
   ]
  },
  {
   "cell_type": "markdown",
   "id": "34e0b4ed-9a80-41f4-a033-9328e1bfed49",
   "metadata": {},
   "source": [
    "Vemos en los gráficos que dependiendo el tipo de servicio de comida y el hotel, hay más o menos cancelaciones, por lo que podemos afirmar que en primera instancia esta variable no actúa como una gran predictora pero si la separamos por hotel tenemos más información. Vemos que influye poco el servicio de comida cuando se reserva en el city hotel, y que se cancela un poco mas cuando se reserva más de una comida en el resort hotel.\n",
    "\n",
    "En conclusión, esta variable nos puede servir para realizar nuestra predicción.\n",
    "***"
   ]
  },
  {
   "cell_type": "markdown",
   "id": "7f94976c-b787-43f9-9eb2-87986c7b2c65",
   "metadata": {},
   "source": [
    "13. **country:** Esta variable es también de tipo alfanumérica en la que se representa mediante el código ALPHA-3 el nombre de un país, el cual será el origen de la reserva. Como posibles valores, tenemos 149 códigos en todos los registros, siendo Portugal (PRT) el más frecuente con 27950 apariciones y algunos paises como Fiji (FJI), Liechstein (LIE), Antartida (ATA) y Ruanda (RWA) los que solo aparecen en una."
   ]
  },
  {
   "cell_type": "code",
   "execution_count": null,
   "id": "6de1feaf-94c8-4c09-96b1-9465b86fed67",
   "metadata": {
    "tags": []
   },
   "outputs": [],
   "source": [
    "df['country'].isnull().sum()"
   ]
  },
  {
   "cell_type": "markdown",
   "id": "49022303-46c2-4d63-b746-5299adff00f8",
   "metadata": {},
   "source": [
    "Vemos que hay una cantidad considerable de registros en los que falta el pais de origen. Además, al ser tantos paises (149) se dificulta la visualización de datos, por lo que vamos a buscar los paises que representen al menos 1% de los registros para realizar los gráficos. Este análisis descarta automaticamente los valores nulos al representar menos del 1% del dataset."
   ]
  },
  {
   "cell_type": "code",
   "execution_count": null,
   "id": "c39ac28e-045c-4975-a770-b6ca46f1c12f",
   "metadata": {
    "tags": []
   },
   "outputs": [],
   "source": [
    "columna='country'\n",
    "print(df[columna].value_counts(normalize=True)[0:15])"
   ]
  },
  {
   "cell_type": "code",
   "execution_count": null,
   "id": "253f17da-fedc-4bb9-bbaf-167e9d1b7fc8",
   "metadata": {
    "tags": []
   },
   "outputs": [],
   "source": [
    "plt.figure(figsize = (7,7))\n",
    "plt.title('Porcentaje de reservaciones segun pais con al menos 1% de reservas')\n",
    "plt.pie(df[columna].value_counts()[:12],labels = df[columna].value_counts()[:12].index, autopct='%.2f')\n",
    "plt.show()"
   ]
  },
  {
   "cell_type": "markdown",
   "id": "ca6a5aa9-1535-4561-8bad-4410aa1829a1",
   "metadata": {},
   "source": [
    "Vemos ahora cuáles son los países que aparecen en por lo menos el 1% de las cancelaciones para tenerlos en cuenta al graficar"
   ]
  },
  {
   "cell_type": "code",
   "execution_count": null,
   "id": "8e431105-76b9-444a-972b-7a5cfb2a696e",
   "metadata": {
    "scrolled": true,
    "tags": []
   },
   "outputs": [],
   "source": [
    "print(df_cancelado[columna].value_counts(normalize=True)[0:15])"
   ]
  },
  {
   "cell_type": "markdown",
   "id": "da6ab52d-618c-411a-ad7f-f559ef9748a4",
   "metadata": {},
   "source": [
    "Vemos que son 12 paises. Procedemos a realizar el gráfico."
   ]
  },
  {
   "cell_type": "code",
   "execution_count": null,
   "id": "0be3b421-5bc6-450e-ae54-df811a2c0daa",
   "metadata": {
    "tags": []
   },
   "outputs": [],
   "source": [
    "plt.figure(figsize = (7,7))\n",
    "plt.title('Paises con al menos 1% de cancelaciones')\n",
    "plt.pie(df_cancelado[columna].value_counts()[:12],labels = df_cancelado[columna].value_counts()[:12].index, autopct='%.2f')\n",
    "plt.show()"
   ]
  },
  {
   "cell_type": "markdown",
   "id": "06473757-419f-4fe9-9271-7a58a0dce193",
   "metadata": {},
   "source": [
    "Finalmente realizamos el mismo procedimiento pero con los NO cancelados."
   ]
  },
  {
   "cell_type": "code",
   "execution_count": null,
   "id": "eab74652-dc90-45a9-b772-d83a72d98153",
   "metadata": {
    "tags": []
   },
   "outputs": [],
   "source": [
    "columna='country'\n",
    "print(df[columna].value_counts(normalize=True)[0:15])"
   ]
  },
  {
   "cell_type": "code",
   "execution_count": null,
   "id": "738f295e-a899-4ae4-9341-81702af59552",
   "metadata": {
    "tags": []
   },
   "outputs": [],
   "source": [
    "plt.figure(figsize = (7,7))\n",
    "plt.title('Paises con al menos 1% de reservas no canceladas')\n",
    "plt.pie(df_no_cancelado[columna].value_counts()[:12],labels = df_no_cancelado[columna].value_counts()[:12].index, autopct='%.2f')\n",
    "plt.show()"
   ]
  },
  {
   "cell_type": "markdown",
   "id": "c1575f6b-a4ff-4462-9330-f65cbcab5dab",
   "metadata": {},
   "source": [
    "Notamos que hay ciertos paises en el top que cuentan con un porcentaje más alto de cancelaciones (y también otras que no cancelaron) por lo que esta columna nos sirve para predecir el comportamiento de nuestro **target**"
   ]
  },
  {
   "cell_type": "markdown",
   "id": "098d266c",
   "metadata": {},
   "source": [
    "Al tener muchos paises, se nos dificulta el analisis para cada uno, por lo que vamos a crear una nueva variable que indica si el que reserva pertenece al pais de los hoteles o no (portugal), es decir, si son extranjeros o no. Esto tambien reduce el overfitting que podria existir sobre cada pais:"
   ]
  },
  {
   "cell_type": "code",
   "execution_count": null,
   "id": "fbe88c63",
   "metadata": {},
   "outputs": [],
   "source": [
    "df['es_extranjero'] = df['country'] != \"PRT\"\n",
    "pd.crosstab(df['es_extranjero'], df['is_canceled'])"
   ]
  },
  {
   "cell_type": "markdown",
   "id": "c8783f9e",
   "metadata": {},
   "source": [
    "Observamos, gracias al crosstab, que la variable `es_extranjero` se relaciona directamente con `is_canceled` (es importante resaltar que los valores faltantes se computaran como no extranjeros según este nuevo encoding).\n",
    "***"
   ]
  },
  {
   "cell_type": "markdown",
   "id": "4a3d3466-8949-41ec-8e53-2d393739490b",
   "metadata": {},
   "source": [
    "14. **market_segment:** Designación del cliente en cuanto a la segmentación de mercado (una segmentación que divide a los clientes en grupos más pequeños los cuales comparten caracteristicas similares). Puede tomar los siguientes valores:\n",
    "  - Online TA: Agente de viajes en linea. Aparece en 29269 (47.26%) registros.\n",
    "  - Offline TA/TO: Agentes de viaje u operadores de turismo los cuales no son por medio de internet. Aparece en 12384 (20%) registros.\n",
    "  - Groups: Por grupos. Aparece en 11545 (18.64%) registros.\n",
    "  - Direct: Directa. Aparece en 5757 (9.29%) registros.\n",
    "  - Corporate: Reservas realizadas por empresas. Aparece en 2484 (4.01%) registros.\n",
    "  - Complementary: Complementarios utilizados principalmente por aerolíneas y agencias de viaje. Aparece en 359 (0.58%) registros.\n",
    "  - Aviation: Clientes que provienen de la aviación. Aparece en 113 (0.18%) registros.\n",
    "  - Undefined: No se completaron los datos. Aparece en 2 (0.003%) registros."
   ]
  },
  {
   "cell_type": "code",
   "execution_count": null,
   "id": "59c92983-0230-415f-88b7-0385503bdf64",
   "metadata": {
    "tags": []
   },
   "outputs": [],
   "source": [
    "df['market_segment'].isnull().sum()"
   ]
  },
  {
   "cell_type": "markdown",
   "id": "18c91750-f471-4d6a-a617-26e313b3dfab",
   "metadata": {},
   "source": [
    "No se presentan valores faltantes. Procedemos a realizar el analisis."
   ]
  },
  {
   "cell_type": "code",
   "execution_count": null,
   "id": "53b9360f-4459-44f8-97e2-1a0f18b8c248",
   "metadata": {
    "tags": []
   },
   "outputs": [],
   "source": [
    "pd.crosstab(df['market_segment'], df['is_canceled']).plot(kind='bar')\n",
    "plt.title(\"comparación de market segments\")"
   ]
  },
  {
   "cell_type": "markdown",
   "id": "a666159b-aa79-4670-9782-bb7f8b8aa7a1",
   "metadata": {},
   "source": [
    "Dividimos por hotel"
   ]
  },
  {
   "cell_type": "code",
   "execution_count": null,
   "id": "1fa2e387-8281-40c9-9efa-c0578f5f025b",
   "metadata": {
    "tags": []
   },
   "outputs": [],
   "source": [
    "pd.crosstab(df['hotel'], df_cancelado['market_segment'], normalize=True)"
   ]
  },
  {
   "cell_type": "code",
   "execution_count": null,
   "id": "6028e9d5-185d-4910-9e35-51a4cee4f1bd",
   "metadata": {
    "tags": []
   },
   "outputs": [],
   "source": [
    "pd.crosstab(df['hotel'], df_no_cancelado['market_segment'], normalize=True)"
   ]
  },
  {
   "cell_type": "markdown",
   "id": "83931e16-c86e-4b54-a31a-191eea26bc55",
   "metadata": {},
   "source": [
    "Podemos ver que hay algunos market segments más propensos a cancelar que otros según el tipo de hotel (por ejemplo, los grupos suelen cancelar más al reservar en el city). Debido a esta razón, no descartamos que la variable pueda ayudarnos a predecir el **target**.\n",
    "\n",
    "Finalmente, otra curiosidad que podemos observar es que los clientes provenientes del market segment de la aviación sólo reservan en el city hotel. Consideramos que esto puede deberse debido a que el city hotel se encuentra cerca del aeropuerto de Lisboa.\n",
    "***"
   ]
  },
  {
   "cell_type": "markdown",
   "id": "90f72b63-a439-4188-9c04-c0cbfd730167",
   "metadata": {},
   "source": [
    "15. **distribution_channel:** Nos indica el canal de la distribución de la reserva, el cual es un intermediario en linea entre el hotel y el cliente a la hora de reservar. En nuestros registros, toma los siguientes valores:\n",
    "  - TA/TO: Agentes de viaje u operadores de turismo. Aparece en 51849 (83.74%) registros.\n",
    "  - Direct: Directa. Aparece en 6799 (10.98%) registros.\n",
    "  - Corporate: Reservas realizadas por empresas. Aparece en 3172 (5.12%) registros.\n",
    "  - GDS: Clientes que provienen de la aviación. Aparece en 89 (0.14%) registros.\n",
    "  - Undefined: No se completaron los datos. Aparece en 4 (0.006%) registros."
   ]
  },
  {
   "cell_type": "code",
   "execution_count": null,
   "id": "9ec0626e-a434-4ebb-a65d-928b8faf0281",
   "metadata": {
    "tags": []
   },
   "outputs": [],
   "source": [
    "df['distribution_channel'].isnull().sum()"
   ]
  },
  {
   "cell_type": "markdown",
   "id": "5100b80b-a01d-49c5-85d9-5edf4d41a3e8",
   "metadata": {},
   "source": [
    "Esta variable no presenta valores nulos."
   ]
  },
  {
   "cell_type": "code",
   "execution_count": null,
   "id": "fd02f0d2-ed14-455f-9d59-e8fe460618c6",
   "metadata": {
    "tags": []
   },
   "outputs": [],
   "source": [
    "print(pd.crosstab(df['distribution_channel'], df['is_canceled']))\n",
    "pd.crosstab(df['distribution_channel'], df['is_canceled']).plot(kind='bar')\n",
    "plt.title(\"comparación de distribution channels\")"
   ]
  },
  {
   "cell_type": "code",
   "execution_count": null,
   "id": "6c41ceb5-a02a-4000-98dc-a1d0233983b9",
   "metadata": {
    "tags": []
   },
   "outputs": [],
   "source": [
    "pd.crosstab(df['hotel'], df_cancelado['distribution_channel'], normalize=True)"
   ]
  },
  {
   "cell_type": "code",
   "execution_count": null,
   "id": "759a8d83-50d4-4bb7-b777-b9ac7be4f9f4",
   "metadata": {
    "tags": []
   },
   "outputs": [],
   "source": [
    "pd.crosstab(df['hotel'], df_no_cancelado['distribution_channel'], normalize=True)"
   ]
  },
  {
   "cell_type": "markdown",
   "id": "b281548b-a841-44cd-aa38-b2cc15e6e1a4",
   "metadata": {},
   "source": [
    "Vemos que los que reservan a través de una agencia de viajes u operadora de turismo son los que más cancelan, sobre todo en el city hotel (sin considerar las reservas en donde no se completaron los datos, que fueron todas canceladas), mientras que para los otros distribution channels el porcentaje de no cancelaciones es mayor, por lo que podemos usar esta columna para entrenar a nuestro modelo.\n",
    "***"
   ]
  },
  {
   "cell_type": "markdown",
   "id": "2351c995-57f6-420f-8b4e-86c31ab9e27c",
   "metadata": {},
   "source": [
    "16. **is_repeated_guest:** Esta variable de tipo booleana nos dice si la reserva fue hecha anteriormente por un invitado repetido (en este caso toma el valor 1) o no (toma el valor 0). Si un perfil está asociado al cliente y si la fecha de creación del perfil de este para la reserva coinciden, se asume que es un invitado repetido.\n",
    "  - *Moda:* 0\n",
    "  - *Media:* 0.028\n",
    "  - *Mediana:* 0"
   ]
  },
  {
   "cell_type": "code",
   "execution_count": null,
   "id": "ee7e5d13-4bf4-475c-a58b-142b536f56f6",
   "metadata": {
    "tags": []
   },
   "outputs": [],
   "source": [
    "df['is_repeated_guest'].isnull().sum()"
   ]
  },
  {
   "cell_type": "code",
   "execution_count": null,
   "id": "ff98277b-7ddc-40c7-8dc7-d3500d768d92",
   "metadata": {
    "tags": []
   },
   "outputs": [],
   "source": [
    "pd.crosstab(df['is_repeated_guest'], df['is_canceled'],normalize=True).plot(kind='bar')\n",
    "pd.crosstab(df['is_repeated_guest'], df['is_canceled'],normalize=False)"
   ]
  },
  {
   "cell_type": "code",
   "execution_count": null,
   "id": "da0236d0-1d95-4610-b334-35a782007752",
   "metadata": {
    "tags": []
   },
   "outputs": [],
   "source": [
    "pd.crosstab(df['hotel'], df_cancelado['is_repeated_guest'], normalize=True).plot(kind='barh', stacked=True)"
   ]
  },
  {
   "cell_type": "code",
   "execution_count": null,
   "id": "05b7abd0-2c43-4b39-8dbe-e6f24aff6b2e",
   "metadata": {
    "tags": []
   },
   "outputs": [],
   "source": [
    "pd.crosstab(df['hotel'], df_no_cancelado['is_repeated_guest'], normalize=True).plot(kind='barh', stacked=True)"
   ]
  },
  {
   "cell_type": "markdown",
   "id": "1a5feee3-a6c7-4e44-b3c2-987b4ce728d1",
   "metadata": {},
   "source": [
    "Notamos que la proporción entre cancelaciones y no cancelaciones en los hoteles es muy parecida, mientras que en los clientes repetidos hay mucho mayor porcentaje de no cancelaciones en ambos hoteles, por lo que podriamos decir que si es un cliente repetido es menos probable que cancele (Esto por omisión podemos tomarlo como que hubo clientes que  no se sintieron satisfechos con los hoteles y optaron por otras opciones, por lo que tiene sentido que haya más registros de clientes repetidos). Estas suposiciones se validarán en el análisis de las siguientes dos variables.\n",
    "***"
   ]
  },
  {
   "cell_type": "markdown",
   "id": "e54d43b0-8be9-4624-ada0-5ead86fada9f",
   "metadata": {},
   "source": [
    "17. **previous_cancellations:** Esta variable de tipo entero nos da información sobre la cantidad de veces en las que el cliente solicitando la reserva canceló en reservas anteriores (en el caso que no haya un perfil de cliente asociado a la reserva, este valor será 0). \n",
    "  - *Moda:* 0\n",
    "  - *Media:* 0.1148\n",
    "  - *Mediana:* 0\n",
    "  \n",
    "18. **previous_bookings_not_canceled:** Esta variable de tipo entero nos da información sobre la cantidad de veces en las que el cliente solicitando la reserva no canceló en las hechas anteriormente. Podriamos afirmar que sumando la variable anterior y esta, podemos obtener cuántas reservas previas hizo el cliente, siempre y cuando los datos estén completos.\n",
    "  - *Moda:* 0\n",
    "  - *Media:* 0.1154\n",
    "  - *Mediana:* 0"
   ]
  },
  {
   "cell_type": "code",
   "execution_count": null,
   "id": "4bcb2706-0cd3-43ff-9b96-d23dcebffc95",
   "metadata": {
    "tags": []
   },
   "outputs": [],
   "source": [
    "df[['previous_cancellations', 'previous_bookings_not_canceled']].isnull().sum()"
   ]
  },
  {
   "cell_type": "markdown",
   "id": "456dc405-0ba7-4994-a10a-6e7df5b62761",
   "metadata": {},
   "source": [
    "Por el análisis anterior y como corroboramos que no hay ningún registro faltante de estas dos columnas, podemos obtener el total de las reservas hechas por el cliente antes de realizar la que se encuentra en el registro. Vemos primero cómo están compuestos los registros"
   ]
  },
  {
   "cell_type": "code",
   "execution_count": null,
   "id": "d8eb4137-911c-489f-95c7-4b03ac2cf0f2",
   "metadata": {
    "tags": []
   },
   "outputs": [],
   "source": [
    "pd.crosstab(df['previous_cancellations'], df['previous_bookings_not_canceled'])"
   ]
  },
  {
   "cell_type": "markdown",
   "id": "11fe3e57-191e-47c7-a08c-3a72eb04033e",
   "metadata": {},
   "source": [
    "Viendo esta tabla, vamos a considerar como valores atipicos para ambas tablas cuando las reservas hechas son 2 o más, se elige este valor ya que consideramos que un cliente que completó 2 o más reservas, es un cliente recurrente del hotel, y no cancelará su reserva. Se agruparán estos valores para la visualización de los datos."
   ]
  },
  {
   "cell_type": "code",
   "execution_count": null,
   "id": "71fc3509-1e96-4225-9808-d55694bebe25",
   "metadata": {
    "tags": []
   },
   "outputs": [],
   "source": [
    "fig, axes = plt.subplots(nrows=1, ncols=3, figsize=(20,5))\n",
    "\n",
    "cantidad_reservas_canceladas = df[\"previous_cancellations\"].value_counts().index.sort_values()\n",
    "cancelaciones_previas = pd.Series(np.where(df[\"previous_cancellations\"].isin(cantidad_reservas_canceladas[2:]), '2 o más' , df[\"previous_cancellations\"]))\n",
    "pd.crosstab(cancelaciones_previas, df['is_canceled']).plot(kind='bar', xlabel='Cancelaciones previas', ylabel='Frecuencia', ax=axes[0])\n",
    "\n",
    "cantidad_reservas_no_canceladas = df[\"previous_bookings_not_canceled\"].value_counts().index.sort_values()\n",
    "no_cancelaciones_previas = pd.Series(np.where(df[\"previous_bookings_not_canceled\"].isin(cantidad_reservas_no_canceladas[2:]), '2 o más' , df[\"previous_bookings_not_canceled\"]))\n",
    "pd.crosstab(no_cancelaciones_previas, df['is_canceled']).plot(kind='bar', xlabel='No canceladas previas', ylabel='Frecuencia',ax=axes[1])\n",
    "\n",
    "total_bookings = df[\"previous_cancellations\"] + df[\"previous_bookings_not_canceled\"]\n",
    "cantidad_reservas = total_bookings.value_counts().index.sort_values()\n",
    "a = pd.Series(np.where(total_bookings.isin(cantidad_reservas[2:]), '2 o más' , total_bookings))\n",
    "pd.crosstab(a, df['is_canceled']).plot(kind='bar', xlabel='Reservas totales', ylabel='Frecuencia',ax=axes[2])"
   ]
  },
  {
   "cell_type": "markdown",
   "id": "b8988374-70e0-4ee3-b695-3cce6224080f",
   "metadata": {},
   "source": [
    "Hay mucha diferencia entre los casos en los que las variables valen 0 y los demás. Separamos entonces las tres variables en función de cada hotel y analizamos en los casos en los que cada una vale cero."
   ]
  },
  {
   "cell_type": "code",
   "execution_count": null,
   "id": "868a5d12-28c9-4c10-a9de-bd990a33a947",
   "metadata": {
    "tags": []
   },
   "outputs": [],
   "source": [
    "pd.crosstab(df[df['previous_cancellations'] == 0]['hotel'], df['is_canceled'], normalize=True)"
   ]
  },
  {
   "cell_type": "markdown",
   "id": "6121ffb2-eb00-4c47-9fdd-f88fe4fee30d",
   "metadata": {},
   "source": [
    "Vemos que en el caso de que no se haya cancelado ninguna reserva anteriormente, para el city hotel no nos aporta mucha información (hay una diferencia de aproximadamente 1%), como si lo hace el resort hotel, que tiene menos porcentaje de cancelaciones."
   ]
  },
  {
   "cell_type": "code",
   "execution_count": null,
   "id": "e99d71c7-0a4a-42dc-a968-ff29b3e17d93",
   "metadata": {
    "tags": []
   },
   "outputs": [],
   "source": [
    "pd.crosstab(df[df['previous_bookings_not_canceled'] == 0]['hotel'], df['is_canceled'], normalize=True)"
   ]
  },
  {
   "cell_type": "markdown",
   "id": "bcf85931-ba86-4802-9392-e74a5883462a",
   "metadata": {},
   "source": [
    "Análogamente con el analisis de la variable anterior, nos aporta más información el city hotel, en este tenemos mas posibilidades de que si nunca se completó una reserva, la misma sea cancelada. En cuanto al resort hotel, tenemos que es menos probable que la misma sea cancelada."
   ]
  },
  {
   "cell_type": "code",
   "execution_count": null,
   "id": "7ae21598-66e6-409d-82b0-85c4a311eefb",
   "metadata": {
    "tags": []
   },
   "outputs": [],
   "source": [
    "pd.crosstab(df[total_bookings == 0]['hotel'], df['is_canceled'], normalize=True)"
   ]
  },
  {
   "cell_type": "markdown",
   "id": "bddef565-b5e5-4875-8b2e-bc60b9205385",
   "metadata": {},
   "source": [
    "Los porcentajes son casi los mismos que en el de cancelaciones, por lo que podemos afirmar lo mismo en cuanto a esta variable, es decir, si es la primer reserva que se hace, es menos probable que se cancele cuando se hace en el resort hotel.\n",
    "Analizamos ahora cuando la cantidad de reservas previas es 1."
   ]
  },
  {
   "cell_type": "code",
   "execution_count": null,
   "id": "914a8644-eece-41fc-a40d-2318307f26fd",
   "metadata": {
    "tags": []
   },
   "outputs": [],
   "source": [
    "pd.crosstab(df[total_bookings == 1]['hotel'], df['is_canceled'], normalize=True)"
   ]
  },
  {
   "cell_type": "markdown",
   "id": "44e78ec0-795a-43c6-ae2d-578a27ba3bde",
   "metadata": {},
   "source": [
    "Para el caso en el que haya una sola reserva anterior, observamos en el gráfico que es mucho más probable que se trate de una cancelación, y vemos que se cumple para ambos hoteles (aunque en una mucho mayor medida en el city hotel).\n",
    "\n",
    "Analizamos ahora en los casos que tienen hechas 2 o más reservas previas."
   ]
  },
  {
   "cell_type": "code",
   "execution_count": null,
   "id": "a25c94cd-9d75-4a1e-a677-4a3656e20f70",
   "metadata": {
    "tags": []
   },
   "outputs": [],
   "source": [
    "pd.crosstab(df[total_bookings >= 2]['hotel'], df['is_canceled'], normalize=True)"
   ]
  },
  {
   "cell_type": "markdown",
   "id": "04b2194f-afd9-4be9-876c-29960862b134",
   "metadata": {},
   "source": [
    "A partir de 2 o más reservas previas, tenemos un porcentaje mucho mayor de reservas no canceladas. Consideramos que esto es porque aquellos clientes que realizan dos cancelaciones no vuelven a reservar en estos hoteles salvo que sean clientes recurrentes de estos."
   ]
  },
  {
   "cell_type": "markdown",
   "id": "d600e1e8-91a4-4deb-8a2d-261d3009aeba",
   "metadata": {},
   "source": [
    "En conclusión, en estas variables mientras más grande sea el número de reservas previas, es menos probable que se cancele la reserva. Cuando hay una sola reserva previa, es más probable que se trate de una cancelación hecha en el city hotel. Y si no hay ninguna reserva hecha previamente, es menos probable que se cancele cuando se hace en el resort hotel.\n",
    "***"
   ]
  },
  {
   "cell_type": "markdown",
   "id": "140088ff-cafb-436f-b56f-803719aadd8e",
   "metadata": {},
   "source": [
    "19. **reserved_room_type:** Representa el código de habitación que el cliente solicitó al realizar la reserva. Se presenta el código en vez de la designación por razones de anonimidad. Puede tomar los siguientes valores:\n",
    "  - A: 45134 (72.9%)\n",
    "  - D: 9585 (15.48%)\n",
    "  - E: 3249 (5.25%)\n",
    "  - F: 1451 (2.34%)\n",
    "  - G: 1090 (1.76%)\n",
    "  - B: 580 (0.94%)\n",
    "  - C: 482 (0.78%)\n",
    "  - H: 334 (0.54%)\n",
    "  - P: 7 (0.011%)\n",
    "  - L: 1 (0.001%)\n",
    "***\n",
    "20. **assigned_room_type:** En esta variable vemos el código de habitación que se le asigno a la reserva, el cual puede diferir del originalmente solicitado por varias cuestiones operativas del hotel o bien por petición del cliente. Se muestra el código por las mismas razones que en la variable anterior. Toma los siguientes valores:\n",
    "  - A: 40007 (64.62%)\n",
    "  - D: 12190 (19.69%)\n",
    "  - E: 3779 (6.10%)\n",
    "  - F: 1821 (2.94%)\n",
    "  - G: 1277 (2.06%)\n",
    "  - C: 1127 (1.82%)\n",
    "  - B: 1056 (1.71%)\n",
    "  - H: 384 (0.62%)\n",
    "  - I: 145 (0.23%)\n",
    "  - K: 119 (0.19%)\n",
    "  - P: 7 (0.011%)\n",
    "  - L: 1 (0.001%)"
   ]
  },
  {
   "cell_type": "code",
   "execution_count": null,
   "id": "2df8e221-b0d3-4b6c-b46f-2ed4ca8d733d",
   "metadata": {
    "tags": []
   },
   "outputs": [],
   "source": [
    "df[['assigned_room_type','reserved_room_type']].isnull().sum()"
   ]
  },
  {
   "cell_type": "markdown",
   "id": "b4e97ed5-4032-4b2f-874e-ab89df6adfd6",
   "metadata": {},
   "source": [
    "No se observan valores faltantes en ambas columnas. Analizamos si existe alguna relación con el **target** dependiendo si la habitación asignada coincide con la habitación reservada."
   ]
  },
  {
   "cell_type": "code",
   "execution_count": null,
   "id": "d3e239fa-0ba5-4a73-b7f5-7c76d1baa3e1",
   "metadata": {
    "tags": []
   },
   "outputs": [],
   "source": [
    "df['reserved_room_was_assigned'] = df.assigned_room_type == df.reserved_room_type\n",
    "\n",
    "pd.crosstab(df.is_canceled, df.reserved_room_was_assigned, normalize=True)"
   ]
  },
  {
   "cell_type": "code",
   "execution_count": null,
   "id": "b79a1186-5093-476c-8b2f-5e85269a57ef",
   "metadata": {
    "tags": []
   },
   "outputs": [],
   "source": [
    "pd.crosstab(df['assigned_room_type'], df['reserved_room_type'])"
   ]
  },
  {
   "cell_type": "code",
   "execution_count": null,
   "id": "663f3643-6d3c-4636-b7ed-054493e816e9",
   "metadata": {
    "tags": []
   },
   "outputs": [],
   "source": [
    "pd.crosstab(df_cancelado.hotel, df.reserved_room_was_assigned, normalize=True)"
   ]
  },
  {
   "cell_type": "code",
   "execution_count": null,
   "id": "5a931cb9-3b2e-4fb0-bbf4-13dcd51798d6",
   "metadata": {
    "tags": []
   },
   "outputs": [],
   "source": [
    "pd.crosstab(df_no_cancelado.hotel, df.reserved_room_was_assigned, normalize=True)"
   ]
  },
  {
   "cell_type": "markdown",
   "id": "c700ec36-6d56-42cf-aa72-11b7e0a0ca5a",
   "metadata": {},
   "source": [
    "Mediante el análisis realizado anteriormente, vemos que, si bien no es un porcentaje tan alto, las reservas cuya habitación reservada fue cambiada tienden a no cancelar la reserva.\n",
    "***"
   ]
  },
  {
   "cell_type": "markdown",
   "id": "12ff31e1-ab09-497b-be24-82499fc8f418",
   "metadata": {},
   "source": [
    "21. **booking_changes:** Esta variable de tipo entero nos da información acerca de la cantidad de cambios o correcciones que se hicieron en la reserva desde el momento de la creación hasta el check-in o la cancelación de la misma. \n",
    "  - *Moda:* 0\n",
    "  - *Media:* 0.196\n",
    "  - *Mediana:* 0\n",
    "\n",
    "En primer lugar chequeamos que no hayan valores nulos."
   ]
  },
  {
   "cell_type": "code",
   "execution_count": null,
   "id": "671b09b9-f9ec-4300-923b-c157e4d07520",
   "metadata": {
    "tags": []
   },
   "outputs": [],
   "source": [
    "columna = 'booking_changes'\n",
    "df[columna].isnull().sum()"
   ]
  },
  {
   "cell_type": "code",
   "execution_count": null,
   "id": "6a2e3f0a",
   "metadata": {
    "tags": []
   },
   "outputs": [],
   "source": [
    "df[columna].value_counts(normalize=True)"
   ]
  },
  {
   "cell_type": "markdown",
   "id": "2102d712-0be5-4474-b59b-654a1ade7039",
   "metadata": {},
   "source": [
    "Consideramos como valores atipicos las reservas que hayan hecho más de 4 cambios al representar un porcentaje tan bajo del total de los registros."
   ]
  },
  {
   "cell_type": "code",
   "execution_count": null,
   "id": "07d7a27b-7c54-4ecc-8d0c-1f9d8ee6935f",
   "metadata": {
    "tags": []
   },
   "outputs": [],
   "source": [
    "cantidad_cambios = list(df[columna].value_counts().index)\n",
    "cambios = pd.Series(np.where(df[columna].isin(cantidad_cambios[4:]), 'Más de 4' , df[columna]))\n",
    "pd.crosstab(cambios, df['is_canceled']).plot(kind='barh', xlabel='Frecuencia', ylabel=\"Cambios\")\n",
    "pd.crosstab(df.is_canceled, df.booking_changes)"
   ]
  },
  {
   "cell_type": "markdown",
   "id": "c1d03ee0-64b8-4b2d-a2dd-89b3c52169f7",
   "metadata": {},
   "source": [
    "Como vemos en el gráfico, a partir de 1 cambio en la reserva, se nota cierta tendencia a no cancelar, y si no se hace ningún cambio es más probable que cancele, por lo que podemos considerar esta variable para nuestro **target**\n",
    "***"
   ]
  },
  {
   "cell_type": "markdown",
   "id": "4fef85a7-3b6a-4685-b90a-121dc52bcea4",
   "metadata": {
    "tags": []
   },
   "source": [
    "21. **deposit_type:** Esta variable cualitativa es de tipo alfanumérica y contendrá informacion sobre el tipo de reserva.\n",
    "      Los posibles valores son:\n",
    "    - *No Deposit:* No se realizo deposito. Aparece en 51685 (83.5%) de los registros.\n",
    "    - *Non Refund:* Se realizo deposito por un valor igual o superior al valor de la reserva. Aparece en 10150 (16.4%) de los registros.\n",
    "    - *Refundable:* Se realizo deposito por un valor menos al valor de la reserva. Aparece en 78 (0.13%) de los registros."
   ]
  },
  {
   "cell_type": "markdown",
   "id": "176b2d61-af2b-4dc5-900a-94f003c88b3b",
   "metadata": {},
   "source": [
    "Analizamos si hay valores faltantes."
   ]
  },
  {
   "cell_type": "code",
   "execution_count": null,
   "id": "e109ec90-78d0-4aad-b862-342b8e9d60fe",
   "metadata": {
    "tags": []
   },
   "outputs": [],
   "source": [
    "df['deposit_type'].isnull().sum()"
   ]
  },
  {
   "cell_type": "code",
   "execution_count": null,
   "id": "5d788d0a-f394-467a-9331-1f40ea7ec45c",
   "metadata": {
    "tags": []
   },
   "outputs": [],
   "source": [
    "ig, ax = plt.subplots(1, 3, figsize = (20, 6))\n",
    "\n",
    "sns00 = sns.countplot(data = df, x = \"deposit_type\", ax = ax[0])\n",
    "for label in sns00.containers:\n",
    "    sns00.bar_label(label)\n",
    "\n",
    "sns01 = sns.countplot(data = df_no_cancelado, x = \"deposit_type\", ax = ax[1])\n",
    "for label in sns01.containers:\n",
    "    sns01.bar_label(label)\n",
    "    \n",
    "sns02 = sns.countplot(data = df_cancelado, x = \"deposit_type\", ax = ax[2])\n",
    "for label in sns02.containers:\n",
    "    sns02.bar_label(label)\n",
    "\n",
    "ax[0].set_title('Frecuencia de tipos de depositos')\n",
    "ax[1].set_title('Frecuencia de tipos de depositos en reservas no canceladas')\n",
    "ax[2].set_title('Frecuencia de tipos de depositos en reservas canceladas')\n",
    "\n",
    "\n",
    "plt.show()"
   ]
  },
  {
   "cell_type": "markdown",
   "id": "278d5289-029b-44c8-9599-50369c0c26e9",
   "metadata": {
    "tags": []
   },
   "source": [
    "Notamos que aquellas reservas que no tienen un deposito no son canceladas en un 59.7% mientras que las reservas que tiene un deposito por un valor igual o mayor al valor reserva son casi en su totalidad canceladas.\n",
    "***"
   ]
  },
  {
   "cell_type": "markdown",
   "id": "09650b8f-d3cf-43e1-82fe-b110a0e01e7c",
   "metadata": {},
   "source": [
    "22. **agent:** Esta variable cualitativa es de tipo numerica y contendra informacion sobre el ID del agente de viajes (en caso \n",
    "    de que se uso uno) con el cual se realizo la reserva, sino fue utlizado un agente se describe esto mediante NULL.\n",
    "    Los agentes mas utlizados son:\n",
    "    - *9.0:* Aparece en 17004 (27.5%) de los registros.\n",
    "    - *240:* Aparece en 7386 (12%) de los registros.\n",
    "    - *1.0:* Aparece en 4424 (7.15%) de los registros."
   ]
  },
  {
   "cell_type": "code",
   "execution_count": null,
   "id": "fc85fb40-bee1-4dcc-8259-394034e93d33",
   "metadata": {
    "tags": []
   },
   "outputs": [],
   "source": [
    "df['agent'].isnull().sum()"
   ]
  },
  {
   "cell_type": "markdown",
   "id": "78feb14b-f81c-44ec-9000-d52a6874f333",
   "metadata": {},
   "source": [
    "En el caso de esta variable tiene sentido que haya tantos valores nulos, ya que hay reservas que no se hacen por medio de agentes. Para la visualización de datos vamos a descartar estos valores, pero para el procesamiento del dataset, se tendrán en cuenta."
   ]
  },
  {
   "cell_type": "code",
   "execution_count": null,
   "id": "a330c927-326b-49d5-bb58-949fdda4faa2",
   "metadata": {
    "tags": []
   },
   "outputs": [],
   "source": [
    "plt.figure(figsize = (10,6))\n",
    "plt.title('Porcentaje de reservas por agente')\n",
    "\n",
    "df_pie = df[df['agent'].isnull() == False] #dataframe sin Nan\n",
    "\n",
    "todos_los_agentes = list(df_pie['agent'].value_counts().index)\n",
    "\n",
    "a = pd.Series(np.where(df_pie['agent'].isin(todos_los_agentes[10:]), 'Otros' , df_pie['agent']))\n",
    "\n",
    "values = list(a.value_counts())[:10]\n",
    "\n",
    "labels = list(a.value_counts().index)[:10]\n",
    "\n",
    "plt.pie(values, labels = labels, autopct='%.2f')\n",
    "\n",
    "plt.show()"
   ]
  },
  {
   "cell_type": "markdown",
   "id": "ff315db7-f87d-4b32-a2d1-23507fe2eb7b",
   "metadata": {
    "tags": []
   },
   "source": [
    "En total son 297 posibles valores los que toma esta variable incluyendo a NULL. En el grafico se muestran en que porcentaje se usaron los 10 agentes mas frecuentes, teniendo en cuenta solamente los registros donde un agente fue registrado.\n",
    "***"
   ]
  },
  {
   "cell_type": "markdown",
   "id": "66a3a29b-b934-4e66-a18a-c1670a7ca9d1",
   "metadata": {},
   "source": [
    "23. **company:** Esta variable cualitativa es de tipo numerica y contendra informacion sobre el ID de la compañia (en caso \n",
    "    de que haya sido una) la cual realizo/ abono la reserva, si no fue realiada por una compañia se describe esto mediante NULL.\n",
    "    Las compañias que mas reservas realizaron son:\n",
    "    - *40.0:* Aparece en 390 (0.63%) de los registros.\n",
    "    - *223.0:* Aparece en 364 (0.59%) de los registros.\n",
    "    - *67.0:* Aparece en 169 (0.27%) de los registros."
   ]
  },
  {
   "cell_type": "code",
   "execution_count": null,
   "id": "d4f4c6aa-9fd6-4c22-881e-63f5fb00071e",
   "metadata": {
    "tags": []
   },
   "outputs": [],
   "source": [
    "df['company'].isnull().sum()"
   ]
  },
  {
   "cell_type": "markdown",
   "id": "2e07a4ae-7ea7-4a58-bf06-21fc29018639",
   "metadata": {},
   "source": [
    "Similarmente a la columna analizada anteriormente, tenemos valores nulos ya que la reserva fue realizada/abonada por una compañia, por lo que realizaremos el mismo procedimiento de quitar los nulos sólo para la visualización."
   ]
  },
  {
   "cell_type": "code",
   "execution_count": null,
   "id": "7af0f450-8e5e-4362-9a29-654cc707f41d",
   "metadata": {
    "tags": []
   },
   "outputs": [],
   "source": [
    "plt.figure(figsize = (10,6))\n",
    "plt.title('Porcentaje de reservas por compania')\n",
    "\n",
    "df_compania = df[df['company'].isnull() == False] #dataframe sin Nan\n",
    "\n",
    "todas_las_companias = list(df_compania['company'].value_counts().index)\n",
    "\n",
    "a = pd.Series(np.where(df_compania['company'].isin(todas_las_companias[10:]), 'Otros' , df_compania['company']))\n",
    "\n",
    "values = list(a.value_counts())[:10]\n",
    "\n",
    "labels = list(a.value_counts().index)[:10]\n",
    "\n",
    "plt.pie(values, labels = labels, autopct='%.2f')\n",
    "\n",
    "plt.show()"
   ]
  },
  {
   "cell_type": "markdown",
   "id": "12839e93-ce68-46c9-a523-c4f6fda14dac",
   "metadata": {},
   "source": [
    "En total son 277 posibles valores los que toma esta variable incluyendo a NULL. En el grafico se muestran en que porcentaje se usaron las 10 companias mas frecuentes, teniendo en cuenta solamente los registros donde una compania fue registrada.\n",
    "***"
   ]
  },
  {
   "cell_type": "markdown",
   "id": "db56f658-60e3-40c1-a844-d345631ff491",
   "metadata": {},
   "source": [
    "24. **days_in_waiting_list:** Esta variable cuantitativa de tipo numerica contendra informacion sobre los dias que estuvo en\n",
    "    espera la reserva del cliente hasta que fue confirmada por parte del hotel. Sus analisis inicial:\n",
    "    - *Moda:* 0.\n",
    "    - *Media:* 2.6.\n",
    "    - *Mediana:* 0."
   ]
  },
  {
   "cell_type": "code",
   "execution_count": null,
   "id": "91b1d014-3d5d-42dd-ba83-d03852d1609c",
   "metadata": {
    "tags": []
   },
   "outputs": [],
   "source": [
    "df['days_in_waiting_list'].isnull().sum()"
   ]
  },
  {
   "cell_type": "markdown",
   "id": "ca727029-0556-4dcf-9938-474db72f38f0",
   "metadata": {},
   "source": [
    "No hay valores nulos"
   ]
  },
  {
   "cell_type": "code",
   "execution_count": null,
   "id": "cfc4cb47-1e7f-4ca5-9612-c8834e5b96ac",
   "metadata": {
    "tags": []
   },
   "outputs": [],
   "source": [
    "#creo nueva Columna a una copia del df original,'tuvo_dias_de_espera' donde 1 si los tuvo, 0 si no los tuvo\n",
    "df_grafico = df.copy()\n",
    "df_grafico['tuvo_dias_de_espera'] = np.where(df_grafico['days_in_waiting_list'] != 0, 1 , 0)\n",
    "df_sin_dias_de_espera = df_grafico[df['days_in_waiting_list'] == 0]\n",
    "df_con_dias_de_espera = df_grafico[df['days_in_waiting_list'] != 0]\n",
    "\n",
    "ig, ax = plt.subplots(1, 3, figsize = (20, 6))\n",
    "\n",
    "sns00 = sns.countplot(data = df_grafico, x = \"tuvo_dias_de_espera\", ax= ax[0])\n",
    "for label in sns00.containers:\n",
    "    sns00.bar_label(label)\n",
    "\n",
    "sns01 = sns.countplot(data = df_sin_dias_de_espera, x = \"is_canceled\", ax= ax[1])\n",
    "for label in sns01.containers:\n",
    "    sns01.bar_label(label)\n",
    "\n",
    "sns02 = sns.countplot(data = df_con_dias_de_espera, x = \"is_canceled\", ax= ax[2])\n",
    "for label in sns02.containers:\n",
    "    sns02.bar_label(label)\n",
    "\n",
    "ax[0].set_title('Frecuencia de reservas con dias de espera y sin dias de espera')\n",
    "ax[1].set_title('Frecuencia de cancelaciones en reservas sin dias de espera')\n",
    "ax[2].set_title('Frecuencia de cancelaciones en reservas con dias de espera')\n",
    "\n",
    "plt.show()"
   ]
  },
  {
   "cell_type": "markdown",
   "id": "27fe2738-ee71-4783-9a98-9630b83d3947",
   "metadata": {
    "tags": []
   },
   "source": [
    "No hubo dias de espera en 59677 registros (96%) y hubo 2235 (4%) donde si los hubo. Notamos que aquellas reservas que no tuvieron dias de espera, el porcentaje de reservas canceladas es aproximadamente el 50% por lo que esta variable no pareciera generar una mayor o menor cantidad de cancelaciones cuando no hubo dias de espera. Por otro lado notamos que en aquellas reservas donde si hubo dias de espera, el porcentaje de cancelaciones es del 60% por lo que si pareciera influir en las cancelaciones.\n",
    "\n",
    "***"
   ]
  },
  {
   "cell_type": "markdown",
   "id": "d9556838-8731-466f-ae9a-ab2854afc1a5",
   "metadata": {},
   "source": [
    "25. **customer_type:** Esta variable cualitativa es de tipo alfanumerica y contendra informacion sobre el tipo de reserva realizada\n",
    "    contemplando 4 posibles categorias:\n",
    "    - *Contract:* Indica que la reserva esta asociada a un paquete turistico. Aparece en 2033 (3.3%) de los registros.\n",
    "    - *Group:* Indica que la reserva esta asociada a un grupo. Aparece en 263 (0.4%) de los registros.\n",
    "    - *Transient:* Indica que no esta asociada a un paquete, un grupo u otra reserva. \n",
    "      Aparece en 47449 (76.6%) de los registros.\n",
    "    - *Transient-party:* Indica que la reserva no esta asociada a un paquete o grupo, pero si a otra reserva transient. \n",
    "      Aparece en 12167 (19.7%) de los registros."
   ]
  },
  {
   "cell_type": "code",
   "execution_count": null,
   "id": "3db22623-ddc8-425a-981a-c0ec70e18306",
   "metadata": {
    "tags": []
   },
   "outputs": [],
   "source": [
    "df['customer_type'].isnull().sum()"
   ]
  },
  {
   "cell_type": "markdown",
   "id": "ddb81301-0c4c-40b2-aedd-fa7729f40990",
   "metadata": {},
   "source": [
    "Vemos que no hay valores nulos para esta columna."
   ]
  },
  {
   "cell_type": "code",
   "execution_count": null,
   "id": "dd73353c-478e-4a17-934d-ef9324f0fafa",
   "metadata": {
    "tags": []
   },
   "outputs": [],
   "source": [
    "ig, ax = plt.subplots(1, 3, figsize = (20, 6))\n",
    "\n",
    "sns00 = sns.countplot(data = df, x = \"customer_type\",ax= ax[0])\n",
    "for label in sns00.containers:\n",
    "    sns00.bar_label(label)\n",
    "\n",
    "sns01 = sns.countplot(data = df_no_cancelado, x = \"customer_type\",ax= ax[1])\n",
    "for label in sns01.containers:\n",
    "    sns01.bar_label(label)\n",
    "    \n",
    "sns02 = sns.countplot(data = df_cancelado, x = \"customer_type\",ax= ax[2])\n",
    "for label in sns02.containers:\n",
    "    sns02.bar_label(label)\n",
    "\n",
    "ax[0].set_title('Frecuencia de tipos de clientes')\n",
    "ax[1].set_title('Frecuencia de tipos de clientes en reservas no canceladas')\n",
    "ax[2].set_title('Frecuencia de tipos de clientes en reservas canceladas')\n",
    "\n",
    "plt.show()"
   ]
  },
  {
   "cell_type": "markdown",
   "id": "31b95784-f603-4462-bf73-923ba533ffbf",
   "metadata": {},
   "source": [
    "Comparando los graficos 'Frecuencia de tipos de clientes en reservas no canceladas' y 'Frecuencia de tipos de clientes en reservas canceladas' notamos que se cancelan en menor proporcion aquellas reservas que no tienen como tipo de cliente transient.\n",
    "Para el caso de los clientes de tipo transient-party, de un total de 12167 no se cancelaron 7735 (63.6%) y se cancelaron solo 4432 (36.4%).\n",
    "para el case de los clientes de tipo contract, de un total de 2033 no se cancelaron 1155 (56.8%) y se cancelaron solo 878 (43.2%).\n",
    "Para el caso de los clientes de tipo group, de un total de 263 no se cancelaron 217 (82,5%) y se cancelaron solo 46 (17.5%).\n",
    "***"
   ]
  },
  {
   "cell_type": "markdown",
   "id": "b9dc308c-e65b-4e50-b171-cf6a8b5281f6",
   "metadata": {},
   "source": [
    "26. **adr:** Esta variable cuantitativa de tipo numerica indica el valor promedio del dia de hospedaje calculado como el \n",
    "     importe total dividido por la cantidad de dias.  \n",
    "    - *Moda:* 62.0.\n",
    "    - *Media:* 102.3.\n",
    "    - *Mediana:* 95.0."
   ]
  },
  {
   "cell_type": "code",
   "execution_count": null,
   "id": "0f27771a-4eb3-4588-a7a8-14af5dff1ff0",
   "metadata": {
    "tags": []
   },
   "outputs": [],
   "source": [
    "df['adr'].isnull().sum()"
   ]
  },
  {
   "cell_type": "markdown",
   "id": "79594716-3203-436e-9c22-415d66e4d77f",
   "metadata": {},
   "source": [
    "No hay nulos. Solo se eliminará un registro el cual se detectó como un posible error de carga, en donde el adr es negativo."
   ]
  },
  {
   "cell_type": "code",
   "execution_count": null,
   "id": "f44f5ed6-9f94-449d-9255-dc87a95cdbd4",
   "metadata": {
    "tags": []
   },
   "outputs": [],
   "source": [
    "#Elimino 1 unico registro, donde el ADR resulta negativo\n",
    "df = df.drop(df[(df['adr'] < 0)].index)\n",
    "\n",
    "df_cancelado = df[df.is_canceled == 1]\n",
    "df_no_cancelado = df[df.is_canceled == 0]\n",
    "\n",
    "ig, ax = plt.subplots(1, 2, figsize = (20, 6))\n",
    "\n",
    "sns.histplot(df, x = 'adr', ax = ax[0], bins = 30)\n",
    "sns.histplot(df_no_cancelado, x = 'adr', ax = ax[1], bins = 30, label='no cancelado')\n",
    "sns.histplot(df_cancelado, x = 'adr', ax = ax[1], bins = 30, label='cancelado')\n",
    "\n",
    "ax[0].set_title('Histograma del precio por dia de hospedaje')\n",
    "ax[1].set_title('Histograma del precio por dia de hospedaje de reservas no canceladas y canceladas')\n",
    "\n",
    "plt.legend()\n",
    "plt.show()"
   ]
  },
  {
   "cell_type": "markdown",
   "id": "f9d7feb9-eb7f-4718-b2fc-a79f7ac0c4c5",
   "metadata": {},
   "source": [
    "Notamos que aquellas reservas que fueron canceladas tienden a tener menores precios por dias de hospedaje que aquellas que no fueron canceladas. Se elimino un valor atipico donde el ADR resulto negativo. \n",
    "***"
   ]
  },
  {
   "cell_type": "markdown",
   "id": "303df5de-3665-4843-9db3-af6f89b33adf",
   "metadata": {},
   "source": [
    "27. **required_car_parking_spaces:** Esta variable cuantitativa indica la cantidad de espacios para autos reservados por el cliente \n",
    "    - *Moda:* 0.\n",
    "    - *Media:* 0.05.\n",
    "    - *Mediana:* 0."
   ]
  },
  {
   "cell_type": "code",
   "execution_count": null,
   "id": "d0007c4c-5090-4f86-baeb-aa37389b448b",
   "metadata": {
    "tags": []
   },
   "outputs": [],
   "source": [
    "df['required_car_parking_spaces'].isnull().sum()"
   ]
  },
  {
   "cell_type": "markdown",
   "id": "f6aef64b-4750-4f33-be2e-e8c54d723b63",
   "metadata": {},
   "source": [
    "No hay valores faltantes en esta columna."
   ]
  },
  {
   "cell_type": "code",
   "execution_count": null,
   "id": "72b9fd99-aa11-4ba6-ad9f-a896967e7eb1",
   "metadata": {
    "tags": []
   },
   "outputs": [],
   "source": [
    "ig, ax = plt.subplots(1, 2, figsize = (20, 6))\n",
    "\n",
    "sns00 = sns.countplot(data = df, x = 'required_car_parking_spaces', ax = ax[0])\n",
    "for label in sns00.containers:\n",
    "    sns00.bar_label(label)\n",
    "\n",
    "tabla_estacionamientos = pd.crosstab(df['is_canceled'], df['required_car_parking_spaces'])\n",
    "ax[1].set_title('Frecuencia de reservas canceladas por cantidad de estacionamientos')\n",
    "\n",
    "sns.heatmap(tabla_estacionamientos, annot = True, square = True, ax = ax[1], fmt='g')\n",
    "\n",
    "plt.show()"
   ]
  },
  {
   "cell_type": "markdown",
   "id": "632c779b-3816-4aae-a5a7-6eb425366b0a",
   "metadata": {
    "tags": []
   },
   "source": [
    "Notamos que ninguna de las reservas que fueron canceladas reservaron un lugar de estacionamiento.\n",
    "***"
   ]
  },
  {
   "cell_type": "markdown",
   "id": "5ea9ad8b-2e26-45d6-b8c5-24b1515ed05b",
   "metadata": {},
   "source": [
    "28. **total_of_special_requests:** Esta variable de tipo cuantitativa indica la cantidad de pedidos adicionales realizados por el \n",
    "     cliente\n",
    "    - *Moda:* 0.\n",
    "    - *Media:* 0.5.\n",
    "    - *Mediana:* 0."
   ]
  },
  {
   "cell_type": "code",
   "execution_count": null,
   "id": "fc7b87db-dedf-4c2f-ab6a-09c44ac98315",
   "metadata": {
    "tags": []
   },
   "outputs": [],
   "source": [
    "df['total_of_special_requests'].isnull().sum()"
   ]
  },
  {
   "cell_type": "markdown",
   "id": "7ad66114-e49d-48c5-8bdc-a8cd16f36270",
   "metadata": {},
   "source": [
    "No hay falta de valores."
   ]
  },
  {
   "cell_type": "code",
   "execution_count": null,
   "id": "d4e55541-a789-4973-96d7-94a66e0efbff",
   "metadata": {
    "tags": []
   },
   "outputs": [],
   "source": [
    "ig, ax = plt.subplots(1, 2, figsize = (20, 6))\n",
    "\n",
    "sns00 = sns.countplot(data = df, x = 'total_of_special_requests', ax = ax[0])\n",
    "for label in sns00.containers:\n",
    "    sns00.bar_label(label)\n",
    "\n",
    "tabla_adicionales = pd.crosstab(df['is_canceled'], df['total_of_special_requests'])\n",
    "ax[1].set_title('Frecuencia de reservas canceladas por cantidad de pedidos adicionales')\n",
    "\n",
    "sns.heatmap(tabla_adicionales, annot = True, square = True, ax = ax[1], fmt='g')\n",
    "\n",
    "plt.show()"
   ]
  },
  {
   "cell_type": "markdown",
   "id": "d643d0f2-48e2-4ff3-9ccd-2ceabec330c2",
   "metadata": {},
   "source": [
    "Notames que las reservas con mayor cantidad de pedidos especiales tienden a no ser canceladas en mayor proporcion.\n",
    "Para las reservas con 1 pedido adicional, de un total de 15706 no se cancelaron 10578 (67.3%) y se cancelaron 2042 (32.6%).\n",
    "Con 2 pedidos adicionales, de un total de 6227 no se cancelaron 4285 (67.2%) y se cancelaron 2042 (32.8%).\n",
    "Con 3 pedidos adicionales, de un total de 1188 no se cancelaron 857 (72.1%) y se cancelaron 331 (27.9%).\n",
    "Con 4 pedidos adicionales, de un total de 150 no se cancelaron 123 (82%.0) y se cancelaron 27 (18%).\n",
    "Con 5 pedidos adicionales, de un total de 20 no se cancelaron 18 (95.0%) y se cancelaron 2 (5.0%).\n",
    "Notamos tambien que a mayor cantidad de pedidos adicionales es mayor el porcentaje de reservas que no fueron canceladas.\n",
    "***"
   ]
  },
  {
   "cell_type": "markdown",
   "id": "4d260ec4-31b8-47d4-9873-b90dbac056cd",
   "metadata": {
    "tags": []
   },
   "source": [
    "29. **is_canceled:** Esta variable binaria indica si la reserva fue cancelada (1) o no (0).\n",
    "    - *0:* No cancelada. Aparece en 30972 (50%) de los registros.\n",
    "    - *1:* Cancelada. Aparece en 30941 (50%) de los registros."
   ]
  },
  {
   "cell_type": "code",
   "execution_count": null,
   "id": "cfd22f7c-bab9-44f8-9ea4-6ff991af29cc",
   "metadata": {
    "tags": []
   },
   "outputs": [],
   "source": [
    "ig, ax = plt.subplots(1, 1, figsize = (4, 4))\n",
    "\n",
    "a = sns.countplot(data = df, x = \"is_canceled\", ax = ax)\n",
    "for label in a.containers:\n",
    "    a.bar_label(label)\n",
    "\n",
    "ax.set_title('Frecuencia de cancelaciones de reservas')\n",
    "\n",
    "plt.show()"
   ]
  },
  {
   "cell_type": "markdown",
   "id": "847d36cd-3d6d-4b6f-b4a9-dfecfbc434d6",
   "metadata": {
    "tags": []
   },
   "source": [
    "Notamos que estan canceladas aproximadamente el 50% de las reservas.\n",
    "***"
   ]
  },
  {
   "cell_type": "markdown",
   "id": "1592b341-c909-4d77-9b4a-5217c9f6fd62",
   "metadata": {},
   "source": [
    "30. **id:** Variable alfanumerica no relacionada con el dominio del problema, sus datos fueron ofuscados para mantener la prividad de los clientes.\n",
    "***"
   ]
  },
  {
   "cell_type": "markdown",
   "id": "e335ffb2-8fcb-49fd-b481-42116bce292d",
   "metadata": {
    "tags": []
   },
   "source": [
    "31. **reservation_status_date:** Variable no necesaria para el analisis segun la catedra.\n",
    "***"
   ]
  },
  {
   "cell_type": "markdown",
   "id": "f2fa44a2-232c-4a74-98af-d93373ae97ea",
   "metadata": {},
   "source": [
    "Descartamos ahora todas las variables que consideramos no necesarias para el análisis."
   ]
  },
  {
   "cell_type": "code",
   "execution_count": null,
   "id": "c9061a36-156e-48f6-96d5-68eb1db3d597",
   "metadata": {
    "tags": []
   },
   "outputs": [],
   "source": [
    "df = df.drop(columns=['reservation_status_date'])"
   ]
  },
  {
   "cell_type": "markdown",
   "id": "2feb8aba-56d3-4068-a2d5-e5c97dcf6ec0",
   "metadata": {},
   "source": [
    "Hacemos un mapa de calor entre las variables que consideramos necesarias para el análisis, para ver la correlación entre ellas."
   ]
  },
  {
   "cell_type": "markdown",
   "id": "1e449f9e",
   "metadata": {},
   "source": [
    "# Valores atipicos"
   ]
  },
  {
   "cell_type": "markdown",
   "id": "b385b20c",
   "metadata": {},
   "source": [
    "Definimos funciones que nos sirven para analizar valores atipicos:"
   ]
  },
  {
   "cell_type": "code",
   "execution_count": null,
   "id": "c4cc6700",
   "metadata": {},
   "outputs": [],
   "source": [
    "import scipy as sc\n",
    "\n",
    "def mahal_dists(X):\n",
    "    sample_X = X.sample(frac=0.1)\n",
    "    mu = sample_X.mean()\n",
    "    X_diff = X - mu\n",
    "    X_diff = X_diff.values.T\n",
    "    cov = np.cov(sample_X.values.T)\n",
    "    inv_cov = np.linalg.inv(cov)\n",
    "    W = sc.linalg.sqrtm(inv_cov)\n",
    "    Wx = np.matmul(W, X_diff)\n",
    "    return np.array([np.dot(Wx[:, i], Wx[:, i]) for i in range(Wx.shape[1])])\n",
    "\n",
    "def z_score(x):\n",
    "    return (x - x.mean()) / x.std()\n",
    "\n",
    "def IQR(x):\n",
    "    Q1_altura=np.quantile(x,0.25)\n",
    "    Q3_altura=np.quantile(x,0.75)\n",
    "    return Q3_altura-Q1_altura"
   ]
  },
  {
   "cell_type": "markdown",
   "id": "96cae298",
   "metadata": {},
   "source": [
    "El grupo de variables con mayores valores atipicos es `children`, `adults` y `babies`. Podemos compararlas usando mahalanobis:"
   ]
  },
  {
   "cell_type": "code",
   "execution_count": null,
   "id": "a4d9eef3",
   "metadata": {},
   "outputs": [],
   "source": [
    "attrs = ['children', 'babies', 'adults']\n",
    "\n",
    "distancias = mahal_dists(df[attrs])\n",
    "plt.boxplot(distancias)\n",
    "plt.show()"
   ]
  },
  {
   "cell_type": "markdown",
   "id": "a2739706",
   "metadata": {},
   "source": [
    "podemos calcular el z score de las distancias mahalanobis para determinar el umbral de los valores atipicos severos, y eleminarlos"
   ]
  },
  {
   "cell_type": "code",
   "execution_count": null,
   "id": "04205ed2",
   "metadata": {},
   "outputs": [],
   "source": [
    "df = df.drop(index=df[np.abs(z_score(distancias)) > 3].index)"
   ]
  },
  {
   "cell_type": "markdown",
   "id": "a76bdc06",
   "metadata": {},
   "source": [
    "Otro caso que vamos a eliminar por logica, es el caso en el que nadie va a la reservacion (no hay children, ni babies ni adults), ya que carece de sentido para el problema, a pesar de no ser un outlier numericamente:"
   ]
  },
  {
   "cell_type": "code",
   "execution_count": null,
   "id": "1206d0f0",
   "metadata": {},
   "outputs": [],
   "source": [
    "df = df.drop(index=df[(df['adults'] == 0) & (df['babies'] == 0) & (df['children'] == 0)].index)"
   ]
  },
  {
   "cell_type": "markdown",
   "id": "32d67f46",
   "metadata": {},
   "source": [
    "Realizamos un análisis parecido para las variables 'previous_bookings_not_canceled', 'previous_cancellations' y 'is_repeated_guest' ya que estas están lógicamente relacionadas."
   ]
  },
  {
   "cell_type": "code",
   "execution_count": null,
   "id": "2544f915",
   "metadata": {},
   "outputs": [],
   "source": [
    "attrs = ['previous_bookings_not_canceled', 'previous_cancellations', 'is_repeated_guest']\n",
    "distancias = mahal_dists(df[attrs])\n",
    "df[np.abs(z_score(distancias)) > 4][attrs]\n",
    "#.plot.scatter(x='previous_bookings_not_canceled', y='previous_cancellations')"
   ]
  },
  {
   "cell_type": "markdown",
   "id": "628eda00",
   "metadata": {},
   "source": [
    "Vamos a eliminar los casos extremadamente severos, como los que tienen 26 cancelaciones y nunca fueron al hotel. Eliminamos los que tengan distancia de mahalanobis alejada 4 desvios estandar de la media."
   ]
  },
  {
   "cell_type": "code",
   "execution_count": null,
   "id": "ce851510",
   "metadata": {},
   "outputs": [],
   "source": [
    "df = df.drop(index=df[np.abs(z_score(distancias)) > 4].index)"
   ]
  },
  {
   "cell_type": "markdown",
   "id": "ce51734d",
   "metadata": {},
   "source": [
    "Realizamos el mismo análisis para los noches de estadia:"
   ]
  },
  {
   "cell_type": "code",
   "execution_count": null,
   "id": "4cdb68d2",
   "metadata": {},
   "outputs": [],
   "source": [
    "attrs = ['stays_in_weekend_nights', 'stays_in_week_nights']\n",
    "distancias = mahal_dists(df[attrs])\n",
    "df[np.abs(z_score(distancias)) > 3][attrs]"
   ]
  },
  {
   "cell_type": "markdown",
   "id": "b5d09e6b",
   "metadata": {},
   "source": [
    "Observamos que los valores atipicos en principio son valores bastante normales (dos semanas de estadia). Si los comparamos por hotel:"
   ]
  },
  {
   "cell_type": "code",
   "execution_count": null,
   "id": "51873b53",
   "metadata": {},
   "outputs": [],
   "source": [
    "df[np.abs(z_score(distancias)) > 3]['hotel'].value_counts()"
   ]
  },
  {
   "cell_type": "markdown",
   "id": "d9eab5fa",
   "metadata": {},
   "source": [
    "Nos damos cuenta de que son en su mayoría del resort hotel, lo cual tiene sentido ya que (según su descripción) esta lejos de la ciudad, por lo que es normal que las familias se queden mas días. Por lo que lo consideramos razón suficiente para no eliminarlos, ya que puede resultar util"
   ]
  },
  {
   "cell_type": "code",
   "execution_count": null,
   "id": "21df4f56",
   "metadata": {},
   "outputs": [],
   "source": [
    "df[df['required_car_parking_spaces'] > 3]"
   ]
  },
  {
   "cell_type": "markdown",
   "id": "e0d6f915",
   "metadata": {},
   "source": [
    "Los outliers de la variable numerica `lead_time`, tampoco carecen de sentido, son reservaciones realizadas con mucha anticipacion. Estos junto con los outliers de `adr`, no los vamos a eliminar ya que esos registros pueden resultar utiles en modelos que no son influenciados por outliers"
   ]
  },
  {
   "cell_type": "code",
   "execution_count": null,
   "id": "7239391c",
   "metadata": {},
   "outputs": [],
   "source": [
    "df[np.abs(z_score(df['lead_time'])) > 4]['lead_time']"
   ]
  },
  {
   "cell_type": "code",
   "execution_count": null,
   "id": "8b596b5e",
   "metadata": {},
   "outputs": [],
   "source": [
    "df[np.abs(z_score(df['adr'])) > 3]['adr']"
   ]
  },
  {
   "cell_type": "markdown",
   "id": "142c3c76",
   "metadata": {},
   "source": [
    "# Analisis de correlaciones "
   ]
  },
  {
   "cell_type": "code",
   "execution_count": null,
   "id": "b1498d1e",
   "metadata": {},
   "outputs": [],
   "source": [
    "corr_matrix = df.drop(\"is_canceled\", axis=1).corr(numeric_only=True)\n",
    "sns.heatmap(corr_matrix, annot=False)\n",
    "plt.title('Correlation matrix')\n",
    "plt.show()"
   ]
  },
  {
   "cell_type": "markdown",
   "id": "76992a7f",
   "metadata": {},
   "source": [
    "De este heatmap podemos sacar concluciones de celdas especificas. Por ejemplo la fuerte relacion entre el hotel y el agente:"
   ]
  },
  {
   "cell_type": "code",
   "execution_count": null,
   "id": "ac9d9986",
   "metadata": {},
   "outputs": [],
   "source": [
    "pd.crosstab(df['agent'], df['hotel'])"
   ]
  },
  {
   "cell_type": "markdown",
   "id": "e5510fbf",
   "metadata": {},
   "source": [
    "Al tratarse de hoteles tan distanciados, es normal que tengan diferentes agentes de viajes con los que se hagan ahi las reservas"
   ]
  },
  {
   "cell_type": "markdown",
   "id": "5d01a2e9",
   "metadata": {},
   "source": [
    "Observamos que la relacion entre la  semana y año de la reserva no tienen relación en absoluto (la celda negra), y tiene mucho sentido, ya que es imposible dado un año de reserva poder predecir la semana de todo el año en la cual reservó.\n",
    "\n",
    "Las noches de días de semana y de fines de semana también tienen una gran relación, ya que si alguien se quiere quedar más tiempo tiene que aumentar ambos.\n",
    "\n",
    "Tambien hay otras correlaciones mas obvias, como las anteriores reservaciones no canceladas y si es un huesped repetido."
   ]
  },
  {
   "cell_type": "markdown",
   "id": "12bfc54c",
   "metadata": {},
   "source": [
    "Tambien podemos graficar un heatmap para ambos casos en los que se cancelan y no se cancelan las reservas:"
   ]
  },
  {
   "cell_type": "code",
   "execution_count": null,
   "id": "4b981542-8d2c-4471-a490-c2c9f9a07adb",
   "metadata": {
    "tags": []
   },
   "outputs": [],
   "source": [
    "corr_can = df_cancelado.drop(\"is_canceled\", axis=1).corr(numeric_only=True)\n",
    "corr_no_can = df_no_cancelado.drop(\"is_canceled\", axis=1).corr(numeric_only=True)\n",
    "\n",
    "fig, ax = plt.subplots(1, 2, figsize=(20,8))\n",
    "\n",
    "sns.heatmap(corr_can, \n",
    "            annot=False,\n",
    "            ax=ax[0])\n",
    "ax[0].set_title('Correlation matrix -  cancelados')\n",
    "\n",
    "sns.heatmap(corr_no_can, \n",
    "            annot=False,\n",
    "            ax=ax[1])\n",
    "ax[1].set_title('Correlation matrix - no cancelados')\n",
    "\n",
    "plt.show()"
   ]
  },
  {
   "cell_type": "markdown",
   "id": "d4d796e1",
   "metadata": {},
   "source": [
    "Se puede ver como estos heatmaps son menos uniformes que el  anterior. Presentan mas correlaciones, aunque en principio no les podamos dar un significado.\n",
    "\n",
    "La mas notoria es la linea que se forma en `required_car_parking_spaces`, ya que como dijimos antes en su análisis, las reservas canceladas no piden ninún espacio para el auto, lo que lo hace muy particular."
   ]
  },
  {
   "cell_type": "markdown",
   "id": "2e67df43",
   "metadata": {},
   "source": [
    "# Ingenieria de features"
   ]
  },
  {
   "cell_type": "markdown",
   "id": "9ac1f1ce",
   "metadata": {},
   "source": [
    "Vamos a resumir todas las nuevas features creadas y algunas nuevas que podrian ser utiles en una unica funcion. Para luego crear nuevo dataset de test y train con las mismas. De esta manera va a ser mas facil su uso cuando entrenemos a los modelos."
   ]
  },
  {
   "cell_type": "code",
   "execution_count": null,
   "id": "e15978b7",
   "metadata": {},
   "outputs": [],
   "source": [
    "df  = pd.read_csv(\"../dataset/hotels_train.csv\")"
   ]
  },
  {
   "cell_type": "code",
   "execution_count": null,
   "id": "33d070d4",
   "metadata": {},
   "outputs": [],
   "source": [
    "def nuevas_features(df):\n",
    "    dataset  = pd.DataFrame.copy(df)\n",
    "    \n",
    "    dataset[\"hotel_encoding\"] = np.where(dataset[\"hotel\"] == \"Resort Hotel\", 1, 0)\n",
    "\n",
    "    # PERSONAS\n",
    "    dataset[\"tiene_hijos\"] = (dataset[\"children\"] > 0) | (dataset[\"babies\"] > 0)\n",
    "\n",
    "    # COUNTRY\n",
    "    dataset[\"es_extranjero\"] = dataset[\"country\"] != \"PRT\"\n",
    "\n",
    "    dataset[\"es_portugues\"] = dataset[\"country\"] == \"PRT\"\n",
    "    dataset[\"es_ingles\"] = dataset[\"country\"] == \"GBR\"\n",
    "    dataset[\"es_frances\"] = dataset[\"country\"] == \"FRA\"\n",
    "    dataset[\"es_espanol\"] = dataset[\"country\"] == \"ESP\"\n",
    "    dataset[\"es_aleman\"] = dataset[\"country\"] == \"DEU\"\n",
    "\n",
    "    # ROOM\n",
    "    dataset[\"reserved_room_was_assigned\"] = dataset.assigned_room_type == dataset.reserved_room_type\n",
    "    \n",
    "    # PARKING\n",
    "    dataset[\"required_a_car_parking_space\"] = dataset[\"required_car_parking_spaces\"] != 0\n",
    "\n",
    "    # COMIDAS\n",
    "    dataset[\"meal\"] = dataset[\"meal\"].replace(\"Undefined\", \"SC\")\n",
    "    dataset[\"solo_desayuna_en_el_hotel\"] = dataset[\"meal\"] == \"BB\"\n",
    "    dataset[\"pidio_todas_comidas\"] = (dataset[\"meal\"] == \"HB\") | (dataset[\"meal\"] == \"FB\")\n",
    "\n",
    "    # Reservacion\n",
    "    dataset[\"reservo_online\"] = dataset[\"market_segment\"] == \"Online TA\"\n",
    "    dataset[\"reservo_en_grupo\"] = dataset[\"market_segment\"] == \"Groups\"\n",
    "\n",
    "    dataset[\"reservo_sin_reembolso\"] = dataset[\"deposit_type\"] == \"Non Refund\"\n",
    "    dataset[\"reservo_sin_depositar\"] = dataset[\"deposit_type\"] == \"No Deposit\"\n",
    "\n",
    "    dataset[\"reservo_sin_paquete\"] = dataset[\"customer_type\"] == \"Transient\"\n",
    "    dataset[\"reservo_sin_compania\"] = (dataset[\"company\"].isnull()) & (dataset[\"agent\"].isnull())\n",
    "\n",
    "    dataset['tuvo_dias_de_espera'] = dataset['days_in_waiting_list'] != 0\n",
    "\n",
    "    dataset[\"reservo_el_mismo_dia\"] = dataset['lead_time'] == 0\n",
    "    \n",
    "    dataset['total_reservas_previas'] = dataset['previous_cancellations'] + dataset['previous_bookings_not_canceled']\n",
    "\n",
    "    # Agentes mas relevantes\n",
    "    dataset[\"agent9\"] = dataset[\"agent\"] == 9.0\n",
    "    dataset[\"agent240\"] = dataset[\"agent\"] == 240\n",
    "    dataset[\"agent1\"] = dataset[\"agent\"] == 1\n",
    "    dataset[\"agent14\"] = dataset[\"agent\"] == 14\n",
    "    dataset[\"agent6\"] = dataset[\"agent\"] == 6\n",
    "    \n",
    "    return dataset"
   ]
  },
  {
   "cell_type": "markdown",
   "id": "24fd930e",
   "metadata": {},
   "source": [
    "Creamos los nuevos datasets:"
   ]
  },
  {
   "cell_type": "code",
   "execution_count": null,
   "id": "86ee3387",
   "metadata": {},
   "outputs": [],
   "source": [
    "df = nuevas_features(df)\n",
    "df.to_csv(\"../dataset/hotels_train_procesado.csv\", index=False)"
   ]
  },
  {
   "cell_type": "code",
   "execution_count": null,
   "id": "5f3b9e4c",
   "metadata": {
    "tags": []
   },
   "outputs": [],
   "source": [
    "df_test = pd.read_csv(\"../dataset/hotels_test.csv\")\n",
    "df_test = nuevas_features(df_test)\n",
    "df_test.to_csv(\"../dataset/hotels_test_procesado.csv\", index=False)"
   ]
  }
 ],
 "metadata": {
  "kernelspec": {
   "display_name": "Python 3 (ipykernel)",
   "language": "python",
   "name": "python3"
  },
  "language_info": {
   "codemirror_mode": {
    "name": "ipython",
    "version": 3
   },
   "file_extension": ".py",
   "mimetype": "text/x-python",
   "name": "python",
   "nbconvert_exporter": "python",
   "pygments_lexer": "ipython3",
   "version": "3.8.10"
  }
 },
 "nbformat": 4,
 "nbformat_minor": 5
}
