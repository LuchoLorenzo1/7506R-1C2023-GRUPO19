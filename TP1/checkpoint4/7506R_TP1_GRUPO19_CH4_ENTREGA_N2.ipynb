{
 "cells": [
  {
   "cell_type": "markdown",
   "id": "4cefd7d9-5509-4399-9215-444c74fcce35",
   "metadata": {},
   "source": [
    "# <center>Organizaci&oacute;n de Datos</center>\n",
    "## <center>Trabajo Práctico 1 : Reservas de Hotel</center>\n",
    "## <center>Checkpoint 3</center>\n",
    "### <center>Redes Neuronales</center>\n",
    "\n",
    "#### Integrantes grupo 19: Sudanalytics \n",
    "* Adrian Leandro Re\n",
    "* Alan Toulouse\n",
    "* Luciano Lorenzo\n",
    "* Nicolas Tonizzo"
   ]
  },
  {
   "cell_type": "markdown",
   "id": "dd1cb26a-f989-4515-83d3-e4af83a71a10",
   "metadata": {},
   "source": [
    "## Ensamble híbrido\n",
    "Cargaremos los modelos creados con las notebooks anteriores usando la libreria pickle"
   ]
  },
  {
   "cell_type": "code",
   "execution_count": 1,
   "id": "d5c081f7-f594-4a97-a007-2339e7a9be5a",
   "metadata": {
    "tags": []
   },
   "outputs": [
    {
     "name": "stderr",
     "output_type": "stream",
     "text": [
      "2023-05-25 16:07:10.244822: I tensorflow/tsl/cuda/cudart_stub.cc:28] Could not find cuda drivers on your machine, GPU will not be used.\n",
      "2023-05-25 16:07:10.299115: I tensorflow/tsl/cuda/cudart_stub.cc:28] Could not find cuda drivers on your machine, GPU will not be used.\n",
      "2023-05-25 16:07:10.300143: I tensorflow/core/platform/cpu_feature_guard.cc:182] This TensorFlow binary is optimized to use available CPU instructions in performance-critical operations.\n",
      "To enable the following instructions: AVX2 FMA, in other operations, rebuild TensorFlow with the appropriate compiler flags.\n",
      "2023-05-25 16:07:12.015668: W tensorflow/compiler/tf2tensorrt/utils/py_utils.cc:38] TF-TRT Warning: Could not find TensorRT\n"
     ]
    }
   ],
   "source": [
    "import pickle\n",
    "import pandas as pd\n",
    "import numpy as np\n",
    "from sklearn.model_selection import train_test_split\n",
    "from sklearn.metrics import make_scorer, f1_score, confusion_matrix, precision_score, recall_score, accuracy_score\n",
    "from sklearn.preprocessing import StandardScaler\n",
    "import matplotlib.pyplot as plt\n",
    "import seaborn as sns\n",
    "from tensorflow import keras\n",
    "import tensorflow as tf"
   ]
  },
  {
   "cell_type": "code",
   "execution_count": 2,
   "id": "c33d34e7-0a81-4b1e-bd69-da53e40ea9b7",
   "metadata": {
    "tags": []
   },
   "outputs": [
    {
     "data": {
      "text/plain": [
       "Index(['hotel', 'lead_time', 'arrival_date_year', 'arrival_date_month',\n",
       "       'arrival_date_week_number', 'arrival_date_day_of_month',\n",
       "       'stays_in_weekend_nights', 'stays_in_week_nights', 'adults', 'children',\n",
       "       'babies', 'meal', 'country', 'market_segment', 'distribution_channel',\n",
       "       'is_repeated_guest', 'previous_cancellations',\n",
       "       'previous_bookings_not_canceled', 'reserved_room_type',\n",
       "       'assigned_room_type', 'booking_changes', 'deposit_type', 'agent',\n",
       "       'company', 'days_in_waiting_list', 'customer_type', 'adr',\n",
       "       'required_car_parking_spaces', 'total_of_special_requests',\n",
       "       'reservation_status_date', 'id', 'is_canceled', 'hotel_encoding',\n",
       "       'tiene_hijos', 'es_extranjero', 'es_portugues', 'es_ingles',\n",
       "       'es_frances', 'es_espanol', 'es_aleman', 'reserved_room_was_assigned',\n",
       "       'required_a_car_parking_space', 'solo_desayuna_en_el_hotel',\n",
       "       'pidio_todas_comidas', 'reservo_online', 'reservo_en_grupo',\n",
       "       'reservo_sin_reembolso', 'reservo_sin_depositar', 'reservo_sin_paquete',\n",
       "       'reservo_sin_compania', 'reservo_sin_agente', 'tuvo_dias_de_espera',\n",
       "       'reservo_el_mismo_dia', 'total_reservas_previas', 'agent9', 'agent240',\n",
       "       'agent1', 'agent14', 'agent6'],\n",
       "      dtype='object')"
      ]
     },
     "execution_count": 2,
     "metadata": {},
     "output_type": "execute_result"
    }
   ],
   "source": [
    "df = pd.read_csv(\"../dataset/hotels_train_procesado.csv\")\n",
    "df.columns"
   ]
  },
  {
   "cell_type": "markdown",
   "id": "9c4ffd21-d886-4677-bc39-810fbd17a209",
   "metadata": {
    "tags": []
   },
   "source": [
    "Declaramos el target y los features del dataframe que vamos a utilizar para predecir."
   ]
  },
  {
   "cell_type": "code",
   "execution_count": 3,
   "id": "e2346c67-e9fb-4736-8f7e-be9df7b587c0",
   "metadata": {
    "tags": []
   },
   "outputs": [],
   "source": [
    "target = \"is_canceled\"\n",
    "\n",
    "attrs = [\n",
    "    \"hotel_encoding\",\n",
    "    \n",
    "    \"lead_time\",\n",
    "    \"reservo_el_mismo_dia\",\n",
    "    \"adr\",\n",
    "\n",
    "    \"stays_in_weekend_nights\",\n",
    "    \"stays_in_week_nights\",\n",
    "\n",
    "    \"tiene_hijos\",\n",
    "    \"adults\",\n",
    "    #\"children\",\n",
    "    #\"babies\",\n",
    "\n",
    "    # Fechas\n",
    "    \"arrival_date_week_number\",\n",
    "    \"arrival_date_day_of_month\",\n",
    "    \"arrival_date_year\",\n",
    "\n",
    "    \"es_extranjero\",\n",
    "    #\"es_portugues\",\n",
    "    #\"es_ingles\",\n",
    "    #\"es_frances\",\n",
    "    #\"es_espanol\",\n",
    "    #es_aleman\",\n",
    "\n",
    "    \"reserved_room_was_assigned\",\n",
    "\n",
    "    \"is_repeated_guest\",\n",
    "    \"previous_cancellations\", \n",
    "    #\"previous_bookings_not_canceled\",\n",
    "    \"total_reservas_previas\",\n",
    "    \"total_of_special_requests\",\n",
    "    \"booking_changes\",\n",
    "\n",
    "    # 'meal',\n",
    "    \"solo_desayuna_en_el_hotel\",\n",
    "    \"pidio_todas_comidas\",\n",
    "\n",
    "    'required_car_parking_spaces',\n",
    "    \"required_a_car_parking_space\",\n",
    "\n",
    "    \"reservo_sin_reembolso\",\n",
    "    \"reservo_sin_depositar\",\n",
    "    \"reservo_online\",\n",
    "    \"reservo_en_grupo\",\n",
    "    \"reservo_sin_compania\",\n",
    "    \"reservo_sin_agente\",\n",
    "    \"reservo_sin_paquete\",\n",
    "    \n",
    "    \"days_in_waiting_list\",\n",
    "    \"tuvo_dias_de_espera\",\n",
    "    \n",
    "    \"agent9\",\n",
    "    \"agent240\",\n",
    "    \"agent1\",\n",
    "    \"agent14\",\n",
    "    \"agent6\",\n",
    "]"
   ]
  },
  {
   "cell_type": "markdown",
   "id": "616f47bf-1fdc-450c-b591-b38e909cfa28",
   "metadata": {},
   "source": [
    "**Dividimos el dataset en entrenamiento y validacion**, para poder validar que no estamos overfitteando al dataset de entrenamiento, y que los modelos van a predecir bien a registros no vistos anteriormente. "
   ]
  },
  {
   "cell_type": "code",
   "execution_count": 4,
   "id": "2070e9d1",
   "metadata": {},
   "outputs": [
    {
     "data": {
      "text/plain": [
       "(46434, 36)"
      ]
     },
     "execution_count": 4,
     "metadata": {},
     "output_type": "execute_result"
    }
   ],
   "source": [
    "X = df[attrs].values\n",
    "y = df[target].values\n",
    "\n",
    "scaler = StandardScaler()\n",
    "X = scaler.fit_transform(X)\n",
    "\n",
    "X_train, X_val, y_train, y_val = train_test_split(X, y, test_size=0.25, shuffle=True)\n",
    "X_train.shape"
   ]
  },
  {
   "cell_type": "code",
   "execution_count": 5,
   "id": "bf5f6562",
   "metadata": {},
   "outputs": [],
   "source": [
    "model = keras.models.Sequential()\n",
    "model.add(keras.layers.Dense(400, input_shape=X[1,:].shape, activation=keras.activations.elu))\n",
    "model.add(keras.layers.Dense(240, activation=keras.activations.elu))\n",
    "model.add(keras.layers.Dense(100, activation=keras.activations.elu))\n",
    "model.add(keras.layers.Dense(50, activation=keras.activations.relu))\n",
    "model.add(keras.layers.Dense(1, activation=keras.activations.sigmoid))"
   ]
  },
  {
   "cell_type": "code",
   "execution_count": 6,
   "id": "a46f2709",
   "metadata": {},
   "outputs": [
    {
     "name": "stdout",
     "output_type": "stream",
     "text": [
      "Model: \"sequential\"\n",
      "_________________________________________________________________\n",
      " Layer (type)                Output Shape              Param #   \n",
      "=================================================================\n",
      " dense (Dense)               (None, 400)               14800     \n",
      "                                                                 \n",
      " dense_1 (Dense)             (None, 240)               96240     \n",
      "                                                                 \n",
      " dense_2 (Dense)             (None, 100)               24100     \n",
      "                                                                 \n",
      " dense_3 (Dense)             (None, 50)                5050      \n",
      "                                                                 \n",
      " dense_4 (Dense)             (None, 1)                 51        \n",
      "                                                                 \n",
      "=================================================================\n",
      "Total params: 140,241\n",
      "Trainable params: 140,241\n",
      "Non-trainable params: 0\n",
      "_________________________________________________________________\n"
     ]
    }
   ],
   "source": [
    "model.compile(loss=keras.losses.binary_crossentropy,\n",
    "    optimizer=keras.optimizers.Adam(learning_rate=0.004),\n",
    "    metrics=[keras.metrics.sparse_categorical_accuracy]\n",
    ")\n",
    "model.summary() "
   ]
  },
  {
   "cell_type": "code",
   "execution_count": 7,
   "id": "18106f5a",
   "metadata": {
    "scrolled": true
   },
   "outputs": [
    {
     "name": "stdout",
     "output_type": "stream",
     "text": [
      "Epoch 1/100\n",
      "1548/1548 [==============================] - 7s 4ms/step - loss: 0.3653 - sparse_categorical_accuracy: 0.5020 - val_loss: 0.3616 - val_sparse_categorical_accuracy: 0.4950\n",
      "Epoch 2/100\n",
      "1548/1548 [==============================] - 6s 4ms/step - loss: 0.3317 - sparse_categorical_accuracy: 0.5020 - val_loss: 0.3489 - val_sparse_categorical_accuracy: 0.4950\n",
      "Epoch 3/100\n",
      "1548/1548 [==============================] - 5s 3ms/step - loss: 0.3225 - sparse_categorical_accuracy: 0.5020 - val_loss: 0.3319 - val_sparse_categorical_accuracy: 0.4950\n",
      "Epoch 4/100\n",
      "1548/1548 [==============================] - 5s 3ms/step - loss: 0.3128 - sparse_categorical_accuracy: 0.5020 - val_loss: 0.3429 - val_sparse_categorical_accuracy: 0.4950\n",
      "Epoch 5/100\n",
      "1548/1548 [==============================] - 5s 4ms/step - loss: 0.3136 - sparse_categorical_accuracy: 0.5020 - val_loss: 0.3263 - val_sparse_categorical_accuracy: 0.4950\n",
      "Epoch 6/100\n",
      "1548/1548 [==============================] - 5s 3ms/step - loss: 0.3036 - sparse_categorical_accuracy: 0.5020 - val_loss: 0.3166 - val_sparse_categorical_accuracy: 0.4950\n",
      "Epoch 7/100\n",
      "1548/1548 [==============================] - 6s 4ms/step - loss: 0.3100 - sparse_categorical_accuracy: 0.5020 - val_loss: 0.3239 - val_sparse_categorical_accuracy: 0.4950\n",
      "Epoch 8/100\n",
      "1548/1548 [==============================] - 5s 3ms/step - loss: 0.2976 - sparse_categorical_accuracy: 0.5020 - val_loss: 0.3264 - val_sparse_categorical_accuracy: 0.4950\n",
      "Epoch 9/100\n",
      "1548/1548 [==============================] - 6s 4ms/step - loss: 0.2943 - sparse_categorical_accuracy: 0.5020 - val_loss: 0.3202 - val_sparse_categorical_accuracy: 0.4950\n",
      "Epoch 10/100\n",
      "1548/1548 [==============================] - 9s 6ms/step - loss: 0.2947 - sparse_categorical_accuracy: 0.5020 - val_loss: 0.3164 - val_sparse_categorical_accuracy: 0.4950\n",
      "Epoch 11/100\n",
      "1548/1548 [==============================] - 7s 4ms/step - loss: 0.2866 - sparse_categorical_accuracy: 0.5020 - val_loss: 0.3079 - val_sparse_categorical_accuracy: 0.4950\n",
      "Epoch 12/100\n",
      "1548/1548 [==============================] - 6s 4ms/step - loss: 0.2854 - sparse_categorical_accuracy: 0.5020 - val_loss: 0.3092 - val_sparse_categorical_accuracy: 0.4950\n",
      "Epoch 13/100\n",
      "1548/1548 [==============================] - 7s 4ms/step - loss: 0.2818 - sparse_categorical_accuracy: 0.5020 - val_loss: 0.3077 - val_sparse_categorical_accuracy: 0.4950\n",
      "Epoch 14/100\n",
      "1548/1548 [==============================] - 8s 5ms/step - loss: 0.2799 - sparse_categorical_accuracy: 0.5020 - val_loss: 0.3140 - val_sparse_categorical_accuracy: 0.4950\n",
      "Epoch 15/100\n",
      "1548/1548 [==============================] - 6s 4ms/step - loss: 0.2897 - sparse_categorical_accuracy: 0.5020 - val_loss: 1.5233 - val_sparse_categorical_accuracy: 0.4950\n",
      "Epoch 16/100\n",
      "1548/1548 [==============================] - 5s 3ms/step - loss: 0.9899 - sparse_categorical_accuracy: 0.5020 - val_loss: 0.3182 - val_sparse_categorical_accuracy: 0.4950\n",
      "Epoch 17/100\n",
      "1548/1548 [==============================] - 5s 3ms/step - loss: 0.2812 - sparse_categorical_accuracy: 0.5020 - val_loss: 0.3144 - val_sparse_categorical_accuracy: 0.4950\n",
      "Epoch 18/100\n",
      "1548/1548 [==============================] - 6s 4ms/step - loss: 0.2766 - sparse_categorical_accuracy: 0.5020 - val_loss: 0.3150 - val_sparse_categorical_accuracy: 0.4950\n",
      "Epoch 19/100\n",
      "1548/1548 [==============================] - 6s 4ms/step - loss: 0.2708 - sparse_categorical_accuracy: 0.5020 - val_loss: 0.3305 - val_sparse_categorical_accuracy: 0.4950\n",
      "Epoch 20/100\n",
      "1548/1548 [==============================] - 5s 4ms/step - loss: 0.2690 - sparse_categorical_accuracy: 0.5020 - val_loss: 0.3251 - val_sparse_categorical_accuracy: 0.4950\n",
      "Epoch 21/100\n",
      "1548/1548 [==============================] - 5s 4ms/step - loss: 0.2738 - sparse_categorical_accuracy: 0.5020 - val_loss: 0.3080 - val_sparse_categorical_accuracy: 0.4950\n",
      "Epoch 22/100\n",
      "1548/1548 [==============================] - 6s 4ms/step - loss: 0.2735 - sparse_categorical_accuracy: 0.5020 - val_loss: 0.3263 - val_sparse_categorical_accuracy: 0.4950\n",
      "Epoch 23/100\n",
      "1548/1548 [==============================] - 7s 4ms/step - loss: 0.2676 - sparse_categorical_accuracy: 0.5020 - val_loss: 0.3016 - val_sparse_categorical_accuracy: 0.4950\n",
      "Epoch 24/100\n",
      "1548/1548 [==============================] - 7s 5ms/step - loss: 0.2652 - sparse_categorical_accuracy: 0.5020 - val_loss: 0.3091 - val_sparse_categorical_accuracy: 0.4950\n",
      "Epoch 25/100\n",
      "1548/1548 [==============================] - 6s 4ms/step - loss: 0.2611 - sparse_categorical_accuracy: 0.5020 - val_loss: 0.3103 - val_sparse_categorical_accuracy: 0.4950\n",
      "Epoch 26/100\n",
      "1548/1548 [==============================] - 6s 4ms/step - loss: 0.2598 - sparse_categorical_accuracy: 0.5020 - val_loss: 0.3113 - val_sparse_categorical_accuracy: 0.4950\n",
      "Epoch 27/100\n",
      "1548/1548 [==============================] - 7s 5ms/step - loss: 0.4109 - sparse_categorical_accuracy: 0.5020 - val_loss: 0.3120 - val_sparse_categorical_accuracy: 0.4950\n",
      "Epoch 28/100\n",
      "1548/1548 [==============================] - 6s 4ms/step - loss: 0.2523 - sparse_categorical_accuracy: 0.5020 - val_loss: 0.3342 - val_sparse_categorical_accuracy: 0.4950\n",
      "Epoch 29/100\n",
      "1548/1548 [==============================] - 7s 5ms/step - loss: 0.2477 - sparse_categorical_accuracy: 0.5020 - val_loss: 0.3190 - val_sparse_categorical_accuracy: 0.4950\n",
      "Epoch 30/100\n",
      "1548/1548 [==============================] - 7s 4ms/step - loss: 0.2470 - sparse_categorical_accuracy: 0.5020 - val_loss: 0.3404 - val_sparse_categorical_accuracy: 0.4950\n",
      "Epoch 31/100\n",
      "1548/1548 [==============================] - 6s 4ms/step - loss: 0.2467 - sparse_categorical_accuracy: 0.5020 - val_loss: 0.3274 - val_sparse_categorical_accuracy: 0.4950\n",
      "Epoch 32/100\n",
      "1548/1548 [==============================] - 6s 4ms/step - loss: 1.5256 - sparse_categorical_accuracy: 0.5020 - val_loss: 0.3297 - val_sparse_categorical_accuracy: 0.4950\n",
      "Epoch 33/100\n",
      "1548/1548 [==============================] - 6s 4ms/step - loss: 0.2593 - sparse_categorical_accuracy: 0.5020 - val_loss: 0.3203 - val_sparse_categorical_accuracy: 0.4950\n",
      "Epoch 34/100\n",
      "1548/1548 [==============================] - 5s 3ms/step - loss: 0.2487 - sparse_categorical_accuracy: 0.5020 - val_loss: 0.3138 - val_sparse_categorical_accuracy: 0.4950\n",
      "Epoch 35/100\n",
      "1548/1548 [==============================] - 5s 3ms/step - loss: 0.2425 - sparse_categorical_accuracy: 0.5020 - val_loss: 0.3196 - val_sparse_categorical_accuracy: 0.4950\n",
      "Epoch 36/100\n",
      "1548/1548 [==============================] - 6s 4ms/step - loss: 0.2395 - sparse_categorical_accuracy: 0.5020 - val_loss: 0.3156 - val_sparse_categorical_accuracy: 0.4950\n",
      "Epoch 37/100\n",
      "1548/1548 [==============================] - 6s 4ms/step - loss: 0.2376 - sparse_categorical_accuracy: 0.5020 - val_loss: 0.3215 - val_sparse_categorical_accuracy: 0.4950\n",
      "Epoch 38/100\n",
      "1548/1548 [==============================] - 7s 5ms/step - loss: 0.3028 - sparse_categorical_accuracy: 0.5020 - val_loss: 0.3328 - val_sparse_categorical_accuracy: 0.4950\n",
      "Epoch 39/100\n",
      "1548/1548 [==============================] - 6s 4ms/step - loss: 0.2365 - sparse_categorical_accuracy: 0.5020 - val_loss: 0.3326 - val_sparse_categorical_accuracy: 0.4950\n",
      "Epoch 40/100\n",
      "1548/1548 [==============================] - 6s 4ms/step - loss: 0.2311 - sparse_categorical_accuracy: 0.5020 - val_loss: 0.3412 - val_sparse_categorical_accuracy: 0.4950\n",
      "Epoch 41/100\n",
      "1548/1548 [==============================] - 5s 3ms/step - loss: 0.2323 - sparse_categorical_accuracy: 0.5020 - val_loss: 0.3181 - val_sparse_categorical_accuracy: 0.4950\n",
      "Epoch 42/100\n",
      "1548/1548 [==============================] - 5s 3ms/step - loss: 0.2298 - sparse_categorical_accuracy: 0.5020 - val_loss: 0.3464 - val_sparse_categorical_accuracy: 0.4950\n",
      "Epoch 43/100\n",
      "1548/1548 [==============================] - 5s 3ms/step - loss: 0.2327 - sparse_categorical_accuracy: 0.5020 - val_loss: 0.3198 - val_sparse_categorical_accuracy: 0.4950\n",
      "Epoch 44/100\n",
      "1548/1548 [==============================] - 6s 4ms/step - loss: 0.2443 - sparse_categorical_accuracy: 0.5020 - val_loss: 0.3271 - val_sparse_categorical_accuracy: 0.4950\n",
      "Epoch 45/100\n"
     ]
    },
    {
     "name": "stdout",
     "output_type": "stream",
     "text": [
      "1548/1548 [==============================] - 7s 5ms/step - loss: 0.2592 - sparse_categorical_accuracy: 0.5020 - val_loss: 0.3746 - val_sparse_categorical_accuracy: 0.4950\n",
      "Epoch 46/100\n",
      "1548/1548 [==============================] - 6s 4ms/step - loss: 0.2558 - sparse_categorical_accuracy: 0.5020 - val_loss: 0.4249 - val_sparse_categorical_accuracy: 0.4950\n",
      "Epoch 47/100\n",
      "1548/1548 [==============================] - 8s 5ms/step - loss: 0.2333 - sparse_categorical_accuracy: 0.5020 - val_loss: 0.3565 - val_sparse_categorical_accuracy: 0.4950\n",
      "Epoch 48/100\n",
      "1548/1548 [==============================] - 7s 4ms/step - loss: 0.2237 - sparse_categorical_accuracy: 0.5020 - val_loss: 0.3582 - val_sparse_categorical_accuracy: 0.4950\n",
      "Epoch 49/100\n",
      "1548/1548 [==============================] - 5s 3ms/step - loss: 0.2221 - sparse_categorical_accuracy: 0.5020 - val_loss: 0.3926 - val_sparse_categorical_accuracy: 0.4950\n",
      "Epoch 50/100\n",
      "1548/1548 [==============================] - 5s 3ms/step - loss: 0.2266 - sparse_categorical_accuracy: 0.5020 - val_loss: 0.3677 - val_sparse_categorical_accuracy: 0.4950\n",
      "Epoch 51/100\n",
      "1548/1548 [==============================] - 5s 3ms/step - loss: 0.2241 - sparse_categorical_accuracy: 0.5020 - val_loss: 0.3566 - val_sparse_categorical_accuracy: 0.4950\n",
      "Epoch 52/100\n",
      "1548/1548 [==============================] - 5s 3ms/step - loss: 0.2259 - sparse_categorical_accuracy: 0.5020 - val_loss: 0.3584 - val_sparse_categorical_accuracy: 0.4950\n",
      "Epoch 53/100\n",
      "1548/1548 [==============================] - 6s 4ms/step - loss: 0.2162 - sparse_categorical_accuracy: 0.5020 - val_loss: 0.4343 - val_sparse_categorical_accuracy: 0.4950\n",
      "Epoch 54/100\n",
      "1548/1548 [==============================] - 6s 4ms/step - loss: 0.2187 - sparse_categorical_accuracy: 0.5020 - val_loss: 0.4208 - val_sparse_categorical_accuracy: 0.4950\n",
      "Epoch 55/100\n",
      "1548/1548 [==============================] - 5s 3ms/step - loss: 0.2281 - sparse_categorical_accuracy: 0.5020 - val_loss: 0.4223 - val_sparse_categorical_accuracy: 0.4950\n",
      "Epoch 56/100\n",
      "1548/1548 [==============================] - 5s 3ms/step - loss: 0.2182 - sparse_categorical_accuracy: 0.5020 - val_loss: 0.3918 - val_sparse_categorical_accuracy: 0.4950\n",
      "Epoch 57/100\n",
      "1548/1548 [==============================] - 5s 3ms/step - loss: 0.2210 - sparse_categorical_accuracy: 0.5020 - val_loss: 0.4172 - val_sparse_categorical_accuracy: 0.4950\n",
      "Epoch 58/100\n",
      "1548/1548 [==============================] - 5s 3ms/step - loss: 0.2225 - sparse_categorical_accuracy: 0.5020 - val_loss: 0.4221 - val_sparse_categorical_accuracy: 0.4950\n",
      "Epoch 59/100\n",
      "1548/1548 [==============================] - 5s 3ms/step - loss: 0.2279 - sparse_categorical_accuracy: 0.5020 - val_loss: 0.6281 - val_sparse_categorical_accuracy: 0.4950\n",
      "Epoch 60/100\n",
      "1548/1548 [==============================] - 6s 4ms/step - loss: 0.2326 - sparse_categorical_accuracy: 0.5020 - val_loss: 0.4358 - val_sparse_categorical_accuracy: 0.4950\n",
      "Epoch 61/100\n",
      "1548/1548 [==============================] - 5s 3ms/step - loss: 0.2072 - sparse_categorical_accuracy: 0.5020 - val_loss: 0.3788 - val_sparse_categorical_accuracy: 0.4950\n",
      "Epoch 62/100\n",
      "1548/1548 [==============================] - 5s 4ms/step - loss: 0.2009 - sparse_categorical_accuracy: 0.5020 - val_loss: 0.4039 - val_sparse_categorical_accuracy: 0.4950\n",
      "Epoch 63/100\n",
      "1548/1548 [==============================] - 5s 4ms/step - loss: 0.2098 - sparse_categorical_accuracy: 0.5020 - val_loss: 0.4363 - val_sparse_categorical_accuracy: 0.4950\n",
      "Epoch 64/100\n",
      "1548/1548 [==============================] - 5s 3ms/step - loss: 0.2115 - sparse_categorical_accuracy: 0.5020 - val_loss: 0.4073 - val_sparse_categorical_accuracy: 0.4950\n",
      "Epoch 65/100\n",
      "1548/1548 [==============================] - 6s 4ms/step - loss: 0.1993 - sparse_categorical_accuracy: 0.5020 - val_loss: 0.4759 - val_sparse_categorical_accuracy: 0.4950\n",
      "Epoch 66/100\n",
      "1548/1548 [==============================] - 6s 4ms/step - loss: 0.2042 - sparse_categorical_accuracy: 0.5020 - val_loss: 0.4826 - val_sparse_categorical_accuracy: 0.4950\n",
      "Epoch 67/100\n",
      "1548/1548 [==============================] - 8s 5ms/step - loss: 0.2266 - sparse_categorical_accuracy: 0.5020 - val_loss: 0.4138 - val_sparse_categorical_accuracy: 0.4950\n",
      "Epoch 68/100\n",
      "1548/1548 [==============================] - 6s 4ms/step - loss: 0.2255 - sparse_categorical_accuracy: 0.5020 - val_loss: 0.3909 - val_sparse_categorical_accuracy: 0.4950\n",
      "Epoch 69/100\n",
      "1548/1548 [==============================] - 7s 4ms/step - loss: 0.1955 - sparse_categorical_accuracy: 0.5020 - val_loss: 0.4091 - val_sparse_categorical_accuracy: 0.4950\n",
      "Epoch 70/100\n",
      "1548/1548 [==============================] - 5s 3ms/step - loss: 0.1988 - sparse_categorical_accuracy: 0.5020 - val_loss: 0.4645 - val_sparse_categorical_accuracy: 0.4950\n",
      "Epoch 71/100\n",
      "1548/1548 [==============================] - 6s 4ms/step - loss: 0.1957 - sparse_categorical_accuracy: 0.5020 - val_loss: 0.4139 - val_sparse_categorical_accuracy: 0.4950\n",
      "Epoch 72/100\n",
      "1548/1548 [==============================] - 6s 4ms/step - loss: 0.1954 - sparse_categorical_accuracy: 0.5020 - val_loss: 0.4402 - val_sparse_categorical_accuracy: 0.4950\n",
      "Epoch 73/100\n",
      "1548/1548 [==============================] - 6s 4ms/step - loss: 0.2074 - sparse_categorical_accuracy: 0.5020 - val_loss: 0.6179 - val_sparse_categorical_accuracy: 0.4950\n",
      "Epoch 74/100\n",
      "1548/1548 [==============================] - 5s 3ms/step - loss: 0.8167 - sparse_categorical_accuracy: 0.5020 - val_loss: 0.8978 - val_sparse_categorical_accuracy: 0.4950\n",
      "Epoch 75/100\n",
      "1548/1548 [==============================] - 5s 3ms/step - loss: 0.2215 - sparse_categorical_accuracy: 0.5020 - val_loss: 0.8335 - val_sparse_categorical_accuracy: 0.4950\n",
      "Epoch 76/100\n",
      "1548/1548 [==============================] - 6s 4ms/step - loss: 0.2028 - sparse_categorical_accuracy: 0.5020 - val_loss: 0.6818 - val_sparse_categorical_accuracy: 0.4950\n",
      "Epoch 77/100\n",
      "1548/1548 [==============================] - 6s 4ms/step - loss: 0.1919 - sparse_categorical_accuracy: 0.5020 - val_loss: 0.5799 - val_sparse_categorical_accuracy: 0.4950\n",
      "Epoch 78/100\n",
      "1548/1548 [==============================] - 6s 4ms/step - loss: 0.1866 - sparse_categorical_accuracy: 0.5020 - val_loss: 0.5282 - val_sparse_categorical_accuracy: 0.4950\n",
      "Epoch 79/100\n",
      "1548/1548 [==============================] - 5s 4ms/step - loss: 0.1862 - sparse_categorical_accuracy: 0.5020 - val_loss: 0.5482 - val_sparse_categorical_accuracy: 0.4950\n",
      "Epoch 80/100\n",
      "1548/1548 [==============================] - 5s 3ms/step - loss: 0.2007 - sparse_categorical_accuracy: 0.5020 - val_loss: 0.5590 - val_sparse_categorical_accuracy: 0.4950\n",
      "Epoch 81/100\n",
      "1548/1548 [==============================] - 5s 3ms/step - loss: 0.1938 - sparse_categorical_accuracy: 0.5020 - val_loss: 0.5737 - val_sparse_categorical_accuracy: 0.4950\n",
      "Epoch 82/100\n",
      "1548/1548 [==============================] - 5s 4ms/step - loss: 0.2244 - sparse_categorical_accuracy: 0.5020 - val_loss: 0.4723 - val_sparse_categorical_accuracy: 0.4950\n",
      "Epoch 83/100\n",
      "1548/1548 [==============================] - 5s 4ms/step - loss: 0.1836 - sparse_categorical_accuracy: 0.5020 - val_loss: 0.5340 - val_sparse_categorical_accuracy: 0.4950\n",
      "Epoch 84/100\n",
      "1548/1548 [==============================] - 6s 4ms/step - loss: 0.1826 - sparse_categorical_accuracy: 0.5020 - val_loss: 0.4421 - val_sparse_categorical_accuracy: 0.4950\n",
      "Epoch 85/100\n",
      "1548/1548 [==============================] - 5s 3ms/step - loss: 0.1839 - sparse_categorical_accuracy: 0.5020 - val_loss: 0.4837 - val_sparse_categorical_accuracy: 0.4950\n",
      "Epoch 86/100\n",
      "1548/1548 [==============================] - 5s 3ms/step - loss: 0.1854 - sparse_categorical_accuracy: 0.5020 - val_loss: 0.4143 - val_sparse_categorical_accuracy: 0.4950\n",
      "Epoch 87/100\n",
      "1548/1548 [==============================] - 6s 4ms/step - loss: 0.1882 - sparse_categorical_accuracy: 0.5020 - val_loss: 0.5074 - val_sparse_categorical_accuracy: 0.4950\n",
      "Epoch 88/100\n",
      "1548/1548 [==============================] - 5s 4ms/step - loss: 0.2413 - sparse_categorical_accuracy: 0.5020 - val_loss: 0.6198 - val_sparse_categorical_accuracy: 0.4950\n",
      "Epoch 89/100\n"
     ]
    },
    {
     "name": "stdout",
     "output_type": "stream",
     "text": [
      "1548/1548 [==============================] - 6s 4ms/step - loss: 0.1848 - sparse_categorical_accuracy: 0.5020 - val_loss: 0.7273 - val_sparse_categorical_accuracy: 0.4950\n",
      "Epoch 90/100\n",
      "1548/1548 [==============================] - 5s 4ms/step - loss: 0.1794 - sparse_categorical_accuracy: 0.5020 - val_loss: 0.5691 - val_sparse_categorical_accuracy: 0.4950\n",
      "Epoch 91/100\n",
      "1548/1548 [==============================] - 5s 3ms/step - loss: 0.1749 - sparse_categorical_accuracy: 0.5020 - val_loss: 0.5522 - val_sparse_categorical_accuracy: 0.4950\n",
      "Epoch 92/100\n",
      "1548/1548 [==============================] - 6s 4ms/step - loss: 0.2575 - sparse_categorical_accuracy: 0.5020 - val_loss: 0.5970 - val_sparse_categorical_accuracy: 0.4950\n",
      "Epoch 93/100\n",
      "1548/1548 [==============================] - 5s 4ms/step - loss: 0.1839 - sparse_categorical_accuracy: 0.5020 - val_loss: 0.5805 - val_sparse_categorical_accuracy: 0.4950\n",
      "Epoch 94/100\n",
      "1548/1548 [==============================] - 5s 3ms/step - loss: 0.2386 - sparse_categorical_accuracy: 0.5020 - val_loss: 0.7327 - val_sparse_categorical_accuracy: 0.4950\n",
      "Epoch 95/100\n",
      "1548/1548 [==============================] - 6s 4ms/step - loss: 0.1720 - sparse_categorical_accuracy: 0.5020 - val_loss: 0.9132 - val_sparse_categorical_accuracy: 0.4950\n",
      "Epoch 96/100\n",
      "1548/1548 [==============================] - 6s 4ms/step - loss: 0.1682 - sparse_categorical_accuracy: 0.5020 - val_loss: 0.8686 - val_sparse_categorical_accuracy: 0.4950\n",
      "Epoch 97/100\n",
      "1548/1548 [==============================] - 6s 4ms/step - loss: 0.1688 - sparse_categorical_accuracy: 0.5020 - val_loss: 0.8858 - val_sparse_categorical_accuracy: 0.4950\n",
      "Epoch 98/100\n",
      "1548/1548 [==============================] - 6s 4ms/step - loss: 0.1761 - sparse_categorical_accuracy: 0.5020 - val_loss: 0.7091 - val_sparse_categorical_accuracy: 0.4950\n",
      "Epoch 99/100\n",
      "1548/1548 [==============================] - 5s 3ms/step - loss: 0.4021 - sparse_categorical_accuracy: 0.5020 - val_loss: 1.1894 - val_sparse_categorical_accuracy: 0.4950\n",
      "Epoch 100/100\n",
      "1548/1548 [==============================] - 6s 4ms/step - loss: 0.1965 - sparse_categorical_accuracy: 0.5020 - val_loss: 1.3504 - val_sparse_categorical_accuracy: 0.4950\n"
     ]
    }
   ],
   "source": [
    "history = model.fit(X_train, y_train,\n",
    "                    epochs=100,\n",
    "                    batch_size=30,\n",
    "                    callbacks=[keras.callbacks.EarlyStopping(monitor='loss', patience=8, restore_best_weights=True)],\n",
    "                    validation_data=(X_val, y_val))"
   ]
  },
  {
   "cell_type": "code",
   "execution_count": 8,
   "id": "14537028",
   "metadata": {},
   "outputs": [
    {
     "name": "stdout",
     "output_type": "stream",
     "text": [
      "484/484 [==============================] - 1s 2ms/step - loss: 1.3504 - sparse_categorical_accuracy: 0.4950\n",
      "Loss =  1.35036039352417\n",
      "Accuracy =  0.4949932098388672\n"
     ]
    }
   ],
   "source": [
    "# Test, Loss and accuracy\n",
    "loss_and_metrics = model.evaluate(X_val, y_val)\n",
    "print('Loss = ',loss_and_metrics[0])\n",
    "print('Accuracy = ',loss_and_metrics[1])"
   ]
  },
  {
   "cell_type": "code",
   "execution_count": 9,
   "id": "56c2b573",
   "metadata": {},
   "outputs": [
    {
     "name": "stdout",
     "output_type": "stream",
     "text": [
      "484/484 [==============================] - 1s 1ms/step\n",
      "f1 score sobre validacion: 0.8631605498801868\n"
     ]
    }
   ],
   "source": [
    "y_pred = model.predict(X_val)\n",
    "y_pred = np.where(y_pred >= 0.5, 1, 0)\n",
    "print(\"f1 score sobre validacion:\", f1_score(y_val, y_pred))"
   ]
  },
  {
   "cell_type": "code",
   "execution_count": 10,
   "id": "400bf603",
   "metadata": {},
   "outputs": [
    {
     "name": "stdout",
     "output_type": "stream",
     "text": [
      "1452/1452 [==============================] - 2s 1ms/step\n",
      "f1 score sobre train: 0.9286228660990384\n"
     ]
    }
   ],
   "source": [
    "y_pred = model.predict(X_train)\n",
    "y_pred = np.where(y_pred >= 0.5, 1, 0)\n",
    "print(\"f1 score sobre train:\", f1_score(y_train, y_pred))"
   ]
  },
  {
   "cell_type": "markdown",
   "id": "1c38f66b",
   "metadata": {},
   "source": [
    "Observamos que el score en entrenamiento es mucho mayor que el de validacion, lo que nos da el indicio de que esta overfitteando los datos."
   ]
  },
  {
   "cell_type": "markdown",
   "id": "d05ac854",
   "metadata": {},
   "source": [
    "## Utilizamos Regularizacion"
   ]
  },
  {
   "cell_type": "markdown",
   "id": "1f9caab1",
   "metadata": {},
   "source": [
    "Vamos a sumar un poco de regularizacion a cada capa, ambas l1 y l2, y observamos si mejoran los resultados"
   ]
  },
  {
   "cell_type": "code",
   "execution_count": 16,
   "id": "8ddb5292",
   "metadata": {
    "scrolled": true
   },
   "outputs": [
    {
     "name": "stdout",
     "output_type": "stream",
     "text": [
      "Epoch 1/50\n",
      "1548/1548 [==============================] - 7s 4ms/step - loss: 0.4708 - sparse_categorical_accuracy: 0.5020 - val_loss: 0.4018 - val_sparse_categorical_accuracy: 0.4950\n",
      "Epoch 2/50\n",
      "1548/1548 [==============================] - 8s 5ms/step - loss: 0.3932 - sparse_categorical_accuracy: 0.5020 - val_loss: 0.3916 - val_sparse_categorical_accuracy: 0.4950\n",
      "Epoch 3/50\n",
      "1548/1548 [==============================] - 8s 5ms/step - loss: 0.3922 - sparse_categorical_accuracy: 0.5020 - val_loss: 0.4176 - val_sparse_categorical_accuracy: 0.4950\n",
      "Epoch 4/50\n",
      "1548/1548 [==============================] - 7s 5ms/step - loss: 0.3783 - sparse_categorical_accuracy: 0.5020 - val_loss: 0.3762 - val_sparse_categorical_accuracy: 0.4950\n",
      "Epoch 5/50\n",
      "1548/1548 [==============================] - 7s 5ms/step - loss: 0.3761 - sparse_categorical_accuracy: 0.5020 - val_loss: 0.3817 - val_sparse_categorical_accuracy: 0.4950\n",
      "Epoch 6/50\n",
      "1548/1548 [==============================] - 7s 4ms/step - loss: 0.3748 - sparse_categorical_accuracy: 0.5020 - val_loss: 0.4128 - val_sparse_categorical_accuracy: 0.4950\n",
      "Epoch 7/50\n",
      "1548/1548 [==============================] - 12s 8ms/step - loss: 0.3728 - sparse_categorical_accuracy: 0.5020 - val_loss: 0.3851 - val_sparse_categorical_accuracy: 0.4950\n",
      "Epoch 8/50\n",
      "1548/1548 [==============================] - 8s 5ms/step - loss: 0.3783 - sparse_categorical_accuracy: 0.5020 - val_loss: 0.3739 - val_sparse_categorical_accuracy: 0.4950\n",
      "Epoch 9/50\n",
      "1548/1548 [==============================] - 8s 5ms/step - loss: 0.3675 - sparse_categorical_accuracy: 0.5020 - val_loss: 0.3962 - val_sparse_categorical_accuracy: 0.4950\n",
      "Epoch 10/50\n",
      "1548/1548 [==============================] - 9s 6ms/step - loss: 0.3684 - sparse_categorical_accuracy: 0.5020 - val_loss: 0.3892 - val_sparse_categorical_accuracy: 0.4950\n",
      "Epoch 11/50\n",
      "1548/1548 [==============================] - 9s 6ms/step - loss: 0.3697 - sparse_categorical_accuracy: 0.5020 - val_loss: 0.3867 - val_sparse_categorical_accuracy: 0.4950\n",
      "Epoch 12/50\n",
      "1548/1548 [==============================] - 8s 5ms/step - loss: 0.3709 - sparse_categorical_accuracy: 0.5020 - val_loss: 0.4306 - val_sparse_categorical_accuracy: 0.4950\n",
      "Epoch 13/50\n",
      "1548/1548 [==============================] - 8s 5ms/step - loss: 0.3650 - sparse_categorical_accuracy: 0.5020 - val_loss: 0.3940 - val_sparse_categorical_accuracy: 0.4950\n",
      "Epoch 14/50\n",
      "1548/1548 [==============================] - 10s 6ms/step - loss: 0.3720 - sparse_categorical_accuracy: 0.5020 - val_loss: 0.3715 - val_sparse_categorical_accuracy: 0.4950\n",
      "Epoch 15/50\n",
      "1548/1548 [==============================] - 9s 6ms/step - loss: 0.3702 - sparse_categorical_accuracy: 0.5020 - val_loss: 0.3815 - val_sparse_categorical_accuracy: 0.4950\n",
      "Epoch 16/50\n",
      "1548/1548 [==============================] - 7s 4ms/step - loss: 0.3659 - sparse_categorical_accuracy: 0.5020 - val_loss: 0.3853 - val_sparse_categorical_accuracy: 0.4950\n",
      "Epoch 17/50\n",
      "1548/1548 [==============================] - 7s 5ms/step - loss: 0.3656 - sparse_categorical_accuracy: 0.5020 - val_loss: 0.3788 - val_sparse_categorical_accuracy: 0.4950\n",
      "Epoch 18/50\n",
      "1548/1548 [==============================] - 7s 4ms/step - loss: 0.3658 - sparse_categorical_accuracy: 0.5020 - val_loss: 0.3756 - val_sparse_categorical_accuracy: 0.4950\n",
      "Epoch 19/50\n",
      "1548/1548 [==============================] - 8s 5ms/step - loss: 0.3685 - sparse_categorical_accuracy: 0.5020 - val_loss: 0.3707 - val_sparse_categorical_accuracy: 0.4950\n",
      "Epoch 20/50\n",
      "1548/1548 [==============================] - 10s 6ms/step - loss: 0.3656 - sparse_categorical_accuracy: 0.5020 - val_loss: 0.3947 - val_sparse_categorical_accuracy: 0.4950\n",
      "Epoch 21/50\n",
      "1548/1548 [==============================] - 10s 6ms/step - loss: 0.3624 - sparse_categorical_accuracy: 0.5020 - val_loss: 0.3627 - val_sparse_categorical_accuracy: 0.4950\n",
      "Epoch 22/50\n",
      "1548/1548 [==============================] - 9s 6ms/step - loss: 0.3639 - sparse_categorical_accuracy: 0.5020 - val_loss: 0.3599 - val_sparse_categorical_accuracy: 0.4950\n",
      "Epoch 23/50\n",
      "1548/1548 [==============================] - 8s 5ms/step - loss: 0.3989 - sparse_categorical_accuracy: 0.5020 - val_loss: 0.3746 - val_sparse_categorical_accuracy: 0.4950\n",
      "Epoch 24/50\n",
      "1548/1548 [==============================] - 7s 4ms/step - loss: 0.3555 - sparse_categorical_accuracy: 0.5020 - val_loss: 0.3769 - val_sparse_categorical_accuracy: 0.4950\n",
      "Epoch 25/50\n",
      "1548/1548 [==============================] - 7s 4ms/step - loss: 0.3614 - sparse_categorical_accuracy: 0.5020 - val_loss: 0.3935 - val_sparse_categorical_accuracy: 0.4950\n",
      "Epoch 26/50\n",
      "1548/1548 [==============================] - 8s 5ms/step - loss: 0.3650 - sparse_categorical_accuracy: 0.5020 - val_loss: 0.3863 - val_sparse_categorical_accuracy: 0.4950\n",
      "Epoch 27/50\n",
      "1548/1548 [==============================] - 8s 5ms/step - loss: 0.3678 - sparse_categorical_accuracy: 0.5020 - val_loss: 0.3997 - val_sparse_categorical_accuracy: 0.4950\n",
      "Epoch 28/50\n",
      "1548/1548 [==============================] - 7s 4ms/step - loss: 0.3628 - sparse_categorical_accuracy: 0.5020 - val_loss: 0.4220 - val_sparse_categorical_accuracy: 0.4950\n",
      "Epoch 29/50\n",
      "1548/1548 [==============================] - 7s 4ms/step - loss: 0.3625 - sparse_categorical_accuracy: 0.5020 - val_loss: 0.3681 - val_sparse_categorical_accuracy: 0.4950\n",
      "Epoch 30/50\n",
      "1548/1548 [==============================] - 7s 5ms/step - loss: 0.3676 - sparse_categorical_accuracy: 0.5020 - val_loss: 0.4075 - val_sparse_categorical_accuracy: 0.4950\n",
      "Epoch 31/50\n",
      "1548/1548 [==============================] - 7s 5ms/step - loss: 0.3999 - sparse_categorical_accuracy: 0.5020 - val_loss: 0.4062 - val_sparse_categorical_accuracy: 0.4950\n",
      "Epoch 32/50\n",
      "1548/1548 [==============================] - 7s 4ms/step - loss: 0.3618 - sparse_categorical_accuracy: 0.5020 - val_loss: 0.3771 - val_sparse_categorical_accuracy: 0.4950\n",
      "484/484 [==============================] - 1s 1ms/step\n",
      "f1 score sobre validacion: 0.8422480620155038\n"
     ]
    }
   ],
   "source": [
    "model = keras.models.Sequential()\n",
    "\n",
    "model.add(keras.layers.Dense(400,\n",
    "                             input_shape=X[1,:].shape,\n",
    "                             activation=keras.activations.elu,\n",
    "                             kernel_regularizer=keras.regularizers.l1_l2(1e-4, 1e-4)))\n",
    "\n",
    "model.add(keras.layers.Dense(240,\n",
    "                             activation=keras.activations.elu,\n",
    "                             kernel_regularizer=keras.regularizers.l1_l2(1e-4, 1e-3)))\n",
    "\n",
    "model.add(keras.layers.Dense(100,\n",
    "                             activation=keras.activations.elu,\n",
    "                             activity_regularizer=keras.regularizers.l1(1e-4)))\n",
    "\n",
    "model.add(keras.layers.Dense(50, activation=keras.activations.relu))\n",
    "model.add(keras.layers.Dense(1, activation=keras.activations.sigmoid))\n",
    "\n",
    "model.compile(loss=keras.losses.binary_crossentropy,\n",
    "    optimizer=keras.optimizers.Adam(learning_rate=0.004),\n",
    "    metrics=[keras.metrics.sparse_categorical_accuracy]\n",
    ")\n",
    "\n",
    "history = model.fit(X_train, y_train,\n",
    "                    epochs=50,\n",
    "                    batch_size=30,\n",
    "                    callbacks=[keras.callbacks.EarlyStopping(monitor='loss', patience=8, restore_best_weights=True)],\n",
    "                    validation_data=(X_val, y_val))\n",
    "\n",
    "y_pred = model.predict(X_val)\n",
    "y_pred = np.where(y_pred >= 0.5, 1, 0)\n",
    "print(\"f1 score sobre validacion:\", f1_score(y_val, y_pred))"
   ]
  },
  {
   "cell_type": "code",
   "execution_count": 17,
   "id": "bfdfadaa",
   "metadata": {},
   "outputs": [
    {
     "name": "stdout",
     "output_type": "stream",
     "text": [
      "Epoch 1/50\n",
      "1548/1548 [==============================] - 8s 5ms/step - loss: 0.3693 - sparse_categorical_accuracy: 0.5020 - val_loss: 0.3502 - val_sparse_categorical_accuracy: 0.4950\n",
      "Epoch 2/50\n",
      "1548/1548 [==============================] - 8s 5ms/step - loss: 0.3389 - sparse_categorical_accuracy: 0.5020 - val_loss: 0.3464 - val_sparse_categorical_accuracy: 0.4950\n",
      "Epoch 3/50\n",
      "1548/1548 [==============================] - 8s 5ms/step - loss: 0.3303 - sparse_categorical_accuracy: 0.5020 - val_loss: 0.3406 - val_sparse_categorical_accuracy: 0.4950\n",
      "Epoch 4/50\n",
      "1548/1548 [==============================] - 10s 7ms/step - loss: 0.3247 - sparse_categorical_accuracy: 0.5020 - val_loss: 0.3414 - val_sparse_categorical_accuracy: 0.4950\n",
      "Epoch 5/50\n",
      "1548/1548 [==============================] - 12s 8ms/step - loss: 0.3762 - sparse_categorical_accuracy: 0.5020 - val_loss: 0.3614 - val_sparse_categorical_accuracy: 0.4950\n",
      "Epoch 6/50\n",
      "1548/1548 [==============================] - 9s 6ms/step - loss: 0.3355 - sparse_categorical_accuracy: 0.5020 - val_loss: 0.3355 - val_sparse_categorical_accuracy: 0.4950\n",
      "Epoch 7/50\n",
      "1548/1548 [==============================] - 7s 5ms/step - loss: 0.3218 - sparse_categorical_accuracy: 0.5020 - val_loss: 0.3324 - val_sparse_categorical_accuracy: 0.4950\n",
      "Epoch 8/50\n",
      "1548/1548 [==============================] - 6s 4ms/step - loss: 0.3149 - sparse_categorical_accuracy: 0.5020 - val_loss: 0.3277 - val_sparse_categorical_accuracy: 0.4950\n",
      "Epoch 9/50\n",
      "1548/1548 [==============================] - 6s 4ms/step - loss: 0.3135 - sparse_categorical_accuracy: 0.5020 - val_loss: 0.3276 - val_sparse_categorical_accuracy: 0.4950\n",
      "Epoch 10/50\n",
      "1548/1548 [==============================] - 6s 4ms/step - loss: 0.3147 - sparse_categorical_accuracy: 0.5020 - val_loss: 0.3270 - val_sparse_categorical_accuracy: 0.4950\n",
      "Epoch 11/50\n",
      "1548/1548 [==============================] - 6s 4ms/step - loss: 0.3134 - sparse_categorical_accuracy: 0.5020 - val_loss: 0.3311 - val_sparse_categorical_accuracy: 0.4950\n",
      "Epoch 12/50\n",
      "1548/1548 [==============================] - 6s 4ms/step - loss: 0.3662 - sparse_categorical_accuracy: 0.5020 - val_loss: 0.4729 - val_sparse_categorical_accuracy: 0.4950\n",
      "Epoch 13/50\n",
      "1548/1548 [==============================] - 6s 4ms/step - loss: 0.4172 - sparse_categorical_accuracy: 0.5020 - val_loss: 0.3411 - val_sparse_categorical_accuracy: 0.4950\n",
      "Epoch 14/50\n",
      "1548/1548 [==============================] - 10s 6ms/step - loss: 0.3131 - sparse_categorical_accuracy: 0.5020 - val_loss: 0.3404 - val_sparse_categorical_accuracy: 0.4950\n",
      "Epoch 15/50\n",
      "1548/1548 [==============================] - 10s 6ms/step - loss: 0.3054 - sparse_categorical_accuracy: 0.5020 - val_loss: 0.3373 - val_sparse_categorical_accuracy: 0.4950\n",
      "Epoch 16/50\n",
      "1548/1548 [==============================] - 8s 5ms/step - loss: 0.3080 - sparse_categorical_accuracy: 0.5020 - val_loss: 0.3663 - val_sparse_categorical_accuracy: 0.4950\n",
      "Epoch 17/50\n",
      "1548/1548 [==============================] - 11s 7ms/step - loss: 0.3111 - sparse_categorical_accuracy: 0.5020 - val_loss: 0.3277 - val_sparse_categorical_accuracy: 0.4950\n",
      "Epoch 18/50\n",
      "1548/1548 [==============================] - 9s 5ms/step - loss: 0.3121 - sparse_categorical_accuracy: 0.5020 - val_loss: 0.3400 - val_sparse_categorical_accuracy: 0.4950\n",
      "Epoch 19/50\n",
      "1548/1548 [==============================] - 8s 5ms/step - loss: 0.3583 - sparse_categorical_accuracy: 0.5020 - val_loss: 0.3327 - val_sparse_categorical_accuracy: 0.4950\n",
      "Epoch 20/50\n",
      "1548/1548 [==============================] - 7s 5ms/step - loss: 0.3046 - sparse_categorical_accuracy: 0.5020 - val_loss: 0.3322 - val_sparse_categorical_accuracy: 0.4950\n",
      "Epoch 21/50\n",
      "1548/1548 [==============================] - 8s 5ms/step - loss: 0.3007 - sparse_categorical_accuracy: 0.5020 - val_loss: 0.3353 - val_sparse_categorical_accuracy: 0.4950\n",
      "Epoch 22/50\n",
      "1548/1548 [==============================] - 8s 5ms/step - loss: 0.3125 - sparse_categorical_accuracy: 0.5020 - val_loss: 0.3277 - val_sparse_categorical_accuracy: 0.4950\n",
      "Epoch 23/50\n",
      "1548/1548 [==============================] - 7s 5ms/step - loss: 0.3020 - sparse_categorical_accuracy: 0.5020 - val_loss: 0.3265 - val_sparse_categorical_accuracy: 0.4950\n",
      "Epoch 24/50\n",
      "1548/1548 [==============================] - 6s 4ms/step - loss: 0.3035 - sparse_categorical_accuracy: 0.5020 - val_loss: 0.3471 - val_sparse_categorical_accuracy: 0.4950\n",
      "Epoch 25/50\n",
      "1548/1548 [==============================] - 7s 4ms/step - loss: 0.3056 - sparse_categorical_accuracy: 0.5020 - val_loss: 0.3381 - val_sparse_categorical_accuracy: 0.4950\n",
      "Epoch 26/50\n",
      "1548/1548 [==============================] - 7s 4ms/step - loss: 0.2994 - sparse_categorical_accuracy: 0.5020 - val_loss: 0.3293 - val_sparse_categorical_accuracy: 0.4950\n",
      "Epoch 27/50\n",
      "1548/1548 [==============================] - 7s 5ms/step - loss: 0.2978 - sparse_categorical_accuracy: 0.5020 - val_loss: 0.3232 - val_sparse_categorical_accuracy: 0.4950\n",
      "Epoch 28/50\n",
      "1548/1548 [==============================] - 7s 5ms/step - loss: 0.4011 - sparse_categorical_accuracy: 0.5020 - val_loss: 0.4352 - val_sparse_categorical_accuracy: 0.4950\n",
      "Epoch 29/50\n",
      "1548/1548 [==============================] - 6s 4ms/step - loss: 0.5898 - sparse_categorical_accuracy: 0.5020 - val_loss: 0.3318 - val_sparse_categorical_accuracy: 0.4950\n",
      "Epoch 30/50\n",
      "1548/1548 [==============================] - 7s 5ms/step - loss: 0.3919 - sparse_categorical_accuracy: 0.5020 - val_loss: 0.3284 - val_sparse_categorical_accuracy: 0.4950\n",
      "Epoch 31/50\n",
      "1548/1548 [==============================] - 8s 5ms/step - loss: 0.2986 - sparse_categorical_accuracy: 0.5020 - val_loss: 0.3287 - val_sparse_categorical_accuracy: 0.4950\n",
      "Epoch 32/50\n",
      "1548/1548 [==============================] - 6s 4ms/step - loss: 0.3244 - sparse_categorical_accuracy: 0.5020 - val_loss: 0.3554 - val_sparse_categorical_accuracy: 0.4950\n",
      "Epoch 33/50\n",
      "1548/1548 [==============================] - 6s 4ms/step - loss: 0.3201 - sparse_categorical_accuracy: 0.5020 - val_loss: 0.3458 - val_sparse_categorical_accuracy: 0.4950\n",
      "Epoch 34/50\n",
      "1548/1548 [==============================] - 6s 4ms/step - loss: 0.3032 - sparse_categorical_accuracy: 0.5020 - val_loss: 0.3427 - val_sparse_categorical_accuracy: 0.4950\n",
      "Epoch 35/50\n",
      "1548/1548 [==============================] - 6s 4ms/step - loss: 0.2956 - sparse_categorical_accuracy: 0.5020 - val_loss: 0.3320 - val_sparse_categorical_accuracy: 0.4950\n",
      "Epoch 36/50\n",
      "1548/1548 [==============================] - 7s 5ms/step - loss: 0.2950 - sparse_categorical_accuracy: 0.5020 - val_loss: 0.3360 - val_sparse_categorical_accuracy: 0.4950\n",
      "Epoch 37/50\n",
      "1548/1548 [==============================] - 7s 4ms/step - loss: 0.3426 - sparse_categorical_accuracy: 0.5020 - val_loss: 0.3403 - val_sparse_categorical_accuracy: 0.4950\n",
      "Epoch 38/50\n",
      "1548/1548 [==============================] - 7s 5ms/step - loss: 0.3018 - sparse_categorical_accuracy: 0.5020 - val_loss: 0.3358 - val_sparse_categorical_accuracy: 0.4950\n",
      "Epoch 39/50\n",
      "1548/1548 [==============================] - 7s 4ms/step - loss: 0.2913 - sparse_categorical_accuracy: 0.5020 - val_loss: 0.3458 - val_sparse_categorical_accuracy: 0.4950\n",
      "Epoch 40/50\n",
      "1548/1548 [==============================] - 7s 4ms/step - loss: 0.2931 - sparse_categorical_accuracy: 0.5020 - val_loss: 0.3351 - val_sparse_categorical_accuracy: 0.4950\n",
      "Epoch 41/50\n",
      "1548/1548 [==============================] - 7s 5ms/step - loss: 0.3421 - sparse_categorical_accuracy: 0.5020 - val_loss: 0.3696 - val_sparse_categorical_accuracy: 0.4950\n",
      "Epoch 42/50\n",
      "1548/1548 [==============================] - 7s 4ms/step - loss: 0.3081 - sparse_categorical_accuracy: 0.5020 - val_loss: 0.3317 - val_sparse_categorical_accuracy: 0.4950\n",
      "Epoch 43/50\n",
      "1548/1548 [==============================] - 7s 4ms/step - loss: 0.4407 - sparse_categorical_accuracy: 0.5020 - val_loss: 0.3971 - val_sparse_categorical_accuracy: 0.4950\n",
      "Epoch 44/50\n",
      "1548/1548 [==============================] - 6s 4ms/step - loss: 0.3476 - sparse_categorical_accuracy: 0.5020 - val_loss: 0.3559 - val_sparse_categorical_accuracy: 0.4950\n",
      "Epoch 45/50\n",
      "1548/1548 [==============================] - 7s 4ms/step - loss: 0.3194 - sparse_categorical_accuracy: 0.5020 - val_loss: 0.6024 - val_sparse_categorical_accuracy: 0.4950\n"
     ]
    },
    {
     "name": "stdout",
     "output_type": "stream",
     "text": [
      "Epoch 46/50\n",
      "1548/1548 [==============================] - 8s 5ms/step - loss: 0.3347 - sparse_categorical_accuracy: 0.5020 - val_loss: 0.3570 - val_sparse_categorical_accuracy: 0.4950\n",
      "Epoch 47/50\n",
      "1548/1548 [==============================] - 7s 5ms/step - loss: 0.3130 - sparse_categorical_accuracy: 0.5020 - val_loss: 0.3457 - val_sparse_categorical_accuracy: 0.4950\n",
      "484/484 [==============================] - 1s 2ms/step\n",
      "f1 score sobre validacion: 0.8638707673190432\n"
     ]
    }
   ],
   "source": [
    "model = keras.models.Sequential()\n",
    "\n",
    "model.add(keras.layers.Dense(400,\n",
    "                             input_shape=X[1,:].shape,\n",
    "                             activation=keras.activations.elu,\n",
    "                             kernel_regularizer=keras.regularizers.l1_l2(1e-6, 1e-6)))\n",
    "\n",
    "model.add(keras.layers.Dense(240,\n",
    "                             activation=keras.activations.elu,\n",
    "                             kernel_regularizer=keras.regularizers.l1_l2(1e-7, 1e-7)))\n",
    "\n",
    "model.add(keras.layers.Dense(100,\n",
    "                             activation=keras.activations.elu,\n",
    "                             activity_regularizer=keras.regularizers.l1(1e-5)))\n",
    "\n",
    "model.add(keras.layers.Dense(50, activation=keras.activations.relu))\n",
    "model.add(keras.layers.Dense(1, activation=keras.activations.sigmoid))\n",
    "\n",
    "model.compile(loss=keras.losses.binary_crossentropy,\n",
    "    optimizer=keras.optimizers.Adam(learning_rate=0.004),\n",
    "    metrics=[keras.metrics.sparse_categorical_accuracy]\n",
    ")\n",
    "\n",
    "history = model.fit(X_train, y_train,\n",
    "                    epochs=50,\n",
    "                    batch_size=30,\n",
    "                    callbacks=[keras.callbacks.EarlyStopping(monitor='loss', patience=8, restore_best_weights=True)],\n",
    "                    validation_data=(X_val, y_val))\n",
    "\n",
    "y_pred = model.predict(X_val)\n",
    "y_pred = np.where(y_pred >= 0.5, 1, 0)\n",
    "print(\"f1 score sobre validacion:\", f1_score(y_val, y_pred))"
   ]
  },
  {
   "cell_type": "code",
   "execution_count": 18,
   "id": "d621196e",
   "metadata": {},
   "outputs": [
    {
     "name": "stdout",
     "output_type": "stream",
     "text": [
      "1452/1452 [==============================] - 2s 1ms/step\n",
      "f1 score sobre train: 0.8816040604878459\n"
     ]
    }
   ],
   "source": [
    "y_pred = model.predict(X_train)\n",
    "y_pred = np.where(y_pred >= 0.5, 1, 0)\n",
    "print(\"f1 score sobre train:\", f1_score(y_train, y_pred))"
   ]
  },
  {
   "cell_type": "markdown",
   "id": "6fc386ba",
   "metadata": {},
   "source": [
    "## Matrices de confusion"
   ]
  },
  {
   "cell_type": "markdown",
   "id": "31f65072-ea91-43a5-9194-b6a8db1fac58",
   "metadata": {},
   "source": [
    "Ploteamos la confusion matrix del set de entrenamiento"
   ]
  },
  {
   "cell_type": "code",
   "execution_count": 19,
   "id": "7e16718b-6585-492b-adbd-690578875647",
   "metadata": {
    "tags": []
   },
   "outputs": [
    {
     "name": "stdout",
     "output_type": "stream",
     "text": [
      "1452/1452 [==============================] - 2s 1ms/step\n"
     ]
    },
    {
     "data": {
      "text/plain": [
       "Text(0.5, 1.0, 'Confusion matrix de training set')"
      ]
     },
     "execution_count": 19,
     "metadata": {},
     "output_type": "execute_result"
    },
    {
     "data": {
      "image/png": "[encoded data removed]",
      "text/plain": [
       "<Figure size 640x480 with 2 Axes>"
      ]
     },
     "metadata": {},
     "output_type": "display_data"
    }
   ],
   "source": [
    "y_pred = np.where(model.predict(X_train) >= 0.5, 1, 0)\n",
    "confusion = confusion_matrix(y_train, y_pred)\n",
    "sns.heatmap(confusion, annot=True, fmt='.0f')\n",
    "plt.ylabel('true')\n",
    "plt.xlabel('predicted')\n",
    "plt.title(\"Confusion matrix de training set\")"
   ]
  },
  {
   "cell_type": "markdown",
   "id": "408332cc-e8d0-47b0-a49f-fc373970f334",
   "metadata": {},
   "source": [
    "Ploteamos la confusion matrix del set de validación"
   ]
  },
  {
   "cell_type": "code",
   "execution_count": 20,
   "id": "0df6db72-0fbd-4bba-8bad-cf1cce457f6b",
   "metadata": {
    "tags": []
   },
   "outputs": [
    {
     "name": "stdout",
     "output_type": "stream",
     "text": [
      "484/484 [==============================] - 1s 1ms/step\n"
     ]
    },
    {
     "data": {
      "text/plain": [
       "Text(0.5, 1.0, 'Confusion matrix del validation set (voting)')"
      ]
     },
     "execution_count": 20,
     "metadata": {},
     "output_type": "execute_result"
    },
    {
     "data": {
      "image/png": "[encoded data removed]",
      "text/plain": [
       "<Figure size 640x480 with 2 Axes>"
      ]
     },
     "metadata": {},
     "output_type": "display_data"
    }
   ],
   "source": [
    "y_pred = np.where(model.predict(X_val) >= 0.5, 1, 0)\n",
    "confusion = confusion_matrix(y_val, y_pred)\n",
    "sns.heatmap(confusion, annot=True, fmt='.0f')\n",
    "plt.ylabel('true')\n",
    "plt.xlabel('predicted')\n",
    "plt.title(\"Confusion matrix del validation set (voting)\")"
   ]
  },
  {
   "cell_type": "markdown",
   "id": "f9c82078-e3dd-4a5e-8c16-4bb015e9f53e",
   "metadata": {
    "tags": []
   },
   "source": [
    "# Creacion de submit"
   ]
  },
  {
   "cell_type": "code",
   "execution_count": 21,
   "id": "6c532782-c0b7-4e95-9cdd-978b316f0b87",
   "metadata": {},
   "outputs": [],
   "source": [
    "def create_submission(model): \n",
    "    df_test = pd.read_csv(\"../dataset/hotels_test_procesado.csv\")\n",
    "    assert(len(df_test)==26535)\n",
    "\n",
    "    X = df_test[attrs].values\n",
    "    scaler = StandardScaler()\n",
    "    X = scaler.fit_transform(X)\n",
    "    \n",
    "    prediccion = np.where(model.predict(X) >= 0.5, 1, 0)\n",
    "\n",
    "    assert(len(prediccion)==26535)\n",
    "\n",
    "    submit = pd.DataFrame(\n",
    "        {\"is_canceled\": prediccion[:,0]},\n",
    "        index=df_test[\"id\"],\n",
    "    )\n",
    "    assert(len(submit)==26535)\n",
    "\n",
    "    submit.to_csv(\"../dataset/submit.csv\")"
   ]
  },
  {
   "cell_type": "code",
   "execution_count": 23,
   "id": "7ac02975",
   "metadata": {},
   "outputs": [
    {
     "name": "stdout",
     "output_type": "stream",
     "text": [
      "830/830 [==============================] - 1s 1ms/step\n"
     ]
    }
   ],
   "source": [
    "## antes hay que pasarlo por el standard scaler, o hacer una pipe\n",
    "create_submission(model)"
   ]
  },
  {
   "cell_type": "markdown",
   "id": "c79f55f8",
   "metadata": {},
   "source": [
    "# Guardamos modelo en pickle"
   ]
  },
  {
   "cell_type": "code",
   "execution_count": null,
   "id": "aba29450-e4c0-4f7e-b79f-2b9de2d63185",
   "metadata": {
    "tags": []
   },
   "outputs": [],
   "source": [
    "with open('../modelos/NN.pickle', 'wb') as file:\n",
    "    pickle.dump(model, file)"
   ]
  }
 ],
 "metadata": {
  "kernelspec": {
   "display_name": "Python 3 (ipykernel)",
   "language": "python",
   "name": "python3"
  },
  "language_info": {
   "codemirror_mode": {
    "name": "ipython",
    "version": 3
   },
   "file_extension": ".py",
   "mimetype": "text/x-python",
   "name": "python",
   "nbconvert_exporter": "python",
   "pygments_lexer": "ipython3",
   "version": "3.11.3"
  }
 },
 "nbformat": 4,
 "nbformat_minor": 5
}
