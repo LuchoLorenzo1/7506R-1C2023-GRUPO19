{
 "cells": [
  {
   "cell_type": "markdown",
   "id": "aae7a409",
   "metadata": {
    "tags": []
   },
   "source": [
    "# <center>Organizaci&oacute;n de Datos</center>\n",
    "## <center>Trabajo Práctico 1 : Reservas de Hotel</center>\n",
    "## <center>Checkpoint 3</center>\n",
    "### <center>Ensambles</center>\n",
    "\n",
    "#### Integrantes grupo 19: Sudanalytics \n",
    "* Adrian Leandro Re\n",
    "* Alan Toulouse\n",
    "* Luciano Lorenzo\n",
    "* Nicolas Tonizzo"
   ]
  },
  {
   "cell_type": "markdown",
   "id": "6dbb6c11",
   "metadata": {
    "tags": []
   },
   "source": [
    "# Imports y preparacion del dataset"
   ]
  },
  {
   "cell_type": "markdown",
   "id": "5022fac5-e63d-4cf0-bba7-aa820da53000",
   "metadata": {},
   "source": [
    "En primer lugar instalamos la libreria de xgboost para luego importarla"
   ]
  },
  {
   "cell_type": "code",
   "execution_count": 1,
   "id": "72f004d2",
   "metadata": {},
   "outputs": [],
   "source": [
    "import pandas as pd\n",
    "import numpy as np\n",
    "import matplotlib.pyplot as plt\n",
    "import seaborn as sns\n",
    "from sklearn.model_selection import train_test_split\n",
    "from sklearn.metrics import make_scorer, f1_score, confusion_matrix, precision_score, recall_score, accuracy_score\n",
    "import xgboost as xgb\n",
    "import random\n",
    "from sklearn.model_selection import RandomizedSearchCV, GridSearchCV, train_test_split\n",
    "from sklearn.model_selection import StratifiedKFold"
   ]
  },
  {
   "cell_type": "code",
   "execution_count": 2,
   "id": "ae93b326",
   "metadata": {},
   "outputs": [
    {
     "data": {
      "text/plain": [
       "Index(['hotel', 'lead_time', 'arrival_date_year', 'arrival_date_month',\n",
       "       'arrival_date_week_number', 'arrival_date_day_of_month',\n",
       "       'stays_in_weekend_nights', 'stays_in_week_nights', 'adults', 'children',\n",
       "       'babies', 'meal', 'country', 'market_segment', 'distribution_channel',\n",
       "       'is_repeated_guest', 'previous_cancellations',\n",
       "       'previous_bookings_not_canceled', 'reserved_room_type',\n",
       "       'assigned_room_type', 'booking_changes', 'deposit_type', 'agent',\n",
       "       'company', 'days_in_waiting_list', 'customer_type', 'adr',\n",
       "       'required_car_parking_spaces', 'total_of_special_requests',\n",
       "       'reservation_status_date', 'id', 'is_canceled', 'hotel_encoding',\n",
       "       'tiene_hijos', 'es_extranjero', 'es_portugues', 'es_ingles',\n",
       "       'es_frances', 'es_espanol', 'es_aleman', 'reserved_room_was_assigned',\n",
       "       'required_a_car_parking_space', 'solo_desayuna_en_el_hotel',\n",
       "       'pidio_todas_comidas', 'reservo_online', 'reservo_en_grupo',\n",
       "       'reservo_sin_reembolso', 'reservo_sin_depositar', 'reservo_sin_paquete',\n",
       "       'reservo_sin_compania', 'reservo_sin_agente', 'tuvo_dias_de_espera',\n",
       "       'reservo_el_mismo_dia', 'total_reservas_previas', 'agent9', 'agent240',\n",
       "       'agent1', 'agent14', 'agent6'],\n",
       "      dtype='object')"
      ]
     },
     "execution_count": 2,
     "metadata": {},
     "output_type": "execute_result"
    }
   ],
   "source": [
    "df = pd.read_csv(\"../dataset/hotels_train_procesado.csv\")\n",
    "df.columns"
   ]
  },
  {
   "cell_type": "markdown",
   "id": "ccd2b55b",
   "metadata": {},
   "source": [
    "Declaramos el target y los features del dataframe que vamos a utilizar para predecir."
   ]
  },
  {
   "cell_type": "code",
   "execution_count": 3,
   "id": "4642cea5",
   "metadata": {},
   "outputs": [],
   "source": [
    "target = \"is_canceled\"\n",
    "\n",
    "attrs = [\n",
    "    \"hotel_encoding\",\n",
    "    \n",
    "    \"lead_time\",\n",
    "    #\"reservo_el_mismo_dia\",\n",
    "    \"adr\",\n",
    "\n",
    "    \"stays_in_weekend_nights\",\n",
    "    #\"stays_in_week_nights\",\n",
    "\n",
    "    \"tiene_hijos\",\n",
    "    \"adults\",\n",
    "    #\"children\",\n",
    "    #\"babies\",\n",
    "\n",
    "    # Fechas\n",
    "    \"arrival_date_week_number\",\n",
    "    \"arrival_date_day_of_month\",\n",
    "    \"arrival_date_year\",\n",
    "\n",
    "    \"es_extranjero\",\n",
    "    \"es_portugues\",\n",
    "    \"es_ingles\",\n",
    "    \"es_frances\",\n",
    "    \"es_espanol\",\n",
    "    \"es_aleman\",\n",
    "\n",
    "    \"reserved_room_was_assigned\",\n",
    "\n",
    "    \"is_repeated_guest\",\n",
    "    \"previous_cancellations\", \n",
    "    \"previous_bookings_not_canceled\",\n",
    "    \"total_reservas_previas\",\n",
    "    \"total_of_special_requests\",\n",
    "    \"booking_changes\",\n",
    "\n",
    "    # 'meal',\n",
    "    \"solo_desayuna_en_el_hotel\",\n",
    "    \"pidio_todas_comidas\",\n",
    "\n",
    "    'required_car_parking_spaces',\n",
    "    #\"required_a_car_parking_space\",\n",
    "\n",
    "    \"reservo_sin_reembolso\",\n",
    "    \"reservo_sin_depositar\",\n",
    "    \"reservo_online\",\n",
    "    \"reservo_en_grupo\",\n",
    "    \"reservo_sin_compania\",\n",
    "    \"reservo_sin_agente\",\n",
    "    \"reservo_sin_paquete\",\n",
    "    \n",
    "    \"days_in_waiting_list\",\n",
    "    #\"tuvo_dias_de_espera\",\n",
    "    \n",
    "    \"agent9\",\n",
    "    \"agent240\",\n",
    "    #\"agent1\",\n",
    "    \"agent14\",\n",
    "    \"agent6\",\n",
    "]"
   ]
  },
  {
   "cell_type": "markdown",
   "id": "1d59deb8",
   "metadata": {},
   "source": [
    "**Dividimos el dataset en entrenamiento y validacion**, para poder validar que no estamos overfitteando al dataset de entrenamiento, y que el modelo predice bien a registros no vistos anteriormente. "
   ]
  },
  {
   "cell_type": "code",
   "execution_count": 4,
   "id": "0c5cb4b9",
   "metadata": {},
   "outputs": [],
   "source": [
    "X = df[attrs]\n",
    "y = df[target]\n",
    "\n",
    "X_train, X_val, y_train, y_val = train_test_split(X, y, test_size=0.25, shuffle=True)"
   ]
  },
  {
   "cell_type": "markdown",
   "id": "569e6cf4",
   "metadata": {},
   "source": [
    "Vamos a empezar definiendo algunos clasificadores de xgb con los parametros por default, pero con muchos estimadores. XGBoost nos hace muy facil esto, ya que podemos proporcionarle el dataset de validacion y un parametro `early_stopping_rounds`, que frena el entrenamiento cuando la funcion de coste (en este caso log loss) deja de disminuir en validacion. "
   ]
  },
  {
   "cell_type": "code",
   "execution_count": 5,
   "id": "8896a604",
   "metadata": {},
   "outputs": [
    {
     "name": "stdout",
     "output_type": "stream",
     "text": [
      "[0]\tvalidation_0-logloss:0.64889\tvalidation_1-logloss:0.64890\n",
      "[50]\tvalidation_0-logloss:0.31958\tvalidation_1-logloss:0.32507\n",
      "[100]\tvalidation_0-logloss:0.28770\tvalidation_1-logloss:0.30202\n",
      "[150]\tvalidation_0-logloss:0.26957\tvalidation_1-logloss:0.29347\n",
      "[200]\tvalidation_0-logloss:0.25503\tvalidation_1-logloss:0.28746\n",
      "[250]\tvalidation_0-logloss:0.24250\tvalidation_1-logloss:0.28416\n",
      "[300]\tvalidation_0-logloss:0.23243\tvalidation_1-logloss:0.28166\n",
      "[350]\tvalidation_0-logloss:0.22195\tvalidation_1-logloss:0.27908\n",
      "[400]\tvalidation_0-logloss:0.21625\tvalidation_1-logloss:0.27842\n",
      "[450]\tvalidation_0-logloss:0.20764\tvalidation_1-logloss:0.27737\n",
      "[500]\tvalidation_0-logloss:0.20328\tvalidation_1-logloss:0.27718\n",
      "[550]\tvalidation_0-logloss:0.19549\tvalidation_1-logloss:0.27723\n",
      "[571]\tvalidation_0-logloss:0.19285\tvalidation_1-logloss:0.27714\n"
     ]
    },
    {
     "data": {
      "text/html": [
       "<style>#sk-container-id-1 {color: black;background-color: white;}#sk-container-id-1 pre{padding: 0;}#sk-container-id-1 div.sk-toggleable {background-color: white;}#sk-container-id-1 label.sk-toggleable__label {cursor: pointer;display: block;width: 100%;margin-bottom: 0;padding: 0.3em;box-sizing: border-box;text-align: center;}#sk-container-id-1 label.sk-toggleable__label-arrow:before {content: \"▸\";float: left;margin-right: 0.25em;color: #696969;}#sk-container-id-1 label.sk-toggleable__label-arrow:hover:before {color: black;}#sk-container-id-1 div.sk-estimator:hover label.sk-toggleable__label-arrow:before {color: black;}#sk-container-id-1 div.sk-toggleable__content {max-height: 0;max-width: 0;overflow: hidden;text-align: left;background-color: #f0f8ff;}#sk-container-id-1 div.sk-toggleable__content pre {margin: 0.2em;color: black;border-radius: 0.25em;background-color: #f0f8ff;}#sk-container-id-1 input.sk-toggleable__control:checked~div.sk-toggleable__content {max-height: 200px;max-width: 100%;overflow: auto;}#sk-container-id-1 input.sk-toggleable__control:checked~label.sk-toggleable__label-arrow:before {content: \"▾\";}#sk-container-id-1 div.sk-estimator input.sk-toggleable__control:checked~label.sk-toggleable__label {background-color: #d4ebff;}#sk-container-id-1 div.sk-label input.sk-toggleable__control:checked~label.sk-toggleable__label {background-color: #d4ebff;}#sk-container-id-1 input.sk-hidden--visually {border: 0;clip: rect(1px 1px 1px 1px);clip: rect(1px, 1px, 1px, 1px);height: 1px;margin: -1px;overflow: hidden;padding: 0;position: absolute;width: 1px;}#sk-container-id-1 div.sk-estimator {font-family: monospace;background-color: #f0f8ff;border: 1px dotted black;border-radius: 0.25em;box-sizing: border-box;margin-bottom: 0.5em;}#sk-container-id-1 div.sk-estimator:hover {background-color: #d4ebff;}#sk-container-id-1 div.sk-parallel-item::after {content: \"\";width: 100%;border-bottom: 1px solid gray;flex-grow: 1;}#sk-container-id-1 div.sk-label:hover label.sk-toggleable__label {background-color: #d4ebff;}#sk-container-id-1 div.sk-serial::before {content: \"\";position: absolute;border-left: 1px solid gray;box-sizing: border-box;top: 0;bottom: 0;left: 50%;z-index: 0;}#sk-container-id-1 div.sk-serial {display: flex;flex-direction: column;align-items: center;background-color: white;padding-right: 0.2em;padding-left: 0.2em;position: relative;}#sk-container-id-1 div.sk-item {position: relative;z-index: 1;}#sk-container-id-1 div.sk-parallel {display: flex;align-items: stretch;justify-content: center;background-color: white;position: relative;}#sk-container-id-1 div.sk-item::before, #sk-container-id-1 div.sk-parallel-item::before {content: \"\";position: absolute;border-left: 1px solid gray;box-sizing: border-box;top: 0;bottom: 0;left: 50%;z-index: -1;}#sk-container-id-1 div.sk-parallel-item {display: flex;flex-direction: column;z-index: 1;position: relative;background-color: white;}#sk-container-id-1 div.sk-parallel-item:first-child::after {align-self: flex-end;width: 50%;}#sk-container-id-1 div.sk-parallel-item:last-child::after {align-self: flex-start;width: 50%;}#sk-container-id-1 div.sk-parallel-item:only-child::after {width: 0;}#sk-container-id-1 div.sk-dashed-wrapped {border: 1px dashed gray;margin: 0 0.4em 0.5em 0.4em;box-sizing: border-box;padding-bottom: 0.4em;background-color: white;}#sk-container-id-1 div.sk-label label {font-family: monospace;font-weight: bold;display: inline-block;line-height: 1.2em;}#sk-container-id-1 div.sk-label-container {text-align: center;}#sk-container-id-1 div.sk-container {/* jupyter's `normalize.less` sets `[hidden] { display: none; }` but bootstrap.min.css set `[hidden] { display: none !important; }` so we also need the `!important` here to be able to override the default hidden behavior on the sphinx rendered scikit-learn.org. See: https://github.com/scikit-learn/scikit-learn/issues/21755 */display: inline-block !important;position: relative;}#sk-container-id-1 div.sk-text-repr-fallback {display: none;}</style><div id=\"sk-container-id-1\" class=\"sk-top-container\"><div class=\"sk-text-repr-fallback\"><pre>XGBClassifier(base_score=None, booster=None, callbacks=None,\n",
       "              colsample_bylevel=None, colsample_bynode=None,\n",
       "              colsample_bytree=None, early_stopping_rounds=50,\n",
       "              enable_categorical=False, eval_metric=None, feature_types=None,\n",
       "              gamma=None, gpu_id=None, grow_policy=None, importance_type=None,\n",
       "              interaction_constraints=None, learning_rate=0.1, max_bin=None,\n",
       "              max_cat_threshold=None, max_cat_to_onehot=None,\n",
       "              max_delta_step=None, max_depth=None, max_leaves=None,\n",
       "              min_child_weight=None, missing=nan, monotone_constraints=None,\n",
       "              n_estimators=1000, n_jobs=None, num_parallel_tree=None,\n",
       "              predictor=None, random_state=None, ...)</pre><b>In a Jupyter environment, please rerun this cell to show the HTML representation or trust the notebook. <br />On GitHub, the HTML representation is unable to render, please try loading this page with nbviewer.org.</b></div><div class=\"sk-container\" hidden><div class=\"sk-item\"><div class=\"sk-estimator sk-toggleable\"><input class=\"sk-toggleable__control sk-hidden--visually\" id=\"sk-estimator-id-1\" type=\"checkbox\" checked><label for=\"sk-estimator-id-1\" class=\"sk-toggleable__label sk-toggleable__label-arrow\">XGBClassifier</label><div class=\"sk-toggleable__content\"><pre>XGBClassifier(base_score=None, booster=None, callbacks=None,\n",
       "              colsample_bylevel=None, colsample_bynode=None,\n",
       "              colsample_bytree=None, early_stopping_rounds=50,\n",
       "              enable_categorical=False, eval_metric=None, feature_types=None,\n",
       "              gamma=None, gpu_id=None, grow_policy=None, importance_type=None,\n",
       "              interaction_constraints=None, learning_rate=0.1, max_bin=None,\n",
       "              max_cat_threshold=None, max_cat_to_onehot=None,\n",
       "              max_delta_step=None, max_depth=None, max_leaves=None,\n",
       "              min_child_weight=None, missing=nan, monotone_constraints=None,\n",
       "              n_estimators=1000, n_jobs=None, num_parallel_tree=None,\n",
       "              predictor=None, random_state=None, ...)</pre></div></div></div></div></div>"
      ],
      "text/plain": [
       "XGBClassifier(base_score=None, booster=None, callbacks=None,\n",
       "              colsample_bylevel=None, colsample_bynode=None,\n",
       "              colsample_bytree=None, early_stopping_rounds=50,\n",
       "              enable_categorical=False, eval_metric=None, feature_types=None,\n",
       "              gamma=None, gpu_id=None, grow_policy=None, importance_type=None,\n",
       "              interaction_constraints=None, learning_rate=0.1, max_bin=None,\n",
       "              max_cat_threshold=None, max_cat_to_onehot=None,\n",
       "              max_delta_step=None, max_depth=None, max_leaves=None,\n",
       "              min_child_weight=None, missing=nan, monotone_constraints=None,\n",
       "              n_estimators=1000, n_jobs=None, num_parallel_tree=None,\n",
       "              predictor=None, random_state=None, ...)"
      ]
     },
     "execution_count": 5,
     "metadata": {},
     "output_type": "execute_result"
    }
   ],
   "source": [
    "clf = xgb.XGBClassifier(learning_rate=0.1, n_estimators=1000, early_stopping_rounds=50)\n",
    "\n",
    "clf.fit(X_train, y_train,\n",
    "       eval_set=[(X_train, y_train), (X_val, y_val)],\n",
    "       verbose=50)"
   ]
  },
  {
   "cell_type": "markdown",
   "id": "fbc1642a",
   "metadata": {},
   "source": [
    "Calculamos su score, y las features mas importantes que utiliza, las cuales son muy parecidas a las utilizadas por los decision trees."
   ]
  },
  {
   "cell_type": "code",
   "execution_count": 6,
   "id": "06e0f405",
   "metadata": {},
   "outputs": [
    {
     "name": "stdout",
     "output_type": "stream",
     "text": [
      "f1 score sobre validacion:  0.8769724182168055\n",
      "f1 score sobre train:  0.9203460429349568\n"
     ]
    },
    {
     "data": {
      "image/png": "[encoded data removed]",
      "text/plain": [
       "<Figure size 640x480 with 1 Axes>"
      ]
     },
     "metadata": {},
     "output_type": "display_data"
    }
   ],
   "source": [
    "print(\"f1 score sobre validacion: \", f1_score(y_val, clf.predict(X_val)))\n",
    "print(\"f1 score sobre train: \", f1_score(y_train, clf.predict(X_train)))\n",
    "\n",
    "fi = pd.DataFrame(data=clf.feature_importances_,\n",
    "             index=clf.feature_names_in_,\n",
    "             columns=['importance'])\n",
    "fi.sort_values('importance').plot(kind='barh', title='Feature Importance')\n",
    "plt.show()"
   ]
  },
  {
   "cell_type": "markdown",
   "id": "017f8c35",
   "metadata": {},
   "source": [
    "Ahora cambiamos algunos parametros:\n",
    "* `max_depth`: el largo maximo que pueden tener todos los arboles que entrena.\n",
    "* `subsample`: el porcentaje del dataset elegido al azar que sera utilizado para entrenar a cada arbol.\n",
    "* `colsample_bytree`: Lo mismo que subsample, pero para las columnas. Es decir que elige al azar las variables que usa el arbol.\n",
    "\n",
    "Estos ultimos dos parametros nos ayudan a que los arboles sean mas independientes entre si y que no se 'fijen' siempre en la misma parte del dataset. Nos ayudan a disminuir el overfitting."
   ]
  },
  {
   "cell_type": "code",
   "execution_count": 7,
   "id": "bd7cc5b0",
   "metadata": {
    "scrolled": true
   },
   "outputs": [
    {
     "name": "stdout",
     "output_type": "stream",
     "text": [
      "[0]\tvalidation_0-logloss:0.64552\tvalidation_1-logloss:0.64611\n",
      "[50]\tvalidation_0-logloss:0.25450\tvalidation_1-logloss:0.29095\n",
      "[100]\tvalidation_0-logloss:0.21406\tvalidation_1-logloss:0.27619\n",
      "[150]\tvalidation_0-logloss:0.18094\tvalidation_1-logloss:0.27099\n",
      "[200]\tvalidation_0-logloss:0.15634\tvalidation_1-logloss:0.26897\n",
      "[250]\tvalidation_0-logloss:0.13685\tvalidation_1-logloss:0.26851\n",
      "[293]\tvalidation_0-logloss:0.12225\tvalidation_1-logloss:0.26956\n",
      "f1 score sobre validacion:  0.8817342226782966\n",
      "f1 score sobre train:  0.959360027378508\n"
     ]
    }
   ],
   "source": [
    "clf2 = xgb.XGBClassifier(learning_rate=0.1,\n",
    "                         max_depth=10,\n",
    "                         subsample=0.8,\n",
    "                         colsample_bytree=0.6,\n",
    "                         n_estimators=1000, early_stopping_rounds=50)\n",
    "\n",
    "clf2.fit(X_train, y_train,\n",
    "       eval_set=[(X_train, y_train), (X_val, y_val)],\n",
    "       verbose=50)\n",
    "\n",
    "print(\"f1 score sobre validacion: \", f1_score(y_val, clf2.predict(X_val)))\n",
    "print(\"f1 score sobre train: \", f1_score(y_train, clf2.predict(X_train)))"
   ]
  },
  {
   "cell_type": "code",
   "execution_count": 8,
   "id": "f3e05fb5",
   "metadata": {
    "scrolled": true
   },
   "outputs": [
    {
     "name": "stdout",
     "output_type": "stream",
     "text": [
      "[0]\tvalidation_0-logloss:0.64482\tvalidation_1-logloss:0.64518\n",
      "[50]\tvalidation_0-logloss:0.27289\tvalidation_1-logloss:0.29289\n",
      "[100]\tvalidation_0-logloss:0.25490\tvalidation_1-logloss:0.28333\n",
      "[150]\tvalidation_0-logloss:0.24718\tvalidation_1-logloss:0.28097\n",
      "[200]\tvalidation_0-logloss:0.24247\tvalidation_1-logloss:0.27985\n",
      "[250]\tvalidation_0-logloss:0.23855\tvalidation_1-logloss:0.27883\n",
      "[300]\tvalidation_0-logloss:0.23562\tvalidation_1-logloss:0.27815\n",
      "[350]\tvalidation_0-logloss:0.23258\tvalidation_1-logloss:0.27746\n",
      "[400]\tvalidation_0-logloss:0.23116\tvalidation_1-logloss:0.27718\n",
      "[450]\tvalidation_0-logloss:0.22942\tvalidation_1-logloss:0.27685\n",
      "[499]\tvalidation_0-logloss:0.22770\tvalidation_1-logloss:0.27668\n",
      "f1 score sobre validacion:  0.8762674881273265\n",
      "f1 score sobre train:  0.9054404422636011\n"
     ]
    }
   ],
   "source": [
    "clf3 = xgb.XGBClassifier(learning_rate=0.1,\n",
    "                         max_depth=13,\n",
    "                         subsample=0.85,\n",
    "                         colsample_bytree=0.7,\n",
    "                         # regularizacion:\n",
    "                         gamma=5,\n",
    "                         reg_lambda=2,\n",
    "                         reg_alpha=2,\n",
    "                         n_estimators=500, early_stopping_rounds=50)\n",
    "\n",
    "clf3.fit(X_train, y_train,\n",
    "       eval_set=[(X_train, y_train), (X_val, y_val)],\n",
    "       verbose=50)\n",
    "\n",
    "print(\"f1 score sobre validacion: \", f1_score(y_val, clf3.predict(X_val)))\n",
    "print(\"f1 score sobre train: \", f1_score(y_train, clf3.predict(X_train)))"
   ]
  },
  {
   "cell_type": "markdown",
   "id": "493c7916",
   "metadata": {},
   "source": [
    "Ahora que tenemos una idea de como se comporta el modelo "
   ]
  },
  {
   "cell_type": "code",
   "execution_count": 9,
   "id": "16f04f60",
   "metadata": {},
   "outputs": [
    {
     "data": {
      "text/html": [
       "<style>#sk-container-id-2 {color: black;background-color: white;}#sk-container-id-2 pre{padding: 0;}#sk-container-id-2 div.sk-toggleable {background-color: white;}#sk-container-id-2 label.sk-toggleable__label {cursor: pointer;display: block;width: 100%;margin-bottom: 0;padding: 0.3em;box-sizing: border-box;text-align: center;}#sk-container-id-2 label.sk-toggleable__label-arrow:before {content: \"▸\";float: left;margin-right: 0.25em;color: #696969;}#sk-container-id-2 label.sk-toggleable__label-arrow:hover:before {color: black;}#sk-container-id-2 div.sk-estimator:hover label.sk-toggleable__label-arrow:before {color: black;}#sk-container-id-2 div.sk-toggleable__content {max-height: 0;max-width: 0;overflow: hidden;text-align: left;background-color: #f0f8ff;}#sk-container-id-2 div.sk-toggleable__content pre {margin: 0.2em;color: black;border-radius: 0.25em;background-color: #f0f8ff;}#sk-container-id-2 input.sk-toggleable__control:checked~div.sk-toggleable__content {max-height: 200px;max-width: 100%;overflow: auto;}#sk-container-id-2 input.sk-toggleable__control:checked~label.sk-toggleable__label-arrow:before {content: \"▾\";}#sk-container-id-2 div.sk-estimator input.sk-toggleable__control:checked~label.sk-toggleable__label {background-color: #d4ebff;}#sk-container-id-2 div.sk-label input.sk-toggleable__control:checked~label.sk-toggleable__label {background-color: #d4ebff;}#sk-container-id-2 input.sk-hidden--visually {border: 0;clip: rect(1px 1px 1px 1px);clip: rect(1px, 1px, 1px, 1px);height: 1px;margin: -1px;overflow: hidden;padding: 0;position: absolute;width: 1px;}#sk-container-id-2 div.sk-estimator {font-family: monospace;background-color: #f0f8ff;border: 1px dotted black;border-radius: 0.25em;box-sizing: border-box;margin-bottom: 0.5em;}#sk-container-id-2 div.sk-estimator:hover {background-color: #d4ebff;}#sk-container-id-2 div.sk-parallel-item::after {content: \"\";width: 100%;border-bottom: 1px solid gray;flex-grow: 1;}#sk-container-id-2 div.sk-label:hover label.sk-toggleable__label {background-color: #d4ebff;}#sk-container-id-2 div.sk-serial::before {content: \"\";position: absolute;border-left: 1px solid gray;box-sizing: border-box;top: 0;bottom: 0;left: 50%;z-index: 0;}#sk-container-id-2 div.sk-serial {display: flex;flex-direction: column;align-items: center;background-color: white;padding-right: 0.2em;padding-left: 0.2em;position: relative;}#sk-container-id-2 div.sk-item {position: relative;z-index: 1;}#sk-container-id-2 div.sk-parallel {display: flex;align-items: stretch;justify-content: center;background-color: white;position: relative;}#sk-container-id-2 div.sk-item::before, #sk-container-id-2 div.sk-parallel-item::before {content: \"\";position: absolute;border-left: 1px solid gray;box-sizing: border-box;top: 0;bottom: 0;left: 50%;z-index: -1;}#sk-container-id-2 div.sk-parallel-item {display: flex;flex-direction: column;z-index: 1;position: relative;background-color: white;}#sk-container-id-2 div.sk-parallel-item:first-child::after {align-self: flex-end;width: 50%;}#sk-container-id-2 div.sk-parallel-item:last-child::after {align-self: flex-start;width: 50%;}#sk-container-id-2 div.sk-parallel-item:only-child::after {width: 0;}#sk-container-id-2 div.sk-dashed-wrapped {border: 1px dashed gray;margin: 0 0.4em 0.5em 0.4em;box-sizing: border-box;padding-bottom: 0.4em;background-color: white;}#sk-container-id-2 div.sk-label label {font-family: monospace;font-weight: bold;display: inline-block;line-height: 1.2em;}#sk-container-id-2 div.sk-label-container {text-align: center;}#sk-container-id-2 div.sk-container {/* jupyter's `normalize.less` sets `[hidden] { display: none; }` but bootstrap.min.css set `[hidden] { display: none !important; }` so we also need the `!important` here to be able to override the default hidden behavior on the sphinx rendered scikit-learn.org. See: https://github.com/scikit-learn/scikit-learn/issues/21755 */display: inline-block !important;position: relative;}#sk-container-id-2 div.sk-text-repr-fallback {display: none;}</style><div id=\"sk-container-id-2\" class=\"sk-top-container\"><div class=\"sk-text-repr-fallback\"><pre>RandomizedSearchCV(cv=3,\n",
       "                   estimator=XGBClassifier(base_score=None, booster=None,\n",
       "                                           callbacks=None,\n",
       "                                           colsample_bylevel=None,\n",
       "                                           colsample_bynode=None,\n",
       "                                           colsample_bytree=None,\n",
       "                                           early_stopping_rounds=None,\n",
       "                                           enable_categorical=False,\n",
       "                                           eval_metric=None, feature_types=None,\n",
       "                                           gamma=None, gpu_id=None,\n",
       "                                           grow_policy=None,\n",
       "                                           importance_type=None,\n",
       "                                           interaction_constraints=None,\n",
       "                                           learning_rate...\n",
       "                                           max_delta_step=None, max_depth=None,\n",
       "                                           max_leaves=None,\n",
       "                                           min_child_weight=None, missing=nan,\n",
       "                                           monotone_constraints=None,\n",
       "                                           n_estimators=400, n_jobs=None,\n",
       "                                           num_parallel_tree=None,\n",
       "                                           predictor=None, random_state=None, ...),\n",
       "                   param_distributions={&#x27;colsample_bytree&#x27;: [0.6, 0.7, 0.8, 0.9,\n",
       "                                                             1],\n",
       "                                        &#x27;max_depth&#x27;: [10, 11, 12, 13, 14, 15],\n",
       "                                        &#x27;subsample&#x27;: [0.6, 0.7, 0.8, 0.9, 1]},\n",
       "                   scoring=make_scorer(f1_score))</pre><b>In a Jupyter environment, please rerun this cell to show the HTML representation or trust the notebook. <br />On GitHub, the HTML representation is unable to render, please try loading this page with nbviewer.org.</b></div><div class=\"sk-container\" hidden><div class=\"sk-item sk-dashed-wrapped\"><div class=\"sk-label-container\"><div class=\"sk-label sk-toggleable\"><input class=\"sk-toggleable__control sk-hidden--visually\" id=\"sk-estimator-id-2\" type=\"checkbox\" ><label for=\"sk-estimator-id-2\" class=\"sk-toggleable__label sk-toggleable__label-arrow\">RandomizedSearchCV</label><div class=\"sk-toggleable__content\"><pre>RandomizedSearchCV(cv=3,\n",
       "                   estimator=XGBClassifier(base_score=None, booster=None,\n",
       "                                           callbacks=None,\n",
       "                                           colsample_bylevel=None,\n",
       "                                           colsample_bynode=None,\n",
       "                                           colsample_bytree=None,\n",
       "                                           early_stopping_rounds=None,\n",
       "                                           enable_categorical=False,\n",
       "                                           eval_metric=None, feature_types=None,\n",
       "                                           gamma=None, gpu_id=None,\n",
       "                                           grow_policy=None,\n",
       "                                           importance_type=None,\n",
       "                                           interaction_constraints=None,\n",
       "                                           learning_rate...\n",
       "                                           max_delta_step=None, max_depth=None,\n",
       "                                           max_leaves=None,\n",
       "                                           min_child_weight=None, missing=nan,\n",
       "                                           monotone_constraints=None,\n",
       "                                           n_estimators=400, n_jobs=None,\n",
       "                                           num_parallel_tree=None,\n",
       "                                           predictor=None, random_state=None, ...),\n",
       "                   param_distributions={&#x27;colsample_bytree&#x27;: [0.6, 0.7, 0.8, 0.9,\n",
       "                                                             1],\n",
       "                                        &#x27;max_depth&#x27;: [10, 11, 12, 13, 14, 15],\n",
       "                                        &#x27;subsample&#x27;: [0.6, 0.7, 0.8, 0.9, 1]},\n",
       "                   scoring=make_scorer(f1_score))</pre></div></div></div><div class=\"sk-parallel\"><div class=\"sk-parallel-item\"><div class=\"sk-item\"><div class=\"sk-label-container\"><div class=\"sk-label sk-toggleable\"><input class=\"sk-toggleable__control sk-hidden--visually\" id=\"sk-estimator-id-3\" type=\"checkbox\" ><label for=\"sk-estimator-id-3\" class=\"sk-toggleable__label sk-toggleable__label-arrow\">estimator: XGBClassifier</label><div class=\"sk-toggleable__content\"><pre>XGBClassifier(base_score=None, booster=None, callbacks=None,\n",
       "              colsample_bylevel=None, colsample_bynode=None,\n",
       "              colsample_bytree=None, early_stopping_rounds=None,\n",
       "              enable_categorical=False, eval_metric=None, feature_types=None,\n",
       "              gamma=None, gpu_id=None, grow_policy=None, importance_type=None,\n",
       "              interaction_constraints=None, learning_rate=0.1, max_bin=None,\n",
       "              max_cat_threshold=None, max_cat_to_onehot=None,\n",
       "              max_delta_step=None, max_depth=None, max_leaves=None,\n",
       "              min_child_weight=None, missing=nan, monotone_constraints=None,\n",
       "              n_estimators=400, n_jobs=None, num_parallel_tree=None,\n",
       "              predictor=None, random_state=None, ...)</pre></div></div></div><div class=\"sk-serial\"><div class=\"sk-item\"><div class=\"sk-estimator sk-toggleable\"><input class=\"sk-toggleable__control sk-hidden--visually\" id=\"sk-estimator-id-4\" type=\"checkbox\" ><label for=\"sk-estimator-id-4\" class=\"sk-toggleable__label sk-toggleable__label-arrow\">XGBClassifier</label><div class=\"sk-toggleable__content\"><pre>XGBClassifier(base_score=None, booster=None, callbacks=None,\n",
       "              colsample_bylevel=None, colsample_bynode=None,\n",
       "              colsample_bytree=None, early_stopping_rounds=None,\n",
       "              enable_categorical=False, eval_metric=None, feature_types=None,\n",
       "              gamma=None, gpu_id=None, grow_policy=None, importance_type=None,\n",
       "              interaction_constraints=None, learning_rate=0.1, max_bin=None,\n",
       "              max_cat_threshold=None, max_cat_to_onehot=None,\n",
       "              max_delta_step=None, max_depth=None, max_leaves=None,\n",
       "              min_child_weight=None, missing=nan, monotone_constraints=None,\n",
       "              n_estimators=400, n_jobs=None, num_parallel_tree=None,\n",
       "              predictor=None, random_state=None, ...)</pre></div></div></div></div></div></div></div></div></div></div>"
      ],
      "text/plain": [
       "RandomizedSearchCV(cv=3,\n",
       "                   estimator=XGBClassifier(base_score=None, booster=None,\n",
       "                                           callbacks=None,\n",
       "                                           colsample_bylevel=None,\n",
       "                                           colsample_bynode=None,\n",
       "                                           colsample_bytree=None,\n",
       "                                           early_stopping_rounds=None,\n",
       "                                           enable_categorical=False,\n",
       "                                           eval_metric=None, feature_types=None,\n",
       "                                           gamma=None, gpu_id=None,\n",
       "                                           grow_policy=None,\n",
       "                                           importance_type=None,\n",
       "                                           interaction_constraints=None,\n",
       "                                           learning_rate...\n",
       "                                           max_delta_step=None, max_depth=None,\n",
       "                                           max_leaves=None,\n",
       "                                           min_child_weight=None, missing=nan,\n",
       "                                           monotone_constraints=None,\n",
       "                                           n_estimators=400, n_jobs=None,\n",
       "                                           num_parallel_tree=None,\n",
       "                                           predictor=None, random_state=None, ...),\n",
       "                   param_distributions={'colsample_bytree': [0.6, 0.7, 0.8, 0.9,\n",
       "                                                             1],\n",
       "                                        'max_depth': [10, 11, 12, 13, 14, 15],\n",
       "                                        'subsample': [0.6, 0.7, 0.8, 0.9, 1]},\n",
       "                   scoring=make_scorer(f1_score))"
      ]
     },
     "execution_count": 9,
     "metadata": {},
     "output_type": "execute_result"
    }
   ],
   "source": [
    "param_grid = {\n",
    " 'max_depth': list(range(10,16)),\n",
    " 'subsample': [0.6,0.7,0.8,0.9,1],\n",
    " 'colsample_bytree': [0.6,0.7,0.8,0.9,1],\n",
    "}\n",
    "\n",
    "xgb_clf = xgb.XGBClassifier(learning_rate=0.1, n_estimators=400)\n",
    "\n",
    "grid = RandomizedSearchCV(xgb_clf, param_distributions=param_grid, cv=3, n_iter=10, scoring=make_scorer(f1_score))\n",
    "grid.fit(X_train, y_train)"
   ]
  },
  {
   "cell_type": "code",
   "execution_count": 10,
   "id": "54d7a3d8",
   "metadata": {},
   "outputs": [
    {
     "data": {
      "text/plain": [
       "{'subsample': 0.9, 'max_depth': 10, 'colsample_bytree': 0.8}"
      ]
     },
     "execution_count": 10,
     "metadata": {},
     "output_type": "execute_result"
    }
   ],
   "source": [
    "grid.best_params_"
   ]
  },
  {
   "cell_type": "code",
   "execution_count": 11,
   "id": "4d949aff",
   "metadata": {},
   "outputs": [
    {
     "data": {
      "text/plain": [
       "0.8812709030100334"
      ]
     },
     "execution_count": 11,
     "metadata": {},
     "output_type": "execute_result"
    }
   ],
   "source": [
    "f1_score(y_val, grid.predict(X_val))"
   ]
  },
  {
   "cell_type": "code",
   "execution_count": 12,
   "id": "2ed639e3",
   "metadata": {},
   "outputs": [
    {
     "data": {
      "text/html": [
       "<div>\n",
       "<style scoped>\n",
       "    .dataframe tbody tr th:only-of-type {\n",
       "        vertical-align: middle;\n",
       "    }\n",
       "\n",
       "    .dataframe tbody tr th {\n",
       "        vertical-align: top;\n",
       "    }\n",
       "\n",
       "    .dataframe thead th {\n",
       "        text-align: right;\n",
       "    }\n",
       "</style>\n",
       "<table border=\"1\" class=\"dataframe\">\n",
       "  <thead>\n",
       "    <tr style=\"text-align: right;\">\n",
       "      <th></th>\n",
       "      <th>mean_fit_time</th>\n",
       "      <th>std_fit_time</th>\n",
       "      <th>mean_score_time</th>\n",
       "      <th>std_score_time</th>\n",
       "      <th>param_subsample</th>\n",
       "      <th>param_max_depth</th>\n",
       "      <th>param_colsample_bytree</th>\n",
       "      <th>params</th>\n",
       "      <th>split0_test_score</th>\n",
       "      <th>split1_test_score</th>\n",
       "      <th>split2_test_score</th>\n",
       "      <th>mean_test_score</th>\n",
       "      <th>std_test_score</th>\n",
       "      <th>rank_test_score</th>\n",
       "    </tr>\n",
       "  </thead>\n",
       "  <tbody>\n",
       "    <tr>\n",
       "      <th>0</th>\n",
       "      <td>31.110690</td>\n",
       "      <td>12.574561</td>\n",
       "      <td>0.164528</td>\n",
       "      <td>0.035676</td>\n",
       "      <td>0.9</td>\n",
       "      <td>14</td>\n",
       "      <td>1</td>\n",
       "      <td>{'subsample': 0.9, 'max_depth': 14, 'colsample...</td>\n",
       "      <td>0.875591</td>\n",
       "      <td>0.871762</td>\n",
       "      <td>0.872990</td>\n",
       "      <td>0.873448</td>\n",
       "      <td>0.001596</td>\n",
       "      <td>6</td>\n",
       "    </tr>\n",
       "    <tr>\n",
       "      <th>1</th>\n",
       "      <td>13.707355</td>\n",
       "      <td>0.856079</td>\n",
       "      <td>0.119056</td>\n",
       "      <td>0.014219</td>\n",
       "      <td>0.9</td>\n",
       "      <td>10</td>\n",
       "      <td>0.8</td>\n",
       "      <td>{'subsample': 0.9, 'max_depth': 10, 'colsample...</td>\n",
       "      <td>0.877970</td>\n",
       "      <td>0.873547</td>\n",
       "      <td>0.876740</td>\n",
       "      <td>0.876086</td>\n",
       "      <td>0.001864</td>\n",
       "      <td>1</td>\n",
       "    </tr>\n",
       "    <tr>\n",
       "      <th>2</th>\n",
       "      <td>21.016765</td>\n",
       "      <td>3.110556</td>\n",
       "      <td>0.172736</td>\n",
       "      <td>0.031672</td>\n",
       "      <td>0.7</td>\n",
       "      <td>14</td>\n",
       "      <td>1</td>\n",
       "      <td>{'subsample': 0.7, 'max_depth': 14, 'colsample...</td>\n",
       "      <td>0.872680</td>\n",
       "      <td>0.870792</td>\n",
       "      <td>0.872364</td>\n",
       "      <td>0.871945</td>\n",
       "      <td>0.000825</td>\n",
       "      <td>10</td>\n",
       "    </tr>\n",
       "    <tr>\n",
       "      <th>3</th>\n",
       "      <td>25.515608</td>\n",
       "      <td>4.944249</td>\n",
       "      <td>0.179063</td>\n",
       "      <td>0.030300</td>\n",
       "      <td>0.9</td>\n",
       "      <td>14</td>\n",
       "      <td>0.7</td>\n",
       "      <td>{'subsample': 0.9, 'max_depth': 14, 'colsample...</td>\n",
       "      <td>0.878014</td>\n",
       "      <td>0.872146</td>\n",
       "      <td>0.874374</td>\n",
       "      <td>0.874845</td>\n",
       "      <td>0.002418</td>\n",
       "      <td>2</td>\n",
       "    </tr>\n",
       "    <tr>\n",
       "      <th>4</th>\n",
       "      <td>22.766502</td>\n",
       "      <td>0.172110</td>\n",
       "      <td>0.147220</td>\n",
       "      <td>0.009292</td>\n",
       "      <td>0.6</td>\n",
       "      <td>11</td>\n",
       "      <td>1</td>\n",
       "      <td>{'subsample': 0.6, 'max_depth': 11, 'colsample...</td>\n",
       "      <td>0.876045</td>\n",
       "      <td>0.869830</td>\n",
       "      <td>0.873014</td>\n",
       "      <td>0.872963</td>\n",
       "      <td>0.002538</td>\n",
       "      <td>8</td>\n",
       "    </tr>\n",
       "    <tr>\n",
       "      <th>5</th>\n",
       "      <td>16.436802</td>\n",
       "      <td>1.731628</td>\n",
       "      <td>0.131651</td>\n",
       "      <td>0.006841</td>\n",
       "      <td>0.9</td>\n",
       "      <td>13</td>\n",
       "      <td>0.7</td>\n",
       "      <td>{'subsample': 0.9, 'max_depth': 13, 'colsample...</td>\n",
       "      <td>0.877400</td>\n",
       "      <td>0.872471</td>\n",
       "      <td>0.874005</td>\n",
       "      <td>0.874625</td>\n",
       "      <td>0.002060</td>\n",
       "      <td>3</td>\n",
       "    </tr>\n",
       "    <tr>\n",
       "      <th>6</th>\n",
       "      <td>13.392612</td>\n",
       "      <td>1.560332</td>\n",
       "      <td>0.114047</td>\n",
       "      <td>0.004402</td>\n",
       "      <td>0.9</td>\n",
       "      <td>11</td>\n",
       "      <td>0.8</td>\n",
       "      <td>{'subsample': 0.9, 'max_depth': 11, 'colsample...</td>\n",
       "      <td>0.877699</td>\n",
       "      <td>0.873221</td>\n",
       "      <td>0.872839</td>\n",
       "      <td>0.874586</td>\n",
       "      <td>0.002206</td>\n",
       "      <td>4</td>\n",
       "    </tr>\n",
       "    <tr>\n",
       "      <th>7</th>\n",
       "      <td>15.249913</td>\n",
       "      <td>0.274470</td>\n",
       "      <td>0.131586</td>\n",
       "      <td>0.001914</td>\n",
       "      <td>0.6</td>\n",
       "      <td>15</td>\n",
       "      <td>0.7</td>\n",
       "      <td>{'subsample': 0.6, 'max_depth': 15, 'colsample...</td>\n",
       "      <td>0.873660</td>\n",
       "      <td>0.869256</td>\n",
       "      <td>0.873588</td>\n",
       "      <td>0.872168</td>\n",
       "      <td>0.002060</td>\n",
       "      <td>9</td>\n",
       "    </tr>\n",
       "    <tr>\n",
       "      <th>8</th>\n",
       "      <td>9.973340</td>\n",
       "      <td>0.037838</td>\n",
       "      <td>0.105111</td>\n",
       "      <td>0.000165</td>\n",
       "      <td>0.7</td>\n",
       "      <td>11</td>\n",
       "      <td>0.6</td>\n",
       "      <td>{'subsample': 0.7, 'max_depth': 11, 'colsample...</td>\n",
       "      <td>0.877685</td>\n",
       "      <td>0.870010</td>\n",
       "      <td>0.872844</td>\n",
       "      <td>0.873513</td>\n",
       "      <td>0.003169</td>\n",
       "      <td>5</td>\n",
       "    </tr>\n",
       "    <tr>\n",
       "      <th>9</th>\n",
       "      <td>13.257938</td>\n",
       "      <td>0.033281</td>\n",
       "      <td>0.120045</td>\n",
       "      <td>0.005272</td>\n",
       "      <td>0.7</td>\n",
       "      <td>12</td>\n",
       "      <td>0.8</td>\n",
       "      <td>{'subsample': 0.7, 'max_depth': 12, 'colsample...</td>\n",
       "      <td>0.876466</td>\n",
       "      <td>0.870190</td>\n",
       "      <td>0.873301</td>\n",
       "      <td>0.873319</td>\n",
       "      <td>0.002562</td>\n",
       "      <td>7</td>\n",
       "    </tr>\n",
       "  </tbody>\n",
       "</table>\n",
       "</div>"
      ],
      "text/plain": [
       "   mean_fit_time  std_fit_time  mean_score_time  std_score_time  \\\n",
       "0      31.110690     12.574561         0.164528        0.035676   \n",
       "1      13.707355      0.856079         0.119056        0.014219   \n",
       "2      21.016765      3.110556         0.172736        0.031672   \n",
       "3      25.515608      4.944249         0.179063        0.030300   \n",
       "4      22.766502      0.172110         0.147220        0.009292   \n",
       "5      16.436802      1.731628         0.131651        0.006841   \n",
       "6      13.392612      1.560332         0.114047        0.004402   \n",
       "7      15.249913      0.274470         0.131586        0.001914   \n",
       "8       9.973340      0.037838         0.105111        0.000165   \n",
       "9      13.257938      0.033281         0.120045        0.005272   \n",
       "\n",
       "  param_subsample param_max_depth param_colsample_bytree  \\\n",
       "0             0.9              14                      1   \n",
       "1             0.9              10                    0.8   \n",
       "2             0.7              14                      1   \n",
       "3             0.9              14                    0.7   \n",
       "4             0.6              11                      1   \n",
       "5             0.9              13                    0.7   \n",
       "6             0.9              11                    0.8   \n",
       "7             0.6              15                    0.7   \n",
       "8             0.7              11                    0.6   \n",
       "9             0.7              12                    0.8   \n",
       "\n",
       "                                              params  split0_test_score  \\\n",
       "0  {'subsample': 0.9, 'max_depth': 14, 'colsample...           0.875591   \n",
       "1  {'subsample': 0.9, 'max_depth': 10, 'colsample...           0.877970   \n",
       "2  {'subsample': 0.7, 'max_depth': 14, 'colsample...           0.872680   \n",
       "3  {'subsample': 0.9, 'max_depth': 14, 'colsample...           0.878014   \n",
       "4  {'subsample': 0.6, 'max_depth': 11, 'colsample...           0.876045   \n",
       "5  {'subsample': 0.9, 'max_depth': 13, 'colsample...           0.877400   \n",
       "6  {'subsample': 0.9, 'max_depth': 11, 'colsample...           0.877699   \n",
       "7  {'subsample': 0.6, 'max_depth': 15, 'colsample...           0.873660   \n",
       "8  {'subsample': 0.7, 'max_depth': 11, 'colsample...           0.877685   \n",
       "9  {'subsample': 0.7, 'max_depth': 12, 'colsample...           0.876466   \n",
       "\n",
       "   split1_test_score  split2_test_score  mean_test_score  std_test_score  \\\n",
       "0           0.871762           0.872990         0.873448        0.001596   \n",
       "1           0.873547           0.876740         0.876086        0.001864   \n",
       "2           0.870792           0.872364         0.871945        0.000825   \n",
       "3           0.872146           0.874374         0.874845        0.002418   \n",
       "4           0.869830           0.873014         0.872963        0.002538   \n",
       "5           0.872471           0.874005         0.874625        0.002060   \n",
       "6           0.873221           0.872839         0.874586        0.002206   \n",
       "7           0.869256           0.873588         0.872168        0.002060   \n",
       "8           0.870010           0.872844         0.873513        0.003169   \n",
       "9           0.870190           0.873301         0.873319        0.002562   \n",
       "\n",
       "   rank_test_score  \n",
       "0                6  \n",
       "1                1  \n",
       "2               10  \n",
       "3                2  \n",
       "4                8  \n",
       "5                3  \n",
       "6                4  \n",
       "7                9  \n",
       "8                5  \n",
       "9                7  "
      ]
     },
     "execution_count": 12,
     "metadata": {},
     "output_type": "execute_result"
    }
   ],
   "source": [
    "pd.DataFrame(grid.cv_results_)"
   ]
  },
  {
   "cell_type": "code",
   "execution_count": 13,
   "id": "6e417c55-219d-4290-b731-9254875411ab",
   "metadata": {
    "tags": []
   },
   "outputs": [
    {
     "name": "stdout",
     "output_type": "stream",
     "text": [
      "F1 Score: 0.8812709030100334\n",
      "Precision: 0.877321039825842\n",
      "Recall: 0.8852564930869622\n",
      "Accuracy: 0.8807416499773887\n"
     ]
    }
   ],
   "source": [
    "y_pred = grid.predict(X_val)\n",
    "\n",
    "accuracy = accuracy_score(y_val, y_pred)\n",
    "precision = precision_score(y_val, y_pred)\n",
    "recall = recall_score(y_val, y_pred)\n",
    "f1 = f1_score(y_val, y_pred)\n",
    "\n",
    "print(\"F1 Score:\", f1)\n",
    "print(\"Precision:\", precision)\n",
    "print(\"Recall:\", recall)\n",
    "print(\"Accuracy:\", accuracy)"
   ]
  },
  {
   "cell_type": "markdown",
   "id": "d9534680",
   "metadata": {},
   "source": [
    "Ploteamos las matrices de confusion, ambas para el conjunto de entrenamiento como el de validacion:"
   ]
  },
  {
   "cell_type": "code",
   "execution_count": 14,
   "id": "c185005d",
   "metadata": {},
   "outputs": [
    {
     "data": {
      "text/plain": [
       "Text(0.5, 1.0, 'Confusion matrix de training set')"
      ]
     },
     "execution_count": 14,
     "metadata": {},
     "output_type": "execute_result"
    },
    {
     "data": {
      "image/png": "[encoded data removed]",
      "text/plain": [
       "<Figure size 640x480 with 2 Axes>"
      ]
     },
     "metadata": {},
     "output_type": "display_data"
    }
   ],
   "source": [
    "y_pred = grid.predict(X_train)\n",
    "confusion = confusion_matrix(y_train, y_pred)\n",
    "sns.heatmap(confusion, annot=True, fmt='.0f')\n",
    "plt.ylabel('true')\n",
    "plt.xlabel('predicted')\n",
    "plt.title(\"Confusion matrix de training set\")"
   ]
  },
  {
   "cell_type": "code",
   "execution_count": 15,
   "id": "e651d821",
   "metadata": {},
   "outputs": [
    {
     "name": "stdout",
     "output_type": "stream",
     "text": [
      "precision 0.877321039825842\n",
      "recall 0.8852564930869622\n"
     ]
    },
    {
     "data": {
      "image/png": "[encoded data removed]",
      "text/plain": [
       "<Figure size 640x480 with 2 Axes>"
      ]
     },
     "metadata": {},
     "output_type": "display_data"
    }
   ],
   "source": [
    "y_pred = grid.predict(X_val)\n",
    "confusion = confusion_matrix(y_val, y_pred)\n",
    "sns.heatmap(confusion, annot=True, fmt='.0f')\n",
    "plt.ylabel('true')\n",
    "plt.xlabel('predicted')\n",
    "plt.title(\"Confusion matrix del validation set\")\n",
    "print(\"precision\", precision_score(y_val, y_pred))\n",
    "print(\"recall\", recall_score(y_val, y_pred))"
   ]
  },
  {
   "cell_type": "markdown",
   "id": "60dd3984",
   "metadata": {},
   "source": [
    "# Creacion de submit"
   ]
  },
  {
   "cell_type": "code",
   "execution_count": 16,
   "id": "75bd3f9e",
   "metadata": {},
   "outputs": [],
   "source": [
    "def create_submission(model): \n",
    "    df_test = pd.read_csv(\"../dataset/hotels_test_procesado.csv\")\n",
    "    assert(len(df_test)==26535)\n",
    "\n",
    "    prediccion = model.predict(df_test[attrs].values)\n",
    "    assert(len(prediccion)==26535)\n",
    "\n",
    "    submit = pd.DataFrame(\n",
    "        {\"is_canceled\": prediccion},\n",
    "        index=df_test[\"id\"],\n",
    "    )\n",
    "    assert(len(submit)==26535)\n",
    "\n",
    "    submit.to_csv(\"../dataset/submit.csv\")"
   ]
  },
  {
   "cell_type": "code",
   "execution_count": 17,
   "id": "f4dc3001",
   "metadata": {},
   "outputs": [],
   "source": [
    "create_submission(grid)"
   ]
  },
  {
   "cell_type": "markdown",
   "id": "d7624051",
   "metadata": {},
   "source": [
    "# Guardando el modelo con pickle"
   ]
  },
  {
   "cell_type": "markdown",
   "id": "29d31882",
   "metadata": {},
   "source": [
    "Guardamos la svm con pickle:"
   ]
  },
  {
   "cell_type": "code",
   "execution_count": 19,
   "id": "4c1a2eee",
   "metadata": {
    "tags": []
   },
   "outputs": [],
   "source": [
    "import pickle\n",
    "\n",
    "with open('../modelos/xgb.pickle', 'wb') as file:\n",
    "    pickle.dump(grid, file)"
   ]
  }
 ],
 "metadata": {
  "kernelspec": {
   "display_name": "Python 3 (ipykernel)",
   "language": "python",
   "name": "python3"
  },
  "language_info": {
   "codemirror_mode": {
    "name": "ipython",
    "version": 3
   },
   "file_extension": ".py",
   "mimetype": "text/x-python",
   "name": "python",
   "nbconvert_exporter": "python",
   "pygments_lexer": "ipython3",
   "version": "3.8.10"
  },
  "vscode": {
   "interpreter": {
    "hash": "b530d9c2c2b5bebcf7d6e28a50876d0da6caa0e340fb26c46920b1580d5d916c"
   }
  }
 },
 "nbformat": 4,
 "nbformat_minor": 5
}
