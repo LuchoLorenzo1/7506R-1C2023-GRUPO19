{
 "cells": [
  {
   "cell_type": "markdown",
   "id": "4cefd7d9-5509-4399-9215-444c74fcce35",
   "metadata": {},
   "source": [
    "# <center>Organizaci&oacute;n de Datos</center>\n",
    "## <center>Trabajo Práctico 1 : Reservas de Hotel</center>\n",
    "## <center>Checkpoint 3</center>\n",
    "### <center>Redes Neuronales</center>\n",
    "\n",
    "#### Integrantes grupo 19: Sudanalytics \n",
    "* Adrian Leandro Re\n",
    "* Alan Toulouse\n",
    "* Luciano Lorenzo\n",
    "* Nicolas Tonizzo"
   ]
  },
  {
   "cell_type": "markdown",
   "id": "dd1cb26a-f989-4515-83d3-e4af83a71a10",
   "metadata": {},
   "source": [
    "## Ensamble híbrido\n",
    "Cargaremos los modelos creados con las notebooks anteriores usando la libreria pickle"
   ]
  },
  {
   "cell_type": "code",
   "execution_count": 1,
   "id": "d5c081f7-f594-4a97-a007-2339e7a9be5a",
   "metadata": {
    "tags": []
   },
   "outputs": [],
   "source": [
    "import pickle\n",
    "import pandas as pd\n",
    "import numpy as np\n",
    "from sklearn.model_selection import train_test_split\n",
    "from sklearn.model_selection import GridSearchCV,RandomizedSearchCV\n",
    "from sklearn.metrics import make_scorer, f1_score, confusion_matrix, precision_score, recall_score, accuracy_score\n",
    "from sklearn.preprocessing import StandardScaler\n",
    "import matplotlib.pyplot as plt\n",
    "import seaborn as sns\n",
    "from tensorflow import keras\n",
    "from keras.wrappers.scikit_learn import KerasClassifier\n",
    "import tensorflow as tf"
   ]
  },
  {
   "cell_type": "code",
   "execution_count": 2,
   "id": "c33d34e7-0a81-4b1e-bd69-da53e40ea9b7",
   "metadata": {
    "tags": []
   },
   "outputs": [
    {
     "data": {
      "text/plain": [
       "Index(['hotel', 'lead_time', 'arrival_date_year', 'arrival_date_month',\n",
       "       'arrival_date_week_number', 'arrival_date_day_of_month',\n",
       "       'stays_in_weekend_nights', 'stays_in_week_nights', 'adults', 'children',\n",
       "       'babies', 'meal', 'country', 'market_segment', 'distribution_channel',\n",
       "       'is_repeated_guest', 'previous_cancellations',\n",
       "       'previous_bookings_not_canceled', 'reserved_room_type',\n",
       "       'assigned_room_type', 'booking_changes', 'deposit_type', 'agent',\n",
       "       'company', 'days_in_waiting_list', 'customer_type', 'adr',\n",
       "       'required_car_parking_spaces', 'total_of_special_requests',\n",
       "       'reservation_status_date', 'id', 'is_canceled', 'hotel_encoding',\n",
       "       'tiene_hijos', 'es_extranjero', 'es_portugues', 'es_ingles',\n",
       "       'es_frances', 'es_espanol', 'es_aleman', 'reserved_room_was_assigned',\n",
       "       'required_a_car_parking_space', 'solo_desayuna_en_el_hotel',\n",
       "       'pidio_todas_comidas', 'reservo_online', 'reservo_en_grupo',\n",
       "       'reservo_sin_reembolso', 'reservo_sin_depositar', 'reservo_sin_paquete',\n",
       "       'reservo_sin_compania', 'reservo_sin_agente', 'tuvo_dias_de_espera',\n",
       "       'reservo_el_mismo_dia', 'total_reservas_previas', 'agent9', 'agent240',\n",
       "       'agent1', 'agent14', 'agent6'],\n",
       "      dtype='object')"
      ]
     },
     "execution_count": 2,
     "metadata": {},
     "output_type": "execute_result"
    }
   ],
   "source": [
    "df = pd.read_csv(\"../dataset/hotels_train_procesado.csv\")\n",
    "df.columns"
   ]
  },
  {
   "cell_type": "markdown",
   "id": "9c4ffd21-d886-4677-bc39-810fbd17a209",
   "metadata": {
    "tags": []
   },
   "source": [
    "Declaramos el target y los features del dataframe que vamos a utilizar para predecir."
   ]
  },
  {
   "cell_type": "code",
   "execution_count": 3,
   "id": "e2346c67-e9fb-4736-8f7e-be9df7b587c0",
   "metadata": {
    "tags": []
   },
   "outputs": [],
   "source": [
    "target = \"is_canceled\"\n",
    "\n",
    "attrs = [\n",
    "    \"hotel_encoding\",\n",
    "    \n",
    "    \"lead_time\",\n",
    "    \"reservo_el_mismo_dia\",\n",
    "    \"adr\",\n",
    "\n",
    "    \"stays_in_weekend_nights\",\n",
    "    \"stays_in_week_nights\",\n",
    "\n",
    "    \"tiene_hijos\",\n",
    "    \"adults\",\n",
    "    #\"children\",\n",
    "    #\"babies\",\n",
    "\n",
    "    # Fechas\n",
    "    \"arrival_date_week_number\",\n",
    "    \"arrival_date_day_of_month\",\n",
    "    \"arrival_date_year\",\n",
    "\n",
    "    \"es_extranjero\",\n",
    "    #\"es_portugues\",\n",
    "    #\"es_ingles\",\n",
    "    #\"es_frances\",\n",
    "    #\"es_espanol\",\n",
    "    #es_aleman\",\n",
    "\n",
    "    \"reserved_room_was_assigned\",\n",
    "\n",
    "    \"is_repeated_guest\",\n",
    "    \"previous_cancellations\", \n",
    "    #\"previous_bookings_not_canceled\",\n",
    "    \"total_reservas_previas\",\n",
    "    \"total_of_special_requests\",\n",
    "    \"booking_changes\",\n",
    "\n",
    "    # 'meal',\n",
    "    \"solo_desayuna_en_el_hotel\",\n",
    "    \"pidio_todas_comidas\",\n",
    "\n",
    "    'required_car_parking_spaces',\n",
    "    \"required_a_car_parking_space\",\n",
    "\n",
    "    \"reservo_sin_reembolso\",\n",
    "    \"reservo_sin_depositar\",\n",
    "    \"reservo_online\",\n",
    "    \"reservo_en_grupo\",\n",
    "    \"reservo_sin_compania\",\n",
    "    \"reservo_sin_agente\",\n",
    "    \"reservo_sin_paquete\",\n",
    "    \n",
    "    \"days_in_waiting_list\",\n",
    "    \"tuvo_dias_de_espera\",\n",
    "    \n",
    "    \"agent9\",\n",
    "    \"agent240\",\n",
    "    \"agent1\",\n",
    "    \"agent14\",\n",
    "    \"agent6\",\n",
    "]"
   ]
  },
  {
   "cell_type": "markdown",
   "id": "616f47bf-1fdc-450c-b591-b38e909cfa28",
   "metadata": {},
   "source": [
    "**Dividimos el dataset en entrenamiento y validacion**, para poder validar que no estamos overfitteando al dataset de entrenamiento, y que los modelos van a predecir bien a registros no vistos anteriormente. "
   ]
  },
  {
   "cell_type": "code",
   "execution_count": 4,
   "id": "2070e9d1",
   "metadata": {},
   "outputs": [
    {
     "data": {
      "text/plain": [
       "(30956, 36)"
      ]
     },
     "execution_count": 4,
     "metadata": {},
     "output_type": "execute_result"
    }
   ],
   "source": [
    "X = df[attrs].values\n",
    "y = df[target].values\n",
    "\n",
    "scaler = StandardScaler()\n",
    "X = scaler.fit_transform(X)\n",
    "\n",
    "X_train, X_val, y_train, y_val = train_test_split(X, y, test_size=0.5, shuffle=True)\n",
    "X_train.shape"
   ]
  },
  {
   "cell_type": "code",
   "execution_count": 74,
   "id": "bf5f6562",
   "metadata": {},
   "outputs": [],
   "source": [
    "model = keras.models.Sequential()\n",
    "model.add(keras.layers.Dense(400, input_shape=X[1,:].shape, activation=keras.activations.elu))\n",
    "model.add(keras.layers.Dense(250, activation=keras.activations.elu))\n",
    "model.add(keras.layers.Dense(250, activation=keras.activations.elu))\n",
    "model.add(keras.layers.Dense(50, activation=keras.activations.relu))\n",
    "model.add(keras.layers.Dense(1, activation=keras.activations.sigmoid))"
   ]
  },
  {
   "cell_type": "code",
   "execution_count": 75,
   "id": "a46f2709",
   "metadata": {},
   "outputs": [
    {
     "name": "stdout",
     "output_type": "stream",
     "text": [
      "Model: \"sequential_7\"\n",
      "_________________________________________________________________\n",
      " Layer (type)                Output Shape              Param #   \n",
      "=================================================================\n",
      " dense_29 (Dense)            (None, 400)               14800     \n",
      "                                                                 \n",
      " dense_30 (Dense)            (None, 250)               100250    \n",
      "                                                                 \n",
      " dense_31 (Dense)            (None, 250)               62750     \n",
      "                                                                 \n",
      " dense_32 (Dense)            (None, 50)                12550     \n",
      "                                                                 \n",
      " dense_33 (Dense)            (None, 1)                 51        \n",
      "                                                                 \n",
      "=================================================================\n",
      "Total params: 190,401\n",
      "Trainable params: 190,401\n",
      "Non-trainable params: 0\n",
      "_________________________________________________________________\n"
     ]
    }
   ],
   "source": [
    "model.compile(loss=keras.losses.binary_crossentropy,\n",
    "    optimizer=keras.optimizers.Adagrad(learning_rate=0.01),\n",
    "    metrics=[keras.metrics.sparse_categorical_accuracy]\n",
    ")\n",
    "model.summary() "
   ]
  },
  {
   "cell_type": "code",
   "execution_count": 70,
   "id": "18106f5a",
   "metadata": {
    "scrolled": true
   },
   "outputs": [
    {
     "name": "stdout",
     "output_type": "stream",
     "text": [
      "Epoch 1/25\n",
      "688/688 [==============================] - 7s 10ms/step - loss: 0.2724 - sparse_categorical_accuracy: 0.5005 - val_loss: 0.2998 - val_sparse_categorical_accuracy: 0.5000\n",
      "Epoch 2/25\n",
      "688/688 [==============================] - 7s 10ms/step - loss: 0.2713 - sparse_categorical_accuracy: 0.5005 - val_loss: 0.2994 - val_sparse_categorical_accuracy: 0.5000\n",
      "Epoch 3/25\n",
      "688/688 [==============================] - 9s 13ms/step - loss: 0.2704 - sparse_categorical_accuracy: 0.5005 - val_loss: 0.2993 - val_sparse_categorical_accuracy: 0.5000\n",
      "Epoch 4/25\n",
      "688/688 [==============================] - 10s 14ms/step - loss: 0.2695 - sparse_categorical_accuracy: 0.5005 - val_loss: 0.2991 - val_sparse_categorical_accuracy: 0.5000\n",
      "Epoch 5/25\n",
      "688/688 [==============================] - 13s 18ms/step - loss: 0.2682 - sparse_categorical_accuracy: 0.5005 - val_loss: 0.2978 - val_sparse_categorical_accuracy: 0.5000\n",
      "Epoch 6/25\n",
      "688/688 [==============================] - 10s 14ms/step - loss: 0.2673 - sparse_categorical_accuracy: 0.5005 - val_loss: 0.2983 - val_sparse_categorical_accuracy: 0.5000\n",
      "Epoch 7/25\n",
      "688/688 [==============================] - 8s 12ms/step - loss: 0.2665 - sparse_categorical_accuracy: 0.5005 - val_loss: 0.2990 - val_sparse_categorical_accuracy: 0.5000\n",
      "Epoch 8/25\n",
      "688/688 [==============================] - 6s 9ms/step - loss: 0.2658 - sparse_categorical_accuracy: 0.5005 - val_loss: 0.2964 - val_sparse_categorical_accuracy: 0.5000\n",
      "Epoch 9/25\n",
      "688/688 [==============================] - 6s 9ms/step - loss: 0.2650 - sparse_categorical_accuracy: 0.5005 - val_loss: 0.2964 - val_sparse_categorical_accuracy: 0.5000\n",
      "Epoch 10/25\n",
      "688/688 [==============================] - 7s 11ms/step - loss: 0.2638 - sparse_categorical_accuracy: 0.5005 - val_loss: 0.2997 - val_sparse_categorical_accuracy: 0.5000\n",
      "Epoch 11/25\n",
      "688/688 [==============================] - 7s 11ms/step - loss: 0.2634 - sparse_categorical_accuracy: 0.5005 - val_loss: 0.2943 - val_sparse_categorical_accuracy: 0.5000\n",
      "Epoch 12/25\n",
      "688/688 [==============================] - 7s 10ms/step - loss: 0.2623 - sparse_categorical_accuracy: 0.5005 - val_loss: 0.2975 - val_sparse_categorical_accuracy: 0.5000\n",
      "Epoch 13/25\n",
      "688/688 [==============================] - 7s 10ms/step - loss: 0.2619 - sparse_categorical_accuracy: 0.5005 - val_loss: 0.2976 - val_sparse_categorical_accuracy: 0.5000\n",
      "Epoch 14/25\n",
      "688/688 [==============================] - 7s 10ms/step - loss: 0.2606 - sparse_categorical_accuracy: 0.5005 - val_loss: 0.2953 - val_sparse_categorical_accuracy: 0.5000\n"
     ]
    }
   ],
   "source": [
    "history = model.fit(X_train, y_train,\n",
    "                    epochs=25,\n",
    "                    batch_size=45,\n",
    "                    validation_data=(X_val, y_val),\n",
    "                    callbacks = [keras.callbacks.EarlyStopping(patience=3, restore_best_weights=True)])"
   ]
  },
  {
   "cell_type": "code",
   "execution_count": 71,
   "id": "14537028",
   "metadata": {},
   "outputs": [
    {
     "name": "stdout",
     "output_type": "stream",
     "text": [
      "968/968 [==============================] - 3s 3ms/step - loss: 0.2943 - sparse_categorical_accuracy: 0.5000\n",
      "Loss =  0.2943118214607239\n",
      "Accuracy =  0.49998384714126587\n"
     ]
    }
   ],
   "source": [
    "# Test, Loss and accuracy\n",
    "loss_and_metrics = model.evaluate(X_val, y_val)\n",
    "print('Loss = ',loss_and_metrics[0])\n",
    "print('Accuracy = ',loss_and_metrics[1])"
   ]
  },
  {
   "cell_type": "code",
   "execution_count": 72,
   "id": "56c2b573",
   "metadata": {},
   "outputs": [
    {
     "name": "stdout",
     "output_type": "stream",
     "text": [
      "968/968 [==============================] - 3s 3ms/step\n",
      "f1 score sobre validacion: 0.8635070787127288\n"
     ]
    }
   ],
   "source": [
    "y_pred = model.predict(X_val)\n",
    "y_pred = np.where(y_pred >= 0.5, 1, 0)\n",
    "print(\"f1 score sobre validacion:\", f1_score(y_val, y_pred))"
   ]
  },
  {
   "cell_type": "code",
   "execution_count": 73,
   "id": "400bf603",
   "metadata": {},
   "outputs": [
    {
     "name": "stdout",
     "output_type": "stream",
     "text": [
      "968/968 [==============================] - 2s 3ms/step\n",
      "f1 score sobre train: 0.8831841432225064\n"
     ]
    }
   ],
   "source": [
    "y_pred = model.predict(X_train)\n",
    "y_pred = np.where(y_pred >= 0.5, 1, 0)\n",
    "print(\"f1 score sobre train:\", f1_score(y_train, y_pred))"
   ]
  },
  {
   "cell_type": "markdown",
   "id": "6fc386ba",
   "metadata": {},
   "source": [
    "## Matrices de confusion"
   ]
  },
  {
   "cell_type": "markdown",
   "id": "31f65072-ea91-43a5-9194-b6a8db1fac58",
   "metadata": {},
   "source": [
    "Ploteamos la confusion matrix del set de entrenamiento"
   ]
  },
  {
   "cell_type": "code",
   "execution_count": 11,
   "id": "7e16718b-6585-492b-adbd-690578875647",
   "metadata": {
    "tags": []
   },
   "outputs": [
    {
     "name": "stdout",
     "output_type": "stream",
     "text": [
      "968/968 [==============================] - 3s 3ms/step\n"
     ]
    },
    {
     "data": {
      "text/plain": [
       "Text(0.5, 1.0, 'Confusion matrix de training set')"
      ]
     },
     "execution_count": 11,
     "metadata": {},
     "output_type": "execute_result"
    },
    {
     "data": {
      "image/png": "[encoded data removed]",
      "text/plain": [
       "<Figure size 640x480 with 2 Axes>"
      ]
     },
     "metadata": {},
     "output_type": "display_data"
    }
   ],
   "source": [
    "y_pred = np.where(model.predict(X_train) >= 0.5, 1, 0)\n",
    "confusion = confusion_matrix(y_train, y_pred)\n",
    "sns.heatmap(confusion, annot=True, fmt='.0f')\n",
    "plt.ylabel('true')\n",
    "plt.xlabel('predicted')\n",
    "plt.title(\"Confusion matrix de training set\")"
   ]
  },
  {
   "cell_type": "markdown",
   "id": "408332cc-e8d0-47b0-a49f-fc373970f334",
   "metadata": {},
   "source": [
    "Ploteamos la confusion matrix del set de validación"
   ]
  },
  {
   "cell_type": "code",
   "execution_count": 12,
   "id": "0df6db72-0fbd-4bba-8bad-cf1cce457f6b",
   "metadata": {
    "tags": []
   },
   "outputs": [
    {
     "name": "stdout",
     "output_type": "stream",
     "text": [
      "968/968 [==============================] - 3s 3ms/step\n"
     ]
    },
    {
     "data": {
      "text/plain": [
       "Text(0.5, 1.0, 'Confusion matrix del validation set (voting)')"
      ]
     },
     "execution_count": 12,
     "metadata": {},
     "output_type": "execute_result"
    },
    {
     "data": {
      "image/png": "[encoded data removed]",
      "text/plain": [
       "<Figure size 640x480 with 2 Axes>"
      ]
     },
     "metadata": {},
     "output_type": "display_data"
    }
   ],
   "source": [
    "y_pred = np.where(model.predict(X_val) >= 0.5, 1, 0)\n",
    "confusion = confusion_matrix(y_val, y_pred)\n",
    "sns.heatmap(confusion, annot=True, fmt='.0f')\n",
    "plt.ylabel('true')\n",
    "plt.xlabel('predicted')\n",
    "plt.title(\"Confusion matrix del validation set (voting)\")"
   ]
  },
  {
   "cell_type": "markdown",
   "id": "ac0b2384",
   "metadata": {},
   "source": [
    "## busqueda hiperparametros"
   ]
  },
  {
   "cell_type": "markdown",
   "id": "6124a53f",
   "metadata": {},
   "source": [
    "para la busqueda de hiperparemetros creamos un modelo mas simple que el anterior para que no tarde tanto tiempo en ejecutarse"
   ]
  },
  {
   "cell_type": "code",
   "execution_count": 20,
   "id": "15ea760f",
   "metadata": {},
   "outputs": [
    {
     "name": "stderr",
     "output_type": "stream",
     "text": [
      "C:\\Users\\ecalpao\\AppData\\Local\\Temp\\ipykernel_19000\\1834910444.py:8: DeprecationWarning: KerasClassifier is deprecated, use Sci-Keras (https://github.com/adriangb/scikeras) instead. See https://www.adriangb.com/scikeras/stable/migration.html for help migrating.\n",
      "  modelo = KerasClassifier(build_fn = create_model)\n",
      "c:\\Users\\ecalpao\\AppData\\Local\\Programs\\Python\\Python38\\lib\\site-packages\\sklearn\\model_selection\\_search.py:305: UserWarning: The total space of parameters 9 is smaller than n_iter=10. Running 9 iterations. For exhaustive searches, use GridSearchCV.\n",
      "  warnings.warn(\n"
     ]
    },
    {
     "name": "stdout",
     "output_type": "stream",
     "text": [
      "Epoch 1/25\n",
      "1548/1548 [==============================] - 8s 4ms/step - loss: 0.4501 - accuracy: 0.7781\n",
      "Epoch 2/25\n",
      "1548/1548 [==============================] - 6s 4ms/step - loss: 0.3599 - accuracy: 0.8326\n",
      "Epoch 3/25\n",
      "1548/1548 [==============================] - 4s 3ms/step - loss: 0.3490 - accuracy: 0.8368\n",
      "Epoch 4/25\n",
      "1548/1548 [==============================] - 4s 3ms/step - loss: 0.3433 - accuracy: 0.8366\n",
      "Epoch 5/25\n",
      "1548/1548 [==============================] - 4s 3ms/step - loss: 0.3391 - accuracy: 0.8377\n",
      "Epoch 6/25\n",
      "1548/1548 [==============================] - 4s 2ms/step - loss: 0.3364 - accuracy: 0.8390\n",
      "Epoch 7/25\n",
      "1548/1548 [==============================] - 4s 3ms/step - loss: 0.3342 - accuracy: 0.8406\n",
      "Epoch 8/25\n",
      "1548/1548 [==============================] - 4s 3ms/step - loss: 0.3323 - accuracy: 0.8415\n",
      "Epoch 9/25\n",
      "1548/1548 [==============================] - 4s 3ms/step - loss: 0.3305 - accuracy: 0.8418\n",
      "Epoch 10/25\n",
      "1548/1548 [==============================] - 5s 3ms/step - loss: 0.3285 - accuracy: 0.8426\n",
      "Epoch 11/25\n",
      "1548/1548 [==============================] - 5s 3ms/step - loss: 0.3272 - accuracy: 0.8427\n",
      "Epoch 12/25\n",
      "1548/1548 [==============================] - 4s 2ms/step - loss: 0.3259 - accuracy: 0.8439\n",
      "Epoch 13/25\n",
      "1548/1548 [==============================] - 4s 2ms/step - loss: 0.3246 - accuracy: 0.8434\n",
      "Epoch 14/25\n",
      "1548/1548 [==============================] - 4s 2ms/step - loss: 0.3242 - accuracy: 0.8440\n",
      "Epoch 15/25\n",
      "1548/1548 [==============================] - 4s 3ms/step - loss: 0.3232 - accuracy: 0.8449\n",
      "Epoch 16/25\n",
      "1548/1548 [==============================] - 4s 3ms/step - loss: 0.3229 - accuracy: 0.8449\n",
      "Epoch 17/25\n",
      "1548/1548 [==============================] - 4s 2ms/step - loss: 0.3221 - accuracy: 0.8437\n",
      "Epoch 18/25\n",
      "1548/1548 [==============================] - 4s 2ms/step - loss: 0.3213 - accuracy: 0.8453\n",
      "Epoch 19/25\n",
      "1548/1548 [==============================] - 4s 2ms/step - loss: 0.3206 - accuracy: 0.8463\n",
      "Epoch 20/25\n",
      "1548/1548 [==============================] - 4s 2ms/step - loss: 0.3202 - accuracy: 0.8468\n",
      "Epoch 21/25\n",
      "1548/1548 [==============================] - 4s 2ms/step - loss: 0.3193 - accuracy: 0.8451\n",
      "Epoch 22/25\n",
      "1548/1548 [==============================] - 4s 2ms/step - loss: 0.3183 - accuracy: 0.8459\n",
      "Epoch 23/25\n",
      "1548/1548 [==============================] - 4s 2ms/step - loss: 0.3175 - accuracy: 0.8466\n",
      "Epoch 24/25\n",
      "1548/1548 [==============================] - 4s 3ms/step - loss: 0.3170 - accuracy: 0.8476\n",
      "Epoch 25/25\n",
      "1548/1548 [==============================] - 4s 2ms/step - loss: 0.3166 - accuracy: 0.8474\n"
     ]
    }
   ],
   "source": [
    "def create_model():\n",
    "    modelo = keras.Sequential()\n",
    "    modelo.add(keras.layers.Dense(8, activation='relu', input_shape=(36,)))\n",
    "    modelo.add(keras.layers.Dense(1, activation='sigmoid'))\n",
    "    modelo.compile(optimizer='adam', loss='binary_crossentropy', metrics=['accuracy'])\n",
    "    return modelo\n",
    "\n",
    "modelo = KerasClassifier(build_fn = create_model)\n",
    "\n",
    "\n",
    "epochs = [5,10,25]\n",
    "batches = [50, 20, 10]\n",
    "\n",
    "param_grid = dict( epochs=epochs, batch_size=batches)\n",
    "\n",
    "\n",
    "grid = RandomizedSearchCV(\n",
    "    estimator=modelo,\n",
    "    param_distributions=param_grid,\n",
    "    n_iter=10,\n",
    "    scoring='accuracy',\n",
    "    cv=3,\n",
    "    n_jobs=-1\n",
    ")\n",
    "grid_result = grid.fit(X_train, y_train)"
   ]
  },
  {
   "cell_type": "code",
   "execution_count": 21,
   "id": "3f27d878",
   "metadata": {},
   "outputs": [
    {
     "name": "stdout",
     "output_type": "stream",
     "text": [
      "Mejor modelo: 0.844715 {'epochs': 25, 'batch_size': 20}\n"
     ]
    }
   ],
   "source": [
    "\n",
    "print(\"Mejor modelo: %f %s\" % (grid_result.best_score_, grid_result.best_params_))\n"
   ]
  },
  {
   "cell_type": "code",
   "execution_count": 22,
   "id": "0a8483f7",
   "metadata": {},
   "outputs": [
    {
     "name": "stdout",
     "output_type": "stream",
     "text": [
      "968/968 [==============================] - 3s 3ms/step\n"
     ]
    },
    {
     "data": {
      "text/plain": [
       "array([[1],\n",
       "       [1],\n",
       "       [1],\n",
       "       ...,\n",
       "       [1],\n",
       "       [0],\n",
       "       [0]], dtype=int64)"
      ]
     },
     "execution_count": 22,
     "metadata": {},
     "output_type": "execute_result"
    }
   ],
   "source": [
    "y_p =grid.predict(X_val)\n",
    "y_p"
   ]
  },
  {
   "cell_type": "markdown",
   "id": "b5cc79e4",
   "metadata": {},
   "source": [
    "Ploteamos la confusion matrix del set de entrenamiento"
   ]
  },
  {
   "cell_type": "code",
   "execution_count": 23,
   "id": "00b2221e",
   "metadata": {},
   "outputs": [
    {
     "name": "stdout",
     "output_type": "stream",
     "text": [
      "968/968 [==============================] - 2s 2ms/step\n"
     ]
    },
    {
     "data": {
      "text/plain": [
       "Text(0.5, 1.0, 'Confusion matrix de training set')"
      ]
     },
     "execution_count": 23,
     "metadata": {},
     "output_type": "execute_result"
    },
    {
     "data": {
      "image/png": "[encoded data removed]",
      "text/plain": [
       "<Figure size 640x480 with 2 Axes>"
      ]
     },
     "metadata": {},
     "output_type": "display_data"
    }
   ],
   "source": [
    "y_pred = np.where(grid.predict(X_train) >= 0.5, 1, 0)\n",
    "confusion = confusion_matrix(y_train, y_pred)\n",
    "sns.heatmap(confusion, annot=True, fmt='.0f')\n",
    "plt.ylabel('true')\n",
    "plt.xlabel('predicted')\n",
    "plt.title(\"Confusion matrix de training set\")"
   ]
  },
  {
   "cell_type": "markdown",
   "id": "02f158e2",
   "metadata": {},
   "source": [
    "como podemos ver aqui, la busqueda de hiperparametros no fue muy efectiva ya que debimos sacrificar una buena parte en la creacion del modelo, y los parametros que encontramos no sirven tanto como para que este nuevo modelo mas simple sea mejor que el previo"
   ]
  },
  {
   "cell_type": "markdown",
   "id": "0ec471e7",
   "metadata": {},
   "source": [
    "para encontrar un modelo mejor que el nuestro buscando hiperparametros con grid/random search, el tiempo de ejecucion debe ser muy alto por lo que no consideramos que valga la pena, ya que tampoco es mucho mejor."
   ]
  },
  {
   "cell_type": "markdown",
   "id": "f9c82078-e3dd-4a5e-8c16-4bb015e9f53e",
   "metadata": {
    "tags": []
   },
   "source": [
    "# Creacion de submit"
   ]
  },
  {
   "cell_type": "code",
   "execution_count": 24,
   "id": "6c532782-c0b7-4e95-9cdd-978b316f0b87",
   "metadata": {},
   "outputs": [],
   "source": [
    "def create_submission(model): \n",
    "    df_test = pd.read_csv(\"../dataset/hotels_test_procesado.csv\")\n",
    "    assert(len(df_test)==26535)\n",
    "\n",
    "    X = df_test[attrs].values\n",
    "    scaler = StandardScaler()\n",
    "    X = scaler.fit_transform(X)\n",
    "    \n",
    "    prediccion = np.where(model.predict(X) >= 0.5, 1, 0)\n",
    "\n",
    "    assert(len(prediccion)==26535)\n",
    "\n",
    "    submit = pd.DataFrame(\n",
    "        {\"is_canceled\": prediccion[:,0]},\n",
    "        index=df_test[\"id\"],\n",
    "    )\n",
    "    assert(len(submit)==26535)\n",
    "\n",
    "    submit.to_csv(\"../dataset/submit.csv\")"
   ]
  },
  {
   "cell_type": "code",
   "execution_count": 76,
   "id": "7ac02975",
   "metadata": {},
   "outputs": [
    {
     "name": "stdout",
     "output_type": "stream",
     "text": [
      "830/830 [==============================] - 3s 3ms/step\n"
     ]
    }
   ],
   "source": [
    "## antes hay que pasarlo por el standard scaler, o hacer una pipe\n",
    "create_submission(model)"
   ]
  },
  {
   "cell_type": "markdown",
   "id": "c79f55f8",
   "metadata": {},
   "source": [
    "# Guardamos modelo en pickle"
   ]
  },
  {
   "cell_type": "code",
   "execution_count": 26,
   "id": "aba29450-e4c0-4f7e-b79f-2b9de2d63185",
   "metadata": {
    "tags": []
   },
   "outputs": [],
   "source": [
    "with open('../modelos/NN.pickle', 'wb') as file:\n",
    "    pickle.dump(model, file)"
   ]
  }
 ],
 "metadata": {
  "kernelspec": {
   "display_name": "Python 3 (ipykernel)",
   "language": "python",
   "name": "python3"
  },
  "language_info": {
   "codemirror_mode": {
    "name": "ipython",
    "version": 3
   },
   "file_extension": ".py",
   "mimetype": "text/x-python",
   "name": "python",
   "nbconvert_exporter": "python",
   "pygments_lexer": "ipython3",
   "version": "3.11.3"
  },
  "vscode": {
   "interpreter": {
    "hash": "b530d9c2c2b5bebcf7d6e28a50876d0da6caa0e340fb26c46920b1580d5d916c"
   }
  }
 },
 "nbformat": 4,
 "nbformat_minor": 5
}
