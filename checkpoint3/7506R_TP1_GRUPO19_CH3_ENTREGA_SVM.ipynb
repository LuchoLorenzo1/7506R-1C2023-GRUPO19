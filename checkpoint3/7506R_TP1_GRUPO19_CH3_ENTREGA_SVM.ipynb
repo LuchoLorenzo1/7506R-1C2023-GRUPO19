{
 "cells": [
  {
   "cell_type": "markdown",
   "id": "aae7a409",
   "metadata": {},
   "source": [
    "# <center>Organizaci&oacute;n de Datos</center>\n",
    "## <center>Trabajo Práctico 1 : Reservas de Hotel</center>\n",
    "## <center>Checkpoint 3</center>\n",
    "### <center>Ensambles: SVM</center>\n",
    "\n",
    "#### Integrantes grupo 19: Sudanalytics \n",
    "* Adrian Leandro Re\n",
    "* Alan Toulouse\n",
    "* Luciano Lorenzo\n",
    "* Nicolas Tonizzo"
   ]
  },
  {
   "cell_type": "markdown",
   "id": "6dbb6c11",
   "metadata": {},
   "source": [
    "# Imports y preparacion del dataset"
   ]
  },
  {
   "cell_type": "code",
   "execution_count": 1,
   "id": "72f004d2",
   "metadata": {},
   "outputs": [],
   "source": [
    "import pandas as pd\n",
    "import numpy as np\n",
    "import matplotlib.pyplot as plt\n",
    "import seaborn as sns\n",
    "from sklearn.svm import SVC\n",
    "from sklearn.model_selection import RandomizedSearchCV, train_test_split\n",
    "from sklearn.metrics import make_scorer, f1_score, confusion_matrix, precision_score, recall_score\n",
    "from sklearn.model_selection import StratifiedKFold\n",
    "from sklearn.preprocessing import StandardScaler\n",
    "from sklearn.pipeline import Pipeline\n",
    "from sklearn.decomposition import PCA"
   ]
  },
  {
   "cell_type": "code",
   "execution_count": 2,
   "id": "ae93b326",
   "metadata": {},
   "outputs": [
    {
     "data": {
      "text/plain": [
       "Index(['hotel', 'lead_time', 'arrival_date_year', 'arrival_date_month',\n",
       "       'arrival_date_week_number', 'arrival_date_day_of_month',\n",
       "       'stays_in_weekend_nights', 'stays_in_week_nights', 'adults', 'children',\n",
       "       'babies', 'meal', 'country', 'market_segment', 'distribution_channel',\n",
       "       'is_repeated_guest', 'previous_cancellations',\n",
       "       'previous_bookings_not_canceled', 'reserved_room_type',\n",
       "       'assigned_room_type', 'booking_changes', 'deposit_type', 'agent',\n",
       "       'company', 'days_in_waiting_list', 'customer_type', 'adr',\n",
       "       'required_car_parking_spaces', 'total_of_special_requests',\n",
       "       'reservation_status_date', 'id', 'is_canceled', 'hotel_encoding',\n",
       "       'tiene_hijos', 'es_extranjero', 'es_portugues', 'es_ingles',\n",
       "       'es_frances', 'es_espanol', 'es_aleman', 'reserved_room_was_assigned',\n",
       "       'required_a_car_parking_space', 'solo_desayuna_en_el_hotel',\n",
       "       'pidio_todas_comidas', 'reservo_online', 'reservo_en_grupo',\n",
       "       'reservo_sin_reembolso', 'reservo_sin_depositar', 'reservo_sin_paquete',\n",
       "       'reservo_sin_compania', 'reservo_sin_agente', 'tuvo_dias_de_espera',\n",
       "       'reservo_el_mismo_dia', 'total_reservas_previas', 'agent9', 'agent240',\n",
       "       'agent1', 'agent14', 'agent6'],\n",
       "      dtype='object')"
      ]
     },
     "execution_count": 2,
     "metadata": {},
     "output_type": "execute_result"
    }
   ],
   "source": [
    "df = pd.read_csv(\"../dataset/hotels_train_procesado.csv\")\n",
    "df.columns"
   ]
  },
  {
   "cell_type": "markdown",
   "id": "ccd2b55b",
   "metadata": {},
   "source": [
    "Declaramos el target y los features del dataframe que vamos a utilizar para predecir."
   ]
  },
  {
   "cell_type": "code",
   "execution_count": 3,
   "id": "4642cea5",
   "metadata": {},
   "outputs": [],
   "source": [
    "target = \"is_canceled\"\n",
    "\n",
    "attrs = [\n",
    "    \"hotel_encoding\",\n",
    "    \n",
    "    \"lead_time\",\n",
    "    #\"reservo_el_mismo_dia\",\n",
    "    \"adr\",\n",
    "\n",
    "    #\"stays_in_weekend_nights\",\n",
    "    \"stays_in_week_nights\",\n",
    "\n",
    "    \"tiene_hijos\",\n",
    "    \"adults\",\n",
    "    # \"children\",\n",
    "    # \"babies\",\n",
    "\n",
    "    # Fechas\n",
    "    \"arrival_date_week_number\",\n",
    "    #\"arrival_date_day_of_month\",\n",
    "    \"arrival_date_year\",\n",
    "\n",
    "    \"es_extranjero\",\n",
    "    #\"es_portugues\",\n",
    "    #\"es_ingles\",\n",
    "    #\"es_frances\",\n",
    "    #\"es_espanol\",\n",
    "    #\"es_aleman\",\n",
    "\n",
    "    \"reserved_room_was_assigned\",\n",
    "\n",
    "    \"is_repeated_guest\",\n",
    "    \"previous_cancellations\", \n",
    "    #\"previous_bookings_not_canceled\",\n",
    "    #\"total_reservas_previas\"\n",
    "    \"total_of_special_requests\",\n",
    "    \"booking_changes\",\n",
    "\n",
    "    #'meal',\n",
    "    \"solo_desayuna_en_el_hotel\",\n",
    "    \"pidio_todas_comidas\",\n",
    "\n",
    "    # 'required_car_parking_spaces',\n",
    "    \"required_a_car_parking_space\",\n",
    "\n",
    "    \"reservo_sin_reembolso\",\n",
    "    \"reservo_sin_depositar\",\n",
    "    \"reservo_online\",\n",
    "    \"reservo_en_grupo\",\n",
    "    \"reservo_sin_compania\",\n",
    "    \"reservo_sin_agente\",\n",
    "    \"reservo_sin_paquete\",\n",
    "    \n",
    "    # \"days_in_waiting_list\",\n",
    "    \"tuvo_dias_de_espera\",\n",
    "    \n",
    "    \"agent9\",\n",
    "    \"agent240\",\n",
    "    \"agent1\",\n",
    "    \"agent14\",\n",
    "    \"agent6\",\n",
    "]"
   ]
  },
  {
   "cell_type": "markdown",
   "id": "1d59deb8",
   "metadata": {},
   "source": [
    "**Dividimos el dataset en entrenamiento y validacion**, para poder validar que no estamos overfitteando al dataset de entrenamiento, y que el modelo predice bien a registros no vistos anteriormente. Vamos a utilizar mitad de el dataset para validacion y mitad del dataset para entrenamiento, ya que haciendo varias pruebas, SVC tarda muchisimo tiempo si el dataset es muy grande. De hecho para las pruebas usamos el split de entrenamiento todavia mas chico, para poder tener una idea general de cuales deberian ser los mejores parametros."
   ]
  },
  {
   "cell_type": "code",
   "execution_count": 4,
   "id": "0c5cb4b9",
   "metadata": {},
   "outputs": [],
   "source": [
    "X = df[attrs].values\n",
    "y = df[target].values\n",
    "\n",
    "X_train, X_val, y_train, y_val = train_test_split(X, y, test_size=0.5, shuffle=True)"
   ]
  },
  {
   "cell_type": "markdown",
   "id": "5a7aa8bf",
   "metadata": {},
   "source": [
    "Vamos a utilizar PCA para reducir las dimensiones en los datos, e intentar reducir los tiempos de entrenamiento, a su vez que reducimos el overfitting. Nos viene bien porque ambos (PCA Y SVM) necesitan que los datos esten centrados, en este caso utilizamos el standard scaler. Graficamos la varianza explicada en funcion del numero de componentes para tener una idea del numero de componentes a utilizar:"
   ]
  },
  {
   "cell_type": "code",
   "execution_count": 29,
   "id": "3d71ccfd",
   "metadata": {},
   "outputs": [
    {
     "data": {
      "text/plain": [
       "<matplotlib.legend.Legend at 0x7f1f146b8890>"
      ]
     },
     "execution_count": 29,
     "metadata": {},
     "output_type": "execute_result"
    },
    {
     "data": {
      "image/png": "[encoded data removed]",
      "text/plain": [
       "<Figure size 640x480 with 1 Axes>"
      ]
     },
     "metadata": {},
     "output_type": "display_data"
    }
   ],
   "source": [
    "sc = StandardScaler()\n",
    "X_train_scaled = sc.fit_transform(X_train)\n",
    "\n",
    "pca = PCA(n_components = None)\n",
    "pca.fit(X_train_scaled)\n",
    "\n",
    "#Cantidad de Componentes\n",
    "componentes = len(pca.explained_variance_ratio_) \n",
    "\n",
    "#Grafico la Varianza Explicada \n",
    "plt.plot(range(1,componentes+1), np.cumsum(pca.explained_variance_ratio_ * 100))\n",
    "plt.axhline(90, c= 'red', label='90%')\n",
    "plt.xlabel(\"Numero de componentes\")\n",
    "plt.ylabel(\"Varianza Explicada (%)\")\n",
    "plt.title(\"Varianza explicada por componentes\")\n",
    "plt.legend()"
   ]
  },
  {
   "cell_type": "markdown",
   "id": "f660dafa",
   "metadata": {},
   "source": [
    "Observando el plot concluimos que un buen numero de componentes, que por lo menos el 0.9 de varianza explicada, tiene que mayor que 21."
   ]
  },
  {
   "cell_type": "markdown",
   "id": "5399326d",
   "metadata": {},
   "source": [
    "# SVM con rbf"
   ]
  },
  {
   "cell_type": "markdown",
   "id": "e4c5205d",
   "metadata": {},
   "source": [
    "rbf es un kernel con el que podemos entrenar nuestro modelo. Utiliza una funcion de verosimilitud para formar las nuevas 'dimensiones'. Cada nueva dimension es un valor que mide la similitud con otro, el cual elegimos como referencia.\n",
    "\n",
    "Es el kernel default en SVC de sklearn."
   ]
  },
  {
   "cell_type": "markdown",
   "id": "4b940cbe",
   "metadata": {},
   "source": [
    "Creamos el pipeline, el cual comienza por estandarizar el dataset, ya que ambos PCA y SVM lo necesitan."
   ]
  },
  {
   "cell_type": "code",
   "execution_count": 13,
   "id": "96f06634",
   "metadata": {},
   "outputs": [],
   "source": [
    "pipe = Pipeline([\n",
    "    (\"scaler\", StandardScaler()),\n",
    "    (\"pca\", PCA()),\n",
    "    (\"svm\", SVC(kernel='rbf')),\n",
    "])"
   ]
  },
  {
   "cell_type": "markdown",
   "id": "935e38d1",
   "metadata": {},
   "source": [
    "Luego de un par de pruebas individuales con el pipe, concluimos que un buen rango para poner los valores de los hiperparametros a ser optimizados por cross validation es el siguiente:"
   ]
  },
  {
   "cell_type": "code",
   "execution_count": 14,
   "id": "51d4462a",
   "metadata": {},
   "outputs": [],
   "source": [
    "params_grid = {\n",
    "    \"pca__n_components\": list(range(21, 30)),\n",
    "    \"svm__C\": list(range(10, 30)), \n",
    "    \"svm__gamma\": np.linspace(0.001, 0.1, 30),\n",
    "}"
   ]
  },
  {
   "cell_type": "markdown",
   "id": "39f5da3e",
   "metadata": {},
   "source": [
    "`C`: Parametro de regularizacion. El valor de C es inversamente proporcional a la regularizacion (mas alto C, menos regularizado). Nos sirve para evitar que el modelo cause overfitting.\n",
    "\n",
    "`gamma`: Es un parametro que determina la influencia de un solo sample en la regla de decision que toma en svm."
   ]
  },
  {
   "cell_type": "markdown",
   "id": "481c711e",
   "metadata": {},
   "source": [
    "Utilizamos cross validation randomizado para encontrar los mejores hiperparametros:"
   ]
  },
  {
   "cell_type": "code",
   "execution_count": 16,
   "id": "8cf25931",
   "metadata": {},
   "outputs": [],
   "source": [
    "kfoldcv = StratifiedKFold(n_splits=4)\n",
    "\n",
    "model = RandomizedSearchCV(\n",
    "    estimator=pipe,\n",
    "    param_distributions=params_grid,\n",
    "    scoring=make_scorer(f1_score),\n",
    "    cv=kfoldcv,\n",
    "    n_iter=6,\n",
    "    n_jobs=-1,\n",
    ")"
   ]
  },
  {
   "cell_type": "code",
   "execution_count": 17,
   "id": "73bdf8cd",
   "metadata": {},
   "outputs": [
    {
     "data": {
      "text/html": [
       "<style>#sk-container-id-2 {color: black;background-color: white;}#sk-container-id-2 pre{padding: 0;}#sk-container-id-2 div.sk-toggleable {background-color: white;}#sk-container-id-2 label.sk-toggleable__label {cursor: pointer;display: block;width: 100%;margin-bottom: 0;padding: 0.3em;box-sizing: border-box;text-align: center;}#sk-container-id-2 label.sk-toggleable__label-arrow:before {content: \"▸\";float: left;margin-right: 0.25em;color: #696969;}#sk-container-id-2 label.sk-toggleable__label-arrow:hover:before {color: black;}#sk-container-id-2 div.sk-estimator:hover label.sk-toggleable__label-arrow:before {color: black;}#sk-container-id-2 div.sk-toggleable__content {max-height: 0;max-width: 0;overflow: hidden;text-align: left;background-color: #f0f8ff;}#sk-container-id-2 div.sk-toggleable__content pre {margin: 0.2em;color: black;border-radius: 0.25em;background-color: #f0f8ff;}#sk-container-id-2 input.sk-toggleable__control:checked~div.sk-toggleable__content {max-height: 200px;max-width: 100%;overflow: auto;}#sk-container-id-2 input.sk-toggleable__control:checked~label.sk-toggleable__label-arrow:before {content: \"▾\";}#sk-container-id-2 div.sk-estimator input.sk-toggleable__control:checked~label.sk-toggleable__label {background-color: #d4ebff;}#sk-container-id-2 div.sk-label input.sk-toggleable__control:checked~label.sk-toggleable__label {background-color: #d4ebff;}#sk-container-id-2 input.sk-hidden--visually {border: 0;clip: rect(1px 1px 1px 1px);clip: rect(1px, 1px, 1px, 1px);height: 1px;margin: -1px;overflow: hidden;padding: 0;position: absolute;width: 1px;}#sk-container-id-2 div.sk-estimator {font-family: monospace;background-color: #f0f8ff;border: 1px dotted black;border-radius: 0.25em;box-sizing: border-box;margin-bottom: 0.5em;}#sk-container-id-2 div.sk-estimator:hover {background-color: #d4ebff;}#sk-container-id-2 div.sk-parallel-item::after {content: \"\";width: 100%;border-bottom: 1px solid gray;flex-grow: 1;}#sk-container-id-2 div.sk-label:hover label.sk-toggleable__label {background-color: #d4ebff;}#sk-container-id-2 div.sk-serial::before {content: \"\";position: absolute;border-left: 1px solid gray;box-sizing: border-box;top: 0;bottom: 0;left: 50%;z-index: 0;}#sk-container-id-2 div.sk-serial {display: flex;flex-direction: column;align-items: center;background-color: white;padding-right: 0.2em;padding-left: 0.2em;position: relative;}#sk-container-id-2 div.sk-item {position: relative;z-index: 1;}#sk-container-id-2 div.sk-parallel {display: flex;align-items: stretch;justify-content: center;background-color: white;position: relative;}#sk-container-id-2 div.sk-item::before, #sk-container-id-2 div.sk-parallel-item::before {content: \"\";position: absolute;border-left: 1px solid gray;box-sizing: border-box;top: 0;bottom: 0;left: 50%;z-index: -1;}#sk-container-id-2 div.sk-parallel-item {display: flex;flex-direction: column;z-index: 1;position: relative;background-color: white;}#sk-container-id-2 div.sk-parallel-item:first-child::after {align-self: flex-end;width: 50%;}#sk-container-id-2 div.sk-parallel-item:last-child::after {align-self: flex-start;width: 50%;}#sk-container-id-2 div.sk-parallel-item:only-child::after {width: 0;}#sk-container-id-2 div.sk-dashed-wrapped {border: 1px dashed gray;margin: 0 0.4em 0.5em 0.4em;box-sizing: border-box;padding-bottom: 0.4em;background-color: white;}#sk-container-id-2 div.sk-label label {font-family: monospace;font-weight: bold;display: inline-block;line-height: 1.2em;}#sk-container-id-2 div.sk-label-container {text-align: center;}#sk-container-id-2 div.sk-container {/* jupyter's `normalize.less` sets `[hidden] { display: none; }` but bootstrap.min.css set `[hidden] { display: none !important; }` so we also need the `!important` here to be able to override the default hidden behavior on the sphinx rendered scikit-learn.org. See: https://github.com/scikit-learn/scikit-learn/issues/21755 */display: inline-block !important;position: relative;}#sk-container-id-2 div.sk-text-repr-fallback {display: none;}</style><div id=\"sk-container-id-2\" class=\"sk-top-container\"><div class=\"sk-text-repr-fallback\"><pre>RandomizedSearchCV(cv=StratifiedKFold(n_splits=4, random_state=None, shuffle=False),\n",
       "                   estimator=Pipeline(steps=[(&#x27;scaler&#x27;, StandardScaler()),\n",
       "                                             (&#x27;pca&#x27;, PCA()), (&#x27;svm&#x27;, SVC())]),\n",
       "                   n_iter=6, n_jobs=-1,\n",
       "                   param_distributions={&#x27;pca__n_components&#x27;: [21, 22, 23, 24,\n",
       "                                                              25, 26, 27, 28,\n",
       "                                                              29],\n",
       "                                        &#x27;svm__C&#x27;: [10, 11, 12, 13, 14, 15, 16,\n",
       "                                                   17, 18, 19, 20, 21, 22, 23,\n",
       "                                                   24, 25, 26, 27, 28, 29],\n",
       "                                        &#x27;svm__gamma&#x27;: array([0.001     , 0.00441379, 0.00782759, 0.01124138, 0.01465517,\n",
       "       0.01806897, 0.02148276, 0.02489655, 0.02831034, 0.03172414,\n",
       "       0.03513793, 0.03855172, 0.04196552, 0.04537931, 0.0487931 ,\n",
       "       0.0522069 , 0.05562069, 0.05903448, 0.06244828, 0.06586207,\n",
       "       0.06927586, 0.07268966, 0.07610345, 0.07951724, 0.08293103,\n",
       "       0.08634483, 0.08975862, 0.09317241, 0.09658621, 0.1       ])},\n",
       "                   scoring=make_scorer(f1_score))</pre><b>In a Jupyter environment, please rerun this cell to show the HTML representation or trust the notebook. <br />On GitHub, the HTML representation is unable to render, please try loading this page with nbviewer.org.</b></div><div class=\"sk-container\" hidden><div class=\"sk-item sk-dashed-wrapped\"><div class=\"sk-label-container\"><div class=\"sk-label sk-toggleable\"><input class=\"sk-toggleable__control sk-hidden--visually\" id=\"sk-estimator-id-6\" type=\"checkbox\" ><label for=\"sk-estimator-id-6\" class=\"sk-toggleable__label sk-toggleable__label-arrow\">RandomizedSearchCV</label><div class=\"sk-toggleable__content\"><pre>RandomizedSearchCV(cv=StratifiedKFold(n_splits=4, random_state=None, shuffle=False),\n",
       "                   estimator=Pipeline(steps=[(&#x27;scaler&#x27;, StandardScaler()),\n",
       "                                             (&#x27;pca&#x27;, PCA()), (&#x27;svm&#x27;, SVC())]),\n",
       "                   n_iter=6, n_jobs=-1,\n",
       "                   param_distributions={&#x27;pca__n_components&#x27;: [21, 22, 23, 24,\n",
       "                                                              25, 26, 27, 28,\n",
       "                                                              29],\n",
       "                                        &#x27;svm__C&#x27;: [10, 11, 12, 13, 14, 15, 16,\n",
       "                                                   17, 18, 19, 20, 21, 22, 23,\n",
       "                                                   24, 25, 26, 27, 28, 29],\n",
       "                                        &#x27;svm__gamma&#x27;: array([0.001     , 0.00441379, 0.00782759, 0.01124138, 0.01465517,\n",
       "       0.01806897, 0.02148276, 0.02489655, 0.02831034, 0.03172414,\n",
       "       0.03513793, 0.03855172, 0.04196552, 0.04537931, 0.0487931 ,\n",
       "       0.0522069 , 0.05562069, 0.05903448, 0.06244828, 0.06586207,\n",
       "       0.06927586, 0.07268966, 0.07610345, 0.07951724, 0.08293103,\n",
       "       0.08634483, 0.08975862, 0.09317241, 0.09658621, 0.1       ])},\n",
       "                   scoring=make_scorer(f1_score))</pre></div></div></div><div class=\"sk-parallel\"><div class=\"sk-parallel-item\"><div class=\"sk-item\"><div class=\"sk-label-container\"><div class=\"sk-label sk-toggleable\"><input class=\"sk-toggleable__control sk-hidden--visually\" id=\"sk-estimator-id-7\" type=\"checkbox\" ><label for=\"sk-estimator-id-7\" class=\"sk-toggleable__label sk-toggleable__label-arrow\">estimator: Pipeline</label><div class=\"sk-toggleable__content\"><pre>Pipeline(steps=[(&#x27;scaler&#x27;, StandardScaler()), (&#x27;pca&#x27;, PCA()), (&#x27;svm&#x27;, SVC())])</pre></div></div></div><div class=\"sk-serial\"><div class=\"sk-item\"><div class=\"sk-serial\"><div class=\"sk-item\"><div class=\"sk-estimator sk-toggleable\"><input class=\"sk-toggleable__control sk-hidden--visually\" id=\"sk-estimator-id-8\" type=\"checkbox\" ><label for=\"sk-estimator-id-8\" class=\"sk-toggleable__label sk-toggleable__label-arrow\">StandardScaler</label><div class=\"sk-toggleable__content\"><pre>StandardScaler()</pre></div></div></div><div class=\"sk-item\"><div class=\"sk-estimator sk-toggleable\"><input class=\"sk-toggleable__control sk-hidden--visually\" id=\"sk-estimator-id-9\" type=\"checkbox\" ><label for=\"sk-estimator-id-9\" class=\"sk-toggleable__label sk-toggleable__label-arrow\">PCA</label><div class=\"sk-toggleable__content\"><pre>PCA()</pre></div></div></div><div class=\"sk-item\"><div class=\"sk-estimator sk-toggleable\"><input class=\"sk-toggleable__control sk-hidden--visually\" id=\"sk-estimator-id-10\" type=\"checkbox\" ><label for=\"sk-estimator-id-10\" class=\"sk-toggleable__label sk-toggleable__label-arrow\">SVC</label><div class=\"sk-toggleable__content\"><pre>SVC()</pre></div></div></div></div></div></div></div></div></div></div></div></div>"
      ],
      "text/plain": [
       "RandomizedSearchCV(cv=StratifiedKFold(n_splits=4, random_state=None, shuffle=False),\n",
       "                   estimator=Pipeline(steps=[('scaler', StandardScaler()),\n",
       "                                             ('pca', PCA()), ('svm', SVC())]),\n",
       "                   n_iter=6, n_jobs=-1,\n",
       "                   param_distributions={'pca__n_components': [21, 22, 23, 24,\n",
       "                                                              25, 26, 27, 28,\n",
       "                                                              29],\n",
       "                                        'svm__C': [10, 11, 12, 13, 14, 15, 16,\n",
       "                                                   17, 18, 19, 20, 21, 22, 23,\n",
       "                                                   24, 25, 26, 27, 28, 29],\n",
       "                                        'svm__gamma': array([0.001     , 0.00441379, 0.00782759, 0.01124138, 0.01465517,\n",
       "       0.01806897, 0.02148276, 0.02489655, 0.02831034, 0.03172414,\n",
       "       0.03513793, 0.03855172, 0.04196552, 0.04537931, 0.0487931 ,\n",
       "       0.0522069 , 0.05562069, 0.05903448, 0.06244828, 0.06586207,\n",
       "       0.06927586, 0.07268966, 0.07610345, 0.07951724, 0.08293103,\n",
       "       0.08634483, 0.08975862, 0.09317241, 0.09658621, 0.1       ])},\n",
       "                   scoring=make_scorer(f1_score))"
      ]
     },
     "execution_count": 17,
     "metadata": {},
     "output_type": "execute_result"
    }
   ],
   "source": [
    "model.fit(X_train, y_train)"
   ]
  },
  {
   "cell_type": "markdown",
   "id": "1afb36c0",
   "metadata": {},
   "source": [
    "Despues de un largo rato esperando, su mejor resultado fue:"
   ]
  },
  {
   "cell_type": "code",
   "execution_count": 18,
   "id": "790d7f18",
   "metadata": {},
   "outputs": [
    {
     "data": {
      "text/plain": [
       "0.8519857969691145"
      ]
     },
     "execution_count": 18,
     "metadata": {},
     "output_type": "execute_result"
    }
   ],
   "source": [
    "model.best_score_"
   ]
  },
  {
   "cell_type": "markdown",
   "id": "77d11100",
   "metadata": {},
   "source": [
    "Mejores parametros"
   ]
  },
  {
   "cell_type": "code",
   "execution_count": 19,
   "id": "bf4292e9",
   "metadata": {},
   "outputs": [
    {
     "data": {
      "text/plain": [
       "{'svm__gamma': 0.048793103448275865, 'svm__C': 16, 'pca__n_components': 23}"
      ]
     },
     "execution_count": 19,
     "metadata": {},
     "output_type": "execute_result"
    }
   ],
   "source": [
    "model.best_params_"
   ]
  },
  {
   "cell_type": "markdown",
   "id": "efd7b5bb",
   "metadata": {},
   "source": [
    "Score en validacion y training:"
   ]
  },
  {
   "cell_type": "code",
   "execution_count": 20,
   "id": "3a95d949",
   "metadata": {},
   "outputs": [
    {
     "data": {
      "text/plain": [
       "0.8602529214022732"
      ]
     },
     "execution_count": 20,
     "metadata": {},
     "output_type": "execute_result"
    }
   ],
   "source": [
    "model.score(X_val, y_val)"
   ]
  },
  {
   "cell_type": "code",
   "execution_count": 21,
   "id": "32ae99e5",
   "metadata": {},
   "outputs": [
    {
     "data": {
      "text/plain": [
       "0.887559354226021"
      ]
     },
     "execution_count": 21,
     "metadata": {},
     "output_type": "execute_result"
    }
   ],
   "source": [
    "model.score(X_train, y_train)"
   ]
  },
  {
   "cell_type": "markdown",
   "id": "37f3e739",
   "metadata": {},
   "source": [
    "Podemos visualizar las estadisticas completas del cross validation:"
   ]
  },
  {
   "cell_type": "code",
   "execution_count": 22,
   "id": "a3c73b95",
   "metadata": {},
   "outputs": [
    {
     "data": {
      "text/html": [
       "<div>\n",
       "<style scoped>\n",
       "    .dataframe tbody tr th:only-of-type {\n",
       "        vertical-align: middle;\n",
       "    }\n",
       "\n",
       "    .dataframe tbody tr th {\n",
       "        vertical-align: top;\n",
       "    }\n",
       "\n",
       "    .dataframe thead th {\n",
       "        text-align: right;\n",
       "    }\n",
       "</style>\n",
       "<table border=\"1\" class=\"dataframe\">\n",
       "  <thead>\n",
       "    <tr style=\"text-align: right;\">\n",
       "      <th></th>\n",
       "      <th>mean_fit_time</th>\n",
       "      <th>std_fit_time</th>\n",
       "      <th>mean_score_time</th>\n",
       "      <th>std_score_time</th>\n",
       "      <th>param_svm__gamma</th>\n",
       "      <th>param_svm__C</th>\n",
       "      <th>param_pca__n_components</th>\n",
       "      <th>params</th>\n",
       "      <th>split0_test_score</th>\n",
       "      <th>split1_test_score</th>\n",
       "      <th>split2_test_score</th>\n",
       "      <th>split3_test_score</th>\n",
       "      <th>mean_test_score</th>\n",
       "      <th>std_test_score</th>\n",
       "      <th>rank_test_score</th>\n",
       "    </tr>\n",
       "  </thead>\n",
       "  <tbody>\n",
       "    <tr>\n",
       "      <th>0</th>\n",
       "      <td>101.673446</td>\n",
       "      <td>6.678887</td>\n",
       "      <td>5.299777</td>\n",
       "      <td>0.729663</td>\n",
       "      <td>0.086345</td>\n",
       "      <td>11</td>\n",
       "      <td>26</td>\n",
       "      <td>{'svm__gamma': 0.0863448275862069, 'svm__C': 1...</td>\n",
       "      <td>0.850038</td>\n",
       "      <td>0.854391</td>\n",
       "      <td>0.847810</td>\n",
       "      <td>0.855485</td>\n",
       "      <td>0.851931</td>\n",
       "      <td>0.003133</td>\n",
       "      <td>2</td>\n",
       "    </tr>\n",
       "    <tr>\n",
       "      <th>1</th>\n",
       "      <td>55.118869</td>\n",
       "      <td>4.277716</td>\n",
       "      <td>5.013591</td>\n",
       "      <td>0.281117</td>\n",
       "      <td>0.048793</td>\n",
       "      <td>16</td>\n",
       "      <td>23</td>\n",
       "      <td>{'svm__gamma': 0.048793103448275865, 'svm__C':...</td>\n",
       "      <td>0.851069</td>\n",
       "      <td>0.851781</td>\n",
       "      <td>0.852617</td>\n",
       "      <td>0.852476</td>\n",
       "      <td>0.851986</td>\n",
       "      <td>0.000616</td>\n",
       "      <td>1</td>\n",
       "    </tr>\n",
       "    <tr>\n",
       "      <th>2</th>\n",
       "      <td>63.691526</td>\n",
       "      <td>5.957073</td>\n",
       "      <td>5.333192</td>\n",
       "      <td>0.474748</td>\n",
       "      <td>0.065862</td>\n",
       "      <td>20</td>\n",
       "      <td>21</td>\n",
       "      <td>{'svm__gamma': 0.06586206896551725, 'svm__C': ...</td>\n",
       "      <td>0.847868</td>\n",
       "      <td>0.851236</td>\n",
       "      <td>0.849734</td>\n",
       "      <td>0.854800</td>\n",
       "      <td>0.850909</td>\n",
       "      <td>0.002543</td>\n",
       "      <td>5</td>\n",
       "    </tr>\n",
       "    <tr>\n",
       "      <th>3</th>\n",
       "      <td>35.255084</td>\n",
       "      <td>0.451165</td>\n",
       "      <td>5.851206</td>\n",
       "      <td>1.303822</td>\n",
       "      <td>0.031724</td>\n",
       "      <td>10</td>\n",
       "      <td>23</td>\n",
       "      <td>{'svm__gamma': 0.031724137931034485, 'svm__C':...</td>\n",
       "      <td>0.851516</td>\n",
       "      <td>0.851889</td>\n",
       "      <td>0.851269</td>\n",
       "      <td>0.851204</td>\n",
       "      <td>0.851470</td>\n",
       "      <td>0.000269</td>\n",
       "      <td>4</td>\n",
       "    </tr>\n",
       "    <tr>\n",
       "      <th>4</th>\n",
       "      <td>36.728707</td>\n",
       "      <td>1.758201</td>\n",
       "      <td>6.603431</td>\n",
       "      <td>0.404241</td>\n",
       "      <td>0.004414</td>\n",
       "      <td>13</td>\n",
       "      <td>27</td>\n",
       "      <td>{'svm__gamma': 0.004413793103448276, 'svm__C':...</td>\n",
       "      <td>0.841288</td>\n",
       "      <td>0.839843</td>\n",
       "      <td>0.838775</td>\n",
       "      <td>0.841797</td>\n",
       "      <td>0.840426</td>\n",
       "      <td>0.001193</td>\n",
       "      <td>6</td>\n",
       "    </tr>\n",
       "    <tr>\n",
       "      <th>5</th>\n",
       "      <td>81.409657</td>\n",
       "      <td>7.237716</td>\n",
       "      <td>5.091568</td>\n",
       "      <td>0.701531</td>\n",
       "      <td>0.076103</td>\n",
       "      <td>17</td>\n",
       "      <td>27</td>\n",
       "      <td>{'svm__gamma': 0.07610344827586207, 'svm__C': ...</td>\n",
       "      <td>0.851573</td>\n",
       "      <td>0.854032</td>\n",
       "      <td>0.846630</td>\n",
       "      <td>0.854371</td>\n",
       "      <td>0.851652</td>\n",
       "      <td>0.003094</td>\n",
       "      <td>3</td>\n",
       "    </tr>\n",
       "  </tbody>\n",
       "</table>\n",
       "</div>"
      ],
      "text/plain": [
       "   mean_fit_time  std_fit_time  mean_score_time  std_score_time   \n",
       "0     101.673446      6.678887         5.299777        0.729663  \\\n",
       "1      55.118869      4.277716         5.013591        0.281117   \n",
       "2      63.691526      5.957073         5.333192        0.474748   \n",
       "3      35.255084      0.451165         5.851206        1.303822   \n",
       "4      36.728707      1.758201         6.603431        0.404241   \n",
       "5      81.409657      7.237716         5.091568        0.701531   \n",
       "\n",
       "  param_svm__gamma param_svm__C param_pca__n_components   \n",
       "0         0.086345           11                      26  \\\n",
       "1         0.048793           16                      23   \n",
       "2         0.065862           20                      21   \n",
       "3         0.031724           10                      23   \n",
       "4         0.004414           13                      27   \n",
       "5         0.076103           17                      27   \n",
       "\n",
       "                                              params  split0_test_score   \n",
       "0  {'svm__gamma': 0.0863448275862069, 'svm__C': 1...           0.850038  \\\n",
       "1  {'svm__gamma': 0.048793103448275865, 'svm__C':...           0.851069   \n",
       "2  {'svm__gamma': 0.06586206896551725, 'svm__C': ...           0.847868   \n",
       "3  {'svm__gamma': 0.031724137931034485, 'svm__C':...           0.851516   \n",
       "4  {'svm__gamma': 0.004413793103448276, 'svm__C':...           0.841288   \n",
       "5  {'svm__gamma': 0.07610344827586207, 'svm__C': ...           0.851573   \n",
       "\n",
       "   split1_test_score  split2_test_score  split3_test_score  mean_test_score   \n",
       "0           0.854391           0.847810           0.855485         0.851931  \\\n",
       "1           0.851781           0.852617           0.852476         0.851986   \n",
       "2           0.851236           0.849734           0.854800         0.850909   \n",
       "3           0.851889           0.851269           0.851204         0.851470   \n",
       "4           0.839843           0.838775           0.841797         0.840426   \n",
       "5           0.854032           0.846630           0.854371         0.851652   \n",
       "\n",
       "   std_test_score  rank_test_score  \n",
       "0        0.003133                2  \n",
       "1        0.000616                1  \n",
       "2        0.002543                5  \n",
       "3        0.000269                4  \n",
       "4        0.001193                6  \n",
       "5        0.003094                3  "
      ]
     },
     "execution_count": 22,
     "metadata": {},
     "output_type": "execute_result"
    }
   ],
   "source": [
    "pd.DataFrame(model.cv_results_)"
   ]
  },
  {
   "cell_type": "markdown",
   "id": "d9534680",
   "metadata": {},
   "source": [
    "Ploteamos las matrices de confusion, ambas para el conjunto de entrenamiento como el de validacion:"
   ]
  },
  {
   "cell_type": "code",
   "execution_count": 23,
   "id": "c185005d",
   "metadata": {},
   "outputs": [
    {
     "name": "stdout",
     "output_type": "stream",
     "text": [
      "precision 0.8752028967411661\n",
      "recall 0.9002697148728487\n"
     ]
    },
    {
     "data": {
      "image/png": "[encoded data removed]",
      "text/plain": [
       "<Figure size 640x480 with 2 Axes>"
      ]
     },
     "metadata": {},
     "output_type": "display_data"
    }
   ],
   "source": [
    "y_pred = model.predict(X_train)\n",
    "confusion = confusion_matrix(y_train, y_pred)\n",
    "sns.heatmap(confusion, annot=True, fmt='.0f')\n",
    "plt.ylabel('true')\n",
    "plt.xlabel('predicted')\n",
    "plt.title(\"Confusion matrix de training set\")\n",
    "print(\"precision\", precision_score(y_train, y_pred))\n",
    "print(\"recall\", recall_score(y_train, y_pred))"
   ]
  },
  {
   "cell_type": "code",
   "execution_count": 24,
   "id": "e651d821",
   "metadata": {},
   "outputs": [
    {
     "name": "stdout",
     "output_type": "stream",
     "text": [
      "precision 0.8467792764401866\n",
      "recall 0.8741622747088295\n"
     ]
    },
    {
     "data": {
      "image/png": "[encoded data removed]",
      "text/plain": [
       "<Figure size 640x480 with 2 Axes>"
      ]
     },
     "metadata": {},
     "output_type": "display_data"
    }
   ],
   "source": [
    "y_pred = model.predict(X_val)\n",
    "confusion = confusion_matrix(y_val, y_pred)\n",
    "sns.heatmap(confusion, annot=True, fmt='.0f')\n",
    "plt.ylabel('true')\n",
    "plt.xlabel('predicted')\n",
    "plt.title(\"Confusion matrix del validation set\")\n",
    "print(\"precision\", precision_score(y_val, y_pred))\n",
    "print(\"recall\", recall_score(y_val, y_pred))"
   ]
  },
  {
   "cell_type": "markdown",
   "id": "c7cec0e8",
   "metadata": {},
   "source": [
    "# SVM polinomico"
   ]
  },
  {
   "cell_type": "markdown",
   "id": "98bda0e7",
   "metadata": {},
   "source": [
    "Ahora vamos a cambiar el kernel del SVM a uno polinomico (para probar algo distinto), es cierto que esto lo podriamos haber hecho todo junto dentro del RandomizedSearchCV, pero queriamos obtener resultados optimizados para ambos kernels especificamente. \n",
    "\n",
    "Por lo que volvemos a definir la grilla de parametros y el nuevo pipeline:"
   ]
  },
  {
   "cell_type": "code",
   "execution_count": 5,
   "id": "0726efa2",
   "metadata": {},
   "outputs": [],
   "source": [
    "params_grid = {\n",
    "    \"svm__C\": list(range(10, 30)), \n",
    "    \"svm__gamma\": np.linspace(0.001, 0.1, 30),\n",
    "    \"svm__degree\": [3,4,5,6],\n",
    "}"
   ]
  },
  {
   "cell_type": "markdown",
   "id": "39c3ccc4",
   "metadata": {},
   "source": [
    "El nuevo parametro `degree`, determina el grado del polinomio que utiliza la kernel function. "
   ]
  },
  {
   "cell_type": "code",
   "execution_count": 6,
   "id": "13802c3b",
   "metadata": {},
   "outputs": [],
   "source": [
    "pipe = Pipeline([\n",
    "    (\"scaler\", StandardScaler()),\n",
    "    (\"pca\", PCA(n_components=24)),\n",
    "    (\"svm\", SVC(kernel='poly')),\n",
    "])"
   ]
  },
  {
   "cell_type": "code",
   "execution_count": 7,
   "id": "73d026a9",
   "metadata": {},
   "outputs": [],
   "source": [
    "kfoldcv = StratifiedKFold(n_splits=4)\n",
    "\n",
    "model = RandomizedSearchCV(\n",
    "    estimator=pipe,\n",
    "    param_distributions=params_grid,\n",
    "    scoring=make_scorer(f1_score),\n",
    "    cv=kfoldcv,\n",
    "    n_iter=3,\n",
    "    n_jobs=3,\n",
    ")"
   ]
  },
  {
   "cell_type": "code",
   "execution_count": 8,
   "id": "9b7a1ad7",
   "metadata": {},
   "outputs": [
    {
     "data": {
      "text/html": [
       "<style>#sk-container-id-1 {color: black;background-color: white;}#sk-container-id-1 pre{padding: 0;}#sk-container-id-1 div.sk-toggleable {background-color: white;}#sk-container-id-1 label.sk-toggleable__label {cursor: pointer;display: block;width: 100%;margin-bottom: 0;padding: 0.3em;box-sizing: border-box;text-align: center;}#sk-container-id-1 label.sk-toggleable__label-arrow:before {content: \"▸\";float: left;margin-right: 0.25em;color: #696969;}#sk-container-id-1 label.sk-toggleable__label-arrow:hover:before {color: black;}#sk-container-id-1 div.sk-estimator:hover label.sk-toggleable__label-arrow:before {color: black;}#sk-container-id-1 div.sk-toggleable__content {max-height: 0;max-width: 0;overflow: hidden;text-align: left;background-color: #f0f8ff;}#sk-container-id-1 div.sk-toggleable__content pre {margin: 0.2em;color: black;border-radius: 0.25em;background-color: #f0f8ff;}#sk-container-id-1 input.sk-toggleable__control:checked~div.sk-toggleable__content {max-height: 200px;max-width: 100%;overflow: auto;}#sk-container-id-1 input.sk-toggleable__control:checked~label.sk-toggleable__label-arrow:before {content: \"▾\";}#sk-container-id-1 div.sk-estimator input.sk-toggleable__control:checked~label.sk-toggleable__label {background-color: #d4ebff;}#sk-container-id-1 div.sk-label input.sk-toggleable__control:checked~label.sk-toggleable__label {background-color: #d4ebff;}#sk-container-id-1 input.sk-hidden--visually {border: 0;clip: rect(1px 1px 1px 1px);clip: rect(1px, 1px, 1px, 1px);height: 1px;margin: -1px;overflow: hidden;padding: 0;position: absolute;width: 1px;}#sk-container-id-1 div.sk-estimator {font-family: monospace;background-color: #f0f8ff;border: 1px dotted black;border-radius: 0.25em;box-sizing: border-box;margin-bottom: 0.5em;}#sk-container-id-1 div.sk-estimator:hover {background-color: #d4ebff;}#sk-container-id-1 div.sk-parallel-item::after {content: \"\";width: 100%;border-bottom: 1px solid gray;flex-grow: 1;}#sk-container-id-1 div.sk-label:hover label.sk-toggleable__label {background-color: #d4ebff;}#sk-container-id-1 div.sk-serial::before {content: \"\";position: absolute;border-left: 1px solid gray;box-sizing: border-box;top: 0;bottom: 0;left: 50%;z-index: 0;}#sk-container-id-1 div.sk-serial {display: flex;flex-direction: column;align-items: center;background-color: white;padding-right: 0.2em;padding-left: 0.2em;position: relative;}#sk-container-id-1 div.sk-item {position: relative;z-index: 1;}#sk-container-id-1 div.sk-parallel {display: flex;align-items: stretch;justify-content: center;background-color: white;position: relative;}#sk-container-id-1 div.sk-item::before, #sk-container-id-1 div.sk-parallel-item::before {content: \"\";position: absolute;border-left: 1px solid gray;box-sizing: border-box;top: 0;bottom: 0;left: 50%;z-index: -1;}#sk-container-id-1 div.sk-parallel-item {display: flex;flex-direction: column;z-index: 1;position: relative;background-color: white;}#sk-container-id-1 div.sk-parallel-item:first-child::after {align-self: flex-end;width: 50%;}#sk-container-id-1 div.sk-parallel-item:last-child::after {align-self: flex-start;width: 50%;}#sk-container-id-1 div.sk-parallel-item:only-child::after {width: 0;}#sk-container-id-1 div.sk-dashed-wrapped {border: 1px dashed gray;margin: 0 0.4em 0.5em 0.4em;box-sizing: border-box;padding-bottom: 0.4em;background-color: white;}#sk-container-id-1 div.sk-label label {font-family: monospace;font-weight: bold;display: inline-block;line-height: 1.2em;}#sk-container-id-1 div.sk-label-container {text-align: center;}#sk-container-id-1 div.sk-container {/* jupyter's `normalize.less` sets `[hidden] { display: none; }` but bootstrap.min.css set `[hidden] { display: none !important; }` so we also need the `!important` here to be able to override the default hidden behavior on the sphinx rendered scikit-learn.org. See: https://github.com/scikit-learn/scikit-learn/issues/21755 */display: inline-block !important;position: relative;}#sk-container-id-1 div.sk-text-repr-fallback {display: none;}</style><div id=\"sk-container-id-1\" class=\"sk-top-container\"><div class=\"sk-text-repr-fallback\"><pre>RandomizedSearchCV(cv=StratifiedKFold(n_splits=4, random_state=None, shuffle=False),\n",
       "                   estimator=Pipeline(steps=[(&#x27;scaler&#x27;, StandardScaler()),\n",
       "                                             (&#x27;pca&#x27;, PCA(n_components=24)),\n",
       "                                             (&#x27;svm&#x27;, SVC(kernel=&#x27;poly&#x27;))]),\n",
       "                   n_iter=3, n_jobs=3,\n",
       "                   param_distributions={&#x27;svm__C&#x27;: [10, 11, 12, 13, 14, 15, 16,\n",
       "                                                   17, 18, 19, 20, 21, 22, 23,\n",
       "                                                   24, 25, 26, 27, 28, 29],\n",
       "                                        &#x27;svm__degree&#x27;: [3, 4, 5, 6],\n",
       "                                        &#x27;svm__gamma&#x27;: array([0.001     , 0.00441379, 0.00782759, 0.01124138, 0.01465517,\n",
       "       0.01806897, 0.02148276, 0.02489655, 0.02831034, 0.03172414,\n",
       "       0.03513793, 0.03855172, 0.04196552, 0.04537931, 0.0487931 ,\n",
       "       0.0522069 , 0.05562069, 0.05903448, 0.06244828, 0.06586207,\n",
       "       0.06927586, 0.07268966, 0.07610345, 0.07951724, 0.08293103,\n",
       "       0.08634483, 0.08975862, 0.09317241, 0.09658621, 0.1       ])},\n",
       "                   scoring=make_scorer(f1_score))</pre><b>In a Jupyter environment, please rerun this cell to show the HTML representation or trust the notebook. <br />On GitHub, the HTML representation is unable to render, please try loading this page with nbviewer.org.</b></div><div class=\"sk-container\" hidden><div class=\"sk-item sk-dashed-wrapped\"><div class=\"sk-label-container\"><div class=\"sk-label sk-toggleable\"><input class=\"sk-toggleable__control sk-hidden--visually\" id=\"sk-estimator-id-1\" type=\"checkbox\" ><label for=\"sk-estimator-id-1\" class=\"sk-toggleable__label sk-toggleable__label-arrow\">RandomizedSearchCV</label><div class=\"sk-toggleable__content\"><pre>RandomizedSearchCV(cv=StratifiedKFold(n_splits=4, random_state=None, shuffle=False),\n",
       "                   estimator=Pipeline(steps=[(&#x27;scaler&#x27;, StandardScaler()),\n",
       "                                             (&#x27;pca&#x27;, PCA(n_components=24)),\n",
       "                                             (&#x27;svm&#x27;, SVC(kernel=&#x27;poly&#x27;))]),\n",
       "                   n_iter=3, n_jobs=3,\n",
       "                   param_distributions={&#x27;svm__C&#x27;: [10, 11, 12, 13, 14, 15, 16,\n",
       "                                                   17, 18, 19, 20, 21, 22, 23,\n",
       "                                                   24, 25, 26, 27, 28, 29],\n",
       "                                        &#x27;svm__degree&#x27;: [3, 4, 5, 6],\n",
       "                                        &#x27;svm__gamma&#x27;: array([0.001     , 0.00441379, 0.00782759, 0.01124138, 0.01465517,\n",
       "       0.01806897, 0.02148276, 0.02489655, 0.02831034, 0.03172414,\n",
       "       0.03513793, 0.03855172, 0.04196552, 0.04537931, 0.0487931 ,\n",
       "       0.0522069 , 0.05562069, 0.05903448, 0.06244828, 0.06586207,\n",
       "       0.06927586, 0.07268966, 0.07610345, 0.07951724, 0.08293103,\n",
       "       0.08634483, 0.08975862, 0.09317241, 0.09658621, 0.1       ])},\n",
       "                   scoring=make_scorer(f1_score))</pre></div></div></div><div class=\"sk-parallel\"><div class=\"sk-parallel-item\"><div class=\"sk-item\"><div class=\"sk-label-container\"><div class=\"sk-label sk-toggleable\"><input class=\"sk-toggleable__control sk-hidden--visually\" id=\"sk-estimator-id-2\" type=\"checkbox\" ><label for=\"sk-estimator-id-2\" class=\"sk-toggleable__label sk-toggleable__label-arrow\">estimator: Pipeline</label><div class=\"sk-toggleable__content\"><pre>Pipeline(steps=[(&#x27;scaler&#x27;, StandardScaler()), (&#x27;pca&#x27;, PCA(n_components=24)),\n",
       "                (&#x27;svm&#x27;, SVC(kernel=&#x27;poly&#x27;))])</pre></div></div></div><div class=\"sk-serial\"><div class=\"sk-item\"><div class=\"sk-serial\"><div class=\"sk-item\"><div class=\"sk-estimator sk-toggleable\"><input class=\"sk-toggleable__control sk-hidden--visually\" id=\"sk-estimator-id-3\" type=\"checkbox\" ><label for=\"sk-estimator-id-3\" class=\"sk-toggleable__label sk-toggleable__label-arrow\">StandardScaler</label><div class=\"sk-toggleable__content\"><pre>StandardScaler()</pre></div></div></div><div class=\"sk-item\"><div class=\"sk-estimator sk-toggleable\"><input class=\"sk-toggleable__control sk-hidden--visually\" id=\"sk-estimator-id-4\" type=\"checkbox\" ><label for=\"sk-estimator-id-4\" class=\"sk-toggleable__label sk-toggleable__label-arrow\">PCA</label><div class=\"sk-toggleable__content\"><pre>PCA(n_components=24)</pre></div></div></div><div class=\"sk-item\"><div class=\"sk-estimator sk-toggleable\"><input class=\"sk-toggleable__control sk-hidden--visually\" id=\"sk-estimator-id-5\" type=\"checkbox\" ><label for=\"sk-estimator-id-5\" class=\"sk-toggleable__label sk-toggleable__label-arrow\">SVC</label><div class=\"sk-toggleable__content\"><pre>SVC(kernel=&#x27;poly&#x27;)</pre></div></div></div></div></div></div></div></div></div></div></div></div>"
      ],
      "text/plain": [
       "RandomizedSearchCV(cv=StratifiedKFold(n_splits=4, random_state=None, shuffle=False),\n",
       "                   estimator=Pipeline(steps=[('scaler', StandardScaler()),\n",
       "                                             ('pca', PCA(n_components=24)),\n",
       "                                             ('svm', SVC(kernel='poly'))]),\n",
       "                   n_iter=3, n_jobs=3,\n",
       "                   param_distributions={'svm__C': [10, 11, 12, 13, 14, 15, 16,\n",
       "                                                   17, 18, 19, 20, 21, 22, 23,\n",
       "                                                   24, 25, 26, 27, 28, 29],\n",
       "                                        'svm__degree': [3, 4, 5, 6],\n",
       "                                        'svm__gamma': array([0.001     , 0.00441379, 0.00782759, 0.01124138, 0.01465517,\n",
       "       0.01806897, 0.02148276, 0.02489655, 0.02831034, 0.03172414,\n",
       "       0.03513793, 0.03855172, 0.04196552, 0.04537931, 0.0487931 ,\n",
       "       0.0522069 , 0.05562069, 0.05903448, 0.06244828, 0.06586207,\n",
       "       0.06927586, 0.07268966, 0.07610345, 0.07951724, 0.08293103,\n",
       "       0.08634483, 0.08975862, 0.09317241, 0.09658621, 0.1       ])},\n",
       "                   scoring=make_scorer(f1_score))"
      ]
     },
     "execution_count": 8,
     "metadata": {},
     "output_type": "execute_result"
    }
   ],
   "source": [
    "model.fit(X_train, y_train)"
   ]
  },
  {
   "cell_type": "code",
   "execution_count": 9,
   "id": "5d749c33",
   "metadata": {},
   "outputs": [
    {
     "data": {
      "text/plain": [
       "0.8438444230151076"
      ]
     },
     "execution_count": 9,
     "metadata": {},
     "output_type": "execute_result"
    }
   ],
   "source": [
    "model.score(X_val, y_val)"
   ]
  },
  {
   "cell_type": "code",
   "execution_count": 10,
   "id": "e778cd68",
   "metadata": {},
   "outputs": [
    {
     "data": {
      "text/plain": [
       "{'svm__gamma': 0.014655172413793105, 'svm__degree': 3, 'svm__C': 11}"
      ]
     },
     "execution_count": 10,
     "metadata": {},
     "output_type": "execute_result"
    }
   ],
   "source": [
    "model.best_params_"
   ]
  },
  {
   "cell_type": "code",
   "execution_count": 11,
   "id": "b2a2ccd0",
   "metadata": {},
   "outputs": [
    {
     "data": {
      "text/plain": [
       "0.8364173324625639"
      ]
     },
     "execution_count": 11,
     "metadata": {},
     "output_type": "execute_result"
    }
   ],
   "source": [
    "model.best_score_"
   ]
  },
  {
   "cell_type": "markdown",
   "id": "e7b1ea92",
   "metadata": {},
   "source": [
    "Observamos que **tiene un peor performance** que el que utiliza el kernel RBF."
   ]
  },
  {
   "cell_type": "markdown",
   "id": "60dd3984",
   "metadata": {},
   "source": [
    "# Creacion de submit"
   ]
  },
  {
   "cell_type": "code",
   "execution_count": null,
   "id": "75bd3f9e",
   "metadata": {},
   "outputs": [],
   "source": [
    "def create_submission(model): \n",
    "    df_test = pd.read_csv(\"../dataset/hotels_test_procesado.csv\")\n",
    "    assert(len(df_test)==26535)\n",
    "\n",
    "    prediccion = model.predict(df_test[attrs].values)\n",
    "    assert(len(prediccion)==26535)\n",
    "\n",
    "    submit = pd.DataFrame(\n",
    "        {\"is_canceled\": prediccion},\n",
    "        index=df_test[\"id\"],\n",
    "    )\n",
    "    assert(len(submit)==26535)\n",
    "\n",
    "    submit.to_csv(\"../dataset/submit.csv\")"
   ]
  },
  {
   "cell_type": "code",
   "execution_count": null,
   "id": "f4dc3001",
   "metadata": {},
   "outputs": [],
   "source": [
    "create_submission(model)"
   ]
  },
  {
   "cell_type": "markdown",
   "id": "d7624051",
   "metadata": {},
   "source": [
    "# Guardando el modelo con pickle"
   ]
  },
  {
   "cell_type": "markdown",
   "id": "29d31882",
   "metadata": {},
   "source": [
    "Guardamos la svm con pickle:"
   ]
  },
  {
   "cell_type": "code",
   "execution_count": null,
   "id": "4c1a2eee",
   "metadata": {},
   "outputs": [],
   "source": [
    "import pickle\n",
    "\n",
    "with open('../modelos/svm.pickle', 'wb') as file:\n",
    "    pickle.dump(model, file)"
   ]
  }
 ],
 "metadata": {
  "kernelspec": {
   "display_name": "Python 3 (ipykernel)",
   "language": "python",
   "name": "python3"
  },
  "language_info": {
   "codemirror_mode": {
    "name": "ipython",
    "version": 3
   },
   "file_extension": ".py",
   "mimetype": "text/x-python",
   "name": "python",
   "nbconvert_exporter": "python",
   "pygments_lexer": "ipython3",
   "version": "3.11.3"
  },
  "vscode": {
   "interpreter": {
    "hash": "b530d9c2c2b5bebcf7d6e28a50876d0da6caa0e340fb26c46920b1580d5d916c"
   }
  }
 },
 "nbformat": 4,
 "nbformat_minor": 5
}
