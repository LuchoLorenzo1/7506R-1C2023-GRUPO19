{
 "cells": [
  {
   "cell_type": "markdown",
   "id": "02950b78-74f3-462e-b978-b2441a873a67",
   "metadata": {
    "tags": []
   },
   "source": [
    "# <center>Organizaci&oacute;n de Datos</center>\n",
    "## <center>Trabajo Práctico 1 : Reservas de Hotel</center>\n",
    "## <center>Checkpoint 3</center>\n",
    "### <center>Ensambles: KNN</center>\n",
    "\n",
    "#### Integrantes grupo 19: Sudanalytics \n",
    "* Adrian Leandro Re\n",
    "* Alan Toulouse\n",
    "* Luciano Lorenzo\n",
    "* Nicolas Tonizzo"
   ]
  },
  {
   "cell_type": "markdown",
   "id": "acd85be4-91da-4f3f-b9ca-d8b37ed0ec83",
   "metadata": {},
   "source": [
    "# Imports y preparacion del dataset"
   ]
  },
  {
   "cell_type": "code",
   "execution_count": 27,
   "id": "50bcf57b-c305-41f1-bdfe-965947fb03d0",
   "metadata": {
    "tags": []
   },
   "outputs": [],
   "source": [
    "#Datos\n",
    "import numpy as np\n",
    "import pandas as pd\n",
    "\n",
    "#Plots\n",
    "import matplotlib.pyplot as plt\n",
    "import seaborn as sns\n",
    "\n",
    "#Modelado\n",
    "from sklearn.neighbors import KNeighborsClassifier\n",
    "from sklearn.metrics import make_scorer, f1_score, confusion_matrix, precision_score, recall_score\n",
    "from sklearn.model_selection import StratifiedKFold\n",
    "from sklearn.model_selection import RandomizedSearchCV, train_test_split, GridSearchCV\n",
    "from sklearn.metrics.pairwise import PAIRWISE_DISTANCE_FUNCTIONS\n",
    "from sklearn.neighbors import BallTree\n",
    "from sklearn.neighbors import KDTree"
   ]
  },
  {
   "cell_type": "markdown",
   "id": "150769cc-28ef-4b00-9344-3742f0c0c17d",
   "metadata": {},
   "source": [
    "Declaramos el target y los features del dataframe que vamos a utilizar para predecir."
   ]
  },
  {
   "cell_type": "code",
   "execution_count": 28,
   "id": "a60f23af-bbac-42ab-9dcd-601eb7f25923",
   "metadata": {
    "tags": []
   },
   "outputs": [],
   "source": [
    "df_original = pd.read_csv(\"./dataset/hotels_train_procesado.csv\")\n",
    "df = df_original.copy()"
   ]
  },
  {
   "cell_type": "code",
   "execution_count": 29,
   "id": "850a713b-02ed-4be1-a083-8c9e9719e5d9",
   "metadata": {
    "tags": []
   },
   "outputs": [],
   "source": [
    "target = \"is_canceled\"\n",
    "\n",
    "attrs = [\n",
    "    \"hotel_encoding\",\n",
    "    \n",
    "    \"lead_time\",\n",
    "    \"reservo_el_mismo_dia\",\n",
    "    \"adr\",\n",
    "\n",
    "    \"stays_in_weekend_nights\",\n",
    "    \"stays_in_week_nights\",\n",
    "\n",
    "    \"tiene_hijos\",\n",
    "    \"adults\",\n",
    "    # \"children\",\n",
    "    # \"babies\",\n",
    "\n",
    "    # Fechas\n",
    "    \"arrival_date_week_number\",\n",
    "    \"arrival_date_day_of_month\",\n",
    "    \"arrival_date_year\",\n",
    "\n",
    "    \"es_extranjero\",\n",
    "    \"es_portugues\",\n",
    "    \"es_ingles\",\n",
    "    \"es_frances\",\n",
    "    \"es_espanol\",\n",
    "    \"es_aleman\",\n",
    "\n",
    "    \"reserved_room_was_assigned\",\n",
    "\n",
    "    \"is_repeated_guest\",\n",
    "    \"previous_cancellations\", \"previous_bookings_not_canceled\",\n",
    "    #\"total_reservas_previas\"\n",
    "    \"total_of_special_requests\",\n",
    "    \"booking_changes\",\n",
    "\n",
    "    #'meal',\n",
    "    \"solo_desayuna_en_el_hotel\",\n",
    "    \"pidio_todas_comidas\",\n",
    "\n",
    "    # 'required_car_parking_spaces',\n",
    "    \"required_a_car_parking_space\",\n",
    "\n",
    "    \"reservo_sin_reembolso\",\n",
    "    \"reservo_sin_depositar\",\n",
    "    \"reservo_online\",\n",
    "    \"reservo_en_grupo\",\n",
    "    \"reservo_sin_compania\",\n",
    "    \"reservo_sin_agente\",\n",
    "    \"reservo_sin_paquete\",\n",
    "    \n",
    "    # \"days_in_waiting_list\",\n",
    "    \"tuvo_dias_de_espera\",\n",
    "    \n",
    "    \"agent9\",\n",
    "    \"agent240\",\n",
    "    \"agent1\",\n",
    "    \"agent14\",\n",
    "    \"agent6\",\n",
    "]"
   ]
  },
  {
   "cell_type": "markdown",
   "id": "4cc72203-e02d-4c73-81cb-203c21501593",
   "metadata": {},
   "source": [
    "**Dividimos el dataset en entrenamiento y validacion**, para poder validar que no estamos overfitteando al dataset de entrenamiento, y que el modelo predice bien a registros no vistos anteriormente. Vamos a utilizar mitad de el dataset para validacion y mitad del dataset para entrenamiento ya que al momento de realizar pruebas estas tardan una buena cantidad de tiempo el cual se puede reducir utilizando una menor cantidad de datos para entrenamiento aunque reduciendo su precision."
   ]
  },
  {
   "cell_type": "code",
   "execution_count": 30,
   "id": "d9c7874b-6ae0-4486-9c74-f4f0f35b6632",
   "metadata": {
    "tags": []
   },
   "outputs": [],
   "source": [
    "x = df[attrs].values\n",
    "y = df[target].values\n",
    "x_train, x_test, y_train, y_test = train_test_split(x, y, test_size=0.50, random_state=0)"
   ]
  },
  {
   "cell_type": "markdown",
   "id": "b7983ca9-f4fe-44db-a98e-4a924b876085",
   "metadata": {
    "tags": []
   },
   "source": [
    "Creacion de modelo con sus parámetros por defecto:"
   ]
  },
  {
   "cell_type": "code",
   "execution_count": 31,
   "id": "04c2a52f-c38e-4a74-88d9-1c71630bfc4b",
   "metadata": {
    "tags": []
   },
   "outputs": [
    {
     "data": {
      "text/plain": [
       "{'algorithm': 'auto',\n",
       " 'leaf_size': 30,\n",
       " 'metric': 'minkowski',\n",
       " 'metric_params': None,\n",
       " 'n_jobs': None,\n",
       " 'n_neighbors': 5,\n",
       " 'p': 2,\n",
       " 'weights': 'uniform'}"
      ]
     },
     "execution_count": 31,
     "metadata": {},
     "output_type": "execute_result"
    }
   ],
   "source": [
    "#Crear el modelo\n",
    "KNN_Classifier = KNeighborsClassifier()\n",
    "\n",
    "#vemos sus parámetros\n",
    "KNN_Classifier.get_params()"
   ]
  },
  {
   "cell_type": "markdown",
   "id": "c161284c-902b-4739-b1ec-6e9c59a9acd7",
   "metadata": {},
   "source": [
    "Pruebo la precision con los parametros por defecto"
   ]
  },
  {
   "cell_type": "code",
   "execution_count": 32,
   "id": "be90253c-9d36-45d3-9acc-43195c09fd00",
   "metadata": {
    "tags": []
   },
   "outputs": [],
   "source": [
    "#Entrenar el modelo\n",
    "KNN_Classifier.fit(x_train, y_train)\n",
    "\n",
    "#Predicción sobre test\n",
    "y_pred = KNN_Classifier.predict(x_test)"
   ]
  },
  {
   "cell_type": "code",
   "execution_count": 33,
   "id": "8e083fc4-f220-411e-ac4a-f46782cb9c97",
   "metadata": {
    "tags": []
   },
   "outputs": [
    {
     "data": {
      "image/png": "[encoded data removed]",
      "text/plain": [
       "<Figure size 640x480 with 2 Axes>"
      ]
     },
     "metadata": {},
     "output_type": "display_data"
    }
   ],
   "source": [
    "#Cantidad de aciertos\n",
    "cm = confusion_matrix(y_test,y_pred)\n",
    "sns.heatmap(cm, cmap='Blues',annot=True,fmt='g')\n",
    "plt.xlabel('Predicted')\n",
    "plt.ylabel('True')\n",
    "plt.show()"
   ]
  },
  {
   "cell_type": "markdown",
   "id": "89d83776-fa41-45c4-ad75-b62952589f59",
   "metadata": {},
   "source": [
    "Busco como influye la cantidad de vecinos a consultar a la cantidad de aciertos"
   ]
  },
  {
   "cell_type": "code",
   "execution_count": 26,
   "id": "b4b556e9-1be8-40f8-8fad-cde7da5b7e13",
   "metadata": {
    "tags": []
   },
   "outputs": [
    {
     "data": {
      "image/png": "[encoded data removed]",
      "text/plain": [
       "<Figure size 640x480 with 1 Axes>"
      ]
     },
     "metadata": {},
     "output_type": "display_data"
    }
   ],
   "source": [
    "metrics = [] #cantidad de vecinos y cantidad de aciertos\n",
    "\n",
    "k_range=range(1, 50) # vecinos\n",
    "\n",
    "for n in k_range:\n",
    "\n",
    "    knn = KNeighborsClassifier(n_neighbors=n)\n",
    "    knn.fit(x_train, y_train)\n",
    "    y_pred = knn.predict(x_test)\n",
    "    metrics.append((n, (y_test == y_pred).sum()))\n",
    "    \n",
    "df_metrics = pd.DataFrame(metrics, columns=['cant_vecinos', 'correctos'])\n",
    "\n",
    "ax = df_metrics.plot( x='cant_vecinos', \n",
    "                      y='correctos',\n",
    "                      title='Aciertos vs Cantidad de Vecinos'\n",
    "                     )\n",
    "\n",
    "ax.set_ylabel(\"Cantidad de aciertos\")\n",
    "ax.set_xlabel(\"Cantidad de Vecinos\")\n",
    "plt.show()"
   ]
  },
  {
   "cell_type": "markdown",
   "id": "68483a21-d6ec-45ef-a91e-5f9600f43f95",
   "metadata": {},
   "source": [
    "La cantidad de aciertos disminuye si se incrementan por demas la cantidad de vecinos"
   ]
  },
  {
   "cell_type": "markdown",
   "id": "7b3f9d42-75d5-40db-9693-9606c5de0c00",
   "metadata": {},
   "source": [
    "KNN posee parametros que no son compatibles entre si, busco cuales si lo son"
   ]
  },
  {
   "cell_type": "code",
   "execution_count": 34,
   "id": "a1e1f9cb-46d8-4fbe-813b-7e3224666f91",
   "metadata": {
    "tags": []
   },
   "outputs": [
    {
     "name": "stdout",
     "output_type": "stream",
     "text": [
      "algoritmo: ball_tree\n",
      "['euclidean', 'l2', 'minkowski', 'p', 'manhattan', 'cityblock', 'l1', 'chebyshev', 'infinity', 'seuclidean', 'mahalanobis', 'wminkowski', 'hamming', 'canberra', 'braycurtis', 'matching', 'jaccard', 'dice', 'kulsinski', 'rogerstanimoto', 'russellrao', 'sokalmichener', 'sokalsneath', 'haversine', 'pyfunc']\n",
      "\n",
      "algoritmo: kd_tree\n",
      "['euclidean', 'l2', 'minkowski', 'p', 'manhattan', 'cityblock', 'l1', 'chebyshev', 'infinity']\n",
      "\n",
      "algoritmo: brute\n",
      "['cityblock', 'cosine', 'euclidean', 'haversine', 'l2', 'l1', 'manhattan', 'precomputed', 'nan_euclidean', 'braycurtis', 'canberra', 'chebyshev', 'correlation', 'cosine', 'dice', 'hamming', 'jaccard', 'kulsinski', 'mahalanobis', 'matching', 'minkowski', 'rogerstanimoto', 'russellrao', 'seuclidean', 'sokalmichener', 'sokalsneath', 'sqeuclidean', 'yule', 'wminkowski']\n",
      "\n"
     ]
    }
   ],
   "source": [
    "#Métricas Válidas\n",
    "VALID_METRICS = dict(\n",
    "    ball_tree=BallTree.valid_metrics,\n",
    "    kd_tree=KDTree.valid_metrics,\n",
    "    # The following list comes from the sklearn.metrics.pairwise doc string\n",
    "    brute=list(PAIRWISE_DISTANCE_FUNCTIONS.keys())\n",
    "    + [ 'braycurtis','canberra','chebyshev','correlation',\n",
    "        'cosine','dice','hamming','jaccard','kulsinski',\n",
    "        'mahalanobis','matching','minkowski','rogerstanimoto',\n",
    "        'russellrao','seuclidean','sokalmichener','sokalsneath',\n",
    "        'sqeuclidean','yule','wminkowski',\n",
    "    ],\n",
    ")\n",
    "\n",
    "#Ejemplo\n",
    "for alg in VALID_METRICS:\n",
    "    print(f'algoritmo: {alg}')\n",
    "    print(VALID_METRICS[alg])\n",
    "    print()"
   ]
  },
  {
   "cell_type": "markdown",
   "id": "21e1763e-e5b7-4782-a18c-7cabc8a29e8b",
   "metadata": {},
   "source": [
    "Busco optimizar los parametros utilizando Grid Search y Cross Validation, para no incrementar demasiado el tiempo de busqueda de los parametros utilizamos 4 folds"
   ]
  },
  {
   "cell_type": "code",
   "execution_count": 38,
   "id": "6965bc97-f9c1-40fd-a493-3a2a6b4c45f9",
   "metadata": {
    "tags": []
   },
   "outputs": [],
   "source": [
    "kfoldcv = StratifiedKFold(n_splits=4)\n",
    "\n",
    "KNN_Classifier = KNeighborsClassifier()\n",
    "\n",
    "params_grid = {  'algorithm': [\"ball_tree\", \"kd_tree\",\"brute\"],\n",
    "                 'metric': [\"minkowski\",\"euclidean\",\"manhattan\"],\n",
    "                 'n_neighbors': list(range(1,20)),\n",
    "                 'weights': [\"uniform\", \"distance\"] }\n",
    "\n",
    "model = GridSearchCV(\n",
    "    estimator=KNN_Classifier,\n",
    "    param_grid=params_grid,\n",
    "    scoring=make_scorer(f1_score),\n",
    "    cv=kfoldcv,\n",
    "    n_jobs = -1\n",
    ")"
   ]
  },
  {
   "cell_type": "code",
   "execution_count": 39,
   "id": "aa54bea2-83f8-4577-9138-6e96eaa276eb",
   "metadata": {},
   "outputs": [
    {
     "name": "stdout",
     "output_type": "stream",
     "text": [
      "Los mejores parametros encontrados son:  {'algorithm': 'kd_tree', 'metric': 'manhattan', 'n_neighbors': 18, 'weights': 'distance'}\n",
      "con un f1 score:  0.7639048499103442\n"
     ]
    }
   ],
   "source": [
    "model.fit(x_train, y_train)\n",
    "print(\"Los mejores parametros encontrados son: \", model.best_params_)\n",
    "print(\"con un f1 score: \", model.best_score_)"
   ]
  },
  {
   "cell_type": "code",
   "execution_count": null,
   "id": "c844e723-3aba-4eab-b6be-293e7b0150b4",
   "metadata": {
    "tags": []
   },
   "outputs": [],
   "source": [
    "Obtengo el KNN con los mejores parametros y obtengo sus resultados con los datasets de test"
   ]
  },
  {
   "cell_type": "code",
   "execution_count": 43,
   "id": "58d98a15-6e2c-4283-b49f-3e82adbcbfa0",
   "metadata": {
    "tags": []
   },
   "outputs": [],
   "source": [
    "mejor_knn=model.best_estimator_\n",
    "\n",
    "#Predicción con mejor estimador\n",
    "y_pred=mejor_knn.predict(x_test)"
   ]
  },
  {
   "cell_type": "code",
   "execution_count": 42,
   "id": "68bb1cf7-7c1e-4525-9330-69b252eb2c78",
   "metadata": {},
   "outputs": [
    {
     "data": {
      "text/plain": [
       "Text(50.722222222222214, 0.5, 'True')"
      ]
     },
     "execution_count": 42,
     "metadata": {},
     "output_type": "execute_result"
    },
    {
     "data": {
      "image/png": "[encoded data removed]",
      "text/plain": [
       "<Figure size 640x480 with 2 Axes>"
      ]
     },
     "metadata": {},
     "output_type": "display_data"
    }
   ],
   "source": [
    "#Matriz de Confusión\n",
    "cm = confusion_matrix(y_test,y_pred)\n",
    "sns.heatmap(cm, cmap='Blues',annot=True,fmt='g')\n",
    "plt.xlabel('Predicted')\n",
    "plt.ylabel('True')\n",
    "plt.show()"
   ]
  },
  {
   "cell_type": "markdown",
   "id": "221b8683-a5bb-4cee-b1ce-134a133bfe7a",
   "metadata": {},
   "source": [
    "# Creacion de submit"
   ]
  },
  {
   "cell_type": "code",
   "execution_count": 46,
   "id": "1d495d93-0e22-448d-8f77-d8247118c1e9",
   "metadata": {
    "tags": []
   },
   "outputs": [],
   "source": [
    "df_test = pd.read_csv(\"./dataset/hotels_test_procesado.csv\")\n",
    "assert(len(df_test)==26535)\n",
    "\n",
    "prediccion = mejor_knn.predict(df_test[attrs].values)\n",
    "assert(len(prediccion)==26535)\n",
    "\n",
    "submit = pd.DataFrame(\n",
    "    {\"is_canceled\": prediccion},\n",
    "    index=df_test[\"id\"],\n",
    ")\n",
    "assert(len(submit)==26535)\n",
    "\n",
    "submit.to_csv(\"../dataset/submit.csv\")"
   ]
  },
  {
   "cell_type": "markdown",
   "id": "55163d2f-f2ac-4c7c-9c5d-b12a2cf39074",
   "metadata": {},
   "source": [
    "# Guardando el modelo con pickle"
   ]
  },
  {
   "cell_type": "code",
   "execution_count": 54,
   "id": "fec53702-88db-45a6-9878-d9af7fdd82d6",
   "metadata": {
    "tags": []
   },
   "outputs": [],
   "source": [
    "import pickle\n",
    "\n",
    "with open('./dataset/knn.pickle', 'wb') as file:\n",
    "    pickle.dump(mejor_knn, file)"
   ]
  },
  {
   "cell_type": "code",
   "execution_count": null,
   "id": "8b6ed006-1a6f-4607-8f52-61cbef935295",
   "metadata": {},
   "outputs": [],
   "source": []
  }
 ],
 "metadata": {
  "kernelspec": {
   "display_name": "Python 3 (ipykernel)",
   "language": "python",
   "name": "python3"
  },
  "language_info": {
   "codemirror_mode": {
    "name": "ipython",
    "version": 3
   },
   "file_extension": ".py",
   "mimetype": "text/x-python",
   "name": "python",
   "nbconvert_exporter": "python",
   "pygments_lexer": "ipython3",
   "version": "3.11.2"
  }
 },
 "nbformat": 4,
 "nbformat_minor": 5
}
