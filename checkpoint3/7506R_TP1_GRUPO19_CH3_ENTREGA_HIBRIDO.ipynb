{
 "cells": [
  {
   "cell_type": "markdown",
   "id": "4cefd7d9-5509-4399-9215-444c74fcce35",
   "metadata": {},
   "source": [
    "# <center>Organizaci&oacute;n de Datos</center>\n",
    "## <center>Trabajo Práctico 1 : Reservas de Hotel</center>\n",
    "## <center>Checkpoint 3</center>\n",
    "### <center>Ensambles</center>\n",
    "\n",
    "#### Integrantes grupo 19: Sudanalytics \n",
    "* Adrian Leandro Re\n",
    "* Alan Toulouse\n",
    "* Luciano Lorenzo\n",
    "* Nicolas Tonizzo"
   ]
  },
  {
   "cell_type": "markdown",
   "id": "dd1cb26a-f989-4515-83d3-e4af83a71a10",
   "metadata": {},
   "source": [
    "## Ensamble híbrido\n",
    "Cargaremos los modelos creados con las notebooks anteriores usando la libreria pickle"
   ]
  },
  {
   "cell_type": "code",
   "execution_count": 33,
   "id": "d5c081f7-f594-4a97-a007-2339e7a9be5a",
   "metadata": {
    "tags": []
   },
   "outputs": [],
   "source": [
    "import pickle\n",
    "import pandas as pd\n",
    "from sklearn.model_selection import train_test_split\n",
    "from sklearn.metrics import make_scorer, f1_score, confusion_matrix, precision_score, recall_score, accuracy_score\n",
    "from sklearn.ensemble import VotingClassifier\n",
    "import matplotlib.pyplot as plt\n",
    "import seaborn as sns\n",
    "\n",
    "decision_tree = pickle.load(open('../modelos/decision_tree.pickle', 'rb'))\n",
    "rf = pickle.load(open('../modelos/rf.pickle', 'rb'))\n",
    "xgb = pickle.load(open('../modelos/xgb.pickle', 'rb'))\n",
    "svm = pickle.load(open('../modelos/svm.pickle', 'rb'))\n",
    "# knn = pickle.load(open('../modelos/knn.pickle', 'rb'))"
   ]
  },
  {
   "cell_type": "code",
   "execution_count": 34,
   "id": "c33d34e7-0a81-4b1e-bd69-da53e40ea9b7",
   "metadata": {
    "tags": []
   },
   "outputs": [
    {
     "data": {
      "text/plain": [
       "Index(['hotel', 'lead_time', 'arrival_date_year', 'arrival_date_month',\n",
       "       'arrival_date_week_number', 'arrival_date_day_of_month',\n",
       "       'stays_in_weekend_nights', 'stays_in_week_nights', 'adults', 'children',\n",
       "       'babies', 'meal', 'country', 'market_segment', 'distribution_channel',\n",
       "       'is_repeated_guest', 'previous_cancellations',\n",
       "       'previous_bookings_not_canceled', 'reserved_room_type',\n",
       "       'assigned_room_type', 'booking_changes', 'deposit_type', 'agent',\n",
       "       'company', 'days_in_waiting_list', 'customer_type', 'adr',\n",
       "       'required_car_parking_spaces', 'total_of_special_requests',\n",
       "       'reservation_status_date', 'id', 'is_canceled', 'hotel_encoding',\n",
       "       'tiene_hijos', 'es_extranjero', 'es_portugues', 'es_ingles',\n",
       "       'es_frances', 'es_espanol', 'es_aleman', 'reserved_room_was_assigned',\n",
       "       'required_a_car_parking_space', 'solo_desayuna_en_el_hotel',\n",
       "       'pidio_todas_comidas', 'reservo_online', 'reservo_en_grupo',\n",
       "       'reservo_sin_reembolso', 'reservo_sin_depositar', 'reservo_sin_paquete',\n",
       "       'reservo_sin_compania', 'reservo_sin_agente', 'tuvo_dias_de_espera',\n",
       "       'reservo_el_mismo_dia', 'total_reservas_previas', 'agent9', 'agent240',\n",
       "       'agent1', 'agent14', 'agent6'],\n",
       "      dtype='object')"
      ]
     },
     "execution_count": 34,
     "metadata": {},
     "output_type": "execute_result"
    }
   ],
   "source": [
    "df = pd.read_csv(\"../dataset/hotels_train_procesado.csv\")\n",
    "df.columns"
   ]
  },
  {
   "cell_type": "markdown",
   "id": "9c4ffd21-d886-4677-bc39-810fbd17a209",
   "metadata": {
    "tags": []
   },
   "source": [
    "Declaramos el target y los features del dataframe que vamos a utilizar para predecir."
   ]
  },
  {
   "cell_type": "code",
   "execution_count": 35,
   "id": "e2346c67-e9fb-4736-8f7e-be9df7b587c0",
   "metadata": {
    "tags": []
   },
   "outputs": [],
   "source": [
    "target = \"is_canceled\"\n",
    "\n",
    "attrs = [\n",
    "    \"hotel_encoding\",\n",
    "    \n",
    "    \"lead_time\",\n",
    "    \"reservo_el_mismo_dia\",\n",
    "    \"adr\",\n",
    "\n",
    "    \"stays_in_weekend_nights\",\n",
    "    \"stays_in_week_nights\",\n",
    "\n",
    "    \"tiene_hijos\",\n",
    "    \"adults\",\n",
    "    #\"children\",\n",
    "    #\"babies\",\n",
    "\n",
    "    # Fechas\n",
    "    \"arrival_date_week_number\",\n",
    "    \"arrival_date_day_of_month\",\n",
    "    \"arrival_date_year\",\n",
    "\n",
    "    \"es_extranjero\",\n",
    "    \"es_portugues\",\n",
    "    \"es_ingles\",\n",
    "    \"es_frances\",\n",
    "    \"es_espanol\",\n",
    "    \"es_aleman\",\n",
    "\n",
    "    \"reserved_room_was_assigned\",\n",
    "\n",
    "    \"is_repeated_guest\",\n",
    "    \"previous_cancellations\", \n",
    "    \"previous_bookings_not_canceled\",\n",
    "    \"total_reservas_previas\",\n",
    "    \"total_of_special_requests\",\n",
    "    \"booking_changes\",\n",
    "\n",
    "    # 'meal',\n",
    "    \"solo_desayuna_en_el_hotel\",\n",
    "    \"pidio_todas_comidas\",\n",
    "\n",
    "    'required_car_parking_spaces',\n",
    "    \"required_a_car_parking_space\",\n",
    "\n",
    "    \"reservo_sin_reembolso\",\n",
    "    \"reservo_sin_depositar\",\n",
    "    \"reservo_online\",\n",
    "    \"reservo_en_grupo\",\n",
    "    \"reservo_sin_compania\",\n",
    "    \"reservo_sin_agente\",\n",
    "    \"reservo_sin_paquete\",\n",
    "    \n",
    "    \"days_in_waiting_list\",\n",
    "    \"tuvo_dias_de_espera\",\n",
    "    \n",
    "    \"agent9\",\n",
    "    \"agent240\",\n",
    "    \"agent1\",\n",
    "    \"agent14\",\n",
    "    \"agent6\",\n",
    "]"
   ]
  },
  {
   "cell_type": "markdown",
   "id": "616f47bf-1fdc-450c-b591-b38e909cfa28",
   "metadata": {},
   "source": [
    "**Dividimos el dataset en entrenamiento y validacion**, para poder validar que no estamos overfitteando al dataset de entrenamiento, y que el modelo predice bien a registros no vistos anteriormente. "
   ]
  },
  {
   "cell_type": "code",
   "execution_count": 36,
   "id": "33b03715-49ae-41b2-b46b-e664199589c3",
   "metadata": {
    "tags": []
   },
   "outputs": [],
   "source": [
    "X = df[attrs]\n",
    "y = df[target]\n",
    "\n",
    "X_train, X_val, y_train, y_val = train_test_split(X, y, test_size=0.25, shuffle=True)"
   ]
  },
  {
   "cell_type": "markdown",
   "id": "daf85651-87e3-4b7d-b163-48e2c95d97d1",
   "metadata": {},
   "source": [
    "Construimos nuestro ensamble de tipo Voting, con los modelos que entrenamos en las notebooks anteriores"
   ]
  },
  {
   "cell_type": "code",
   "execution_count": 37,
   "id": "2c48ce37-f346-4f82-a00f-a0dbcfb884c5",
   "metadata": {
    "tags": []
   },
   "outputs": [],
   "source": [
    "# ensamble_hibrido = VotingClassifier(estimators=[('xgb', xgb), ('rf', rf), ('decision_tree', decision_tree), ('svm', svm), ('knn', knn)], voting='hard')\n",
    "ensamble_hibrido = VotingClassifier(estimators=[('xgb', xgb), ('rf', rf), ('decision_tree', decision_tree)], voting='hard')"
   ]
  },
  {
   "cell_type": "markdown",
   "id": "97d88d0e-c769-4040-82ef-91edfc74c8a4",
   "metadata": {},
   "source": [
    "Lo entrenamos con los datos separados anteriormente"
   ]
  },
  {
   "cell_type": "code",
   "execution_count": 38,
   "id": "d1a7048b-af99-4823-b674-54a1a756f969",
   "metadata": {
    "tags": []
   },
   "outputs": [
    {
     "name": "stderr",
     "output_type": "stream",
     "text": [
      "/home/adrian/.local/lib/python3.8/site-packages/sklearn/base.py:299: UserWarning: Trying to unpickle estimator DecisionTreeClassifier from version 1.2.2 when using version 1.2.1. This might lead to breaking code or invalid results. Use at your own risk. For more info please refer to:\n",
      "https://scikit-learn.org/stable/model_persistence.html#security-maintainability-limitations\n",
      "  warnings.warn(\n"
     ]
    },
    {
     "data": {
      "text/html": [
       "<style>#sk-container-id-2 {color: black;background-color: white;}#sk-container-id-2 pre{padding: 0;}#sk-container-id-2 div.sk-toggleable {background-color: white;}#sk-container-id-2 label.sk-toggleable__label {cursor: pointer;display: block;width: 100%;margin-bottom: 0;padding: 0.3em;box-sizing: border-box;text-align: center;}#sk-container-id-2 label.sk-toggleable__label-arrow:before {content: \"▸\";float: left;margin-right: 0.25em;color: #696969;}#sk-container-id-2 label.sk-toggleable__label-arrow:hover:before {color: black;}#sk-container-id-2 div.sk-estimator:hover label.sk-toggleable__label-arrow:before {color: black;}#sk-container-id-2 div.sk-toggleable__content {max-height: 0;max-width: 0;overflow: hidden;text-align: left;background-color: #f0f8ff;}#sk-container-id-2 div.sk-toggleable__content pre {margin: 0.2em;color: black;border-radius: 0.25em;background-color: #f0f8ff;}#sk-container-id-2 input.sk-toggleable__control:checked~div.sk-toggleable__content {max-height: 200px;max-width: 100%;overflow: auto;}#sk-container-id-2 input.sk-toggleable__control:checked~label.sk-toggleable__label-arrow:before {content: \"▾\";}#sk-container-id-2 div.sk-estimator input.sk-toggleable__control:checked~label.sk-toggleable__label {background-color: #d4ebff;}#sk-container-id-2 div.sk-label input.sk-toggleable__control:checked~label.sk-toggleable__label {background-color: #d4ebff;}#sk-container-id-2 input.sk-hidden--visually {border: 0;clip: rect(1px 1px 1px 1px);clip: rect(1px, 1px, 1px, 1px);height: 1px;margin: -1px;overflow: hidden;padding: 0;position: absolute;width: 1px;}#sk-container-id-2 div.sk-estimator {font-family: monospace;background-color: #f0f8ff;border: 1px dotted black;border-radius: 0.25em;box-sizing: border-box;margin-bottom: 0.5em;}#sk-container-id-2 div.sk-estimator:hover {background-color: #d4ebff;}#sk-container-id-2 div.sk-parallel-item::after {content: \"\";width: 100%;border-bottom: 1px solid gray;flex-grow: 1;}#sk-container-id-2 div.sk-label:hover label.sk-toggleable__label {background-color: #d4ebff;}#sk-container-id-2 div.sk-serial::before {content: \"\";position: absolute;border-left: 1px solid gray;box-sizing: border-box;top: 0;bottom: 0;left: 50%;z-index: 0;}#sk-container-id-2 div.sk-serial {display: flex;flex-direction: column;align-items: center;background-color: white;padding-right: 0.2em;padding-left: 0.2em;position: relative;}#sk-container-id-2 div.sk-item {position: relative;z-index: 1;}#sk-container-id-2 div.sk-parallel {display: flex;align-items: stretch;justify-content: center;background-color: white;position: relative;}#sk-container-id-2 div.sk-item::before, #sk-container-id-2 div.sk-parallel-item::before {content: \"\";position: absolute;border-left: 1px solid gray;box-sizing: border-box;top: 0;bottom: 0;left: 50%;z-index: -1;}#sk-container-id-2 div.sk-parallel-item {display: flex;flex-direction: column;z-index: 1;position: relative;background-color: white;}#sk-container-id-2 div.sk-parallel-item:first-child::after {align-self: flex-end;width: 50%;}#sk-container-id-2 div.sk-parallel-item:last-child::after {align-self: flex-start;width: 50%;}#sk-container-id-2 div.sk-parallel-item:only-child::after {width: 0;}#sk-container-id-2 div.sk-dashed-wrapped {border: 1px dashed gray;margin: 0 0.4em 0.5em 0.4em;box-sizing: border-box;padding-bottom: 0.4em;background-color: white;}#sk-container-id-2 div.sk-label label {font-family: monospace;font-weight: bold;display: inline-block;line-height: 1.2em;}#sk-container-id-2 div.sk-label-container {text-align: center;}#sk-container-id-2 div.sk-container {/* jupyter's `normalize.less` sets `[hidden] { display: none; }` but bootstrap.min.css set `[hidden] { display: none !important; }` so we also need the `!important` here to be able to override the default hidden behavior on the sphinx rendered scikit-learn.org. See: https://github.com/scikit-learn/scikit-learn/issues/21755 */display: inline-block !important;position: relative;}#sk-container-id-2 div.sk-text-repr-fallback {display: none;}</style><div id=\"sk-container-id-2\" class=\"sk-top-container\"><div class=\"sk-text-repr-fallback\"><pre>VotingClassifier(estimators=[(&#x27;xgb&#x27;,\n",
       "                              RandomizedSearchCV(cv=3,\n",
       "                                                 estimator=XGBClassifier(base_score=None,\n",
       "                                                                         booster=None,\n",
       "                                                                         callbacks=None,\n",
       "                                                                         colsample_bylevel=None,\n",
       "                                                                         colsample_bynode=None,\n",
       "                                                                         colsample_bytree=None,\n",
       "                                                                         early_stopping_rounds=None,\n",
       "                                                                         enable_categorical=False,\n",
       "                                                                         eval_metric=None,\n",
       "                                                                         feature_types=None,\n",
       "                                                                         gamma=None,\n",
       "                                                                         gpu_id=None,\n",
       "                                                                         grow_policy=None,\n",
       "                                                                         importance_type=None,\n",
       "                                                                         intera...\n",
       "                                                 param_distributions={&#x27;colsample_bytree&#x27;: [0.6,\n",
       "                                                                                           0.7,\n",
       "                                                                                           0.8,\n",
       "                                                                                           0.9,\n",
       "                                                                                           1],\n",
       "                                                                      &#x27;max_depth&#x27;: [10,\n",
       "                                                                                    11,\n",
       "                                                                                    12,\n",
       "                                                                                    13,\n",
       "                                                                                    14,\n",
       "                                                                                    15],\n",
       "                                                                      &#x27;subsample&#x27;: [0.6,\n",
       "                                                                                    0.7,\n",
       "                                                                                    0.8,\n",
       "                                                                                    0.9,\n",
       "                                                                                    1]},\n",
       "                                                 scoring=make_scorer(f1_score))),\n",
       "                             (&#x27;rf&#x27;,\n",
       "                              RandomForestClassifier(min_samples_split=4,\n",
       "                                                     n_estimators=50, n_jobs=-1,\n",
       "                                                     oob_score=True,\n",
       "                                                     random_state=2)),\n",
       "                             (&#x27;decision_tree&#x27;,\n",
       "                              DecisionTreeClassifier(ccp_alpha=0.00015816326530612246,\n",
       "                                                     max_depth=22,\n",
       "                                                     min_samples_leaf=16,\n",
       "                                                     min_samples_split=16))])</pre><b>In a Jupyter environment, please rerun this cell to show the HTML representation or trust the notebook. <br />On GitHub, the HTML representation is unable to render, please try loading this page with nbviewer.org.</b></div><div class=\"sk-container\" hidden><div class=\"sk-item sk-dashed-wrapped\"><div class=\"sk-label-container\"><div class=\"sk-label sk-toggleable\"><input class=\"sk-toggleable__control sk-hidden--visually\" id=\"sk-estimator-id-6\" type=\"checkbox\" ><label for=\"sk-estimator-id-6\" class=\"sk-toggleable__label sk-toggleable__label-arrow\">VotingClassifier</label><div class=\"sk-toggleable__content\"><pre>VotingClassifier(estimators=[(&#x27;xgb&#x27;,\n",
       "                              RandomizedSearchCV(cv=3,\n",
       "                                                 estimator=XGBClassifier(base_score=None,\n",
       "                                                                         booster=None,\n",
       "                                                                         callbacks=None,\n",
       "                                                                         colsample_bylevel=None,\n",
       "                                                                         colsample_bynode=None,\n",
       "                                                                         colsample_bytree=None,\n",
       "                                                                         early_stopping_rounds=None,\n",
       "                                                                         enable_categorical=False,\n",
       "                                                                         eval_metric=None,\n",
       "                                                                         feature_types=None,\n",
       "                                                                         gamma=None,\n",
       "                                                                         gpu_id=None,\n",
       "                                                                         grow_policy=None,\n",
       "                                                                         importance_type=None,\n",
       "                                                                         intera...\n",
       "                                                 param_distributions={&#x27;colsample_bytree&#x27;: [0.6,\n",
       "                                                                                           0.7,\n",
       "                                                                                           0.8,\n",
       "                                                                                           0.9,\n",
       "                                                                                           1],\n",
       "                                                                      &#x27;max_depth&#x27;: [10,\n",
       "                                                                                    11,\n",
       "                                                                                    12,\n",
       "                                                                                    13,\n",
       "                                                                                    14,\n",
       "                                                                                    15],\n",
       "                                                                      &#x27;subsample&#x27;: [0.6,\n",
       "                                                                                    0.7,\n",
       "                                                                                    0.8,\n",
       "                                                                                    0.9,\n",
       "                                                                                    1]},\n",
       "                                                 scoring=make_scorer(f1_score))),\n",
       "                             (&#x27;rf&#x27;,\n",
       "                              RandomForestClassifier(min_samples_split=4,\n",
       "                                                     n_estimators=50, n_jobs=-1,\n",
       "                                                     oob_score=True,\n",
       "                                                     random_state=2)),\n",
       "                             (&#x27;decision_tree&#x27;,\n",
       "                              DecisionTreeClassifier(ccp_alpha=0.00015816326530612246,\n",
       "                                                     max_depth=22,\n",
       "                                                     min_samples_leaf=16,\n",
       "                                                     min_samples_split=16))])</pre></div></div></div><div class=\"sk-parallel\"><div class=\"sk-parallel-item\"><div class=\"sk-item\"><div class=\"sk-label-container\"><div class=\"sk-label sk-toggleable\"><label>xgb</label></div></div><div class=\"sk-serial\"><div class=\"sk-item sk-dashed-wrapped\"><div class=\"sk-parallel\"><div class=\"sk-parallel-item\"><div class=\"sk-item\"><div class=\"sk-label-container\"><div class=\"sk-label sk-toggleable\"><input class=\"sk-toggleable__control sk-hidden--visually\" id=\"sk-estimator-id-7\" type=\"checkbox\" ><label for=\"sk-estimator-id-7\" class=\"sk-toggleable__label sk-toggleable__label-arrow\">estimator: XGBClassifier</label><div class=\"sk-toggleable__content\"><pre>XGBClassifier(base_score=None, booster=None, callbacks=None,\n",
       "              colsample_bylevel=None, colsample_bynode=None,\n",
       "              colsample_bytree=None, early_stopping_rounds=None,\n",
       "              enable_categorical=False, eval_metric=None, feature_types=None,\n",
       "              gamma=None, gpu_id=None, grow_policy=None, importance_type=None,\n",
       "              interaction_constraints=None, learning_rate=0.1, max_bin=None,\n",
       "              max_cat_threshold=None, max_cat_to_onehot=None,\n",
       "              max_delta_step=None, max_depth=None, max_leaves=None,\n",
       "              min_child_weight=None, missing=nan, monotone_constraints=None,\n",
       "              n_estimators=400, n_jobs=None, num_parallel_tree=None,\n",
       "              predictor=None, random_state=None, ...)</pre></div></div></div><div class=\"sk-serial\"><div class=\"sk-item\"><div class=\"sk-estimator sk-toggleable\"><input class=\"sk-toggleable__control sk-hidden--visually\" id=\"sk-estimator-id-8\" type=\"checkbox\" ><label for=\"sk-estimator-id-8\" class=\"sk-toggleable__label sk-toggleable__label-arrow\">XGBClassifier</label><div class=\"sk-toggleable__content\"><pre>XGBClassifier(base_score=None, booster=None, callbacks=None,\n",
       "              colsample_bylevel=None, colsample_bynode=None,\n",
       "              colsample_bytree=None, early_stopping_rounds=None,\n",
       "              enable_categorical=False, eval_metric=None, feature_types=None,\n",
       "              gamma=None, gpu_id=None, grow_policy=None, importance_type=None,\n",
       "              interaction_constraints=None, learning_rate=0.1, max_bin=None,\n",
       "              max_cat_threshold=None, max_cat_to_onehot=None,\n",
       "              max_delta_step=None, max_depth=None, max_leaves=None,\n",
       "              min_child_weight=None, missing=nan, monotone_constraints=None,\n",
       "              n_estimators=400, n_jobs=None, num_parallel_tree=None,\n",
       "              predictor=None, random_state=None, ...)</pre></div></div></div></div></div></div></div></div></div></div></div><div class=\"sk-parallel-item\"><div class=\"sk-item\"><div class=\"sk-label-container\"><div class=\"sk-label sk-toggleable\"><label>rf</label></div></div><div class=\"sk-serial\"><div class=\"sk-item\"><div class=\"sk-estimator sk-toggleable\"><input class=\"sk-toggleable__control sk-hidden--visually\" id=\"sk-estimator-id-9\" type=\"checkbox\" ><label for=\"sk-estimator-id-9\" class=\"sk-toggleable__label sk-toggleable__label-arrow\">RandomForestClassifier</label><div class=\"sk-toggleable__content\"><pre>RandomForestClassifier(min_samples_split=4, n_estimators=50, n_jobs=-1,\n",
       "                       oob_score=True, random_state=2)</pre></div></div></div></div></div></div><div class=\"sk-parallel-item\"><div class=\"sk-item\"><div class=\"sk-label-container\"><div class=\"sk-label sk-toggleable\"><label>decision_tree</label></div></div><div class=\"sk-serial\"><div class=\"sk-item\"><div class=\"sk-estimator sk-toggleable\"><input class=\"sk-toggleable__control sk-hidden--visually\" id=\"sk-estimator-id-10\" type=\"checkbox\" ><label for=\"sk-estimator-id-10\" class=\"sk-toggleable__label sk-toggleable__label-arrow\">DecisionTreeClassifier</label><div class=\"sk-toggleable__content\"><pre>DecisionTreeClassifier(ccp_alpha=0.00015816326530612246, max_depth=22,\n",
       "                       min_samples_leaf=16, min_samples_split=16)</pre></div></div></div></div></div></div></div></div></div></div>"
      ],
      "text/plain": [
       "VotingClassifier(estimators=[('xgb',\n",
       "                              RandomizedSearchCV(cv=3,\n",
       "                                                 estimator=XGBClassifier(base_score=None,\n",
       "                                                                         booster=None,\n",
       "                                                                         callbacks=None,\n",
       "                                                                         colsample_bylevel=None,\n",
       "                                                                         colsample_bynode=None,\n",
       "                                                                         colsample_bytree=None,\n",
       "                                                                         early_stopping_rounds=None,\n",
       "                                                                         enable_categorical=False,\n",
       "                                                                         eval_metric=None,\n",
       "                                                                         feature_types=None,\n",
       "                                                                         gamma=None,\n",
       "                                                                         gpu_id=None,\n",
       "                                                                         grow_policy=None,\n",
       "                                                                         importance_type=None,\n",
       "                                                                         intera...\n",
       "                                                 param_distributions={'colsample_bytree': [0.6,\n",
       "                                                                                           0.7,\n",
       "                                                                                           0.8,\n",
       "                                                                                           0.9,\n",
       "                                                                                           1],\n",
       "                                                                      'max_depth': [10,\n",
       "                                                                                    11,\n",
       "                                                                                    12,\n",
       "                                                                                    13,\n",
       "                                                                                    14,\n",
       "                                                                                    15],\n",
       "                                                                      'subsample': [0.6,\n",
       "                                                                                    0.7,\n",
       "                                                                                    0.8,\n",
       "                                                                                    0.9,\n",
       "                                                                                    1]},\n",
       "                                                 scoring=make_scorer(f1_score))),\n",
       "                             ('rf',\n",
       "                              RandomForestClassifier(min_samples_split=4,\n",
       "                                                     n_estimators=50, n_jobs=-1,\n",
       "                                                     oob_score=True,\n",
       "                                                     random_state=2)),\n",
       "                             ('decision_tree',\n",
       "                              DecisionTreeClassifier(ccp_alpha=0.00015816326530612246,\n",
       "                                                     max_depth=22,\n",
       "                                                     min_samples_leaf=16,\n",
       "                                                     min_samples_split=16))])"
      ]
     },
     "execution_count": 38,
     "metadata": {},
     "output_type": "execute_result"
    }
   ],
   "source": [
    "ensamble_hibrido.fit(X_train, y_train)"
   ]
  },
  {
   "cell_type": "markdown",
   "id": "ff3121c8-f18a-4964-8de2-54e48706bd7d",
   "metadata": {},
   "source": [
    "Analizamos el f1 score separando por los sets de validación y entrenamiento"
   ]
  },
  {
   "cell_type": "code",
   "execution_count": 39,
   "id": "daf0d95e-880a-44dc-a3dc-289a8c9c773c",
   "metadata": {
    "tags": []
   },
   "outputs": [
    {
     "name": "stdout",
     "output_type": "stream",
     "text": [
      "f1 score sobre validacion:  0.8865462492768529\n",
      "f1 score sobre train:  0.9861966171991445\n"
     ]
    }
   ],
   "source": [
    "print(\"f1 score sobre validacion: \", f1_score(y_val, ensamble_hibrido.predict(X_val)))\n",
    "print(\"f1 score sobre train: \", f1_score(y_train, ensamble_hibrido.predict(X_train)))"
   ]
  },
  {
   "cell_type": "markdown",
   "id": "31f65072-ea91-43a5-9194-b6a8db1fac58",
   "metadata": {},
   "source": [
    "Ploteamos la confusion matrix del set de entrenamiento"
   ]
  },
  {
   "cell_type": "code",
   "execution_count": 18,
   "id": "7e16718b-6585-492b-adbd-690578875647",
   "metadata": {
    "tags": []
   },
   "outputs": [
    {
     "data": {
      "text/plain": [
       "Text(0.5, 1.0, 'Confusion matrix de training set')"
      ]
     },
     "execution_count": 18,
     "metadata": {},
     "output_type": "execute_result"
    },
    {
     "data": {
      "image/png": "[encoded data removed]",
      "text/plain": [
       "<Figure size 640x480 with 2 Axes>"
      ]
     },
     "metadata": {},
     "output_type": "display_data"
    }
   ],
   "source": [
    "y_pred = ensamble_hibrido.predict(X_train)\n",
    "confusion = confusion_matrix(y_train, y_pred)\n",
    "sns.heatmap(confusion, annot=True, fmt='.0f')\n",
    "plt.ylabel('true')\n",
    "plt.xlabel('predicted')\n",
    "plt.title(\"Confusion matrix de training set\")"
   ]
  },
  {
   "cell_type": "markdown",
   "id": "408332cc-e8d0-47b0-a49f-fc373970f334",
   "metadata": {},
   "source": [
    "Ploteamos la confusion matrix del set de validación"
   ]
  },
  {
   "cell_type": "code",
   "execution_count": 14,
   "id": "0df6db72-0fbd-4bba-8bad-cf1cce457f6b",
   "metadata": {
    "tags": []
   },
   "outputs": [
    {
     "name": "stdout",
     "output_type": "stream",
     "text": [
      "precision 0.8791963707064161\n",
      "recall 0.8810235095466944\n"
     ]
    },
    {
     "data": {
      "image/png": "[encoded data removed]",
      "text/plain": [
       "<Figure size 640x480 with 2 Axes>"
      ]
     },
     "metadata": {},
     "output_type": "display_data"
    }
   ],
   "source": [
    "y_pred = ensamble_hibrido.predict(X_val)\n",
    "confusion = confusion_matrix(y_val, y_pred)\n",
    "sns.heatmap(confusion, annot=True, fmt='.0f')\n",
    "plt.ylabel('true')\n",
    "plt.xlabel('predicted')\n",
    "plt.title(\"Confusion matrix del validation set\")\n",
    "print(\"precision\", precision_score(y_val, y_pred))\n",
    "print(\"recall\", recall_score(y_val, y_pred))"
   ]
  },
  {
   "cell_type": "markdown",
   "id": "f9c82078-e3dd-4a5e-8c16-4bb015e9f53e",
   "metadata": {
    "tags": []
   },
   "source": [
    "# Creacion de submit"
   ]
  },
  {
   "cell_type": "code",
   "execution_count": 40,
   "id": "6c532782-c0b7-4e95-9cdd-978b316f0b87",
   "metadata": {},
   "outputs": [],
   "source": [
    "def create_submission(model): \n",
    "    df_test = pd.read_csv(\"../dataset/hotels_test_procesado.csv\")\n",
    "    assert(len(df_test)==26535)\n",
    "\n",
    "    prediccion = model.predict(df_test[attrs].values)\n",
    "    assert(len(prediccion)==26535)\n",
    "\n",
    "    submit = pd.DataFrame(\n",
    "        {\"is_canceled\": prediccion},\n",
    "        index=df_test[\"id\"],\n",
    "    )\n",
    "    assert(len(submit)==26535)\n",
    "\n",
    "    submit.to_csv(\"../dataset/submit.csv\")"
   ]
  },
  {
   "cell_type": "code",
   "execution_count": 41,
   "id": "8c193d80-d32d-4e03-8b4c-2381a6b2c7f5",
   "metadata": {},
   "outputs": [
    {
     "name": "stderr",
     "output_type": "stream",
     "text": [
      "/home/adrian/.local/lib/python3.8/site-packages/sklearn/base.py:420: UserWarning: X does not have valid feature names, but RandomForestClassifier was fitted with feature names\n",
      "  warnings.warn(\n",
      "/home/adrian/.local/lib/python3.8/site-packages/sklearn/base.py:420: UserWarning: X does not have valid feature names, but DecisionTreeClassifier was fitted with feature names\n",
      "  warnings.warn(\n"
     ]
    }
   ],
   "source": [
    "create_submission(ensamble_hibrido)"
   ]
  },
  {
   "cell_type": "markdown",
   "id": "6c43456d-4290-4a2e-b78f-e10b22362026",
   "metadata": {},
   "source": [
    "# Guardando el modelo con pickle\n",
    "Guardamos el ensamble hibrido usando la libreria pickle"
   ]
  },
  {
   "cell_type": "code",
   "execution_count": 12,
   "id": "d5e161a3-de47-4a8e-9d8e-a8ed528a35e7",
   "metadata": {
    "tags": []
   },
   "outputs": [],
   "source": [
    "with open('../modelos/hibrido.pickle', 'wb') as file:\n",
    "    pickle.dump(ensamble_hibrido, file)"
   ]
  }
 ],
 "metadata": {
  "kernelspec": {
   "display_name": "Python 3 (ipykernel)",
   "language": "python",
   "name": "python3"
  },
  "language_info": {
   "codemirror_mode": {
    "name": "ipython",
    "version": 3
   },
   "file_extension": ".py",
   "mimetype": "text/x-python",
   "name": "python",
   "nbconvert_exporter": "python",
   "pygments_lexer": "ipython3",
   "version": "3.8.10"
  }
 },
 "nbformat": 4,
 "nbformat_minor": 5
}
