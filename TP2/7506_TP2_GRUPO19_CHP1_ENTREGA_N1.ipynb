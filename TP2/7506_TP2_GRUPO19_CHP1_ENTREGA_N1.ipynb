{
 "cells": [
  {
   "cell_type": "markdown",
   "id": "3adad8c9-6fbc-4b44-9c18-7cd36fdaf06f",
   "metadata": {},
   "source": [
    "# <center>Organizaci&oacute;n de Datos</center>\n",
    "## <center>Trabajo Práctico 2: Criticas de cine</center>\n",
    "\n",
    "#### Integrantes grupo 19: Sudanalytics \n",
    "* Adrian Leandro Re\n",
    "* Alan Toulouse\n",
    "* Luciano Lorenzo\n",
    "* Nicolas Tonizzo"
   ]
  },
  {
   "cell_type": "markdown",
   "id": "d078fb10-b41a-4422-806a-84782f1b972e",
   "metadata": {},
   "source": [
    "Importamos las librerias y modulos necesarios."
   ]
  },
  {
   "cell_type": "code",
   "execution_count": 1,
   "id": "52dfbb58-ce25-4d25-863b-1ea0a68a120e",
   "metadata": {
    "tags": []
   },
   "outputs": [],
   "source": [
    "import pandas as pd\n",
    "import numpy as np\n",
    "import seaborn as sns\n",
    "import matplotlib.pyplot as plt\n",
    "import pickle\n",
    "\n",
    "from langdetect import detect\n",
    "from sklearn.metrics import make_scorer, f1_score, confusion_matrix, precision_score, recall_score, accuracy_score"
   ]
  },
  {
   "cell_type": "markdown",
   "id": "357f5fb6-ff12-4a05-9c70-17beaf01c584",
   "metadata": {},
   "source": [
    "Cargamos nuestro set de entrenamiento."
   ]
  },
  {
   "cell_type": "code",
   "execution_count": 2,
   "id": "cece0f68-c142-458d-ac6e-4a9d57d1332d",
   "metadata": {
    "tags": []
   },
   "outputs": [
    {
     "data": {
      "text/html": [
       "<div>\n",
       "<style scoped>\n",
       "    .dataframe tbody tr th:only-of-type {\n",
       "        vertical-align: middle;\n",
       "    }\n",
       "\n",
       "    .dataframe tbody tr th {\n",
       "        vertical-align: top;\n",
       "    }\n",
       "\n",
       "    .dataframe thead th {\n",
       "        text-align: right;\n",
       "    }\n",
       "</style>\n",
       "<table border=\"1\" class=\"dataframe\">\n",
       "  <thead>\n",
       "    <tr style=\"text-align: right;\">\n",
       "      <th></th>\n",
       "      <th>ID</th>\n",
       "      <th>review_es</th>\n",
       "      <th>sentimiento</th>\n",
       "    </tr>\n",
       "  </thead>\n",
       "  <tbody>\n",
       "    <tr>\n",
       "      <th>0</th>\n",
       "      <td>0</td>\n",
       "      <td>Uno de los otros críticos ha mencionado que de...</td>\n",
       "      <td>positivo</td>\n",
       "    </tr>\n",
       "    <tr>\n",
       "      <th>1</th>\n",
       "      <td>1</td>\n",
       "      <td>Una pequeña pequeña producción.La técnica de f...</td>\n",
       "      <td>positivo</td>\n",
       "    </tr>\n",
       "    <tr>\n",
       "      <th>2</th>\n",
       "      <td>2</td>\n",
       "      <td>Pensé que esta era una manera maravillosa de p...</td>\n",
       "      <td>positivo</td>\n",
       "    </tr>\n",
       "    <tr>\n",
       "      <th>3</th>\n",
       "      <td>3</td>\n",
       "      <td>Básicamente, hay una familia donde un niño peq...</td>\n",
       "      <td>negativo</td>\n",
       "    </tr>\n",
       "    <tr>\n",
       "      <th>4</th>\n",
       "      <td>4</td>\n",
       "      <td>El \"amor en el tiempo\" de Petter Mattei es una...</td>\n",
       "      <td>positivo</td>\n",
       "    </tr>\n",
       "  </tbody>\n",
       "</table>\n",
       "</div>"
      ],
      "text/plain": [
       "   ID                                          review_es sentimiento\n",
       "0   0  Uno de los otros críticos ha mencionado que de...    positivo\n",
       "1   1  Una pequeña pequeña producción.La técnica de f...    positivo\n",
       "2   2  Pensé que esta era una manera maravillosa de p...    positivo\n",
       "3   3  Básicamente, hay una familia donde un niño peq...    negativo\n",
       "4   4  El \"amor en el tiempo\" de Petter Mattei es una...    positivo"
      ]
     },
     "execution_count": 2,
     "metadata": {},
     "output_type": "execute_result"
    }
   ],
   "source": [
    "df = pd.read_csv(\"dataset/train.csv\")\n",
    "df.head()"
   ]
  },
  {
   "cell_type": "markdown",
   "id": "d9591530-f175-4ada-b17a-705709a5f432",
   "metadata": {},
   "source": [
    "## Feature Engineering"
   ]
  },
  {
   "cell_type": "markdown",
   "id": "fe4408cb-500f-49e1-8f27-36f5ca338841",
   "metadata": {},
   "source": [
    "Primero verificamos que no haya ningun valor nulo en nuestro dataframe, ya que no tendria sentido hacer el analisis de sentimientos a partir de una review vacía."
   ]
  },
  {
   "cell_type": "code",
   "execution_count": 7,
   "id": "6a1fcc23-a2c3-48f6-b1c5-a52a3bdc202c",
   "metadata": {
    "tags": []
   },
   "outputs": [
    {
     "data": {
      "text/plain": [
       "0"
      ]
     },
     "execution_count": 7,
     "metadata": {},
     "output_type": "execute_result"
    }
   ],
   "source": [
    "df['review_es'].isnull().sum()"
   ]
  },
  {
   "cell_type": "markdown",
   "id": "a63e76d6-0d4e-457f-9b2c-501cdeae688d",
   "metadata": {},
   "source": [
    "Encodeamos el target para que las review positivas esten representadas por un 1 y las negativas por 0."
   ]
  },
  {
   "cell_type": "code",
   "execution_count": 8,
   "id": "74b99b9f-5bc3-4380-8d84-7fc68748cfdc",
   "metadata": {
    "tags": []
   },
   "outputs": [],
   "source": [
    "df['sentimiento_es_positivo'] = np.where(df.sentimiento == 'positivo', 1, 0)"
   ]
  },
  {
   "cell_type": "markdown",
   "id": "a15a0793-5ee3-43fa-a7cc-fcdd5206bbd1",
   "metadata": {},
   "source": [
    "Nos aseguramos de que todas las reviews estén en español, por lo que usaremos la funcion 'detect' de la libreria langdetect y eliminamos todas las que tengan un lenguaje distinto al español."
   ]
  },
  {
   "cell_type": "code",
   "execution_count": 9,
   "id": "ac03f038-9f1c-4399-a392-ca7fbb1452d8",
   "metadata": {
    "tags": []
   },
   "outputs": [],
   "source": [
    "df = df[df['review_es'].apply(detect) == 'es']"
   ]
  },
  {
   "cell_type": "markdown",
   "id": "bdb3781b-5483-4ee3-996d-1950c8849828",
   "metadata": {},
   "source": [
    "Haremos una copia porque el método Bayes Naive va a usar su propio preprocesamiento."
   ]
  },
  {
   "cell_type": "code",
   "execution_count": 10,
   "id": "fe17f360-e016-4dd1-9901-9b7c54cb99db",
   "metadata": {
    "tags": []
   },
   "outputs": [],
   "source": [
    "df_original = df.copy()\n",
    "df_original.to_csv('dataset/train-spanish.csv')"
   ]
  },
  {
   "cell_type": "markdown",
   "id": "f932dbf9-d7ed-4db7-8597-949f45b51b24",
   "metadata": {},
   "source": [
    "Seguimos con el preprocesamiento de nuestro set. Pasamos todos los caracteres a minúscula para que sea más fácil preporcesarlos."
   ]
  },
  {
   "cell_type": "code",
   "execution_count": 7,
   "id": "a68176ab-6dd2-4389-8b18-43cc7de03330",
   "metadata": {
    "tags": []
   },
   "outputs": [],
   "source": [
    "df['review_es'] = df['review_es'].str.lower()"
   ]
  },
  {
   "cell_type": "markdown",
   "id": "aca52e7c-c7a5-423a-8fd4-0b91a841f83a",
   "metadata": {},
   "source": [
    "Quitamos los acentos de todas las palabras y reemplazamos el caracter ñ por n."
   ]
  },
  {
   "cell_type": "code",
   "execution_count": 8,
   "id": "ea0e1c4a-4303-4c93-a890-2f4baaf97d27",
   "metadata": {
    "tags": []
   },
   "outputs": [],
   "source": [
    "caracteres_especiales = {'á':'a', 'é':'e', 'í':'i', 'ó':'o', 'ú':'u', 'ñ':'n'}\n",
    "for original, nuevo in caracteres_especiales.items():\n",
    "    df['review_es'] = df['review_es'].str.replace(original, nuevo, regex=True)"
   ]
  },
  {
   "cell_type": "markdown",
   "id": "103e5b14-9eb6-4ab4-acc0-767520d94cc6",
   "metadata": {},
   "source": [
    "Removemos todo caracter que no sean letras (números, puntos, comas, comillas, etc.) y los espacios dobles que puedan llegar a aparecer con esta operación."
   ]
  },
  {
   "cell_type": "code",
   "execution_count": 9,
   "id": "7db63314-c3cd-4c4b-917e-5a0fd6373f22",
   "metadata": {
    "tags": []
   },
   "outputs": [],
   "source": [
    "df['review_es'] = df['review_es'].str.replace('[^a-zA-Z]', ' ', regex=True)\n",
    "df['review_es'] = df['review_es'].str.replace('  ', ' ', regex=True)"
   ]
  },
  {
   "cell_type": "markdown",
   "id": "136abfe4-0ebf-4ff5-b67e-acff4c2d1cf3",
   "metadata": {},
   "source": [
    "Como último paso para el preprocesamiento, eliminamos las stopwords"
   ]
  },
  {
   "cell_type": "code",
   "execution_count": 10,
   "id": "4df010c7-7a7b-4afa-bdb9-5e87b4f87e26",
   "metadata": {
    "tags": []
   },
   "outputs": [],
   "source": [
    "from nltk.corpus import stopwords\n",
    "palabras = '|'.join(stopwords.words('spanish'))\n",
    "df['review_es'] = df['review_es'].str.replace(fr'\\b({palabras})\\b', '',regex=True)"
   ]
  },
  {
   "cell_type": "markdown",
   "id": "8add164a-6482-45f5-80df-735006789950",
   "metadata": {},
   "source": [
    "Nuestro dataset preprocesado queda de la siguiente manera:"
   ]
  },
  {
   "cell_type": "code",
   "execution_count": 11,
   "id": "8d8e7442-eb2d-4c84-94b0-cd1bf7841557",
   "metadata": {
    "tags": []
   },
   "outputs": [
    {
     "data": {
      "text/html": [
       "<div>\n",
       "<style scoped>\n",
       "    .dataframe tbody tr th:only-of-type {\n",
       "        vertical-align: middle;\n",
       "    }\n",
       "\n",
       "    .dataframe tbody tr th {\n",
       "        vertical-align: top;\n",
       "    }\n",
       "\n",
       "    .dataframe thead th {\n",
       "        text-align: right;\n",
       "    }\n",
       "</style>\n",
       "<table border=\"1\" class=\"dataframe\">\n",
       "  <thead>\n",
       "    <tr style=\"text-align: right;\">\n",
       "      <th></th>\n",
       "      <th>ID</th>\n",
       "      <th>review_es</th>\n",
       "      <th>sentimiento</th>\n",
       "      <th>sentimiento_es_positivo</th>\n",
       "    </tr>\n",
       "  </thead>\n",
       "  <tbody>\n",
       "    <tr>\n",
       "      <th>0</th>\n",
       "      <td>0</td>\n",
       "      <td>criticos  mencionado  despues  ver solo  o...</td>\n",
       "      <td>positivo</td>\n",
       "      <td>1</td>\n",
       "    </tr>\n",
       "    <tr>\n",
       "      <th>1</th>\n",
       "      <td>1</td>\n",
       "      <td>pequena pequena produccion  tecnica  filmacio...</td>\n",
       "      <td>positivo</td>\n",
       "      <td>1</td>\n",
       "    </tr>\n",
       "    <tr>\n",
       "      <th>2</th>\n",
       "      <td>2</td>\n",
       "      <td>pense     manera maravillosa  pasar tiempo   f...</td>\n",
       "      <td>positivo</td>\n",
       "      <td>1</td>\n",
       "    </tr>\n",
       "    <tr>\n",
       "      <th>3</th>\n",
       "      <td>3</td>\n",
       "      <td>basicamente   familia   nino pequeno jake pien...</td>\n",
       "      <td>negativo</td>\n",
       "      <td>0</td>\n",
       "    </tr>\n",
       "    <tr>\n",
       "      <th>4</th>\n",
       "      <td>4</td>\n",
       "      <td>amor   tiempo  petter mattei   pelicula visua...</td>\n",
       "      <td>positivo</td>\n",
       "      <td>1</td>\n",
       "    </tr>\n",
       "    <tr>\n",
       "      <th>5</th>\n",
       "      <td>5</td>\n",
       "      <td>probablemente  pelicula favorita    tiempos  h...</td>\n",
       "      <td>positivo</td>\n",
       "      <td>1</td>\n",
       "    </tr>\n",
       "    <tr>\n",
       "      <th>6</th>\n",
       "      <td>6</td>\n",
       "      <td>seguro   gustaria ver  resurreccion   serie  s...</td>\n",
       "      <td>positivo</td>\n",
       "      <td>1</td>\n",
       "    </tr>\n",
       "    <tr>\n",
       "      <th>7</th>\n",
       "      <td>7</td>\n",
       "      <td>espectaculo   idea increible fresca  innovado...</td>\n",
       "      <td>negativo</td>\n",
       "      <td>0</td>\n",
       "    </tr>\n",
       "    <tr>\n",
       "      <th>8</th>\n",
       "      <td>8</td>\n",
       "      <td>alentados   comentarios positivos   pelicula a...</td>\n",
       "      <td>negativo</td>\n",
       "      <td>0</td>\n",
       "    </tr>\n",
       "    <tr>\n",
       "      <th>9</th>\n",
       "      <td>9</td>\n",
       "      <td>si  gusta  risa original desgarradora  gustara...</td>\n",
       "      <td>positivo</td>\n",
       "      <td>1</td>\n",
       "    </tr>\n",
       "    <tr>\n",
       "      <th>10</th>\n",
       "      <td>10</td>\n",
       "      <td>phil  alienigena     peliculas peculiares   hu...</td>\n",
       "      <td>negativo</td>\n",
       "      <td>0</td>\n",
       "    </tr>\n",
       "    <tr>\n",
       "      <th>11</th>\n",
       "      <td>11</td>\n",
       "      <td>vi  pelicula  tenia alrededor    sali recuerdo...</td>\n",
       "      <td>negativo</td>\n",
       "      <td>0</td>\n",
       "    </tr>\n",
       "    <tr>\n",
       "      <th>12</th>\n",
       "      <td>12</td>\n",
       "      <td>asi     gran fanatico  trabajo  boll   nuevo  ...</td>\n",
       "      <td>negativo</td>\n",
       "      <td>0</td>\n",
       "    </tr>\n",
       "    <tr>\n",
       "      <th>13</th>\n",
       "      <td>13</td>\n",
       "      <td>reparto jugo  shakespeare shakespeare perdido...</td>\n",
       "      <td>negativo</td>\n",
       "      <td>0</td>\n",
       "    </tr>\n",
       "    <tr>\n",
       "      <th>14</th>\n",
       "      <td>14</td>\n",
       "      <td>fantastica pelicula  tres prisioneros   hac...</td>\n",
       "      <td>positivo</td>\n",
       "      <td>1</td>\n",
       "    </tr>\n",
       "  </tbody>\n",
       "</table>\n",
       "</div>"
      ],
      "text/plain": [
       "    ID                                          review_es sentimiento  \\\n",
       "0    0      criticos  mencionado  despues  ver solo  o...    positivo   \n",
       "1    1   pequena pequena produccion  tecnica  filmacio...    positivo   \n",
       "2    2  pense     manera maravillosa  pasar tiempo   f...    positivo   \n",
       "3    3  basicamente   familia   nino pequeno jake pien...    negativo   \n",
       "4    4   amor   tiempo  petter mattei   pelicula visua...    positivo   \n",
       "5    5  probablemente  pelicula favorita    tiempos  h...    positivo   \n",
       "6    6  seguro   gustaria ver  resurreccion   serie  s...    positivo   \n",
       "7    7   espectaculo   idea increible fresca  innovado...    negativo   \n",
       "8    8  alentados   comentarios positivos   pelicula a...    negativo   \n",
       "9    9  si  gusta  risa original desgarradora  gustara...    positivo   \n",
       "10  10  phil  alienigena     peliculas peculiares   hu...    negativo   \n",
       "11  11  vi  pelicula  tenia alrededor    sali recuerdo...    negativo   \n",
       "12  12  asi     gran fanatico  trabajo  boll   nuevo  ...    negativo   \n",
       "13  13   reparto jugo  shakespeare shakespeare perdido...    negativo   \n",
       "14  14     fantastica pelicula  tres prisioneros   hac...    positivo   \n",
       "\n",
       "    sentimiento_es_positivo  \n",
       "0                         1  \n",
       "1                         1  \n",
       "2                         1  \n",
       "3                         0  \n",
       "4                         1  \n",
       "5                         1  \n",
       "6                         1  \n",
       "7                         0  \n",
       "8                         0  \n",
       "9                         1  \n",
       "10                        0  \n",
       "11                        0  \n",
       "12                        0  \n",
       "13                        0  \n",
       "14                        1  "
      ]
     },
     "execution_count": 11,
     "metadata": {},
     "output_type": "execute_result"
    }
   ],
   "source": [
    "df.head(15)"
   ]
  },
  {
   "cell_type": "markdown",
   "id": "a003fe4f-cd2a-4464-aebf-336aa64e88a8",
   "metadata": {
    "tags": []
   },
   "source": [
    "Para evitar hacer este proceso cada vez que se inicie la notebook, guardamos el dataframe preprocesado en un archivo y lo inicializaremos con otra celda"
   ]
  },
  {
   "cell_type": "code",
   "execution_count": 18,
   "id": "6e3aebff-433e-4f3d-a1f2-1a1f76c7b0af",
   "metadata": {
    "tags": []
   },
   "outputs": [],
   "source": [
    "df.to_csv('dataset/train-preprocesado.csv')"
   ]
  },
  {
   "cell_type": "code",
   "execution_count": 47,
   "id": "3c8aad15-dd60-43f4-8d96-caf4c5bca585",
   "metadata": {
    "tags": []
   },
   "outputs": [],
   "source": [
    "df = pd.read_csv(\"dataset/train-preprocesado.csv\")\n",
    "df_original = pd.read_csv('dataset/train-spanish.csv')"
   ]
  },
  {
   "cell_type": "markdown",
   "id": "0213be94-fcd4-4178-888d-e1759f139b3f",
   "metadata": {},
   "source": [
    "## Sets de test y train\n",
    "Dividimos el dataframe en datos de test y train. Usaremos estos mismos sets para el entrenamiento de todos los modelos."
   ]
  },
  {
   "cell_type": "code",
   "execution_count": 48,
   "id": "68b64756-1fcb-417e-ab4d-144e6d69beca",
   "metadata": {
    "tags": []
   },
   "outputs": [],
   "source": [
    "from sklearn.model_selection import train_test_split\n",
    "from keras.preprocessing.text import Tokenizer\n",
    "\n",
    "X = df.review_es\n",
    "y = df.sentimiento_es_positivo\n",
    "X_train, X_test, y_train, y_test = train_test_split(X, y, test_size=0.2, random_state=19)\n",
    "\n",
    "X = df_original.review_es\n",
    "y = df_original.sentimiento_es_positivo\n",
    "X_train_original, X_test_original, y_train_original, y_test_original = train_test_split(X, y, test_size=0.2, random_state=19)"
   ]
  },
  {
   "cell_type": "markdown",
   "id": "8df89a4f-c5b2-48ea-8f00-a28d3387eb30",
   "metadata": {},
   "source": [
    "## Ensamblado de modelos"
   ]
  },
  {
   "cell_type": "markdown",
   "id": "e7475dee-4cae-4cd9-b81e-1205d6962b61",
   "metadata": {},
   "source": [
    "### Bayes Naive\n",
    "Primero transformamos nuestros documentos en una matriz en la cual se almacena la cantidad de tokens (\"palabras clave\"). Luego convertimos esa misma matriz en una representación normalizada de término/frecuencia. Todo este proceso tiene su propio preproecsamiento de texto por lo que vamos a usar el set original de datos\n",
    "Esto lo hacemos para reducir el impacto de los tokens que aparecen más veces."
   ]
  },
  {
   "cell_type": "code",
   "execution_count": 26,
   "id": "23ddf491-7fb6-4674-9913-0cb0b4adc914",
   "metadata": {
    "tags": []
   },
   "outputs": [
    {
     "name": "stdout",
     "output_type": "stream",
     "text": [
      "  (0, 127868)\t0.16430370020528912\n",
      "  (0, 127670)\t0.10235631413923409\n",
      "  (0, 127175)\t0.03865897305163224\n",
      "  (0, 126904)\t0.13304553149580314\n",
      "  (0, 126468)\t0.08039993529256398\n",
      "  (0, 126062)\t0.1530265840958789\n",
      "  (0, 124760)\t0.12081045826381752\n",
      "  (0, 122413)\t0.09996614514133537\n",
      "  (0, 122321)\t0.10589231546652678\n",
      "  (0, 121965)\t0.05941522481860774\n",
      "  (0, 120645)\t0.07638675892268072\n",
      "  (0, 117290)\t0.10890317660218596\n",
      "  (0, 117282)\t0.07817516035086298\n",
      "  (0, 114170)\t0.03651447709310181\n",
      "  (0, 112899)\t0.10994643463348022\n",
      "  (0, 111789)\t0.08999195507056124\n",
      "  (0, 110338)\t0.07660492399885514\n",
      "  (0, 101300)\t0.15053141992285166\n",
      "  (0, 100694)\t0.040992864246214\n",
      "  (0, 98610)\t0.1046113192762968\n",
      "  (0, 98363)\t0.06517517910162403\n",
      "  (0, 96358)\t0.16982309070417823\n",
      "  (0, 96348)\t0.1289914123288497\n",
      "  (0, 96236)\t0.12204205083872885\n",
      "  (0, 96078)\t0.15412320997732887\n",
      "  :\t:\n",
      "  (38543, 111705)\t0.11068937125032957\n",
      "  (38543, 105182)\t0.1487415864256591\n",
      "  (38543, 102945)\t0.1724948714805163\n",
      "  (38543, 100658)\t0.17301301152384527\n",
      "  (38543, 89997)\t0.10661237790938986\n",
      "  (38543, 85025)\t0.15980933458155308\n",
      "  (38543, 74912)\t0.22272606892709815\n",
      "  (38543, 70349)\t0.30618956763589467\n",
      "  (38543, 70117)\t0.2088240163322504\n",
      "  (38543, 69759)\t0.16377200140774048\n",
      "  (38543, 62565)\t0.11189797027833288\n",
      "  (38543, 62370)\t0.34062750219189997\n",
      "  (38543, 60702)\t0.06502623474839063\n",
      "  (38543, 59387)\t0.07765182478440752\n",
      "  (38543, 55171)\t0.27746682296606046\n",
      "  (38543, 49493)\t0.12692776374205095\n",
      "  (38543, 39841)\t0.2074509460798505\n",
      "  (38543, 30615)\t0.24519159131954024\n",
      "  (38543, 29838)\t0.0900481323021162\n",
      "  (38543, 19920)\t0.2735433640986018\n",
      "  (38543, 19225)\t0.13220338646018776\n",
      "  (38543, 18085)\t0.09083023486763836\n",
      "  (38543, 17236)\t0.08604541483638449\n",
      "  (38543, 12243)\t0.13186013349633566\n",
      "  (38543, 10640)\t0.08612934195189256\n"
     ]
    }
   ],
   "source": [
    "from sklearn.feature_extraction.text import CountVectorizer, TfidfTransformer\n",
    "from sklearn.naive_bayes import MultinomialNB\n",
    "\n",
    "vectorizador = CountVectorizer()\n",
    "X_train_counts = vectorizador.fit_transform(X_train_original)\n",
    "\n",
    "escaladorTfidf = TfidfTransformer()\n",
    "X_train_tfidf = escaladorTfidf.fit_transform(X_train_counts)\n",
    "\n",
    "print(X_train_tfidf)"
   ]
  },
  {
   "cell_type": "markdown",
   "id": "d21e9ef6-2f6e-4767-a083-7d8e100369b6",
   "metadata": {},
   "source": [
    "Ahora que tenemos la información en el formato correcto, creamos nuestro modelo de tipo Bayes Naive. En este caso usamos uno de tipo multinomial."
   ]
  },
  {
   "cell_type": "code",
   "execution_count": 27,
   "id": "a353fbf8-82e2-4af5-9098-e32a82ca6d49",
   "metadata": {
    "tags": []
   },
   "outputs": [
    {
     "data": {
      "text/html": [
       "<style>#sk-container-id-1 {color: black;background-color: white;}#sk-container-id-1 pre{padding: 0;}#sk-container-id-1 div.sk-toggleable {background-color: white;}#sk-container-id-1 label.sk-toggleable__label {cursor: pointer;display: block;width: 100%;margin-bottom: 0;padding: 0.3em;box-sizing: border-box;text-align: center;}#sk-container-id-1 label.sk-toggleable__label-arrow:before {content: \"▸\";float: left;margin-right: 0.25em;color: #696969;}#sk-container-id-1 label.sk-toggleable__label-arrow:hover:before {color: black;}#sk-container-id-1 div.sk-estimator:hover label.sk-toggleable__label-arrow:before {color: black;}#sk-container-id-1 div.sk-toggleable__content {max-height: 0;max-width: 0;overflow: hidden;text-align: left;background-color: #f0f8ff;}#sk-container-id-1 div.sk-toggleable__content pre {margin: 0.2em;color: black;border-radius: 0.25em;background-color: #f0f8ff;}#sk-container-id-1 input.sk-toggleable__control:checked~div.sk-toggleable__content {max-height: 200px;max-width: 100%;overflow: auto;}#sk-container-id-1 input.sk-toggleable__control:checked~label.sk-toggleable__label-arrow:before {content: \"▾\";}#sk-container-id-1 div.sk-estimator input.sk-toggleable__control:checked~label.sk-toggleable__label {background-color: #d4ebff;}#sk-container-id-1 div.sk-label input.sk-toggleable__control:checked~label.sk-toggleable__label {background-color: #d4ebff;}#sk-container-id-1 input.sk-hidden--visually {border: 0;clip: rect(1px 1px 1px 1px);clip: rect(1px, 1px, 1px, 1px);height: 1px;margin: -1px;overflow: hidden;padding: 0;position: absolute;width: 1px;}#sk-container-id-1 div.sk-estimator {font-family: monospace;background-color: #f0f8ff;border: 1px dotted black;border-radius: 0.25em;box-sizing: border-box;margin-bottom: 0.5em;}#sk-container-id-1 div.sk-estimator:hover {background-color: #d4ebff;}#sk-container-id-1 div.sk-parallel-item::after {content: \"\";width: 100%;border-bottom: 1px solid gray;flex-grow: 1;}#sk-container-id-1 div.sk-label:hover label.sk-toggleable__label {background-color: #d4ebff;}#sk-container-id-1 div.sk-serial::before {content: \"\";position: absolute;border-left: 1px solid gray;box-sizing: border-box;top: 0;bottom: 0;left: 50%;z-index: 0;}#sk-container-id-1 div.sk-serial {display: flex;flex-direction: column;align-items: center;background-color: white;padding-right: 0.2em;padding-left: 0.2em;position: relative;}#sk-container-id-1 div.sk-item {position: relative;z-index: 1;}#sk-container-id-1 div.sk-parallel {display: flex;align-items: stretch;justify-content: center;background-color: white;position: relative;}#sk-container-id-1 div.sk-item::before, #sk-container-id-1 div.sk-parallel-item::before {content: \"\";position: absolute;border-left: 1px solid gray;box-sizing: border-box;top: 0;bottom: 0;left: 50%;z-index: -1;}#sk-container-id-1 div.sk-parallel-item {display: flex;flex-direction: column;z-index: 1;position: relative;background-color: white;}#sk-container-id-1 div.sk-parallel-item:first-child::after {align-self: flex-end;width: 50%;}#sk-container-id-1 div.sk-parallel-item:last-child::after {align-self: flex-start;width: 50%;}#sk-container-id-1 div.sk-parallel-item:only-child::after {width: 0;}#sk-container-id-1 div.sk-dashed-wrapped {border: 1px dashed gray;margin: 0 0.4em 0.5em 0.4em;box-sizing: border-box;padding-bottom: 0.4em;background-color: white;}#sk-container-id-1 div.sk-label label {font-family: monospace;font-weight: bold;display: inline-block;line-height: 1.2em;}#sk-container-id-1 div.sk-label-container {text-align: center;}#sk-container-id-1 div.sk-container {/* jupyter's `normalize.less` sets `[hidden] { display: none; }` but bootstrap.min.css set `[hidden] { display: none !important; }` so we also need the `!important` here to be able to override the default hidden behavior on the sphinx rendered scikit-learn.org. See: https://github.com/scikit-learn/scikit-learn/issues/21755 */display: inline-block !important;position: relative;}#sk-container-id-1 div.sk-text-repr-fallback {display: none;}</style><div id=\"sk-container-id-1\" class=\"sk-top-container\"><div class=\"sk-text-repr-fallback\"><pre>MultinomialNB()</pre><b>In a Jupyter environment, please rerun this cell to show the HTML representation or trust the notebook. <br />On GitHub, the HTML representation is unable to render, please try loading this page with nbviewer.org.</b></div><div class=\"sk-container\" hidden><div class=\"sk-item\"><div class=\"sk-estimator sk-toggleable\"><input class=\"sk-toggleable__control sk-hidden--visually\" id=\"sk-estimator-id-1\" type=\"checkbox\" checked><label for=\"sk-estimator-id-1\" class=\"sk-toggleable__label sk-toggleable__label-arrow\">MultinomialNB</label><div class=\"sk-toggleable__content\"><pre>MultinomialNB()</pre></div></div></div></div></div>"
      ],
      "text/plain": [
       "MultinomialNB()"
      ]
     },
     "execution_count": 27,
     "metadata": {},
     "output_type": "execute_result"
    }
   ],
   "source": [
    "clasificadorBayesNaive = MultinomialNB()\n",
    "clasificadorBayesNaive.fit(X_train_tfidf, y_train_original)"
   ]
  },
  {
   "cell_type": "markdown",
   "id": "ee86bea6-d19d-4c7a-9718-0deb37d67649",
   "metadata": {
    "tags": []
   },
   "source": [
    "Realizamos el mismo procedimiento para transformar los datos de validación y poder realizar nuestras predicciones."
   ]
  },
  {
   "cell_type": "code",
   "execution_count": 28,
   "id": "58b0f204-a797-4209-9e57-26082928411d",
   "metadata": {
    "tags": []
   },
   "outputs": [],
   "source": [
    "X_test_counts = vectorizador.transform(X_test_original)\n",
    "X_test_tfidf = escaladorTfidf.transform(X_test_counts)\n",
    "y_pred_original = np.where(clasificadorBayesNaive.predict(X_test_tfidf) >= 0.5, 1, 0)"
   ]
  },
  {
   "cell_type": "markdown",
   "id": "7c256099-641f-4148-a4b8-e1e2835c66fb",
   "metadata": {},
   "source": [
    "Construimos nuestra matriz de confusión y analizamos métricas"
   ]
  },
  {
   "cell_type": "code",
   "execution_count": 30,
   "id": "2bbc22a4-894c-49a8-856b-085038f324da",
   "metadata": {
    "tags": []
   },
   "outputs": [
    {
     "data": {
      "text/plain": [
       "Text(0.5, 1.0, 'Confusion matrix de validación')"
      ]
     },
     "execution_count": 30,
     "metadata": {},
     "output_type": "execute_result"
    },
    {
     "data": {
      "image/png": "[encoded data removed]",
      "text/plain": [
       "<Figure size 640x480 with 2 Axes>"
      ]
     },
     "metadata": {},
     "output_type": "display_data"
    }
   ],
   "source": [
    "confusion = confusion_matrix(y_test, y_pred_original)\n",
    "sns.heatmap(confusion, annot=True, fmt='.0f')\n",
    "plt.ylabel('true')\n",
    "plt.xlabel('predicted')\n",
    "plt.title(\"Confusion matrix de validación\")"
   ]
  },
  {
   "cell_type": "code",
   "execution_count": 32,
   "id": "21cb966b-ac09-465f-8e2a-869f818e06fe",
   "metadata": {
    "tags": []
   },
   "outputs": [
    {
     "name": "stdout",
     "output_type": "stream",
     "text": [
      "Accuracy: 0.8664522154197364\n",
      "Precision: 0.8763084810937833\n",
      "Recall: 0.8528066528066528\n",
      "F1-score: 0.8643978505953007\n"
     ]
    }
   ],
   "source": [
    "print(\"Accuracy:\", accuracy_score(y_test_original, y_pred_original))\n",
    "print(\"Precision:\", precision_score(y_test_original, y_pred_original))\n",
    "print(\"Recall:\", recall_score(y_test_original, y_pred_original))\n",
    "print(\"F1-score:\", f1_score(y_test_original, y_pred_original))"
   ]
  },
  {
   "cell_type": "markdown",
   "id": "a47118df",
   "metadata": {},
   "source": [
    "### Cross validation naive bayes"
   ]
  },
  {
   "cell_type": "code",
   "execution_count": 33,
   "id": "dc89ed11",
   "metadata": {
    "tags": []
   },
   "outputs": [],
   "source": [
    "from sklearn.model_selection import GridSearchCV\n",
    "from sklearn.model_selection import StratifiedKFold"
   ]
  },
  {
   "cell_type": "code",
   "execution_count": 37,
   "id": "1f351ba9",
   "metadata": {
    "tags": []
   },
   "outputs": [
    {
     "data": {
      "text/html": [
       "<style>#sk-container-id-3 {color: black;background-color: white;}#sk-container-id-3 pre{padding: 0;}#sk-container-id-3 div.sk-toggleable {background-color: white;}#sk-container-id-3 label.sk-toggleable__label {cursor: pointer;display: block;width: 100%;margin-bottom: 0;padding: 0.3em;box-sizing: border-box;text-align: center;}#sk-container-id-3 label.sk-toggleable__label-arrow:before {content: \"▸\";float: left;margin-right: 0.25em;color: #696969;}#sk-container-id-3 label.sk-toggleable__label-arrow:hover:before {color: black;}#sk-container-id-3 div.sk-estimator:hover label.sk-toggleable__label-arrow:before {color: black;}#sk-container-id-3 div.sk-toggleable__content {max-height: 0;max-width: 0;overflow: hidden;text-align: left;background-color: #f0f8ff;}#sk-container-id-3 div.sk-toggleable__content pre {margin: 0.2em;color: black;border-radius: 0.25em;background-color: #f0f8ff;}#sk-container-id-3 input.sk-toggleable__control:checked~div.sk-toggleable__content {max-height: 200px;max-width: 100%;overflow: auto;}#sk-container-id-3 input.sk-toggleable__control:checked~label.sk-toggleable__label-arrow:before {content: \"▾\";}#sk-container-id-3 div.sk-estimator input.sk-toggleable__control:checked~label.sk-toggleable__label {background-color: #d4ebff;}#sk-container-id-3 div.sk-label input.sk-toggleable__control:checked~label.sk-toggleable__label {background-color: #d4ebff;}#sk-container-id-3 input.sk-hidden--visually {border: 0;clip: rect(1px 1px 1px 1px);clip: rect(1px, 1px, 1px, 1px);height: 1px;margin: -1px;overflow: hidden;padding: 0;position: absolute;width: 1px;}#sk-container-id-3 div.sk-estimator {font-family: monospace;background-color: #f0f8ff;border: 1px dotted black;border-radius: 0.25em;box-sizing: border-box;margin-bottom: 0.5em;}#sk-container-id-3 div.sk-estimator:hover {background-color: #d4ebff;}#sk-container-id-3 div.sk-parallel-item::after {content: \"\";width: 100%;border-bottom: 1px solid gray;flex-grow: 1;}#sk-container-id-3 div.sk-label:hover label.sk-toggleable__label {background-color: #d4ebff;}#sk-container-id-3 div.sk-serial::before {content: \"\";position: absolute;border-left: 1px solid gray;box-sizing: border-box;top: 0;bottom: 0;left: 50%;z-index: 0;}#sk-container-id-3 div.sk-serial {display: flex;flex-direction: column;align-items: center;background-color: white;padding-right: 0.2em;padding-left: 0.2em;position: relative;}#sk-container-id-3 div.sk-item {position: relative;z-index: 1;}#sk-container-id-3 div.sk-parallel {display: flex;align-items: stretch;justify-content: center;background-color: white;position: relative;}#sk-container-id-3 div.sk-item::before, #sk-container-id-3 div.sk-parallel-item::before {content: \"\";position: absolute;border-left: 1px solid gray;box-sizing: border-box;top: 0;bottom: 0;left: 50%;z-index: -1;}#sk-container-id-3 div.sk-parallel-item {display: flex;flex-direction: column;z-index: 1;position: relative;background-color: white;}#sk-container-id-3 div.sk-parallel-item:first-child::after {align-self: flex-end;width: 50%;}#sk-container-id-3 div.sk-parallel-item:last-child::after {align-self: flex-start;width: 50%;}#sk-container-id-3 div.sk-parallel-item:only-child::after {width: 0;}#sk-container-id-3 div.sk-dashed-wrapped {border: 1px dashed gray;margin: 0 0.4em 0.5em 0.4em;box-sizing: border-box;padding-bottom: 0.4em;background-color: white;}#sk-container-id-3 div.sk-label label {font-family: monospace;font-weight: bold;display: inline-block;line-height: 1.2em;}#sk-container-id-3 div.sk-label-container {text-align: center;}#sk-container-id-3 div.sk-container {/* jupyter's `normalize.less` sets `[hidden] { display: none; }` but bootstrap.min.css set `[hidden] { display: none !important; }` so we also need the `!important` here to be able to override the default hidden behavior on the sphinx rendered scikit-learn.org. See: https://github.com/scikit-learn/scikit-learn/issues/21755 */display: inline-block !important;position: relative;}#sk-container-id-3 div.sk-text-repr-fallback {display: none;}</style><div id=\"sk-container-id-3\" class=\"sk-top-container\"><div class=\"sk-text-repr-fallback\"><pre>GridSearchCV(cv=StratifiedKFold(n_splits=6, random_state=None, shuffle=False),\n",
       "             estimator=MultinomialNB(fit_prior=False),\n",
       "             param_grid={&#x27;alpha&#x27;: array([0.3       , 0.31794872, 0.33589744, 0.35384615, 0.37179487,\n",
       "       0.38974359, 0.40769231, 0.42564103, 0.44358974, 0.46153846,\n",
       "       0.47948718, 0.4974359 , 0.51538462, 0.53333333, 0.55128205,\n",
       "       0.56923077, 0.58717949, 0.60512821, 0.62307692, 0.64102564,\n",
       "       0.65897436, 0.67692308, 0.69487179, 0.71282051, 0.73076923,\n",
       "       0.74871795, 0.76666667, 0.78461538, 0.8025641 , 0.82051282,\n",
       "       0.83846154, 0.85641026, 0.87435897, 0.89230769, 0.91025641,\n",
       "       0.92820513, 0.94615385, 0.96410256, 0.98205128, 1.        ])},\n",
       "             scoring=make_scorer(f1_score))</pre><b>In a Jupyter environment, please rerun this cell to show the HTML representation or trust the notebook. <br />On GitHub, the HTML representation is unable to render, please try loading this page with nbviewer.org.</b></div><div class=\"sk-container\" hidden><div class=\"sk-item sk-dashed-wrapped\"><div class=\"sk-label-container\"><div class=\"sk-label sk-toggleable\"><input class=\"sk-toggleable__control sk-hidden--visually\" id=\"sk-estimator-id-5\" type=\"checkbox\" ><label for=\"sk-estimator-id-5\" class=\"sk-toggleable__label sk-toggleable__label-arrow\">GridSearchCV</label><div class=\"sk-toggleable__content\"><pre>GridSearchCV(cv=StratifiedKFold(n_splits=6, random_state=None, shuffle=False),\n",
       "             estimator=MultinomialNB(fit_prior=False),\n",
       "             param_grid={&#x27;alpha&#x27;: array([0.3       , 0.31794872, 0.33589744, 0.35384615, 0.37179487,\n",
       "       0.38974359, 0.40769231, 0.42564103, 0.44358974, 0.46153846,\n",
       "       0.47948718, 0.4974359 , 0.51538462, 0.53333333, 0.55128205,\n",
       "       0.56923077, 0.58717949, 0.60512821, 0.62307692, 0.64102564,\n",
       "       0.65897436, 0.67692308, 0.69487179, 0.71282051, 0.73076923,\n",
       "       0.74871795, 0.76666667, 0.78461538, 0.8025641 , 0.82051282,\n",
       "       0.83846154, 0.85641026, 0.87435897, 0.89230769, 0.91025641,\n",
       "       0.92820513, 0.94615385, 0.96410256, 0.98205128, 1.        ])},\n",
       "             scoring=make_scorer(f1_score))</pre></div></div></div><div class=\"sk-parallel\"><div class=\"sk-parallel-item\"><div class=\"sk-item\"><div class=\"sk-label-container\"><div class=\"sk-label sk-toggleable\"><input class=\"sk-toggleable__control sk-hidden--visually\" id=\"sk-estimator-id-6\" type=\"checkbox\" ><label for=\"sk-estimator-id-6\" class=\"sk-toggleable__label sk-toggleable__label-arrow\">estimator: MultinomialNB</label><div class=\"sk-toggleable__content\"><pre>MultinomialNB(fit_prior=False)</pre></div></div></div><div class=\"sk-serial\"><div class=\"sk-item\"><div class=\"sk-estimator sk-toggleable\"><input class=\"sk-toggleable__control sk-hidden--visually\" id=\"sk-estimator-id-7\" type=\"checkbox\" ><label for=\"sk-estimator-id-7\" class=\"sk-toggleable__label sk-toggleable__label-arrow\">MultinomialNB</label><div class=\"sk-toggleable__content\"><pre>MultinomialNB(fit_prior=False)</pre></div></div></div></div></div></div></div></div></div></div>"
      ],
      "text/plain": [
       "GridSearchCV(cv=StratifiedKFold(n_splits=6, random_state=None, shuffle=False),\n",
       "             estimator=MultinomialNB(fit_prior=False),\n",
       "             param_grid={'alpha': array([0.3       , 0.31794872, 0.33589744, 0.35384615, 0.37179487,\n",
       "       0.38974359, 0.40769231, 0.42564103, 0.44358974, 0.46153846,\n",
       "       0.47948718, 0.4974359 , 0.51538462, 0.53333333, 0.55128205,\n",
       "       0.56923077, 0.58717949, 0.60512821, 0.62307692, 0.64102564,\n",
       "       0.65897436, 0.67692308, 0.69487179, 0.71282051, 0.73076923,\n",
       "       0.74871795, 0.76666667, 0.78461538, 0.8025641 , 0.82051282,\n",
       "       0.83846154, 0.85641026, 0.87435897, 0.89230769, 0.91025641,\n",
       "       0.92820513, 0.94615385, 0.96410256, 0.98205128, 1.        ])},\n",
       "             scoring=make_scorer(f1_score))"
      ]
     },
     "execution_count": 37,
     "metadata": {},
     "output_type": "execute_result"
    }
   ],
   "source": [
    "clf_naive_bayes = MultinomialNB(fit_prior=False)\n",
    "\n",
    "params_grid2 = {\n",
    "    \"alpha\": np.linspace(0.3,1,40),\n",
    "}\n",
    "\n",
    "kfoldcv = StratifiedKFold(n_splits=6)\n",
    "\n",
    "model = GridSearchCV (\n",
    "    estimator=clf_naive_bayes,\n",
    "    param_grid=params_grid2,\n",
    "    scoring=make_scorer(f1_score),\n",
    "    cv=kfoldcv,\n",
    ")\n",
    "\n",
    "model.fit(X_train_tfidf, y_train_original)"
   ]
  },
  {
   "cell_type": "code",
   "execution_count": 38,
   "id": "11c14ebf",
   "metadata": {
    "tags": []
   },
   "outputs": [
    {
     "name": "stdout",
     "output_type": "stream",
     "text": [
      "Los mejores parametros encontrados son:  {'alpha': 0.964102564102564}\n",
      "con un f1 score:  0.8598276344507401\n"
     ]
    }
   ],
   "source": [
    "print(\"Los mejores parametros encontrados son: \", model.best_params_)\n",
    "print(\"con un f1 score: \", model.best_score_)"
   ]
  },
  {
   "cell_type": "code",
   "execution_count": 39,
   "id": "77a36a93",
   "metadata": {
    "tags": []
   },
   "outputs": [
    {
     "data": {
      "text/html": [
       "<div>\n",
       "<style scoped>\n",
       "    .dataframe tbody tr th:only-of-type {\n",
       "        vertical-align: middle;\n",
       "    }\n",
       "\n",
       "    .dataframe tbody tr th {\n",
       "        vertical-align: top;\n",
       "    }\n",
       "\n",
       "    .dataframe thead th {\n",
       "        text-align: right;\n",
       "    }\n",
       "</style>\n",
       "<table border=\"1\" class=\"dataframe\">\n",
       "  <thead>\n",
       "    <tr style=\"text-align: right;\">\n",
       "      <th></th>\n",
       "      <th>mean_fit_time</th>\n",
       "      <th>std_fit_time</th>\n",
       "      <th>mean_score_time</th>\n",
       "      <th>std_score_time</th>\n",
       "      <th>param_alpha</th>\n",
       "      <th>params</th>\n",
       "      <th>split0_test_score</th>\n",
       "      <th>split1_test_score</th>\n",
       "      <th>split2_test_score</th>\n",
       "      <th>split3_test_score</th>\n",
       "      <th>split4_test_score</th>\n",
       "      <th>split5_test_score</th>\n",
       "      <th>mean_test_score</th>\n",
       "      <th>std_test_score</th>\n",
       "      <th>rank_test_score</th>\n",
       "    </tr>\n",
       "  </thead>\n",
       "  <tbody>\n",
       "    <tr>\n",
       "      <th>37</th>\n",
       "      <td>0.035657</td>\n",
       "      <td>0.000356</td>\n",
       "      <td>0.007655</td>\n",
       "      <td>0.000108</td>\n",
       "      <td>0.964103</td>\n",
       "      <td>{'alpha': 0.964102564102564}</td>\n",
       "      <td>0.870028</td>\n",
       "      <td>0.857504</td>\n",
       "      <td>0.859159</td>\n",
       "      <td>0.856509</td>\n",
       "      <td>0.864431</td>\n",
       "      <td>0.851334</td>\n",
       "      <td>0.859828</td>\n",
       "      <td>0.005975</td>\n",
       "      <td>1</td>\n",
       "    </tr>\n",
       "    <tr>\n",
       "      <th>36</th>\n",
       "      <td>0.037050</td>\n",
       "      <td>0.002015</td>\n",
       "      <td>0.007574</td>\n",
       "      <td>0.000470</td>\n",
       "      <td>0.946154</td>\n",
       "      <td>{'alpha': 0.9461538461538461}</td>\n",
       "      <td>0.869892</td>\n",
       "      <td>0.857910</td>\n",
       "      <td>0.858890</td>\n",
       "      <td>0.856690</td>\n",
       "      <td>0.864116</td>\n",
       "      <td>0.851152</td>\n",
       "      <td>0.859775</td>\n",
       "      <td>0.005907</td>\n",
       "      <td>2</td>\n",
       "    </tr>\n",
       "    <tr>\n",
       "      <th>35</th>\n",
       "      <td>0.038051</td>\n",
       "      <td>0.001013</td>\n",
       "      <td>0.007866</td>\n",
       "      <td>0.000300</td>\n",
       "      <td>0.928205</td>\n",
       "      <td>{'alpha': 0.9282051282051282}</td>\n",
       "      <td>0.869973</td>\n",
       "      <td>0.857594</td>\n",
       "      <td>0.858934</td>\n",
       "      <td>0.856057</td>\n",
       "      <td>0.863937</td>\n",
       "      <td>0.851287</td>\n",
       "      <td>0.859630</td>\n",
       "      <td>0.005952</td>\n",
       "      <td>3</td>\n",
       "    </tr>\n",
       "    <tr>\n",
       "      <th>38</th>\n",
       "      <td>0.046652</td>\n",
       "      <td>0.012878</td>\n",
       "      <td>0.009236</td>\n",
       "      <td>0.002726</td>\n",
       "      <td>0.982051</td>\n",
       "      <td>{'alpha': 0.9820512820512819}</td>\n",
       "      <td>0.870069</td>\n",
       "      <td>0.857504</td>\n",
       "      <td>0.858980</td>\n",
       "      <td>0.856283</td>\n",
       "      <td>0.864209</td>\n",
       "      <td>0.850699</td>\n",
       "      <td>0.859624</td>\n",
       "      <td>0.006135</td>\n",
       "      <td>4</td>\n",
       "    </tr>\n",
       "    <tr>\n",
       "      <th>39</th>\n",
       "      <td>0.058859</td>\n",
       "      <td>0.015902</td>\n",
       "      <td>0.010985</td>\n",
       "      <td>0.003273</td>\n",
       "      <td>1.0</td>\n",
       "      <td>{'alpha': 1.0}</td>\n",
       "      <td>0.870028</td>\n",
       "      <td>0.857775</td>\n",
       "      <td>0.858622</td>\n",
       "      <td>0.855966</td>\n",
       "      <td>0.864030</td>\n",
       "      <td>0.851064</td>\n",
       "      <td>0.859581</td>\n",
       "      <td>0.006038</td>\n",
       "      <td>5</td>\n",
       "    </tr>\n",
       "  </tbody>\n",
       "</table>\n",
       "</div>"
      ],
      "text/plain": [
       "    mean_fit_time  std_fit_time  mean_score_time  std_score_time param_alpha  \\\n",
       "37       0.035657      0.000356         0.007655        0.000108    0.964103   \n",
       "36       0.037050      0.002015         0.007574        0.000470    0.946154   \n",
       "35       0.038051      0.001013         0.007866        0.000300    0.928205   \n",
       "38       0.046652      0.012878         0.009236        0.002726    0.982051   \n",
       "39       0.058859      0.015902         0.010985        0.003273         1.0   \n",
       "\n",
       "                           params  split0_test_score  split1_test_score  \\\n",
       "37   {'alpha': 0.964102564102564}           0.870028           0.857504   \n",
       "36  {'alpha': 0.9461538461538461}           0.869892           0.857910   \n",
       "35  {'alpha': 0.9282051282051282}           0.869973           0.857594   \n",
       "38  {'alpha': 0.9820512820512819}           0.870069           0.857504   \n",
       "39                 {'alpha': 1.0}           0.870028           0.857775   \n",
       "\n",
       "    split2_test_score  split3_test_score  split4_test_score  \\\n",
       "37           0.859159           0.856509           0.864431   \n",
       "36           0.858890           0.856690           0.864116   \n",
       "35           0.858934           0.856057           0.863937   \n",
       "38           0.858980           0.856283           0.864209   \n",
       "39           0.858622           0.855966           0.864030   \n",
       "\n",
       "    split5_test_score  mean_test_score  std_test_score  rank_test_score  \n",
       "37           0.851334         0.859828        0.005975                1  \n",
       "36           0.851152         0.859775        0.005907                2  \n",
       "35           0.851287         0.859630        0.005952                3  \n",
       "38           0.850699         0.859624        0.006135                4  \n",
       "39           0.851064         0.859581        0.006038                5  "
      ]
     },
     "execution_count": 39,
     "metadata": {},
     "output_type": "execute_result"
    }
   ],
   "source": [
    "pd.DataFrame(model.cv_results_).sort_values(by=\"rank_test_score\").head()"
   ]
  },
  {
   "cell_type": "code",
   "execution_count": 40,
   "id": "6c5de76c",
   "metadata": {
    "tags": []
   },
   "outputs": [
    {
     "name": "stdout",
     "output_type": "stream",
     "text": [
      "Accuracy: 0.8668672823492788\n",
      "Precision: 0.8759326369643999\n",
      "Recall: 0.8542619542619543\n",
      "F1-score: 0.8649615829912641\n"
     ]
    }
   ],
   "source": [
    "X_test_counts = vectorizador.transform(X_test_original)\n",
    "X_test_tfidf = escaladorTfidf.transform(X_test_counts)\n",
    "y_pred = np.where(model.predict(X_test_tfidf) >= 0.5, 1, 0)\n",
    "\n",
    "print(\"Accuracy:\", accuracy_score(y_test, y_pred))\n",
    "print(\"Precision:\", precision_score(y_test, y_pred))\n",
    "print(\"Recall:\", recall_score(y_test, y_pred))\n",
    "print(\"F1-score:\", f1_score(y_test, y_pred))"
   ]
  },
  {
   "cell_type": "markdown",
   "id": "7d5ef4f8-4137-40e1-831a-2c699453b1ab",
   "metadata": {},
   "source": [
    "Creamos submit para competencia Kaggle"
   ]
  },
  {
   "cell_type": "code",
   "execution_count": 41,
   "id": "73f4d79a-a9e0-40dd-8a27-bd2120441f05",
   "metadata": {
    "tags": []
   },
   "outputs": [],
   "source": [
    "df_test = pd.read_csv(\"dataset/test.csv\")\n",
    "assert(len(df_test)==8599)\n",
    "\n",
    "X = df_test['review_es']\n",
    "    \n",
    "X_counts = vectorizador.transform(X)\n",
    "X_tfidf = escaladorTfidf.transform(X_counts)\n",
    "    \n",
    "prediccion = np.where(model.predict(X_tfidf) >= 0.5, 'positivo', 'negativo')\n",
    "\n",
    "assert(len(prediccion)==8599)\n",
    "\n",
    "submit = pd.DataFrame(\n",
    "    {\"sentimiento\": prediccion},\n",
    "    index=df_test[\"ID\"],\n",
    ")\n",
    "assert(len(submit)==8599)\n",
    "\n",
    "submit.to_csv(\"dataset/submit.csv\")"
   ]
  },
  {
   "cell_type": "markdown",
   "id": "8256ed0d-4c37-4f8c-817a-e21ace532bb2",
   "metadata": {},
   "source": [
    "Guardamos el model para ser usado mas tarde en el ensamble"
   ]
  },
  {
   "cell_type": "code",
   "execution_count": 42,
   "id": "c4d9335e-736f-4f0c-bc7f-371e76b608a4",
   "metadata": {
    "tags": []
   },
   "outputs": [],
   "source": [
    "with open('modelos/BayesNaiveCV.pickle', 'wb') as file:\n",
    "    pickle.dump(model, file)"
   ]
  },
  {
   "cell_type": "markdown",
   "id": "d1a57dfb-2710-4d8b-a908-9092d694285f",
   "metadata": {},
   "source": [
    "### Random Forest"
   ]
  },
  {
   "cell_type": "code",
   "execution_count": 29,
   "id": "cb7e21e5-1e44-47d9-b75e-f428eed551a3",
   "metadata": {
    "tags": []
   },
   "outputs": [],
   "source": [
    "from sklearn.ensemble import RandomForestClassifier\n",
    "from sklearn.model_selection import GridSearchCV"
   ]
  },
  {
   "cell_type": "code",
   "execution_count": 32,
   "id": "55ce356c-d397-4e59-98a0-3bb4230d226d",
   "metadata": {
    "tags": []
   },
   "outputs": [],
   "source": [
    "X = df.review_es\n",
    "y = df.sentimiento_es_positivo\n",
    "X_train, X_test, y_train, y_test = train_test_split(X, y, test_size=0.6, random_state=19)\n",
    "vectorizador = CountVectorizer()\n",
    "escaladorTfidf = TfidfTransformer()\n",
    "X_train_counts_2 = vectorizador.fit_transform(X_train)\n",
    "X_train_tfidf_2 = escaladorTfidf.fit_transform(X_train_counts_2)\n",
    "X_test_counts_2 = vectorizador.transform(X_test)\n",
    "X_test_tfidf_2 = escaladorTfidf.transform(X_test_counts_2)"
   ]
  },
  {
   "cell_type": "markdown",
   "id": "098bca22-e7b0-47e8-9250-e7e8238fa917",
   "metadata": {},
   "source": [
    "Probamos RF con sus parametros por defecto y analizamos sus resultados en train y test"
   ]
  },
  {
   "cell_type": "code",
   "execution_count": null,
   "id": "d2ae20fd-bbb1-4aac-97c9-2a41c14e3995",
   "metadata": {
    "tags": []
   },
   "outputs": [],
   "source": [
    "rfc_default = RandomForestClassifier()\n",
    "model = rfc_default.fit(X = X_train_counts_2, y = y_train)"
   ]
  },
  {
   "cell_type": "code",
   "execution_count": null,
   "id": "0dff8b26-d60a-477c-a20a-54d7f037153e",
   "metadata": {
    "tags": []
   },
   "outputs": [],
   "source": [
    "print(\"f1 score sobre train: \", f1_score(y_train, rfc_default.predict(X_train_counts_2)))"
   ]
  },
  {
   "cell_type": "code",
   "execution_count": null,
   "id": "69df45ce-b48f-424b-8104-fca0f77dc05c",
   "metadata": {
    "tags": []
   },
   "outputs": [],
   "source": [
    "print(\"f1 score sobre validacion: \", f1_score(y_test, rfc_default.predict(X_test_counts_2)))"
   ]
  },
  {
   "cell_type": "markdown",
   "id": "7edec3b9-919a-4af8-8362-3747f93f2825",
   "metadata": {},
   "source": [
    "Buscamos los mejores hiperparametros"
   ]
  },
  {
   "cell_type": "code",
   "execution_count": 33,
   "id": "6c598d2a-adce-4205-8662-df52f7c89d5f",
   "metadata": {
    "tags": []
   },
   "outputs": [],
   "source": [
    "rf_cv = RandomForestClassifier(max_features='sqrt', oob_score=True, random_state=1, n_jobs=-1)\n",
    "\n",
    "param_grid = { \"criterion\" : [\"gini\", \"entropy\"],\n",
    "               \"min_samples_leaf\" : [10,25,50,75,100], \n",
    "               \"n_estimators\": [100,150,200,250,300],\n",
    "               \"oob_score\":[False, True],\n",
    "               \"random_state\":[1],\n",
    "               \"n_jobs\":[-1]}\n",
    "\n",
    "#Probamos entrenando sólo con 1 métrica\n",
    "gs = GridSearchCV(estimator=rf_cv, param_grid=param_grid, scoring=\"f1\", cv=5, n_jobs=-1)\n",
    "gs_fit = gs.fit(X = X_train_counts_2, y = y_train)"
   ]
  },
  {
   "cell_type": "code",
   "execution_count": 34,
   "id": "1f44daf3-d432-4140-abc2-efb3dc410ae1",
   "metadata": {
    "tags": []
   },
   "outputs": [
    {
     "data": {
      "text/plain": [
       "{'criterion': 'entropy',\n",
       " 'min_samples_leaf': 10,\n",
       " 'n_estimators': 300,\n",
       " 'n_jobs': -1,\n",
       " 'oob_score': False,\n",
       " 'random_state': 1}"
      ]
     },
     "execution_count": 34,
     "metadata": {},
     "output_type": "execute_result"
    }
   ],
   "source": [
    "gs_fit.best_params_"
   ]
  },
  {
   "cell_type": "code",
   "execution_count": 36,
   "id": "5f2b5b6f-e1d9-45eb-81a8-bcc374bcee41",
   "metadata": {
    "tags": []
   },
   "outputs": [],
   "source": [
    "rf_cv_best=gs_fit.best_estimator_"
   ]
  },
  {
   "cell_type": "code",
   "execution_count": 37,
   "id": "12654e0a-1fc0-483b-b2a6-b42e69baf437",
   "metadata": {
    "tags": []
   },
   "outputs": [
    {
     "name": "stdout",
     "output_type": "stream",
     "text": [
      "f1 score sobre train:  0.8939372015627262\n"
     ]
    }
   ],
   "source": [
    "print(\"f1 score sobre train: \", f1_score(y_train, rf_cv_best.predict(X_train_counts_2)))"
   ]
  },
  {
   "cell_type": "code",
   "execution_count": 38,
   "id": "01d3f349-16f8-4ad4-93a3-fd6d6da4a554",
   "metadata": {
    "tags": []
   },
   "outputs": [
    {
     "name": "stdout",
     "output_type": "stream",
     "text": [
      "f1 score sobre validacion:  0.8506922951620784\n"
     ]
    }
   ],
   "source": [
    "print(\"f1 score sobre validacion: \", f1_score(y_test, rf_cv_best.predict(X_test_counts_2)))"
   ]
  },
  {
   "cell_type": "code",
   "execution_count": 39,
   "id": "f77c34ee-ca9c-4135-b61e-d4b75c1533c8",
   "metadata": {
    "tags": []
   },
   "outputs": [
    {
     "name": "stdout",
     "output_type": "stream",
     "text": [
      "F1 Score: 0.8506922951620784\n",
      "Precision: 0.8257542217443552\n",
      "Recall: 0.8771835528083849\n",
      "Accuracy: 0.8472333333333333\n"
     ]
    }
   ],
   "source": [
    "y_pred = rf_cv_best.predict(X_test_counts_2)\n",
    "accuracy = accuracy_score(y_test, y_pred)\n",
    "precision = precision_score(y_test, y_pred)\n",
    "recall = recall_score(y_test, y_pred)\n",
    "f1 = f1_score(y_test, y_pred)\n",
    "\n",
    "print(\"F1 Score:\", f1)\n",
    "print(\"Precision:\", precision)\n",
    "print(\"Recall:\", recall)\n",
    "print(\"Accuracy:\", accuracy)"
   ]
  },
  {
   "cell_type": "code",
   "execution_count": 40,
   "id": "21e0ab4e-481c-4b96-9ed5-5d965b8ef156",
   "metadata": {
    "tags": []
   },
   "outputs": [
    {
     "data": {
      "text/plain": [
       "Text(0.5, 1.0, 'Confusion matrix de training set')"
      ]
     },
     "execution_count": 40,
     "metadata": {},
     "output_type": "execute_result"
    },
    {
     "data": {
      "image/png": "[encoded data removed]",
      "text/plain": [
       "<Figure size 640x480 with 2 Axes>"
      ]
     },
     "metadata": {},
     "output_type": "display_data"
    }
   ],
   "source": [
    "confusion = confusion_matrix(y_test, y_pred)\n",
    "sns.heatmap(confusion, annot=True, fmt='.0f')\n",
    "plt.ylabel('true')\n",
    "plt.xlabel('predicted')\n",
    "plt.title(\"Confusion matrix de training set\")"
   ]
  },
  {
   "cell_type": "code",
   "execution_count": 41,
   "id": "63c166e7-29b2-4394-afe4-33eb5bacaa91",
   "metadata": {
    "tags": []
   },
   "outputs": [],
   "source": [
    "df_test = pd.read_csv(\"dataset/test.csv\")\n",
    "assert(len(df_test)==8599)\n",
    "\n",
    "X = df_test['review_es']\n",
    "    \n",
    "X_counts = vectorizador.transform(X)\n",
    "X_tfidf = escaladorTfidf.transform(X_counts)\n",
    "    \n",
    "prediccion = np.where(rf_cv_best.predict(X_tfidf) >= 0.5, 'positivo', 'negativo')\n",
    "\n",
    "assert(len(prediccion)==8599)\n",
    "\n",
    "submit = pd.DataFrame(\n",
    "    {\"sentimiento\": prediccion},\n",
    "    index=df_test[\"ID\"],\n",
    ")\n",
    "assert(len(submit)==8599)\n",
    "\n",
    "submit.to_csv(\"dataset/submit.csv\")"
   ]
  },
  {
   "cell_type": "markdown",
   "id": "eb554ff6-55d5-457e-a042-c4db8dcab157",
   "metadata": {},
   "source": [
    "Guardamos el modelo para ser usado mas tarde en el ensamble"
   ]
  },
  {
   "cell_type": "code",
   "execution_count": 128,
   "id": "63d267c7-f6dd-410f-ae26-f2603e611e67",
   "metadata": {
    "tags": []
   },
   "outputs": [],
   "source": [
    "with open('modelos/RandomForestCV.pickle', 'wb') as file:\n",
    "    pickle.dump(rf_cv_best, file)"
   ]
  },
  {
   "cell_type": "markdown",
   "id": "adee283a-30f0-46a0-9ab1-a3b47977403d",
   "metadata": {},
   "source": [
    "### XGBoost"
   ]
  },
  {
   "cell_type": "code",
   "execution_count": 46,
   "id": "970f53d3",
   "metadata": {
    "tags": []
   },
   "outputs": [],
   "source": [
    "import xgboost as xgb\n",
    "from sklearn.model_selection import RandomizedSearchCV"
   ]
  },
  {
   "cell_type": "code",
   "execution_count": 47,
   "id": "116b3627-a0ee-435f-b2ed-50d7d2566b89",
   "metadata": {
    "tags": []
   },
   "outputs": [],
   "source": [
    "vectorizador = CountVectorizer()\n",
    "escaladorTfidf = TfidfTransformer()\n",
    "X_train_counts_1 = vectorizador.fit_transform(X_train)\n",
    "X_train_tfidf_1 = escaladorTfidf.fit_transform(X_train_counts_1)\n",
    "X_test_counts_1 = vectorizador.transform(X_test)\n",
    "X_test_tfidf_1 = escaladorTfidf.transform(X_test_counts_1)\n"
   ]
  },
  {
   "cell_type": "code",
   "execution_count": 48,
   "id": "eb97f6bc",
   "metadata": {
    "tags": []
   },
   "outputs": [],
   "source": [
    "d_train = xgb.DMatrix(X_train_tfidf_1, label=y_train)\n",
    "d_test = xgb.DMatrix(X_test_tfidf_1, label=y_test)"
   ]
  },
  {
   "cell_type": "code",
   "execution_count": null,
   "id": "4dc7cab7",
   "metadata": {},
   "outputs": [
    {
     "name": "stdout",
     "output_type": "stream",
     "text": [
      "[0]\tvalidation_0-logloss:0.67379\tvalidation_1-logloss:0.67467\n",
      "[50]\tvalidation_0-logloss:0.44841\tvalidation_1-logloss:0.48307\n",
      "[100]\tvalidation_0-logloss:0.37940\tvalidation_1-logloss:0.43327\n",
      "[150]\tvalidation_0-logloss:0.33638\tvalidation_1-logloss:0.40626\n",
      "[200]\tvalidation_0-logloss:0.30557\tvalidation_1-logloss:0.38813\n",
      "[250]\tvalidation_0-logloss:0.28090\tvalidation_1-logloss:0.37476\n",
      "[300]\tvalidation_0-logloss:0.26092\tvalidation_1-logloss:0.36480\n",
      "[350]\tvalidation_0-logloss:0.24460\tvalidation_1-logloss:0.35689\n",
      "[400]\tvalidation_0-logloss:0.22972\tvalidation_1-logloss:0.35017\n",
      "[450]\tvalidation_0-logloss:0.21787\tvalidation_1-logloss:0.34477\n",
      "[500]\tvalidation_0-logloss:0.20686\tvalidation_1-logloss:0.33987\n",
      "[550]\tvalidation_0-logloss:0.19707\tvalidation_1-logloss:0.33619\n",
      "[600]\tvalidation_0-logloss:0.18799\tvalidation_1-logloss:0.33256\n",
      "[650]\tvalidation_0-logloss:0.17969\tvalidation_1-logloss:0.32937\n",
      "[700]\tvalidation_0-logloss:0.17271\tvalidation_1-logloss:0.32663\n",
      "[750]\tvalidation_0-logloss:0.16597\tvalidation_1-logloss:0.32459\n",
      "[800]\tvalidation_0-logloss:0.15991\tvalidation_1-logloss:0.32249\n",
      "[850]\tvalidation_0-logloss:0.15356\tvalidation_1-logloss:0.32042\n",
      "[900]\tvalidation_0-logloss:0.14792\tvalidation_1-logloss:0.31925\n",
      "[950]\tvalidation_0-logloss:0.14264\tvalidation_1-logloss:0.31774\n",
      "[999]\tvalidation_0-logloss:0.13741\tvalidation_1-logloss:0.31631\n"
     ]
    },
    {
     "data": {
      "text/html": [
       "<style>#sk-container-id-2 {color: black;background-color: white;}#sk-container-id-2 pre{padding: 0;}#sk-container-id-2 div.sk-toggleable {background-color: white;}#sk-container-id-2 label.sk-toggleable__label {cursor: pointer;display: block;width: 100%;margin-bottom: 0;padding: 0.3em;box-sizing: border-box;text-align: center;}#sk-container-id-2 label.sk-toggleable__label-arrow:before {content: \"▸\";float: left;margin-right: 0.25em;color: #696969;}#sk-container-id-2 label.sk-toggleable__label-arrow:hover:before {color: black;}#sk-container-id-2 div.sk-estimator:hover label.sk-toggleable__label-arrow:before {color: black;}#sk-container-id-2 div.sk-toggleable__content {max-height: 0;max-width: 0;overflow: hidden;text-align: left;background-color: #f0f8ff;}#sk-container-id-2 div.sk-toggleable__content pre {margin: 0.2em;color: black;border-radius: 0.25em;background-color: #f0f8ff;}#sk-container-id-2 input.sk-toggleable__control:checked~div.sk-toggleable__content {max-height: 200px;max-width: 100%;overflow: auto;}#sk-container-id-2 input.sk-toggleable__control:checked~label.sk-toggleable__label-arrow:before {content: \"▾\";}#sk-container-id-2 div.sk-estimator input.sk-toggleable__control:checked~label.sk-toggleable__label {background-color: #d4ebff;}#sk-container-id-2 div.sk-label input.sk-toggleable__control:checked~label.sk-toggleable__label {background-color: #d4ebff;}#sk-container-id-2 input.sk-hidden--visually {border: 0;clip: rect(1px 1px 1px 1px);clip: rect(1px, 1px, 1px, 1px);height: 1px;margin: -1px;overflow: hidden;padding: 0;position: absolute;width: 1px;}#sk-container-id-2 div.sk-estimator {font-family: monospace;background-color: #f0f8ff;border: 1px dotted black;border-radius: 0.25em;box-sizing: border-box;margin-bottom: 0.5em;}#sk-container-id-2 div.sk-estimator:hover {background-color: #d4ebff;}#sk-container-id-2 div.sk-parallel-item::after {content: \"\";width: 100%;border-bottom: 1px solid gray;flex-grow: 1;}#sk-container-id-2 div.sk-label:hover label.sk-toggleable__label {background-color: #d4ebff;}#sk-container-id-2 div.sk-serial::before {content: \"\";position: absolute;border-left: 1px solid gray;box-sizing: border-box;top: 0;bottom: 0;left: 50%;z-index: 0;}#sk-container-id-2 div.sk-serial {display: flex;flex-direction: column;align-items: center;background-color: white;padding-right: 0.2em;padding-left: 0.2em;position: relative;}#sk-container-id-2 div.sk-item {position: relative;z-index: 1;}#sk-container-id-2 div.sk-parallel {display: flex;align-items: stretch;justify-content: center;background-color: white;position: relative;}#sk-container-id-2 div.sk-item::before, #sk-container-id-2 div.sk-parallel-item::before {content: \"\";position: absolute;border-left: 1px solid gray;box-sizing: border-box;top: 0;bottom: 0;left: 50%;z-index: -1;}#sk-container-id-2 div.sk-parallel-item {display: flex;flex-direction: column;z-index: 1;position: relative;background-color: white;}#sk-container-id-2 div.sk-parallel-item:first-child::after {align-self: flex-end;width: 50%;}#sk-container-id-2 div.sk-parallel-item:last-child::after {align-self: flex-start;width: 50%;}#sk-container-id-2 div.sk-parallel-item:only-child::after {width: 0;}#sk-container-id-2 div.sk-dashed-wrapped {border: 1px dashed gray;margin: 0 0.4em 0.5em 0.4em;box-sizing: border-box;padding-bottom: 0.4em;background-color: white;}#sk-container-id-2 div.sk-label label {font-family: monospace;font-weight: bold;display: inline-block;line-height: 1.2em;}#sk-container-id-2 div.sk-label-container {text-align: center;}#sk-container-id-2 div.sk-container {/* jupyter's `normalize.less` sets `[hidden] { display: none; }` but bootstrap.min.css set `[hidden] { display: none !important; }` so we also need the `!important` here to be able to override the default hidden behavior on the sphinx rendered scikit-learn.org. See: https://github.com/scikit-learn/scikit-learn/issues/21755 */display: inline-block !important;position: relative;}#sk-container-id-2 div.sk-text-repr-fallback {display: none;}</style><div id=\"sk-container-id-2\" class=\"sk-top-container\"><div class=\"sk-text-repr-fallback\"><pre>XGBClassifier(base_score=None, booster=None, callbacks=None,\n",
       "              colsample_bylevel=None, colsample_bynode=None,\n",
       "              colsample_bytree=None, early_stopping_rounds=50,\n",
       "              enable_categorical=False, eval_metric=None, feature_types=None,\n",
       "              gamma=None, gpu_id=None, grow_policy=None, importance_type=None,\n",
       "              interaction_constraints=None, learning_rate=0.1, max_bin=None,\n",
       "              max_cat_threshold=None, max_cat_to_onehot=None,\n",
       "              max_delta_step=None, max_depth=None, max_leaves=None,\n",
       "              min_child_weight=None, missing=nan, monotone_constraints=None,\n",
       "              n_estimators=1000, n_jobs=None, num_parallel_tree=None,\n",
       "              predictor=None, random_state=None, ...)</pre><b>In a Jupyter environment, please rerun this cell to show the HTML representation or trust the notebook. <br />On GitHub, the HTML representation is unable to render, please try loading this page with nbviewer.org.</b></div><div class=\"sk-container\" hidden><div class=\"sk-item\"><div class=\"sk-estimator sk-toggleable\"><input class=\"sk-toggleable__control sk-hidden--visually\" id=\"sk-estimator-id-2\" type=\"checkbox\" checked><label for=\"sk-estimator-id-2\" class=\"sk-toggleable__label sk-toggleable__label-arrow\">XGBClassifier</label><div class=\"sk-toggleable__content\"><pre>XGBClassifier(base_score=None, booster=None, callbacks=None,\n",
       "              colsample_bylevel=None, colsample_bynode=None,\n",
       "              colsample_bytree=None, early_stopping_rounds=50,\n",
       "              enable_categorical=False, eval_metric=None, feature_types=None,\n",
       "              gamma=None, gpu_id=None, grow_policy=None, importance_type=None,\n",
       "              interaction_constraints=None, learning_rate=0.1, max_bin=None,\n",
       "              max_cat_threshold=None, max_cat_to_onehot=None,\n",
       "              max_delta_step=None, max_depth=None, max_leaves=None,\n",
       "              min_child_weight=None, missing=nan, monotone_constraints=None,\n",
       "              n_estimators=1000, n_jobs=None, num_parallel_tree=None,\n",
       "              predictor=None, random_state=None, ...)</pre></div></div></div></div></div>"
      ],
      "text/plain": [
       "XGBClassifier(base_score=None, booster=None, callbacks=None,\n",
       "              colsample_bylevel=None, colsample_bynode=None,\n",
       "              colsample_bytree=None, early_stopping_rounds=50,\n",
       "              enable_categorical=False, eval_metric=None, feature_types=None,\n",
       "              gamma=None, gpu_id=None, grow_policy=None, importance_type=None,\n",
       "              interaction_constraints=None, learning_rate=0.1, max_bin=None,\n",
       "              max_cat_threshold=None, max_cat_to_onehot=None,\n",
       "              max_delta_step=None, max_depth=None, max_leaves=None,\n",
       "              min_child_weight=None, missing=nan, monotone_constraints=None,\n",
       "              n_estimators=1000, n_jobs=None, num_parallel_tree=None,\n",
       "              predictor=None, random_state=None, ...)"
      ]
     },
     "execution_count": 26,
     "metadata": {},
     "output_type": "execute_result"
    }
   ],
   "source": [
    "clf = xgb.XGBClassifier(learning_rate=0.1, n_estimators=1000, early_stopping_rounds=50)\n",
    "\n",
    "clf.fit(X_train_tfidf_1, y_train,\n",
    "       eval_set=[(X_train_tfidf_1, y_train), (X_test_tfidf_1, y_test)],\n",
    "       verbose=50)"
   ]
  },
  {
   "cell_type": "code",
   "execution_count": null,
   "id": "5df911ae",
   "metadata": {},
   "outputs": [
    {
     "name": "stdout",
     "output_type": "stream",
     "text": [
      "f1 score sobre validacion:  0.8629673826571201\n",
      "f1 score sobre train:  0.9805899661251638\n"
     ]
    }
   ],
   "source": [
    "print(\"f1 score sobre validacion: \", f1_score(y_test, clf.predict(X_test_tfidf_1)))\n",
    "print(\"f1 score sobre train: \", f1_score(y_train, clf.predict(X_train_tfidf_1)))"
   ]
  },
  {
   "cell_type": "code",
   "execution_count": null,
   "id": "01c50f5e",
   "metadata": {},
   "outputs": [
    {
     "name": "stdout",
     "output_type": "stream",
     "text": [
      "[0]\tvalidation_0-logloss:0.66882\tvalidation_1-logloss:0.67042\n",
      "[50]\tvalidation_0-logloss:0.39136\tvalidation_1-logloss:0.44845\n",
      "[100]\tvalidation_0-logloss:0.31287\tvalidation_1-logloss:0.39965\n",
      "[150]\tvalidation_0-logloss:0.26653\tvalidation_1-logloss:0.37553\n",
      "[200]\tvalidation_0-logloss:0.23447\tvalidation_1-logloss:0.35980\n",
      "[250]\tvalidation_0-logloss:0.20990\tvalidation_1-logloss:0.34838\n",
      "[300]\tvalidation_0-logloss:0.18886\tvalidation_1-logloss:0.34061\n",
      "[350]\tvalidation_0-logloss:0.17235\tvalidation_1-logloss:0.33435\n",
      "[400]\tvalidation_0-logloss:0.15860\tvalidation_1-logloss:0.33024\n",
      "[450]\tvalidation_0-logloss:0.14577\tvalidation_1-logloss:0.32639\n",
      "[500]\tvalidation_0-logloss:0.13424\tvalidation_1-logloss:0.32381\n",
      "[550]\tvalidation_0-logloss:0.12450\tvalidation_1-logloss:0.32132\n",
      "[600]\tvalidation_0-logloss:0.11566\tvalidation_1-logloss:0.32008\n",
      "[650]\tvalidation_0-logloss:0.10804\tvalidation_1-logloss:0.31955\n",
      "[700]\tvalidation_0-logloss:0.10019\tvalidation_1-logloss:0.31919\n",
      "[714]\tvalidation_0-logloss:0.09841\tvalidation_1-logloss:0.31922\n"
     ]
    },
    {
     "data": {
      "text/html": [
       "<style>#sk-container-id-3 {color: black;background-color: white;}#sk-container-id-3 pre{padding: 0;}#sk-container-id-3 div.sk-toggleable {background-color: white;}#sk-container-id-3 label.sk-toggleable__label {cursor: pointer;display: block;width: 100%;margin-bottom: 0;padding: 0.3em;box-sizing: border-box;text-align: center;}#sk-container-id-3 label.sk-toggleable__label-arrow:before {content: \"▸\";float: left;margin-right: 0.25em;color: #696969;}#sk-container-id-3 label.sk-toggleable__label-arrow:hover:before {color: black;}#sk-container-id-3 div.sk-estimator:hover label.sk-toggleable__label-arrow:before {color: black;}#sk-container-id-3 div.sk-toggleable__content {max-height: 0;max-width: 0;overflow: hidden;text-align: left;background-color: #f0f8ff;}#sk-container-id-3 div.sk-toggleable__content pre {margin: 0.2em;color: black;border-radius: 0.25em;background-color: #f0f8ff;}#sk-container-id-3 input.sk-toggleable__control:checked~div.sk-toggleable__content {max-height: 200px;max-width: 100%;overflow: auto;}#sk-container-id-3 input.sk-toggleable__control:checked~label.sk-toggleable__label-arrow:before {content: \"▾\";}#sk-container-id-3 div.sk-estimator input.sk-toggleable__control:checked~label.sk-toggleable__label {background-color: #d4ebff;}#sk-container-id-3 div.sk-label input.sk-toggleable__control:checked~label.sk-toggleable__label {background-color: #d4ebff;}#sk-container-id-3 input.sk-hidden--visually {border: 0;clip: rect(1px 1px 1px 1px);clip: rect(1px, 1px, 1px, 1px);height: 1px;margin: -1px;overflow: hidden;padding: 0;position: absolute;width: 1px;}#sk-container-id-3 div.sk-estimator {font-family: monospace;background-color: #f0f8ff;border: 1px dotted black;border-radius: 0.25em;box-sizing: border-box;margin-bottom: 0.5em;}#sk-container-id-3 div.sk-estimator:hover {background-color: #d4ebff;}#sk-container-id-3 div.sk-parallel-item::after {content: \"\";width: 100%;border-bottom: 1px solid gray;flex-grow: 1;}#sk-container-id-3 div.sk-label:hover label.sk-toggleable__label {background-color: #d4ebff;}#sk-container-id-3 div.sk-serial::before {content: \"\";position: absolute;border-left: 1px solid gray;box-sizing: border-box;top: 0;bottom: 0;left: 50%;z-index: 0;}#sk-container-id-3 div.sk-serial {display: flex;flex-direction: column;align-items: center;background-color: white;padding-right: 0.2em;padding-left: 0.2em;position: relative;}#sk-container-id-3 div.sk-item {position: relative;z-index: 1;}#sk-container-id-3 div.sk-parallel {display: flex;align-items: stretch;justify-content: center;background-color: white;position: relative;}#sk-container-id-3 div.sk-item::before, #sk-container-id-3 div.sk-parallel-item::before {content: \"\";position: absolute;border-left: 1px solid gray;box-sizing: border-box;top: 0;bottom: 0;left: 50%;z-index: -1;}#sk-container-id-3 div.sk-parallel-item {display: flex;flex-direction: column;z-index: 1;position: relative;background-color: white;}#sk-container-id-3 div.sk-parallel-item:first-child::after {align-self: flex-end;width: 50%;}#sk-container-id-3 div.sk-parallel-item:last-child::after {align-self: flex-start;width: 50%;}#sk-container-id-3 div.sk-parallel-item:only-child::after {width: 0;}#sk-container-id-3 div.sk-dashed-wrapped {border: 1px dashed gray;margin: 0 0.4em 0.5em 0.4em;box-sizing: border-box;padding-bottom: 0.4em;background-color: white;}#sk-container-id-3 div.sk-label label {font-family: monospace;font-weight: bold;display: inline-block;line-height: 1.2em;}#sk-container-id-3 div.sk-label-container {text-align: center;}#sk-container-id-3 div.sk-container {/* jupyter's `normalize.less` sets `[hidden] { display: none; }` but bootstrap.min.css set `[hidden] { display: none !important; }` so we also need the `!important` here to be able to override the default hidden behavior on the sphinx rendered scikit-learn.org. See: https://github.com/scikit-learn/scikit-learn/issues/21755 */display: inline-block !important;position: relative;}#sk-container-id-3 div.sk-text-repr-fallback {display: none;}</style><div id=\"sk-container-id-3\" class=\"sk-top-container\"><div class=\"sk-text-repr-fallback\"><pre>XGBClassifier(base_score=None, booster=None, callbacks=None,\n",
       "              colsample_bylevel=None, colsample_bynode=None,\n",
       "              colsample_bytree=None, early_stopping_rounds=50,\n",
       "              enable_categorical=False, eval_metric=None, feature_types=None,\n",
       "              gamma=None, gpu_id=None, grow_policy=None, importance_type=None,\n",
       "              interaction_constraints=None, learning_rate=0.1, max_bin=None,\n",
       "              max_cat_threshold=None, max_cat_to_onehot=None,\n",
       "              max_delta_step=None, max_depth=10, max_leaves=None,\n",
       "              min_child_weight=None, missing=nan, monotone_constraints=None,\n",
       "              n_estimators=1000, n_jobs=None, nthread=-1,\n",
       "              num_parallel_tree=None, predictor=None, ...)</pre><b>In a Jupyter environment, please rerun this cell to show the HTML representation or trust the notebook. <br />On GitHub, the HTML representation is unable to render, please try loading this page with nbviewer.org.</b></div><div class=\"sk-container\" hidden><div class=\"sk-item\"><div class=\"sk-estimator sk-toggleable\"><input class=\"sk-toggleable__control sk-hidden--visually\" id=\"sk-estimator-id-3\" type=\"checkbox\" checked><label for=\"sk-estimator-id-3\" class=\"sk-toggleable__label sk-toggleable__label-arrow\">XGBClassifier</label><div class=\"sk-toggleable__content\"><pre>XGBClassifier(base_score=None, booster=None, callbacks=None,\n",
       "              colsample_bylevel=None, colsample_bynode=None,\n",
       "              colsample_bytree=None, early_stopping_rounds=50,\n",
       "              enable_categorical=False, eval_metric=None, feature_types=None,\n",
       "              gamma=None, gpu_id=None, grow_policy=None, importance_type=None,\n",
       "              interaction_constraints=None, learning_rate=0.1, max_bin=None,\n",
       "              max_cat_threshold=None, max_cat_to_onehot=None,\n",
       "              max_delta_step=None, max_depth=10, max_leaves=None,\n",
       "              min_child_weight=None, missing=nan, monotone_constraints=None,\n",
       "              n_estimators=1000, n_jobs=None, nthread=-1,\n",
       "              num_parallel_tree=None, predictor=None, ...)</pre></div></div></div></div></div>"
      ],
      "text/plain": [
       "XGBClassifier(base_score=None, booster=None, callbacks=None,\n",
       "              colsample_bylevel=None, colsample_bynode=None,\n",
       "              colsample_bytree=None, early_stopping_rounds=50,\n",
       "              enable_categorical=False, eval_metric=None, feature_types=None,\n",
       "              gamma=None, gpu_id=None, grow_policy=None, importance_type=None,\n",
       "              interaction_constraints=None, learning_rate=0.1, max_bin=None,\n",
       "              max_cat_threshold=None, max_cat_to_onehot=None,\n",
       "              max_delta_step=None, max_depth=10, max_leaves=None,\n",
       "              min_child_weight=None, missing=nan, monotone_constraints=None,\n",
       "              n_estimators=1000, n_jobs=None, nthread=-1,\n",
       "              num_parallel_tree=None, predictor=None, ...)"
      ]
     },
     "execution_count": 33,
     "metadata": {},
     "output_type": "execute_result"
    }
   ],
   "source": [
    "clf2 = xgb.XGBClassifier(learning_rate=0.1,\n",
    "                         max_depth=10,\n",
    "                         subsample=0.8,\n",
    "                         reg_lambda = 4,\n",
    "                         reg_alpha = 3,\n",
    "                         nthread = -1,\n",
    "                         n_estimators=1000, early_stopping_rounds=50)\n",
    "\n",
    "clf2.fit(X_train_tfidf_1, y_train,\n",
    "       eval_set=[(X_train_tfidf_1, y_train), (X_test_tfidf_1, y_test)],\n",
    "       verbose=50)"
   ]
  },
  {
   "cell_type": "code",
   "execution_count": null,
   "id": "77066e53",
   "metadata": {},
   "outputs": [
    {
     "name": "stdout",
     "output_type": "stream",
     "text": [
      "f1 score sobre validacion:  0.8564593301435406\n",
      "f1 score sobre train:  0.9852050441862775\n"
     ]
    }
   ],
   "source": [
    "print(\"f1 score sobre validacion: \", f1_score(y_test, clf2.predict(X_test_tfidf_1)))\n",
    "print(\"f1 score sobre train: \", f1_score(y_train, clf2.predict(X_train_tfidf_1)))"
   ]
  },
  {
   "cell_type": "code",
   "execution_count": null,
   "id": "3eec578f",
   "metadata": {},
   "outputs": [
    {
     "name": "stdout",
     "output_type": "stream",
     "text": [
      "[0]\tvalidation_0-logloss:0.66579\tvalidation_1-logloss:0.66877\n",
      "[50]\tvalidation_0-logloss:0.38087\tvalidation_1-logloss:0.43420\n",
      "[100]\tvalidation_0-logloss:0.32384\tvalidation_1-logloss:0.39058\n",
      "[150]\tvalidation_0-logloss:0.29430\tvalidation_1-logloss:0.36886\n",
      "[200]\tvalidation_0-logloss:0.27395\tvalidation_1-logloss:0.35389\n",
      "[250]\tvalidation_0-logloss:0.25829\tvalidation_1-logloss:0.34417\n",
      "[300]\tvalidation_0-logloss:0.24883\tvalidation_1-logloss:0.33855\n",
      "[350]\tvalidation_0-logloss:0.24543\tvalidation_1-logloss:0.33679\n",
      "[400]\tvalidation_0-logloss:0.24399\tvalidation_1-logloss:0.33587\n",
      "[450]\tvalidation_0-logloss:0.24286\tvalidation_1-logloss:0.33528\n",
      "[500]\tvalidation_0-logloss:0.24198\tvalidation_1-logloss:0.33488\n",
      "[550]\tvalidation_0-logloss:0.24127\tvalidation_1-logloss:0.33457\n",
      "[600]\tvalidation_0-logloss:0.24073\tvalidation_1-logloss:0.33433\n",
      "[650]\tvalidation_0-logloss:0.23972\tvalidation_1-logloss:0.33389\n",
      "[700]\tvalidation_0-logloss:0.23892\tvalidation_1-logloss:0.33333\n",
      "[750]\tvalidation_0-logloss:0.23801\tvalidation_1-logloss:0.33267\n",
      "[799]\tvalidation_0-logloss:0.23771\tvalidation_1-logloss:0.33251\n"
     ]
    },
    {
     "data": {
      "text/html": [
       "<style>#sk-container-id-6 {color: black;background-color: white;}#sk-container-id-6 pre{padding: 0;}#sk-container-id-6 div.sk-toggleable {background-color: white;}#sk-container-id-6 label.sk-toggleable__label {cursor: pointer;display: block;width: 100%;margin-bottom: 0;padding: 0.3em;box-sizing: border-box;text-align: center;}#sk-container-id-6 label.sk-toggleable__label-arrow:before {content: \"▸\";float: left;margin-right: 0.25em;color: #696969;}#sk-container-id-6 label.sk-toggleable__label-arrow:hover:before {color: black;}#sk-container-id-6 div.sk-estimator:hover label.sk-toggleable__label-arrow:before {color: black;}#sk-container-id-6 div.sk-toggleable__content {max-height: 0;max-width: 0;overflow: hidden;text-align: left;background-color: #f0f8ff;}#sk-container-id-6 div.sk-toggleable__content pre {margin: 0.2em;color: black;border-radius: 0.25em;background-color: #f0f8ff;}#sk-container-id-6 input.sk-toggleable__control:checked~div.sk-toggleable__content {max-height: 200px;max-width: 100%;overflow: auto;}#sk-container-id-6 input.sk-toggleable__control:checked~label.sk-toggleable__label-arrow:before {content: \"▾\";}#sk-container-id-6 div.sk-estimator input.sk-toggleable__control:checked~label.sk-toggleable__label {background-color: #d4ebff;}#sk-container-id-6 div.sk-label input.sk-toggleable__control:checked~label.sk-toggleable__label {background-color: #d4ebff;}#sk-container-id-6 input.sk-hidden--visually {border: 0;clip: rect(1px 1px 1px 1px);clip: rect(1px, 1px, 1px, 1px);height: 1px;margin: -1px;overflow: hidden;padding: 0;position: absolute;width: 1px;}#sk-container-id-6 div.sk-estimator {font-family: monospace;background-color: #f0f8ff;border: 1px dotted black;border-radius: 0.25em;box-sizing: border-box;margin-bottom: 0.5em;}#sk-container-id-6 div.sk-estimator:hover {background-color: #d4ebff;}#sk-container-id-6 div.sk-parallel-item::after {content: \"\";width: 100%;border-bottom: 1px solid gray;flex-grow: 1;}#sk-container-id-6 div.sk-label:hover label.sk-toggleable__label {background-color: #d4ebff;}#sk-container-id-6 div.sk-serial::before {content: \"\";position: absolute;border-left: 1px solid gray;box-sizing: border-box;top: 0;bottom: 0;left: 50%;z-index: 0;}#sk-container-id-6 div.sk-serial {display: flex;flex-direction: column;align-items: center;background-color: white;padding-right: 0.2em;padding-left: 0.2em;position: relative;}#sk-container-id-6 div.sk-item {position: relative;z-index: 1;}#sk-container-id-6 div.sk-parallel {display: flex;align-items: stretch;justify-content: center;background-color: white;position: relative;}#sk-container-id-6 div.sk-item::before, #sk-container-id-6 div.sk-parallel-item::before {content: \"\";position: absolute;border-left: 1px solid gray;box-sizing: border-box;top: 0;bottom: 0;left: 50%;z-index: -1;}#sk-container-id-6 div.sk-parallel-item {display: flex;flex-direction: column;z-index: 1;position: relative;background-color: white;}#sk-container-id-6 div.sk-parallel-item:first-child::after {align-self: flex-end;width: 50%;}#sk-container-id-6 div.sk-parallel-item:last-child::after {align-self: flex-start;width: 50%;}#sk-container-id-6 div.sk-parallel-item:only-child::after {width: 0;}#sk-container-id-6 div.sk-dashed-wrapped {border: 1px dashed gray;margin: 0 0.4em 0.5em 0.4em;box-sizing: border-box;padding-bottom: 0.4em;background-color: white;}#sk-container-id-6 div.sk-label label {font-family: monospace;font-weight: bold;display: inline-block;line-height: 1.2em;}#sk-container-id-6 div.sk-label-container {text-align: center;}#sk-container-id-6 div.sk-container {/* jupyter's `normalize.less` sets `[hidden] { display: none; }` but bootstrap.min.css set `[hidden] { display: none !important; }` so we also need the `!important` here to be able to override the default hidden behavior on the sphinx rendered scikit-learn.org. See: https://github.com/scikit-learn/scikit-learn/issues/21755 */display: inline-block !important;position: relative;}#sk-container-id-6 div.sk-text-repr-fallback {display: none;}</style><div id=\"sk-container-id-6\" class=\"sk-top-container\"><div class=\"sk-text-repr-fallback\"><pre>XGBClassifier(base_score=None, booster=None, callbacks=None,\n",
       "              colsample_bylevel=None, colsample_bynode=None,\n",
       "              colsample_bytree=None, early_stopping_rounds=50,\n",
       "              enable_categorical=False, eval_metric=None, feature_types=None,\n",
       "              gamma=7, gpu_id=None, grow_policy=None, importance_type=None,\n",
       "              interaction_constraints=None, learning_rate=0.1, max_bin=None,\n",
       "              max_cat_threshold=None, max_cat_to_onehot=None,\n",
       "              max_delta_step=None, max_depth=14, max_leaves=None,\n",
       "              min_child_weight=None, missing=nan, monotone_constraints=None,\n",
       "              n_estimators=800, n_jobs=None, nthread=-1, num_parallel_tree=None,\n",
       "              predictor=None, ...)</pre><b>In a Jupyter environment, please rerun this cell to show the HTML representation or trust the notebook. <br />On GitHub, the HTML representation is unable to render, please try loading this page with nbviewer.org.</b></div><div class=\"sk-container\" hidden><div class=\"sk-item\"><div class=\"sk-estimator sk-toggleable\"><input class=\"sk-toggleable__control sk-hidden--visually\" id=\"sk-estimator-id-6\" type=\"checkbox\" checked><label for=\"sk-estimator-id-6\" class=\"sk-toggleable__label sk-toggleable__label-arrow\">XGBClassifier</label><div class=\"sk-toggleable__content\"><pre>XGBClassifier(base_score=None, booster=None, callbacks=None,\n",
       "              colsample_bylevel=None, colsample_bynode=None,\n",
       "              colsample_bytree=None, early_stopping_rounds=50,\n",
       "              enable_categorical=False, eval_metric=None, feature_types=None,\n",
       "              gamma=7, gpu_id=None, grow_policy=None, importance_type=None,\n",
       "              interaction_constraints=None, learning_rate=0.1, max_bin=None,\n",
       "              max_cat_threshold=None, max_cat_to_onehot=None,\n",
       "              max_delta_step=None, max_depth=14, max_leaves=None,\n",
       "              min_child_weight=None, missing=nan, monotone_constraints=None,\n",
       "              n_estimators=800, n_jobs=None, nthread=-1, num_parallel_tree=None,\n",
       "              predictor=None, ...)</pre></div></div></div></div></div>"
      ],
      "text/plain": [
       "XGBClassifier(base_score=None, booster=None, callbacks=None,\n",
       "              colsample_bylevel=None, colsample_bynode=None,\n",
       "              colsample_bytree=None, early_stopping_rounds=50,\n",
       "              enable_categorical=False, eval_metric=None, feature_types=None,\n",
       "              gamma=7, gpu_id=None, grow_policy=None, importance_type=None,\n",
       "              interaction_constraints=None, learning_rate=0.1, max_bin=None,\n",
       "              max_cat_threshold=None, max_cat_to_onehot=None,\n",
       "              max_delta_step=None, max_depth=14, max_leaves=None,\n",
       "              min_child_weight=None, missing=nan, monotone_constraints=None,\n",
       "              n_estimators=800, n_jobs=None, nthread=-1, num_parallel_tree=None,\n",
       "              predictor=None, ...)"
      ]
     },
     "execution_count": 42,
     "metadata": {},
     "output_type": "execute_result"
    }
   ],
   "source": [
    "clf3 = xgb.XGBClassifier(learning_rate=0.1,\n",
    "                         max_depth=14,\n",
    "                         subsample=0.9,\n",
    "                         gamma = 7,\n",
    "                         reg_lambda = 4,\n",
    "                         reg_alpha = 3,\n",
    "                         nthread = -1,\n",
    "                         n_estimators=800, early_stopping_rounds=50)\n",
    "\n",
    "clf3.fit(X_train_tfidf_1, y_train,\n",
    "       eval_set=[(X_train_tfidf_1, y_train), (X_test_tfidf_1, y_test)],\n",
    "       verbose=50)"
   ]
  },
  {
   "cell_type": "code",
   "execution_count": null,
   "id": "412b1f83",
   "metadata": {},
   "outputs": [
    {
     "name": "stdout",
     "output_type": "stream",
     "text": [
      "f1 score sobre validacion:  0.852952913008779\n",
      "f1 score sobre train:  0.9214765265720679\n"
     ]
    }
   ],
   "source": [
    "print(\"f1 score sobre validacion: \", f1_score(y_test, clf3.predict(X_test_tfidf_1)))\n",
    "print(\"f1 score sobre train: \", f1_score(y_train, clf3.predict(X_train_tfidf_1)))"
   ]
  },
  {
   "cell_type": "code",
   "execution_count": 53,
   "id": "386986b7",
   "metadata": {
    "tags": []
   },
   "outputs": [
    {
     "data": {
      "text/html": [
       "<style>#sk-container-id-4 {color: black;background-color: white;}#sk-container-id-4 pre{padding: 0;}#sk-container-id-4 div.sk-toggleable {background-color: white;}#sk-container-id-4 label.sk-toggleable__label {cursor: pointer;display: block;width: 100%;margin-bottom: 0;padding: 0.3em;box-sizing: border-box;text-align: center;}#sk-container-id-4 label.sk-toggleable__label-arrow:before {content: \"▸\";float: left;margin-right: 0.25em;color: #696969;}#sk-container-id-4 label.sk-toggleable__label-arrow:hover:before {color: black;}#sk-container-id-4 div.sk-estimator:hover label.sk-toggleable__label-arrow:before {color: black;}#sk-container-id-4 div.sk-toggleable__content {max-height: 0;max-width: 0;overflow: hidden;text-align: left;background-color: #f0f8ff;}#sk-container-id-4 div.sk-toggleable__content pre {margin: 0.2em;color: black;border-radius: 0.25em;background-color: #f0f8ff;}#sk-container-id-4 input.sk-toggleable__control:checked~div.sk-toggleable__content {max-height: 200px;max-width: 100%;overflow: auto;}#sk-container-id-4 input.sk-toggleable__control:checked~label.sk-toggleable__label-arrow:before {content: \"▾\";}#sk-container-id-4 div.sk-estimator input.sk-toggleable__control:checked~label.sk-toggleable__label {background-color: #d4ebff;}#sk-container-id-4 div.sk-label input.sk-toggleable__control:checked~label.sk-toggleable__label {background-color: #d4ebff;}#sk-container-id-4 input.sk-hidden--visually {border: 0;clip: rect(1px 1px 1px 1px);clip: rect(1px, 1px, 1px, 1px);height: 1px;margin: -1px;overflow: hidden;padding: 0;position: absolute;width: 1px;}#sk-container-id-4 div.sk-estimator {font-family: monospace;background-color: #f0f8ff;border: 1px dotted black;border-radius: 0.25em;box-sizing: border-box;margin-bottom: 0.5em;}#sk-container-id-4 div.sk-estimator:hover {background-color: #d4ebff;}#sk-container-id-4 div.sk-parallel-item::after {content: \"\";width: 100%;border-bottom: 1px solid gray;flex-grow: 1;}#sk-container-id-4 div.sk-label:hover label.sk-toggleable__label {background-color: #d4ebff;}#sk-container-id-4 div.sk-serial::before {content: \"\";position: absolute;border-left: 1px solid gray;box-sizing: border-box;top: 0;bottom: 0;left: 50%;z-index: 0;}#sk-container-id-4 div.sk-serial {display: flex;flex-direction: column;align-items: center;background-color: white;padding-right: 0.2em;padding-left: 0.2em;position: relative;}#sk-container-id-4 div.sk-item {position: relative;z-index: 1;}#sk-container-id-4 div.sk-parallel {display: flex;align-items: stretch;justify-content: center;background-color: white;position: relative;}#sk-container-id-4 div.sk-item::before, #sk-container-id-4 div.sk-parallel-item::before {content: \"\";position: absolute;border-left: 1px solid gray;box-sizing: border-box;top: 0;bottom: 0;left: 50%;z-index: -1;}#sk-container-id-4 div.sk-parallel-item {display: flex;flex-direction: column;z-index: 1;position: relative;background-color: white;}#sk-container-id-4 div.sk-parallel-item:first-child::after {align-self: flex-end;width: 50%;}#sk-container-id-4 div.sk-parallel-item:last-child::after {align-self: flex-start;width: 50%;}#sk-container-id-4 div.sk-parallel-item:only-child::after {width: 0;}#sk-container-id-4 div.sk-dashed-wrapped {border: 1px dashed gray;margin: 0 0.4em 0.5em 0.4em;box-sizing: border-box;padding-bottom: 0.4em;background-color: white;}#sk-container-id-4 div.sk-label label {font-family: monospace;font-weight: bold;display: inline-block;line-height: 1.2em;}#sk-container-id-4 div.sk-label-container {text-align: center;}#sk-container-id-4 div.sk-container {/* jupyter's `normalize.less` sets `[hidden] { display: none; }` but bootstrap.min.css set `[hidden] { display: none !important; }` so we also need the `!important` here to be able to override the default hidden behavior on the sphinx rendered scikit-learn.org. See: https://github.com/scikit-learn/scikit-learn/issues/21755 */display: inline-block !important;position: relative;}#sk-container-id-4 div.sk-text-repr-fallback {display: none;}</style><div id=\"sk-container-id-4\" class=\"sk-top-container\"><div class=\"sk-text-repr-fallback\"><pre>XGBClassifier(base_score=None, booster=None, callbacks=None,\n",
       "              colsample_bylevel=None, colsample_bynode=None,\n",
       "              colsample_bytree=None, early_stopping_rounds=None,\n",
       "              enable_categorical=False, eval_metric=None, feature_types=None,\n",
       "              gamma=None, gpu_id=None, grow_policy=None, importance_type=None,\n",
       "              interaction_constraints=None, learning_rate=0.2, max_bin=None,\n",
       "              max_cat_threshold=None, max_cat_to_onehot=None,\n",
       "              max_delta_step=None, max_depth=5, max_leaves=None,\n",
       "              min_child_weight=None, missing=nan, monotone_constraints=None,\n",
       "              n_estimators=500, n_jobs=None, num_parallel_tree=None,\n",
       "              predictor=None, random_state=None, ...)</pre><b>In a Jupyter environment, please rerun this cell to show the HTML representation or trust the notebook. <br />On GitHub, the HTML representation is unable to render, please try loading this page with nbviewer.org.</b></div><div class=\"sk-container\" hidden><div class=\"sk-item\"><div class=\"sk-estimator sk-toggleable\"><input class=\"sk-toggleable__control sk-hidden--visually\" id=\"sk-estimator-id-6\" type=\"checkbox\" checked><label for=\"sk-estimator-id-6\" class=\"sk-toggleable__label sk-toggleable__label-arrow\">XGBClassifier</label><div class=\"sk-toggleable__content\"><pre>XGBClassifier(base_score=None, booster=None, callbacks=None,\n",
       "              colsample_bylevel=None, colsample_bynode=None,\n",
       "              colsample_bytree=None, early_stopping_rounds=None,\n",
       "              enable_categorical=False, eval_metric=None, feature_types=None,\n",
       "              gamma=None, gpu_id=None, grow_policy=None, importance_type=None,\n",
       "              interaction_constraints=None, learning_rate=0.2, max_bin=None,\n",
       "              max_cat_threshold=None, max_cat_to_onehot=None,\n",
       "              max_delta_step=None, max_depth=5, max_leaves=None,\n",
       "              min_child_weight=None, missing=nan, monotone_constraints=None,\n",
       "              n_estimators=500, n_jobs=None, num_parallel_tree=None,\n",
       "              predictor=None, random_state=None, ...)</pre></div></div></div></div></div>"
      ],
      "text/plain": [
       "XGBClassifier(base_score=None, booster=None, callbacks=None,\n",
       "              colsample_bylevel=None, colsample_bynode=None,\n",
       "              colsample_bytree=None, early_stopping_rounds=None,\n",
       "              enable_categorical=False, eval_metric=None, feature_types=None,\n",
       "              gamma=None, gpu_id=None, grow_policy=None, importance_type=None,\n",
       "              interaction_constraints=None, learning_rate=0.2, max_bin=None,\n",
       "              max_cat_threshold=None, max_cat_to_onehot=None,\n",
       "              max_delta_step=None, max_depth=5, max_leaves=None,\n",
       "              min_child_weight=None, missing=nan, monotone_constraints=None,\n",
       "              n_estimators=500, n_jobs=None, num_parallel_tree=None,\n",
       "              predictor=None, random_state=None, ...)"
      ]
     },
     "execution_count": 53,
     "metadata": {},
     "output_type": "execute_result"
    }
   ],
   "source": [
    "param_grid = {\n",
    "'learning_rate': [0.01, 0.1, 0.2],\n",
    "'max_depth': [3, 5, 7, 10],\n",
    "'subsample': [0.6, 0.7, 0.8, 0.9, 1.0],\n",
    "'reg_lambda': [0.1, 1, 10],\n",
    "'reg_alpha': [0.1, 1, 10],\n",
    "'n_estimators': [100, 500, 1000]\n",
    "}\n",
    "\n",
    "xgb_clf = xgb.XGBClassifier()\n",
    "\n",
    "grid = RandomizedSearchCV(xgb_clf, param_distributions=param_grid, cv=3, n_iter=10, scoring=make_scorer(f1_score), n_jobs = -1)\n",
    "grid.fit(X_train_tfidf_1, y_train)"
   ]
  },
  {
   "cell_type": "code",
   "execution_count": null,
   "id": "41ba3552",
   "metadata": {},
   "outputs": [
    {
     "data": {
      "text/plain": [
       "{'subsample': 0.8,\n",
       " 'reg_lambda': 0.1,\n",
       " 'reg_alpha': 1,\n",
       " 'n_estimators': 500,\n",
       " 'max_depth': 5,\n",
       " 'learning_rate': 0.2}"
      ]
     },
     "execution_count": 49,
     "metadata": {},
     "output_type": "execute_result"
    }
   ],
   "source": [
    "grid.best_params_"
   ]
  },
  {
   "cell_type": "code",
   "execution_count": 55,
   "id": "6a7bb7a4",
   "metadata": {
    "tags": []
   },
   "outputs": [
    {
     "name": "stdout",
     "output_type": "stream",
     "text": [
      "F1 Score: 0.8518310231896523\n",
      "Precision: 0.8390355164548713\n",
      "Recall: 0.8650228433216878\n",
      "Accuracy: 0.8507\n"
     ]
    }
   ],
   "source": [
    "y_pred = grid.predict(X_test_tfidf_1)\n",
    "\n",
    "accuracy = accuracy_score(y_test, y_pred)\n",
    "precision = precision_score(y_test, y_pred)\n",
    "recall = recall_score(y_test, y_pred)\n",
    "f1 = f1_score(y_test, y_pred)\n",
    "\n",
    "print(\"F1 Score:\", f1)\n",
    "print(\"Precision:\", precision)\n",
    "print(\"Recall:\", recall)\n",
    "print(\"Accuracy:\", accuracy)"
   ]
  },
  {
   "cell_type": "code",
   "execution_count": null,
   "id": "82fa2a27",
   "metadata": {},
   "outputs": [
    {
     "data": {
      "text/plain": [
       "Text(0.5, 1.0, 'Confusion matrix de training set')"
      ]
     },
     "execution_count": 52,
     "metadata": {},
     "output_type": "execute_result"
    },
    {
     "data": {
      "image/png": "[encoded data removed]",
      "text/plain": [
       "<Figure size 640x480 with 2 Axes>"
      ]
     },
     "metadata": {},
     "output_type": "display_data"
    }
   ],
   "source": [
    "y_pred = grid.predict(X_train_tfidf_1)\n",
    "confusion = confusion_matrix(y_train, y_pred)\n",
    "sns.heatmap(confusion, annot=True, fmt='.0f')\n",
    "plt.ylabel('true')\n",
    "plt.xlabel('predicted')\n",
    "plt.title(\"Confusion matrix de training set\")"
   ]
  },
  {
   "cell_type": "code",
   "execution_count": null,
   "id": "7cafff8f",
   "metadata": {
    "tags": []
   },
   "outputs": [],
   "source": [
    "df_test = pd.read_csv(\"dataset/test.csv\")\n",
    "assert(len(df_test)==8599)\n",
    "\n",
    "X = df_test['review_es']    \n",
    "X_counts = vectorizador.transform(X)\n",
    "X_tfidf = escaladorTfidf.transform(X_counts)\n",
    "    \n",
    "prediccion = np.where(grid.predict(X_tfidf) >= 0.5, 'positivo', 'negativo')\n",
    "assert(len(prediccion)==8599)\n",
    "\n",
    "submit = pd.DataFrame(\n",
    "    {\"sentimiento\": prediccion},\n",
    "    index=df_test[\"ID\"],\n",
    ")\n",
    "assert(len(submit)==8599)\n",
    "\n",
    "submit.to_csv(\"dataset/submit.csv\")"
   ]
  },
  {
   "cell_type": "code",
   "execution_count": 57,
   "id": "4edb43db-c4b2-470b-ae65-2ff1d7c92787",
   "metadata": {
    "tags": []
   },
   "outputs": [],
   "source": [
    "with open('modelos/XgBoostCV.pickle', 'wb') as file:\n",
    "    pickle.dump(grid, file)"
   ]
  },
  {
   "cell_type": "markdown",
   "id": "4548350f-e242-49f6-9fde-4fe63b3cbdb6",
   "metadata": {},
   "source": [
    "### Red neuronal con Keras y TensorFlow"
   ]
  },
  {
   "cell_type": "code",
   "execution_count": 49,
   "id": "ff642e41-0622-45b8-8033-c373d017011b",
   "metadata": {
    "tags": []
   },
   "outputs": [],
   "source": [
    "from keras.models import Sequential\n",
    "from keras.layers import LSTM, Embedding, Dropout, Dense\n",
    "from keras.callbacks import EarlyStopping\n",
    "from keras.utils import pad_sequences"
   ]
  },
  {
   "cell_type": "code",
   "execution_count": 50,
   "id": "0b4e540c-9ee3-40e3-be68-8e56db1266a0",
   "metadata": {
    "tags": []
   },
   "outputs": [],
   "source": [
    "tokenizer = Tokenizer()\n",
    "tokenizer.fit_on_texts(X_train)"
   ]
  },
  {
   "cell_type": "code",
   "execution_count": 51,
   "id": "ba7402bb-aaee-46a9-8817-57fbd05535da",
   "metadata": {
    "tags": []
   },
   "outputs": [],
   "source": [
    "max_words = 50\n",
    "\n",
    "X_train_sequences = tokenizer.texts_to_sequences(X_train)\n",
    "X_test_sequences = tokenizer.texts_to_sequences(X_test)\n",
    "X_train_padded = pad_sequences(X_train_sequences, maxlen=max_words)\n",
    "X_test_padded = pad_sequences(X_test_sequences, maxlen=max_words)"
   ]
  },
  {
   "cell_type": "code",
   "execution_count": 55,
   "id": "688d8678-284e-4caf-a14d-da9e4aee51e5",
   "metadata": {
    "tags": []
   },
   "outputs": [],
   "source": [
    "model = Sequential()\n",
    "\n",
    "model.add(Embedding(len(tokenizer.word_index) + 1, 64, input_length=max_words,trainable=True))\n",
    "model.add(LSTM(units = 60, activation=\"relu\", kernel_regularizer=\"l2\", return_sequences = False,recurrent_dropout=0.2))\n",
    "model.add(Dense(20, activation=\"relu\", kernel_regularizer = \"l2\"))\n",
    "model.add(Dense(1, activation='sigmoid'))"
   ]
  },
  {
   "cell_type": "code",
   "execution_count": 56,
   "id": "816c9c2a-affa-4d49-9172-fd4f5a4240bc",
   "metadata": {
    "tags": []
   },
   "outputs": [
    {
     "name": "stdout",
     "output_type": "stream",
     "text": [
      "Model: \"sequential_9\"\n",
      "_________________________________________________________________\n",
      " Layer (type)                Output Shape              Param #   \n",
      "=================================================================\n",
      " embedding_9 (Embedding)     (None, 50, 64)            8459968   \n",
      "                                                                 \n",
      " lstm_9 (LSTM)               (None, 60)                30000     \n",
      "                                                                 \n",
      " dense_18 (Dense)            (None, 20)                1220      \n",
      "                                                                 \n",
      " dense_19 (Dense)            (None, 1)                 21        \n",
      "                                                                 \n",
      "=================================================================\n",
      "Total params: 8,491,209\n",
      "Trainable params: 8,491,209\n",
      "Non-trainable params: 0\n",
      "_________________________________________________________________\n",
      "None\n"
     ]
    }
   ],
   "source": [
    "model.compile(optimizer='adam', loss='binary_crossentropy',metrics=['accuracy'])\n",
    "print(model.summary())"
   ]
  },
  {
   "cell_type": "code",
   "execution_count": 57,
   "id": "f63428ba-6499-4d9a-b7a0-18224068aa29",
   "metadata": {
    "tags": []
   },
   "outputs": [
    {
     "name": "stdout",
     "output_type": "stream",
     "text": [
      "Epoch 1/15\n",
      "1205/1205 [==============================] - 231s 190ms/step - loss: 0.7237 - accuracy: 0.6799\n",
      "Epoch 2/15\n",
      "1205/1205 [==============================] - 228s 189ms/step - loss: 0.9313 - accuracy: 0.7651\n",
      "Epoch 3/15\n",
      "1205/1205 [==============================] - 249s 206ms/step - loss: 0.4425 - accuracy: 0.8693\n",
      "Epoch 4/15\n",
      "1205/1205 [==============================] - 241s 200ms/step - loss: 0.2556 - accuracy: 0.9270\n",
      "Epoch 5/15\n",
      "1205/1205 [==============================] - 237s 197ms/step - loss: 0.1712 - accuracy: 0.9569\n",
      "Epoch 6/15\n",
      "1205/1205 [==============================] - 237s 197ms/step - loss: 0.1166 - accuracy: 0.9748\n",
      "Epoch 7/15\n",
      "1205/1205 [==============================] - 246s 204ms/step - loss: 0.0815 - accuracy: 0.9844\n",
      "Epoch 8/15\n",
      "1205/1205 [==============================] - 238s 198ms/step - loss: 0.0641 - accuracy: 0.9890\n",
      "Epoch 9/15\n",
      "1205/1205 [==============================] - 227s 189ms/step - loss: 0.0477 - accuracy: 0.9924\n",
      "Epoch 10/15\n",
      "1205/1205 [==============================] - 226s 188ms/step - loss: 0.0390 - accuracy: 0.9937\n",
      "Epoch 11/15\n",
      "1205/1205 [==============================] - 244s 202ms/step - loss: 0.0326 - accuracy: 0.9957\n",
      "Epoch 12/15\n",
      "1205/1205 [==============================] - 227s 188ms/step - loss: 0.0296 - accuracy: 0.9956\n",
      "Epoch 13/15\n",
      "1205/1205 [==============================] - 226s 187ms/step - loss: 0.0259 - accuracy: 0.9965\n",
      "Epoch 14/15\n",
      "1205/1205 [==============================] - 228s 189ms/step - loss: 0.0213 - accuracy: 0.9975\n",
      "Epoch 15/15\n",
      "1205/1205 [==============================] - 228s 189ms/step - loss: 0.0187 - accuracy: 0.9978\n"
     ]
    },
    {
     "data": {
      "text/plain": [
       "<keras.callbacks.History at 0x7f81d1802c70>"
      ]
     },
     "execution_count": 57,
     "metadata": {},
     "output_type": "execute_result"
    }
   ],
   "source": [
    "model.fit(X_train_padded, y_train, epochs=15, callbacks = EarlyStopping(monitor='loss', patience=3))"
   ]
  },
  {
   "cell_type": "code",
   "execution_count": 58,
   "id": "2c3dcf84-f477-483d-9af7-b56d6f050821",
   "metadata": {
    "tags": []
   },
   "outputs": [
    {
     "name": "stdout",
     "output_type": "stream",
     "text": [
      "302/302 [==============================] - 2s 5ms/step\n"
     ]
    }
   ],
   "source": [
    "y_pred = np.where(model.predict(X_test_padded) >= 0.5, 1, 0)"
   ]
  },
  {
   "cell_type": "code",
   "execution_count": 59,
   "id": "db89db3b-7946-450e-9a2e-86270d08d801",
   "metadata": {
    "tags": []
   },
   "outputs": [
    {
     "data": {
      "text/plain": [
       "Text(0.5, 1.0, 'Confusion matrix de validación')"
      ]
     },
     "execution_count": 59,
     "metadata": {},
     "output_type": "execute_result"
    },
    {
     "data": {
      "image/png": "[encoded data removed]",
      "text/plain": [
       "<Figure size 640x480 with 2 Axes>"
      ]
     },
     "metadata": {},
     "output_type": "display_data"
    }
   ],
   "source": [
    "confusion = confusion_matrix(y_test, y_pred)\n",
    "sns.heatmap(confusion, annot=True, fmt='.0f')\n",
    "plt.ylabel('true')\n",
    "plt.xlabel('predicted')\n",
    "plt.title(\"Confusion matrix de validación\")"
   ]
  },
  {
   "cell_type": "code",
   "execution_count": 60,
   "id": "6fbf9d76-e4eb-44a4-bd26-9eff154439ed",
   "metadata": {
    "tags": []
   },
   "outputs": [
    {
     "name": "stdout",
     "output_type": "stream",
     "text": [
      "Accuracy: 0.8018055411435094\n",
      "Precision: 0.8011973575557391\n",
      "Recall: 0.8038525269262634\n",
      "F1-score: 0.802522746071133\n"
     ]
    }
   ],
   "source": [
    "print(\"Accuracy:\", accuracy_score(y_test, y_pred))\n",
    "print(\"Precision:\", precision_score(y_test, y_pred))\n",
    "print(\"Recall:\", recall_score(y_test, y_pred))\n",
    "print(\"F1-score:\", f1_score(y_test, y_pred))"
   ]
  },
  {
   "cell_type": "code",
   "execution_count": 62,
   "id": "e22fbe7a-f385-4904-8fd5-20a7b5d240ab",
   "metadata": {
    "tags": []
   },
   "outputs": [],
   "source": [
    "with open('modelos/NN.pickle', 'wb') as file:\n",
    "    pickle.dump(model, file)"
   ]
  },
  {
   "cell_type": "code",
   "execution_count": 61,
   "id": "b9eb9cbd-01f9-4fb3-8b08-690295f59d4b",
   "metadata": {
    "tags": []
   },
   "outputs": [
    {
     "name": "stdout",
     "output_type": "stream",
     "text": [
      "269/269 [==============================] - 1s 5ms/step\n"
     ]
    }
   ],
   "source": [
    "df_test = pd.read_csv(\"dataset/test.csv\")\n",
    "assert(len(df_test)==8599)\n",
    "\n",
    "X = df_test.review_es\n",
    "X_sequences = tokenizer.texts_to_sequences(X)\n",
    "X_padded = pad_sequences(X_sequences, maxlen=max_words)\n",
    "    \n",
    "prediccion = np.where(model.predict(X_padded) >= 0.5, 'positivo', 'negativo').reshape(-1)\n",
    "assert(len(prediccion)==8599)\n",
    "\n",
    "submit = pd.DataFrame(\n",
    "    {\"sentimiento\": prediccion},\n",
    "    index=df_test[\"ID\"],\n",
    ")\n",
    "assert(len(submit)==8599)\n",
    "\n",
    "submit.to_csv(\"dataset/submit.csv\")"
   ]
  },
  {
   "cell_type": "markdown",
   "id": "34bfcb60-abcb-4a81-ad78-c196e8bc538d",
   "metadata": {},
   "source": [
    "### Ensamble de modelos"
   ]
  },
  {
   "cell_type": "code",
   "execution_count": 118,
   "id": "b0c14d2a-d017-4be0-a913-753f44ee077e",
   "metadata": {
    "tags": []
   },
   "outputs": [],
   "source": [
    "from sklearn.ensemble import VotingClassifier"
   ]
  },
  {
   "cell_type": "code",
   "execution_count": 129,
   "id": "6562de0a-df77-4ae6-8718-5a50e0ecf9d9",
   "metadata": {
    "tags": []
   },
   "outputs": [],
   "source": [
    "bn = pickle.load(open('modelos/BayesNaiveCV.pickle', 'rb'))\n",
    "rf = pickle.load(open('modelos/RandomForestCV.pickle', 'rb'))\n",
    "xgb = pickle.load(open('modelos/XgBoostCV.pickle', 'rb'))"
   ]
  },
  {
   "cell_type": "code",
   "execution_count": 132,
   "id": "cd33e353-b59e-49b9-96de-8ef0f1678d17",
   "metadata": {
    "tags": []
   },
   "outputs": [],
   "source": [
    "voting = VotingClassifier(estimators=[ ('rf', rf),('xgb', xgb),('bn', bn)], voting='hard')"
   ]
  },
  {
   "cell_type": "code",
   "execution_count": 125,
   "id": "3e362575-5297-4b86-a6b4-2c80e87ede64",
   "metadata": {
    "tags": []
   },
   "outputs": [],
   "source": [
    "X = df.review_es\n",
    "y = df.sentimiento_es_positivo\n",
    "X_train, X_test, y_train, y_test = train_test_split(X, y, test_size=0.6, random_state=19)\n",
    "vectorizador = CountVectorizer()\n",
    "escaladorTfidf = TfidfTransformer()\n",
    "X_train_counts_3 = vectorizador.fit_transform(X_train)\n",
    "X_train_tfidf_3 = escaladorTfidf.fit_transform(X_train_counts_3)\n",
    "X_test_counts_3 = vectorizador.transform(X_test)\n",
    "X_test_tfidf_3 = escaladorTfidf.transform(X_test_counts_3)"
   ]
  },
  {
   "cell_type": "code",
   "execution_count": 133,
   "id": "e2c6981c-09df-4ee5-bbe2-16ff5dc3755c",
   "metadata": {
    "tags": []
   },
   "outputs": [
    {
     "data": {
      "text/html": [
       "<style>#sk-container-id-18 {color: black;background-color: white;}#sk-container-id-18 pre{padding: 0;}#sk-container-id-18 div.sk-toggleable {background-color: white;}#sk-container-id-18 label.sk-toggleable__label {cursor: pointer;display: block;width: 100%;margin-bottom: 0;padding: 0.3em;box-sizing: border-box;text-align: center;}#sk-container-id-18 label.sk-toggleable__label-arrow:before {content: \"▸\";float: left;margin-right: 0.25em;color: #696969;}#sk-container-id-18 label.sk-toggleable__label-arrow:hover:before {color: black;}#sk-container-id-18 div.sk-estimator:hover label.sk-toggleable__label-arrow:before {color: black;}#sk-container-id-18 div.sk-toggleable__content {max-height: 0;max-width: 0;overflow: hidden;text-align: left;background-color: #f0f8ff;}#sk-container-id-18 div.sk-toggleable__content pre {margin: 0.2em;color: black;border-radius: 0.25em;background-color: #f0f8ff;}#sk-container-id-18 input.sk-toggleable__control:checked~div.sk-toggleable__content {max-height: 200px;max-width: 100%;overflow: auto;}#sk-container-id-18 input.sk-toggleable__control:checked~label.sk-toggleable__label-arrow:before {content: \"▾\";}#sk-container-id-18 div.sk-estimator input.sk-toggleable__control:checked~label.sk-toggleable__label {background-color: #d4ebff;}#sk-container-id-18 div.sk-label input.sk-toggleable__control:checked~label.sk-toggleable__label {background-color: #d4ebff;}#sk-container-id-18 input.sk-hidden--visually {border: 0;clip: rect(1px 1px 1px 1px);clip: rect(1px, 1px, 1px, 1px);height: 1px;margin: -1px;overflow: hidden;padding: 0;position: absolute;width: 1px;}#sk-container-id-18 div.sk-estimator {font-family: monospace;background-color: #f0f8ff;border: 1px dotted black;border-radius: 0.25em;box-sizing: border-box;margin-bottom: 0.5em;}#sk-container-id-18 div.sk-estimator:hover {background-color: #d4ebff;}#sk-container-id-18 div.sk-parallel-item::after {content: \"\";width: 100%;border-bottom: 1px solid gray;flex-grow: 1;}#sk-container-id-18 div.sk-label:hover label.sk-toggleable__label {background-color: #d4ebff;}#sk-container-id-18 div.sk-serial::before {content: \"\";position: absolute;border-left: 1px solid gray;box-sizing: border-box;top: 0;bottom: 0;left: 50%;z-index: 0;}#sk-container-id-18 div.sk-serial {display: flex;flex-direction: column;align-items: center;background-color: white;padding-right: 0.2em;padding-left: 0.2em;position: relative;}#sk-container-id-18 div.sk-item {position: relative;z-index: 1;}#sk-container-id-18 div.sk-parallel {display: flex;align-items: stretch;justify-content: center;background-color: white;position: relative;}#sk-container-id-18 div.sk-item::before, #sk-container-id-18 div.sk-parallel-item::before {content: \"\";position: absolute;border-left: 1px solid gray;box-sizing: border-box;top: 0;bottom: 0;left: 50%;z-index: -1;}#sk-container-id-18 div.sk-parallel-item {display: flex;flex-direction: column;z-index: 1;position: relative;background-color: white;}#sk-container-id-18 div.sk-parallel-item:first-child::after {align-self: flex-end;width: 50%;}#sk-container-id-18 div.sk-parallel-item:last-child::after {align-self: flex-start;width: 50%;}#sk-container-id-18 div.sk-parallel-item:only-child::after {width: 0;}#sk-container-id-18 div.sk-dashed-wrapped {border: 1px dashed gray;margin: 0 0.4em 0.5em 0.4em;box-sizing: border-box;padding-bottom: 0.4em;background-color: white;}#sk-container-id-18 div.sk-label label {font-family: monospace;font-weight: bold;display: inline-block;line-height: 1.2em;}#sk-container-id-18 div.sk-label-container {text-align: center;}#sk-container-id-18 div.sk-container {/* jupyter's `normalize.less` sets `[hidden] { display: none; }` but bootstrap.min.css set `[hidden] { display: none !important; }` so we also need the `!important` here to be able to override the default hidden behavior on the sphinx rendered scikit-learn.org. See: https://github.com/scikit-learn/scikit-learn/issues/21755 */display: inline-block !important;position: relative;}#sk-container-id-18 div.sk-text-repr-fallback {display: none;}</style><div id=\"sk-container-id-18\" class=\"sk-top-container\"><div class=\"sk-text-repr-fallback\"><pre>VotingClassifier(estimators=[(&#x27;rf&#x27;,\n",
       "                              RandomForestClassifier(criterion=&#x27;entropy&#x27;,\n",
       "                                                     min_samples_leaf=10,\n",
       "                                                     n_estimators=300)),\n",
       "                             (&#x27;xgb&#x27;,\n",
       "                              XGBClassifier(base_score=None, booster=None,\n",
       "                                            callbacks=None,\n",
       "                                            colsample_bylevel=None,\n",
       "                                            colsample_bynode=None,\n",
       "                                            colsample_bytree=None,\n",
       "                                            early_stopping_rounds=None,\n",
       "                                            enable_categorical=False,\n",
       "                                            eval_metric=None,\n",
       "                                            feature_types=None, gamma=None,\n",
       "                                            gp...\n",
       "       0.47948718, 0.4974359 , 0.51538462, 0.53333333, 0.55128205,\n",
       "       0.56923077, 0.58717949, 0.60512821, 0.62307692, 0.64102564,\n",
       "       0.65897436, 0.67692308, 0.69487179, 0.71282051, 0.73076923,\n",
       "       0.74871795, 0.76666667, 0.78461538, 0.8025641 , 0.82051282,\n",
       "       0.83846154, 0.85641026, 0.87435897, 0.89230769, 0.91025641,\n",
       "       0.92820513, 0.94615385, 0.96410256, 0.98205128, 1.        ])},\n",
       "                                           scoring=make_scorer(f1_score)))])</pre><b>In a Jupyter environment, please rerun this cell to show the HTML representation or trust the notebook. <br />On GitHub, the HTML representation is unable to render, please try loading this page with nbviewer.org.</b></div><div class=\"sk-container\" hidden><div class=\"sk-item sk-dashed-wrapped\"><div class=\"sk-label-container\"><div class=\"sk-label sk-toggleable\"><input class=\"sk-toggleable__control sk-hidden--visually\" id=\"sk-estimator-id-67\" type=\"checkbox\" ><label for=\"sk-estimator-id-67\" class=\"sk-toggleable__label sk-toggleable__label-arrow\">VotingClassifier</label><div class=\"sk-toggleable__content\"><pre>VotingClassifier(estimators=[(&#x27;rf&#x27;,\n",
       "                              RandomForestClassifier(criterion=&#x27;entropy&#x27;,\n",
       "                                                     min_samples_leaf=10,\n",
       "                                                     n_estimators=300)),\n",
       "                             (&#x27;xgb&#x27;,\n",
       "                              XGBClassifier(base_score=None, booster=None,\n",
       "                                            callbacks=None,\n",
       "                                            colsample_bylevel=None,\n",
       "                                            colsample_bynode=None,\n",
       "                                            colsample_bytree=None,\n",
       "                                            early_stopping_rounds=None,\n",
       "                                            enable_categorical=False,\n",
       "                                            eval_metric=None,\n",
       "                                            feature_types=None, gamma=None,\n",
       "                                            gp...\n",
       "       0.47948718, 0.4974359 , 0.51538462, 0.53333333, 0.55128205,\n",
       "       0.56923077, 0.58717949, 0.60512821, 0.62307692, 0.64102564,\n",
       "       0.65897436, 0.67692308, 0.69487179, 0.71282051, 0.73076923,\n",
       "       0.74871795, 0.76666667, 0.78461538, 0.8025641 , 0.82051282,\n",
       "       0.83846154, 0.85641026, 0.87435897, 0.89230769, 0.91025641,\n",
       "       0.92820513, 0.94615385, 0.96410256, 0.98205128, 1.        ])},\n",
       "                                           scoring=make_scorer(f1_score)))])</pre></div></div></div><div class=\"sk-parallel\"><div class=\"sk-parallel-item\"><div class=\"sk-item\"><div class=\"sk-label-container\"><div class=\"sk-label sk-toggleable\"><label>rf</label></div></div><div class=\"sk-serial\"><div class=\"sk-item\"><div class=\"sk-estimator sk-toggleable\"><input class=\"sk-toggleable__control sk-hidden--visually\" id=\"sk-estimator-id-68\" type=\"checkbox\" ><label for=\"sk-estimator-id-68\" class=\"sk-toggleable__label sk-toggleable__label-arrow\">RandomForestClassifier</label><div class=\"sk-toggleable__content\"><pre>RandomForestClassifier(criterion=&#x27;entropy&#x27;, min_samples_leaf=10,\n",
       "                       n_estimators=300)</pre></div></div></div></div></div></div><div class=\"sk-parallel-item\"><div class=\"sk-item\"><div class=\"sk-label-container\"><div class=\"sk-label sk-toggleable\"><label>xgb</label></div></div><div class=\"sk-serial\"><div class=\"sk-item\"><div class=\"sk-estimator sk-toggleable\"><input class=\"sk-toggleable__control sk-hidden--visually\" id=\"sk-estimator-id-69\" type=\"checkbox\" ><label for=\"sk-estimator-id-69\" class=\"sk-toggleable__label sk-toggleable__label-arrow\">XGBClassifier</label><div class=\"sk-toggleable__content\"><pre>XGBClassifier(base_score=None, booster=None, callbacks=None,\n",
       "              colsample_bylevel=None, colsample_bynode=None,\n",
       "              colsample_bytree=None, early_stopping_rounds=None,\n",
       "              enable_categorical=False, eval_metric=None, feature_types=None,\n",
       "              gamma=None, gpu_id=None, grow_policy=None, importance_type=None,\n",
       "              interaction_constraints=None, learning_rate=0.2, max_bin=None,\n",
       "              max_cat_threshold=None, max_cat_to_onehot=None,\n",
       "              max_delta_step=None, max_depth=5, max_leaves=None,\n",
       "              min_child_weight=None, missing=nan, monotone_constraints=None,\n",
       "              n_estimators=500, n_jobs=None, num_parallel_tree=None,\n",
       "              predictor=None, random_state=None, ...)</pre></div></div></div></div></div></div><div class=\"sk-parallel-item\"><div class=\"sk-item\"><div class=\"sk-label-container\"><div class=\"sk-label sk-toggleable\"><label>bn</label></div></div><div class=\"sk-serial\"><div class=\"sk-item sk-dashed-wrapped\"><div class=\"sk-parallel\"><div class=\"sk-parallel-item\"><div class=\"sk-item\"><div class=\"sk-label-container\"><div class=\"sk-label sk-toggleable\"><input class=\"sk-toggleable__control sk-hidden--visually\" id=\"sk-estimator-id-70\" type=\"checkbox\" ><label for=\"sk-estimator-id-70\" class=\"sk-toggleable__label sk-toggleable__label-arrow\">estimator: MultinomialNB</label><div class=\"sk-toggleable__content\"><pre>MultinomialNB(fit_prior=False)</pre></div></div></div><div class=\"sk-serial\"><div class=\"sk-item\"><div class=\"sk-estimator sk-toggleable\"><input class=\"sk-toggleable__control sk-hidden--visually\" id=\"sk-estimator-id-71\" type=\"checkbox\" ><label for=\"sk-estimator-id-71\" class=\"sk-toggleable__label sk-toggleable__label-arrow\">MultinomialNB</label><div class=\"sk-toggleable__content\"><pre>MultinomialNB(fit_prior=False)</pre></div></div></div></div></div></div></div></div></div></div></div></div></div></div></div>"
      ],
      "text/plain": [
       "VotingClassifier(estimators=[('rf',\n",
       "                              RandomForestClassifier(criterion='entropy',\n",
       "                                                     min_samples_leaf=10,\n",
       "                                                     n_estimators=300)),\n",
       "                             ('xgb',\n",
       "                              XGBClassifier(base_score=None, booster=None,\n",
       "                                            callbacks=None,\n",
       "                                            colsample_bylevel=None,\n",
       "                                            colsample_bynode=None,\n",
       "                                            colsample_bytree=None,\n",
       "                                            early_stopping_rounds=None,\n",
       "                                            enable_categorical=False,\n",
       "                                            eval_metric=None,\n",
       "                                            feature_types=None, gamma=None,\n",
       "                                            gp...\n",
       "       0.47948718, 0.4974359 , 0.51538462, 0.53333333, 0.55128205,\n",
       "       0.56923077, 0.58717949, 0.60512821, 0.62307692, 0.64102564,\n",
       "       0.65897436, 0.67692308, 0.69487179, 0.71282051, 0.73076923,\n",
       "       0.74871795, 0.76666667, 0.78461538, 0.8025641 , 0.82051282,\n",
       "       0.83846154, 0.85641026, 0.87435897, 0.89230769, 0.91025641,\n",
       "       0.92820513, 0.94615385, 0.96410256, 0.98205128, 1.        ])},\n",
       "                                           scoring=make_scorer(f1_score)))])"
      ]
     },
     "execution_count": 133,
     "metadata": {},
     "output_type": "execute_result"
    }
   ],
   "source": [
    "voting.fit(X_train_tfidf_3, y_train)"
   ]
  },
  {
   "cell_type": "code",
   "execution_count": 134,
   "id": "43b9d678-7b44-4fcb-8223-c78767a8097a",
   "metadata": {
    "tags": []
   },
   "outputs": [
    {
     "name": "stdout",
     "output_type": "stream",
     "text": [
      "f1 score sobre validacion con el ensamble de voting:  0.866429089949185\n",
      "f1 score sobre train con el modelo de voting:  0.9566029390082076\n"
     ]
    }
   ],
   "source": [
    "print(\"f1 score sobre validacion con el ensamble de voting: \", f1_score(y_test, voting.predict(X_test_tfidf_3)))\n",
    "print(\"f1 score sobre train con el modelo de voting: \", f1_score(y_train, voting.predict(X_train_tfidf_3 )))"
   ]
  },
  {
   "cell_type": "markdown",
   "id": "bbf4b804-059e-48eb-8b0f-ae88d34569ec",
   "metadata": {},
   "source": [
    "Ploteamos matriz de confusion sobre el conjunto de validacion"
   ]
  },
  {
   "cell_type": "code",
   "execution_count": 135,
   "id": "071ab843-70c4-437f-b199-dafc36d9d855",
   "metadata": {
    "tags": []
   },
   "outputs": [
    {
     "data": {
      "text/plain": [
       "Text(0.5, 1.0, 'Confusion matrix del validation set (voting)')"
      ]
     },
     "execution_count": 135,
     "metadata": {},
     "output_type": "execute_result"
    },
    {
     "data": {
      "image/png": "[encoded data removed]",
      "text/plain": [
       "<Figure size 640x480 with 2 Axes>"
      ]
     },
     "metadata": {},
     "output_type": "display_data"
    }
   ],
   "source": [
    "y_pred = voting.predict(X_test_tfidf_3)\n",
    "confusion = confusion_matrix(y_test, y_pred)\n",
    "sns.heatmap(confusion, annot=True, fmt='.0f')\n",
    "plt.ylabel('true')\n",
    "plt.xlabel('predicted')\n",
    "plt.title(\"Confusion matrix del validation set (voting)\")"
   ]
  },
  {
   "cell_type": "markdown",
   "id": "2402276d-24c7-4363-8ea6-8f1c8682cc5d",
   "metadata": {},
   "source": [
    "Creamos submit para competencia Kaggle"
   ]
  },
  {
   "cell_type": "code",
   "execution_count": 136,
   "id": "876326a4-6ddd-449d-90c6-fb0d87efb99a",
   "metadata": {
    "tags": []
   },
   "outputs": [],
   "source": [
    "df_test = pd.read_csv(\"dataset/test.csv\")\n",
    "assert(len(df_test)==8599)\n",
    "\n",
    "X = df_test['review_es']\n",
    "    \n",
    "X_counts = vectorizador.transform(X)\n",
    "X_tfidf = escaladorTfidf.transform(X_counts)\n",
    "    \n",
    "prediccion = np.where(rf_cv_best.predict(X_tfidf) >= 0.5, 'positivo', 'negativo')\n",
    "\n",
    "assert(len(prediccion)==8599)\n",
    "\n",
    "submit = pd.DataFrame(\n",
    "    {\"sentimiento\": prediccion},\n",
    "    index=df_test[\"ID\"],\n",
    ")\n",
    "assert(len(submit)==8599)\n",
    "\n",
    "submit.to_csv(\"dataset/submit.csv\")"
   ]
  },
  {
   "cell_type": "markdown",
   "id": "73d7e922-40b0-46c7-b323-b37b5ee94d27",
   "metadata": {},
   "source": [
    "Guardamos modelo con pickle"
   ]
  },
  {
   "cell_type": "code",
   "execution_count": 74,
   "id": "5ac13d76-61e1-4f90-82b0-5c17a446af48",
   "metadata": {
    "tags": []
   },
   "outputs": [],
   "source": [
    "with open('modelos/Voting.pickle', 'wb') as file:\n",
    "    pickle.dump(voting, file)"
   ]
  }
 ],
 "metadata": {
  "kernelspec": {
   "display_name": "Python 3 (ipykernel)",
   "language": "python",
   "name": "python3"
  },
  "language_info": {
   "codemirror_mode": {
    "name": "ipython",
    "version": 3
   },
   "file_extension": ".py",
   "mimetype": "text/x-python",
   "name": "python",
   "nbconvert_exporter": "python",
   "pygments_lexer": "ipython3",
   "version": "3.8.10"
  },
  "vscode": {
   "interpreter": {
    "hash": "b530d9c2c2b5bebcf7d6e28a50876d0da6caa0e340fb26c46920b1580d5d916c"
   }
  }
 },
 "nbformat": 4,
 "nbformat_minor": 5
}
