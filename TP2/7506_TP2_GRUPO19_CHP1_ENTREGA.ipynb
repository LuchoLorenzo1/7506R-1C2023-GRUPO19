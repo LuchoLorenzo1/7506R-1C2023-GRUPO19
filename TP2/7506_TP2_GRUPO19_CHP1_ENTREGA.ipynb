{
 "cells": [
  {
   "cell_type": "markdown",
   "id": "3adad8c9-6fbc-4b44-9c18-7cd36fdaf06f",
   "metadata": {},
   "source": [
    "# <center>Organizaci&oacute;n de Datos</center>\n",
    "## <center>Trabajo Práctico 2: Criticas de cine</center>\n",
    "\n",
    "#### Integrantes grupo 19: Sudanalytics \n",
    "* Adrian Leandro Re\n",
    "* Alan Toulouse\n",
    "* Luciano Lorenzo\n",
    "* Nicolas Tonizzo"
   ]
  },
  {
   "cell_type": "markdown",
   "id": "d078fb10-b41a-4422-806a-84782f1b972e",
   "metadata": {},
   "source": [
    "Importamos las librerias y modulos necesarios."
   ]
  },
  {
   "cell_type": "code",
   "execution_count": 2,
   "id": "52dfbb58-ce25-4d25-863b-1ea0a68a120e",
   "metadata": {
    "tags": []
   },
   "outputs": [],
   "source": [
    "import pandas as pd\n",
    "import numpy as np\n",
    "from sklearn.preprocessing import StandardScaler\n",
    "from sklearn.model_selection import train_test_split,RandomizedSearchCV\n",
    "from sklearn.naive_bayes import GaussianNB\n",
    "from sklearn.metrics import make_scorer, f1_score, confusion_matrix, precision_score, recall_score, accuracy_score\n",
    "import matplotlib.pyplot as plt\n",
    "import seaborn as sns\n",
    "import tensorflow as tf\n",
    "from keras.wrappers.scikit_learn import KerasClassifier"
   ]
  },
  {
   "cell_type": "markdown",
   "id": "357f5fb6-ff12-4a05-9c70-17beaf01c584",
   "metadata": {},
   "source": [
    "Cargamos nuestro set de entrenamiento"
   ]
  },
  {
   "cell_type": "code",
   "execution_count": 3,
   "id": "cece0f68-c142-458d-ac6e-4a9d57d1332d",
   "metadata": {
    "tags": []
   },
   "outputs": [
    {
     "data": {
      "text/html": [
       "<div>\n",
       "<style scoped>\n",
       "    .dataframe tbody tr th:only-of-type {\n",
       "        vertical-align: middle;\n",
       "    }\n",
       "\n",
       "    .dataframe tbody tr th {\n",
       "        vertical-align: top;\n",
       "    }\n",
       "\n",
       "    .dataframe thead th {\n",
       "        text-align: right;\n",
       "    }\n",
       "</style>\n",
       "<table border=\"1\" class=\"dataframe\">\n",
       "  <thead>\n",
       "    <tr style=\"text-align: right;\">\n",
       "      <th></th>\n",
       "      <th>ID</th>\n",
       "      <th>review_es</th>\n",
       "      <th>sentimiento</th>\n",
       "    </tr>\n",
       "  </thead>\n",
       "  <tbody>\n",
       "    <tr>\n",
       "      <th>0</th>\n",
       "      <td>0</td>\n",
       "      <td>Uno de los otros críticos ha mencionado que de...</td>\n",
       "      <td>positivo</td>\n",
       "    </tr>\n",
       "    <tr>\n",
       "      <th>1</th>\n",
       "      <td>1</td>\n",
       "      <td>Una pequeña pequeña producción.La técnica de f...</td>\n",
       "      <td>positivo</td>\n",
       "    </tr>\n",
       "    <tr>\n",
       "      <th>2</th>\n",
       "      <td>2</td>\n",
       "      <td>Pensé que esta era una manera maravillosa de p...</td>\n",
       "      <td>positivo</td>\n",
       "    </tr>\n",
       "    <tr>\n",
       "      <th>3</th>\n",
       "      <td>3</td>\n",
       "      <td>Básicamente, hay una familia donde un niño peq...</td>\n",
       "      <td>negativo</td>\n",
       "    </tr>\n",
       "    <tr>\n",
       "      <th>4</th>\n",
       "      <td>4</td>\n",
       "      <td>El \"amor en el tiempo\" de Petter Mattei es una...</td>\n",
       "      <td>positivo</td>\n",
       "    </tr>\n",
       "  </tbody>\n",
       "</table>\n",
       "</div>"
      ],
      "text/plain": [
       "   ID                                          review_es sentimiento\n",
       "0   0  Uno de los otros críticos ha mencionado que de...    positivo\n",
       "1   1  Una pequeña pequeña producción.La técnica de f...    positivo\n",
       "2   2  Pensé que esta era una manera maravillosa de p...    positivo\n",
       "3   3  Básicamente, hay una familia donde un niño peq...    negativo\n",
       "4   4  El \"amor en el tiempo\" de Petter Mattei es una...    positivo"
      ]
     },
     "execution_count": 3,
     "metadata": {},
     "output_type": "execute_result"
    }
   ],
   "source": [
    "df = pd.read_csv(\"dataset/train.csv\")\n",
    "df.head()"
   ]
  },
  {
   "cell_type": "markdown",
   "id": "d9591530-f175-4ada-b17a-705709a5f432",
   "metadata": {},
   "source": [
    "## Feature Engineering"
   ]
  },
  {
   "cell_type": "markdown",
   "id": "a63e76d6-0d4e-457f-9b2c-501cdeae688d",
   "metadata": {},
   "source": [
    "Encodeamos el target para que las review positivas esten representadas por un 1 y las negativas por 0."
   ]
  },
  {
   "cell_type": "code",
   "execution_count": 4,
   "id": "74b99b9f-5bc3-4380-8d84-7fc68748cfdc",
   "metadata": {
    "tags": []
   },
   "outputs": [],
   "source": [
    "df['sentimiento_es_positivo'] = np.where(df.sentimiento == 'positivo', 1, 0)"
   ]
  },
  {
   "cell_type": "markdown",
   "id": "0213be94-fcd4-4178-888d-e1759f139b3f",
   "metadata": {},
   "source": [
    "## Sets de test y train\n",
    "Dividimos el dataframe en datos de test y train. Usaremos estos mismos sets para el entrenamiento de todos los modelos."
   ]
  },
  {
   "cell_type": "code",
   "execution_count": 5,
   "id": "68b64756-1fcb-417e-ab4d-144e6d69beca",
   "metadata": {
    "tags": []
   },
   "outputs": [],
   "source": [
    "X = df.review_es\n",
    "y = df.sentimiento_es_positivo\n",
    "X_train, X_test, y_train, y_test = train_test_split(X, y, test_size=0.2, random_state=19)"
   ]
  },
  {
   "cell_type": "markdown",
   "id": "8df89a4f-c5b2-48ea-8f00-a28d3387eb30",
   "metadata": {},
   "source": [
    "## Ensamblado de modelos"
   ]
  },
  {
   "cell_type": "markdown",
   "id": "e7475dee-4cae-4cd9-b81e-1205d6962b61",
   "metadata": {},
   "source": [
    "### Bayes Naive\n",
    "Primero transformamos nuestros documentos en una matriz en la cual se almacena la cantidad de tokens (\"palabras clave\"). Luego convertimos esa misma matriz en una representación normalizada de término/frecuencia. \n",
    "Esto lo hacemos para reducir el impacto de los tokens que aparecen más veces."
   ]
  },
  {
   "cell_type": "code",
   "execution_count": 6,
   "id": "23ddf491-7fb6-4674-9913-0cb0b4adc914",
   "metadata": {
    "tags": []
   },
   "outputs": [],
   "source": [
    "from sklearn.feature_extraction.text import CountVectorizer, TfidfTransformer\n",
    "from sklearn.naive_bayes import MultinomialNB\n",
    "\n",
    "vectorizador = CountVectorizer()\n",
    "X_train_counts = vectorizador.fit_transform(X_train)\n",
    "\n",
    "escaladorTfidf = TfidfTransformer()\n",
    "X_train_tfidf = escaladorTfidf.fit_transform(X_train_counts)"
   ]
  },
  {
   "cell_type": "markdown",
   "id": "d21e9ef6-2f6e-4767-a083-7d8e100369b6",
   "metadata": {},
   "source": [
    "Ahora que tenemos la información en el formato correcto, creamos nuestro modelo de tipo Bayes Naive. En este caso usamos uno de tipo multinomial."
   ]
  },
  {
   "cell_type": "code",
   "execution_count": 7,
   "id": "a353fbf8-82e2-4af5-9098-e32a82ca6d49",
   "metadata": {
    "tags": []
   },
   "outputs": [
    {
     "data": {
      "text/html": [
       "<style>#sk-container-id-1 {color: black;background-color: white;}#sk-container-id-1 pre{padding: 0;}#sk-container-id-1 div.sk-toggleable {background-color: white;}#sk-container-id-1 label.sk-toggleable__label {cursor: pointer;display: block;width: 100%;margin-bottom: 0;padding: 0.3em;box-sizing: border-box;text-align: center;}#sk-container-id-1 label.sk-toggleable__label-arrow:before {content: \"▸\";float: left;margin-right: 0.25em;color: #696969;}#sk-container-id-1 label.sk-toggleable__label-arrow:hover:before {color: black;}#sk-container-id-1 div.sk-estimator:hover label.sk-toggleable__label-arrow:before {color: black;}#sk-container-id-1 div.sk-toggleable__content {max-height: 0;max-width: 0;overflow: hidden;text-align: left;background-color: #f0f8ff;}#sk-container-id-1 div.sk-toggleable__content pre {margin: 0.2em;color: black;border-radius: 0.25em;background-color: #f0f8ff;}#sk-container-id-1 input.sk-toggleable__control:checked~div.sk-toggleable__content {max-height: 200px;max-width: 100%;overflow: auto;}#sk-container-id-1 input.sk-toggleable__control:checked~label.sk-toggleable__label-arrow:before {content: \"▾\";}#sk-container-id-1 div.sk-estimator input.sk-toggleable__control:checked~label.sk-toggleable__label {background-color: #d4ebff;}#sk-container-id-1 div.sk-label input.sk-toggleable__control:checked~label.sk-toggleable__label {background-color: #d4ebff;}#sk-container-id-1 input.sk-hidden--visually {border: 0;clip: rect(1px 1px 1px 1px);clip: rect(1px, 1px, 1px, 1px);height: 1px;margin: -1px;overflow: hidden;padding: 0;position: absolute;width: 1px;}#sk-container-id-1 div.sk-estimator {font-family: monospace;background-color: #f0f8ff;border: 1px dotted black;border-radius: 0.25em;box-sizing: border-box;margin-bottom: 0.5em;}#sk-container-id-1 div.sk-estimator:hover {background-color: #d4ebff;}#sk-container-id-1 div.sk-parallel-item::after {content: \"\";width: 100%;border-bottom: 1px solid gray;flex-grow: 1;}#sk-container-id-1 div.sk-label:hover label.sk-toggleable__label {background-color: #d4ebff;}#sk-container-id-1 div.sk-serial::before {content: \"\";position: absolute;border-left: 1px solid gray;box-sizing: border-box;top: 0;bottom: 0;left: 50%;z-index: 0;}#sk-container-id-1 div.sk-serial {display: flex;flex-direction: column;align-items: center;background-color: white;padding-right: 0.2em;padding-left: 0.2em;position: relative;}#sk-container-id-1 div.sk-item {position: relative;z-index: 1;}#sk-container-id-1 div.sk-parallel {display: flex;align-items: stretch;justify-content: center;background-color: white;position: relative;}#sk-container-id-1 div.sk-item::before, #sk-container-id-1 div.sk-parallel-item::before {content: \"\";position: absolute;border-left: 1px solid gray;box-sizing: border-box;top: 0;bottom: 0;left: 50%;z-index: -1;}#sk-container-id-1 div.sk-parallel-item {display: flex;flex-direction: column;z-index: 1;position: relative;background-color: white;}#sk-container-id-1 div.sk-parallel-item:first-child::after {align-self: flex-end;width: 50%;}#sk-container-id-1 div.sk-parallel-item:last-child::after {align-self: flex-start;width: 50%;}#sk-container-id-1 div.sk-parallel-item:only-child::after {width: 0;}#sk-container-id-1 div.sk-dashed-wrapped {border: 1px dashed gray;margin: 0 0.4em 0.5em 0.4em;box-sizing: border-box;padding-bottom: 0.4em;background-color: white;}#sk-container-id-1 div.sk-label label {font-family: monospace;font-weight: bold;display: inline-block;line-height: 1.2em;}#sk-container-id-1 div.sk-label-container {text-align: center;}#sk-container-id-1 div.sk-container {/* jupyter's `normalize.less` sets `[hidden] { display: none; }` but bootstrap.min.css set `[hidden] { display: none !important; }` so we also need the `!important` here to be able to override the default hidden behavior on the sphinx rendered scikit-learn.org. See: https://github.com/scikit-learn/scikit-learn/issues/21755 */display: inline-block !important;position: relative;}#sk-container-id-1 div.sk-text-repr-fallback {display: none;}</style><div id=\"sk-container-id-1\" class=\"sk-top-container\"><div class=\"sk-text-repr-fallback\"><pre>MultinomialNB()</pre><b>In a Jupyter environment, please rerun this cell to show the HTML representation or trust the notebook. <br />On GitHub, the HTML representation is unable to render, please try loading this page with nbviewer.org.</b></div><div class=\"sk-container\" hidden><div class=\"sk-item\"><div class=\"sk-estimator sk-toggleable\"><input class=\"sk-toggleable__control sk-hidden--visually\" id=\"sk-estimator-id-1\" type=\"checkbox\" checked><label for=\"sk-estimator-id-1\" class=\"sk-toggleable__label sk-toggleable__label-arrow\">MultinomialNB</label><div class=\"sk-toggleable__content\"><pre>MultinomialNB()</pre></div></div></div></div></div>"
      ],
      "text/plain": [
       "MultinomialNB()"
      ]
     },
     "execution_count": 7,
     "metadata": {},
     "output_type": "execute_result"
    }
   ],
   "source": [
    "clasificadorBayesNaive = MultinomialNB()\n",
    "clasificadorBayesNaive.fit(X_train_tfidf, y_train)"
   ]
  },
  {
   "cell_type": "markdown",
   "id": "ee86bea6-d19d-4c7a-9718-0deb37d67649",
   "metadata": {
    "tags": []
   },
   "source": [
    "Realizamos el mismo procedimiento para transformar los datos de validación y poder realizar nuestras predicciones."
   ]
  },
  {
   "cell_type": "code",
   "execution_count": 8,
   "id": "58b0f204-a797-4209-9e57-26082928411d",
   "metadata": {
    "tags": []
   },
   "outputs": [],
   "source": [
    "X_test_counts = vectorizador.transform(X_test)\n",
    "X_test_tfidf = escaladorTfidf.transform(X_test_counts)\n",
    "y_pred = np.where(clasificadorBayesNaive.predict(X_test_tfidf) >= 0.5, 1, 0)"
   ]
  },
  {
   "cell_type": "markdown",
   "id": "7c256099-641f-4148-a4b8-e1e2835c66fb",
   "metadata": {},
   "source": [
    "Construimos nuestra matriz de confusión y analizamos métricas"
   ]
  },
  {
   "cell_type": "markdown",
   "id": "e8900519-8bce-44a2-975f-a9de9c03afe8",
   "metadata": {},
   "source": [
    "Buscamos ahora los mejores parámetros para nuestro modelo"
   ]
  },
  {
   "cell_type": "code",
   "execution_count": 9,
   "id": "13158c2e-2461-40c0-84c5-6b7801d9e9b7",
   "metadata": {
    "tags": []
   },
   "outputs": [],
   "source": [
    "from sklearn.pipeline import Pipeline\n",
    "\n",
    "text_clf = Pipeline([\n",
    "     ('vect', vectorizador),\n",
    "     ('tfidf', escaladorTfidf),\n",
    "     ('clf', clasificadorBayesNaive),\n",
    "])\n",
    "\n",
    "\n",
    "parameters = {\n",
    "    'vect__ngram_range': [(1, 1), (1, 2), (1, 3), (1, 4)],\n",
    "    'tfidf__use_idf': (True, False),\n",
    "    'clf__alpha': (1e-1,1e-2, 1e-3),\n",
    "}"
   ]
  },
  {
   "cell_type": "code",
   "execution_count": 10,
   "id": "03e6c9d6-a60f-40d0-b655-8b25c24761a0",
   "metadata": {
    "tags": []
   },
   "outputs": [],
   "source": [
    "gs_clf = RandomizedSearchCV(text_clf, parameters, cv=5, n_jobs=-1)"
   ]
  },
  {
   "cell_type": "code",
   "execution_count": null,
   "id": "73b7e5ff-7bc2-48fe-a6d6-31c68dc60e2e",
   "metadata": {
    "tags": []
   },
   "outputs": [],
   "source": [
    "nb_clf = gs_clf.fit(X_train, y_train)"
   ]
  },
  {
   "cell_type": "code",
   "execution_count": null,
   "id": "3990b0f7-548d-4d6e-b058-31692e235057",
   "metadata": {
    "tags": []
   },
   "outputs": [],
   "source": [
    "nb_clf.best_score_"
   ]
  },
  {
   "cell_type": "code",
   "execution_count": null,
   "id": "2bbc22a4-894c-49a8-856b-085038f324da",
   "metadata": {
    "tags": []
   },
   "outputs": [],
   "source": [
    "confusion = confusion_matrix(y_test, y_pred)\n",
    "sns.heatmap(confusion, annot=True, fmt='.0f')\n",
    "plt.ylabel('true')\n",
    "plt.xlabel('predicted')\n",
    "plt.title(\"Confusion matrix de validación\")"
   ]
  },
  {
   "cell_type": "code",
   "execution_count": null,
   "id": "21cb966b-ac09-465f-8e2a-869f818e06fe",
   "metadata": {
    "tags": []
   },
   "outputs": [],
   "source": [
    "print(\"Accuracy:\", accuracy_score(y_test, y_pred))\n",
    "print(\"Precision:\", precision_score(y_test, y_pred))\n",
    "print(\"Recall:\", recall_score(y_test, y_pred))\n",
    "print(\"F1-score:\", f1_score(y_test, y_pred))"
   ]
  },
  {
   "cell_type": "markdown",
   "id": "402dffb2-1591-4c64-a5a1-b800b2212296",
   "metadata": {},
   "source": [
    "Creamos el submit para la competencia de Kaggle."
   ]
  },
  {
   "cell_type": "code",
   "execution_count": null,
   "id": "144021c5-29b0-4367-9fb9-2139922a39d7",
   "metadata": {},
   "outputs": [],
   "source": [
    "df_test = pd.read_csv(\"dataset/test.csv\")\n",
    "assert(len(df_test)==8599)\n",
    "\n",
    "X = df_test['review_es']\n",
    "    \n",
    "X_counts = vectorizador.transform(X)\n",
    "X_tfidf = escaladorTfidf.transform(X_counts)\n",
    "    \n",
    "prediccion = np.where(model.predict(X_tfidf) >= 0.5, 'positivo', 'negativo')\n",
    "\n",
    "assert(len(prediccion)==8599)\n",
    "\n",
    "submit = pd.DataFrame(\n",
    "    {\"sentimiento\": prediccion},\n",
    "    index=df_test[\"ID\"],\n",
    ")\n",
    "assert(len(submit)==8599)\n",
    "\n",
    "submit.to_csv(\"dataset/submit.csv\")"
   ]
  },
  {
   "cell_type": "markdown",
   "id": "d1a57dfb-2710-4d8b-a908-9092d694285f",
   "metadata": {},
   "source": [
    "### Random Forest"
   ]
  },
  {
   "cell_type": "code",
   "execution_count": null,
   "id": "cb7e21e5-1e44-47d9-b75e-f428eed551a3",
   "metadata": {},
   "outputs": [],
   "source": []
  },
  {
   "cell_type": "markdown",
   "id": "adee283a-30f0-46a0-9ab1-a3b47977403d",
   "metadata": {},
   "source": [
    "### XGBoost"
   ]
  },
  {
   "cell_type": "code",
   "execution_count": null,
   "id": "719277ee-6260-4d05-97cb-1a7bf5f5c746",
   "metadata": {},
   "outputs": [],
   "source": []
  },
  {
   "cell_type": "markdown",
   "id": "4548350f-e242-49f6-9fde-4fe63b3cbdb6",
   "metadata": {},
   "source": [
    "### Red neuronal con Keras y TensorFlow"
   ]
  },
  {
   "cell_type": "code",
   "execution_count": null,
   "id": "ff642e41-0622-45b8-8033-c373d017011b",
   "metadata": {},
   "outputs": [],
   "source": []
  },
  {
   "cell_type": "markdown",
   "id": "34bfcb60-abcb-4a81-ad78-c196e8bc538d",
   "metadata": {},
   "source": [
    "### Ensamble de modelos"
   ]
  },
  {
   "cell_type": "code",
   "execution_count": null,
   "id": "b0c14d2a-d017-4be0-a913-753f44ee077e",
   "metadata": {},
   "outputs": [],
   "source": []
  },
  {
   "cell_type": "code",
   "execution_count": null,
   "id": "6562de0a-df77-4ae6-8718-5a50e0ecf9d9",
   "metadata": {},
   "outputs": [],
   "source": []
  }
 ],
 "metadata": {
  "kernelspec": {
   "display_name": "Python 3 (ipykernel)",
   "language": "python",
   "name": "python3"
  },
  "language_info": {
   "codemirror_mode": {
    "name": "ipython",
    "version": 3
   },
   "file_extension": ".py",
   "mimetype": "text/x-python",
   "name": "python",
   "nbconvert_exporter": "python",
   "pygments_lexer": "ipython3",
   "version": "3.8.10"
  }
 },
 "nbformat": 4,
 "nbformat_minor": 5
}
