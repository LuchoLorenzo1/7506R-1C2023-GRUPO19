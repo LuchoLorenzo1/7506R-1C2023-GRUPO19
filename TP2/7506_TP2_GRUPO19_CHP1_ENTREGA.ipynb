{
 "cells": [
  {
   "cell_type": "markdown",
   "id": "3adad8c9-6fbc-4b44-9c18-7cd36fdaf06f",
   "metadata": {},
   "source": [
    "# <center>Organizaci&oacute;n de Datos</center>\n",
    "## <center>Trabajo Práctico 2: Criticas de cine</center>\n",
    "\n",
    "#### Integrantes grupo 19: Sudanalytics \n",
    "* Adrian Leandro Re\n",
    "* Alan Toulouse\n",
    "* Luciano Lorenzo\n",
    "* Nicolas Tonizzo"
   ]
  },
  {
   "cell_type": "markdown",
   "id": "d078fb10-b41a-4422-806a-84782f1b972e",
   "metadata": {},
   "source": [
    "Importamos las librerias y modulos necesarios."
   ]
  },
  {
   "cell_type": "code",
   "execution_count": 1,
   "id": "52dfbb58-ce25-4d25-863b-1ea0a68a120e",
   "metadata": {
    "tags": []
   },
   "outputs": [],
   "source": [
    "import pandas as pd\n",
    "import numpy as np\n",
    "import seaborn as sns\n",
    "import matplotlib.pyplot as plt\n",
    "\n",
    "from sklearn.metrics import make_scorer, f1_score, confusion_matrix, precision_score, recall_score, accuracy_score"
   ]
  },
  {
   "cell_type": "markdown",
   "id": "357f5fb6-ff12-4a05-9c70-17beaf01c584",
   "metadata": {},
   "source": [
    "Cargamos nuestro set de entrenamiento"
   ]
  },
  {
   "cell_type": "code",
   "execution_count": 2,
   "id": "cece0f68-c142-458d-ac6e-4a9d57d1332d",
   "metadata": {
    "tags": []
   },
   "outputs": [
    {
     "data": {
      "text/html": [
       "<div>\n",
       "<style scoped>\n",
       "    .dataframe tbody tr th:only-of-type {\n",
       "        vertical-align: middle;\n",
       "    }\n",
       "\n",
       "    .dataframe tbody tr th {\n",
       "        vertical-align: top;\n",
       "    }\n",
       "\n",
       "    .dataframe thead th {\n",
       "        text-align: right;\n",
       "    }\n",
       "</style>\n",
       "<table border=\"1\" class=\"dataframe\">\n",
       "  <thead>\n",
       "    <tr style=\"text-align: right;\">\n",
       "      <th></th>\n",
       "      <th>ID</th>\n",
       "      <th>review_es</th>\n",
       "      <th>sentimiento</th>\n",
       "    </tr>\n",
       "  </thead>\n",
       "  <tbody>\n",
       "    <tr>\n",
       "      <th>0</th>\n",
       "      <td>0</td>\n",
       "      <td>Uno de los otros críticos ha mencionado que de...</td>\n",
       "      <td>positivo</td>\n",
       "    </tr>\n",
       "    <tr>\n",
       "      <th>1</th>\n",
       "      <td>1</td>\n",
       "      <td>Una pequeña pequeña producción.La técnica de f...</td>\n",
       "      <td>positivo</td>\n",
       "    </tr>\n",
       "    <tr>\n",
       "      <th>2</th>\n",
       "      <td>2</td>\n",
       "      <td>Pensé que esta era una manera maravillosa de p...</td>\n",
       "      <td>positivo</td>\n",
       "    </tr>\n",
       "    <tr>\n",
       "      <th>3</th>\n",
       "      <td>3</td>\n",
       "      <td>Básicamente, hay una familia donde un niño peq...</td>\n",
       "      <td>negativo</td>\n",
       "    </tr>\n",
       "    <tr>\n",
       "      <th>4</th>\n",
       "      <td>4</td>\n",
       "      <td>El \"amor en el tiempo\" de Petter Mattei es una...</td>\n",
       "      <td>positivo</td>\n",
       "    </tr>\n",
       "  </tbody>\n",
       "</table>\n",
       "</div>"
      ],
      "text/plain": [
       "   ID                                          review_es sentimiento\n",
       "0   0  Uno de los otros críticos ha mencionado que de...    positivo\n",
       "1   1  Una pequeña pequeña producción.La técnica de f...    positivo\n",
       "2   2  Pensé que esta era una manera maravillosa de p...    positivo\n",
       "3   3  Básicamente, hay una familia donde un niño peq...    negativo\n",
       "4   4  El \"amor en el tiempo\" de Petter Mattei es una...    positivo"
      ]
     },
     "execution_count": 2,
     "metadata": {},
     "output_type": "execute_result"
    }
   ],
   "source": [
    "df = pd.read_csv(\"dataset/train.csv\")\n",
    "df.head()"
   ]
  },
  {
   "cell_type": "markdown",
   "id": "d9591530-f175-4ada-b17a-705709a5f432",
   "metadata": {},
   "source": [
    "## Feature Engineering"
   ]
  },
  {
   "cell_type": "markdown",
   "id": "fe4408cb-500f-49e1-8f27-36f5ca338841",
   "metadata": {},
   "source": [
    "Primero verificamos que no haya ningun valor nulo en nuestro dataframe, ya que no tendria sentido hacer el analisis de sentimientos a partir de una review vacía."
   ]
  },
  {
   "cell_type": "code",
   "execution_count": 3,
   "id": "6a1fcc23-a2c3-48f6-b1c5-a52a3bdc202c",
   "metadata": {
    "tags": []
   },
   "outputs": [
    {
     "data": {
      "text/plain": [
       "0"
      ]
     },
     "execution_count": 3,
     "metadata": {},
     "output_type": "execute_result"
    }
   ],
   "source": [
    "df['review_es'].isnull().sum()"
   ]
  },
  {
   "cell_type": "markdown",
   "id": "a63e76d6-0d4e-457f-9b2c-501cdeae688d",
   "metadata": {},
   "source": [
    "Encodeamos el target para que las review positivas esten representadas por un 1 y las negativas por 0."
   ]
  },
  {
   "cell_type": "code",
   "execution_count": 4,
   "id": "74b99b9f-5bc3-4380-8d84-7fc68748cfdc",
   "metadata": {
    "tags": []
   },
   "outputs": [],
   "source": [
    "df['sentimiento_es_positivo'] = np.where(df.sentimiento == 'positivo', 1, 0)"
   ]
  },
  {
   "cell_type": "markdown",
   "id": "f932dbf9-d7ed-4db7-8597-949f45b51b24",
   "metadata": {},
   "source": [
    "Pasamos todos los caracteres a minúscula para que sea más fácil preporcesarlos."
   ]
  },
  {
   "cell_type": "code",
   "execution_count": 5,
   "id": "a68176ab-6dd2-4389-8b18-43cc7de03330",
   "metadata": {
    "tags": []
   },
   "outputs": [],
   "source": [
    "df['review_es'] = df['review_es'].str.lower()"
   ]
  },
  {
   "cell_type": "markdown",
   "id": "aca52e7c-c7a5-423a-8fd4-0b91a841f83a",
   "metadata": {},
   "source": [
    "Quitamos los acentos de todas las palabras y reemplazamos el caracter ñ por n."
   ]
  },
  {
   "cell_type": "code",
   "execution_count": 6,
   "id": "ea0e1c4a-4303-4c93-a890-2f4baaf97d27",
   "metadata": {
    "tags": []
   },
   "outputs": [],
   "source": [
    "caracteres_especiales = {'á':'a', 'é':'e', 'í':'i', 'ó':'o', 'ú':'u', 'ñ':'n'}\n",
    "for original, nuevo in caracteres_especiales.items():\n",
    "    df['review_es'] = df['review_es'].str.replace(original, nuevo, regex=True)"
   ]
  },
  {
   "cell_type": "markdown",
   "id": "103e5b14-9eb6-4ab4-acc0-767520d94cc6",
   "metadata": {},
   "source": [
    "Removemos todo caracter que no sean letras (números, puntos, comas, comillas, etc.) y los espacios dobles que puedan llegar a aparecer con esta operación."
   ]
  },
  {
   "cell_type": "code",
   "execution_count": 7,
   "id": "7db63314-c3cd-4c4b-917e-5a0fd6373f22",
   "metadata": {
    "tags": []
   },
   "outputs": [],
   "source": [
    "df['review_es'] = df['review_es'].str.replace('[^a-zA-Z]', ' ', regex=True)\n",
    "df['review_es'] = df['review_es'].str.replace('  ', ' ', regex=True)"
   ]
  },
  {
   "cell_type": "markdown",
   "id": "136abfe4-0ebf-4ff5-b67e-acff4c2d1cf3",
   "metadata": {},
   "source": [
    "Como último paso para el preprocesamiento, eliminamos las stopwords"
   ]
  },
  {
   "cell_type": "code",
   "execution_count": 11,
   "id": "4df010c7-7a7b-4afa-bdb9-5e87b4f87e26",
   "metadata": {
    "tags": []
   },
   "outputs": [],
   "source": [
    "from nltk.corpus import stopwords\n",
    "palabras = '|'.join(stopwords.words('spanish'))\n",
    "df['review_es'] = df['review_es'].str.replace(fr'\\b({palabras})\\b', '',regex=True)"
   ]
  },
  {
   "cell_type": "markdown",
   "id": "8add164a-6482-45f5-80df-735006789950",
   "metadata": {},
   "source": [
    "Nuestro dataset preprocesado queda de la siguiente manera:"
   ]
  },
  {
   "cell_type": "code",
   "execution_count": 10,
   "id": "8d8e7442-eb2d-4c84-94b0-cd1bf7841557",
   "metadata": {
    "tags": []
   },
   "outputs": [
    {
     "data": {
      "text/html": [
       "<div>\n",
       "<style scoped>\n",
       "    .dataframe tbody tr th:only-of-type {\n",
       "        vertical-align: middle;\n",
       "    }\n",
       "\n",
       "    .dataframe tbody tr th {\n",
       "        vertical-align: top;\n",
       "    }\n",
       "\n",
       "    .dataframe thead th {\n",
       "        text-align: right;\n",
       "    }\n",
       "</style>\n",
       "<table border=\"1\" class=\"dataframe\">\n",
       "  <thead>\n",
       "    <tr style=\"text-align: right;\">\n",
       "      <th></th>\n",
       "      <th>ID</th>\n",
       "      <th>review_es</th>\n",
       "      <th>sentimiento</th>\n",
       "      <th>sentimiento_es_positivo</th>\n",
       "    </tr>\n",
       "  </thead>\n",
       "  <tbody>\n",
       "    <tr>\n",
       "      <th>0</th>\n",
       "      <td>0</td>\n",
       "      <td>criticos  mencionado  despues  ver solo  o...</td>\n",
       "      <td>positivo</td>\n",
       "      <td>1</td>\n",
       "    </tr>\n",
       "    <tr>\n",
       "      <th>1</th>\n",
       "      <td>1</td>\n",
       "      <td>pequena pequena produccion  tecnica  filmacio...</td>\n",
       "      <td>positivo</td>\n",
       "      <td>1</td>\n",
       "    </tr>\n",
       "    <tr>\n",
       "      <th>2</th>\n",
       "      <td>2</td>\n",
       "      <td>pense     manera maravillosa  pasar tiempo   f...</td>\n",
       "      <td>positivo</td>\n",
       "      <td>1</td>\n",
       "    </tr>\n",
       "    <tr>\n",
       "      <th>3</th>\n",
       "      <td>3</td>\n",
       "      <td>basicamente   familia   nino pequeno jake pien...</td>\n",
       "      <td>negativo</td>\n",
       "      <td>0</td>\n",
       "    </tr>\n",
       "    <tr>\n",
       "      <th>4</th>\n",
       "      <td>4</td>\n",
       "      <td>amor   tiempo  petter mattei   pelicula visua...</td>\n",
       "      <td>positivo</td>\n",
       "      <td>1</td>\n",
       "    </tr>\n",
       "    <tr>\n",
       "      <th>5</th>\n",
       "      <td>5</td>\n",
       "      <td>probablemente  pelicula favorita    tiempos  h...</td>\n",
       "      <td>positivo</td>\n",
       "      <td>1</td>\n",
       "    </tr>\n",
       "    <tr>\n",
       "      <th>6</th>\n",
       "      <td>6</td>\n",
       "      <td>seguro   gustaria ver  resurreccion   serie  s...</td>\n",
       "      <td>positivo</td>\n",
       "      <td>1</td>\n",
       "    </tr>\n",
       "    <tr>\n",
       "      <th>7</th>\n",
       "      <td>7</td>\n",
       "      <td>espectaculo   idea increible fresca  innovado...</td>\n",
       "      <td>negativo</td>\n",
       "      <td>0</td>\n",
       "    </tr>\n",
       "    <tr>\n",
       "      <th>8</th>\n",
       "      <td>8</td>\n",
       "      <td>alentados   comentarios positivos   pelicula a...</td>\n",
       "      <td>negativo</td>\n",
       "      <td>0</td>\n",
       "    </tr>\n",
       "    <tr>\n",
       "      <th>9</th>\n",
       "      <td>9</td>\n",
       "      <td>si  gusta  risa original desgarradora  gustara...</td>\n",
       "      <td>positivo</td>\n",
       "      <td>1</td>\n",
       "    </tr>\n",
       "    <tr>\n",
       "      <th>10</th>\n",
       "      <td>10</td>\n",
       "      <td>phil  alienigena     peliculas peculiares   hu...</td>\n",
       "      <td>negativo</td>\n",
       "      <td>0</td>\n",
       "    </tr>\n",
       "    <tr>\n",
       "      <th>11</th>\n",
       "      <td>11</td>\n",
       "      <td>vi  pelicula  tenia alrededor    sali recuerdo...</td>\n",
       "      <td>negativo</td>\n",
       "      <td>0</td>\n",
       "    </tr>\n",
       "    <tr>\n",
       "      <th>12</th>\n",
       "      <td>12</td>\n",
       "      <td>asi     gran fanatico  trabajo  boll   nuevo  ...</td>\n",
       "      <td>negativo</td>\n",
       "      <td>0</td>\n",
       "    </tr>\n",
       "    <tr>\n",
       "      <th>13</th>\n",
       "      <td>13</td>\n",
       "      <td>reparto jugo  shakespeare shakespeare perdido...</td>\n",
       "      <td>negativo</td>\n",
       "      <td>0</td>\n",
       "    </tr>\n",
       "    <tr>\n",
       "      <th>14</th>\n",
       "      <td>14</td>\n",
       "      <td>fantastica pelicula  tres prisioneros   hac...</td>\n",
       "      <td>positivo</td>\n",
       "      <td>1</td>\n",
       "    </tr>\n",
       "  </tbody>\n",
       "</table>\n",
       "</div>"
      ],
      "text/plain": [
       "    ID                                          review_es sentimiento   \n",
       "0    0      criticos  mencionado  despues  ver solo  o...    positivo  \\\n",
       "1    1   pequena pequena produccion  tecnica  filmacio...    positivo   \n",
       "2    2  pense     manera maravillosa  pasar tiempo   f...    positivo   \n",
       "3    3  basicamente   familia   nino pequeno jake pien...    negativo   \n",
       "4    4   amor   tiempo  petter mattei   pelicula visua...    positivo   \n",
       "5    5  probablemente  pelicula favorita    tiempos  h...    positivo   \n",
       "6    6  seguro   gustaria ver  resurreccion   serie  s...    positivo   \n",
       "7    7   espectaculo   idea increible fresca  innovado...    negativo   \n",
       "8    8  alentados   comentarios positivos   pelicula a...    negativo   \n",
       "9    9  si  gusta  risa original desgarradora  gustara...    positivo   \n",
       "10  10  phil  alienigena     peliculas peculiares   hu...    negativo   \n",
       "11  11  vi  pelicula  tenia alrededor    sali recuerdo...    negativo   \n",
       "12  12  asi     gran fanatico  trabajo  boll   nuevo  ...    negativo   \n",
       "13  13   reparto jugo  shakespeare shakespeare perdido...    negativo   \n",
       "14  14     fantastica pelicula  tres prisioneros   hac...    positivo   \n",
       "\n",
       "    sentimiento_es_positivo  \n",
       "0                         1  \n",
       "1                         1  \n",
       "2                         1  \n",
       "3                         0  \n",
       "4                         1  \n",
       "5                         1  \n",
       "6                         1  \n",
       "7                         0  \n",
       "8                         0  \n",
       "9                         1  \n",
       "10                        0  \n",
       "11                        0  \n",
       "12                        0  \n",
       "13                        0  \n",
       "14                        1  "
      ]
     },
     "execution_count": 10,
     "metadata": {},
     "output_type": "execute_result"
    }
   ],
   "source": [
    "df.head(15)"
   ]
  },
  {
   "cell_type": "markdown",
   "id": "0213be94-fcd4-4178-888d-e1759f139b3f",
   "metadata": {},
   "source": [
    "## Sets de test y train\n",
    "Dividimos el dataframe en datos de test y train. Usaremos estos mismos sets para el entrenamiento de todos los modelos."
   ]
  },
  {
   "cell_type": "code",
   "execution_count": 12,
   "id": "68b64756-1fcb-417e-ab4d-144e6d69beca",
   "metadata": {
    "tags": []
   },
   "outputs": [
    {
     "name": "stderr",
     "output_type": "stream",
     "text": [
      "2023-06-15 19:13:09.247025: I tensorflow/tsl/cuda/cudart_stub.cc:28] Could not find cuda drivers on your machine, GPU will not be used.\n",
      "2023-06-15 19:13:09.957458: I tensorflow/tsl/cuda/cudart_stub.cc:28] Could not find cuda drivers on your machine, GPU will not be used.\n",
      "2023-06-15 19:13:09.959891: I tensorflow/core/platform/cpu_feature_guard.cc:182] This TensorFlow binary is optimized to use available CPU instructions in performance-critical operations.\n",
      "To enable the following instructions: AVX2 FMA, in other operations, rebuild TensorFlow with the appropriate compiler flags.\n",
      "2023-06-15 19:13:11.861358: W tensorflow/compiler/tf2tensorrt/utils/py_utils.cc:38] TF-TRT Warning: Could not find TensorRT\n"
     ]
    }
   ],
   "source": [
    "from sklearn.model_selection import train_test_split\n",
    "from keras.preprocessing.text import Tokenizer\n",
    "\n",
    "X = df.review_es\n",
    "y = df.sentimiento_es_positivo\n",
    "X_train, X_test, y_train, y_test = train_test_split(X, y, test_size=0.2, random_state=19)"
   ]
  },
  {
   "cell_type": "markdown",
   "id": "8df89a4f-c5b2-48ea-8f00-a28d3387eb30",
   "metadata": {},
   "source": [
    "## Ensamblado de modelos"
   ]
  },
  {
   "cell_type": "markdown",
   "id": "e7475dee-4cae-4cd9-b81e-1205d6962b61",
   "metadata": {},
   "source": [
    "### Bayes Naive\n",
    "Primero transformamos nuestros documentos en una matriz en la cual se almacena la cantidad de tokens (\"palabras clave\"). Luego convertimos esa misma matriz en una representación normalizada de término/frecuencia. \n",
    "Esto lo hacemos para reducir el impacto de los tokens que aparecen más veces."
   ]
  },
  {
   "cell_type": "code",
   "execution_count": 14,
   "id": "23ddf491-7fb6-4674-9913-0cb0b4adc914",
   "metadata": {
    "tags": []
   },
   "outputs": [
    {
     "name": "stdout",
     "output_type": "stream",
     "text": [
      "  (0, 4843)\t1\n",
      "  (0, 128411)\t2\n",
      "  (0, 109407)\t1\n",
      "  (0, 26638)\t1\n",
      "  (0, 107610)\t1\n",
      "  (0, 93445)\t1\n",
      "  (0, 35617)\t1\n",
      "  (0, 33360)\t1\n",
      "  (0, 99324)\t1\n",
      "  (0, 137803)\t1\n",
      "  (0, 11711)\t1\n",
      "  (0, 140314)\t2\n",
      "  (0, 131011)\t1\n",
      "  (0, 139053)\t5\n",
      "  (0, 19351)\t1\n",
      "  (0, 129473)\t1\n",
      "  (0, 99852)\t1\n",
      "  (0, 85636)\t1\n",
      "  (0, 63165)\t1\n",
      "  (0, 103701)\t1\n",
      "  (0, 146910)\t1\n",
      "  (0, 151166)\t1\n",
      "  (0, 6538)\t3\n",
      "  (0, 42049)\t1\n",
      "  (0, 139343)\t1\n",
      "  :\t:\n",
      "  (39999, 35521)\t1\n",
      "  (39999, 149513)\t1\n",
      "  (39999, 11563)\t1\n",
      "  (39999, 35501)\t1\n",
      "  (39999, 119807)\t1\n",
      "  (39999, 16409)\t1\n",
      "  (39999, 70707)\t1\n",
      "  (39999, 138047)\t1\n",
      "  (39999, 90336)\t2\n",
      "  (39999, 116193)\t2\n",
      "  (39999, 85567)\t1\n",
      "  (39999, 47193)\t1\n",
      "  (39999, 26602)\t1\n",
      "  (39999, 16410)\t1\n",
      "  (39999, 69581)\t3\n",
      "  (39999, 16411)\t1\n",
      "  (39999, 109012)\t1\n",
      "  (39999, 46357)\t1\n",
      "  (39999, 95356)\t1\n",
      "  (39999, 112869)\t1\n",
      "  (39999, 148343)\t1\n",
      "  (39999, 71471)\t1\n",
      "  (39999, 18666)\t3\n",
      "  (39999, 149514)\t1\n",
      "  (39999, 125629)\t1\n",
      "  (0, 151956)\t0.07839375983945933\n",
      "  (0, 151166)\t0.11323120376010341\n",
      "  (0, 150776)\t0.08902974801322862\n",
      "  (0, 149990)\t0.07465001685823258\n",
      "  (0, 149669)\t0.07447143467830195\n",
      "  (0, 147913)\t0.10162340869422316\n",
      "  (0, 146910)\t0.14883229052925429\n",
      "  (0, 144470)\t0.14883229052925429\n",
      "  (0, 140314)\t0.12501222871042422\n",
      "  (0, 139438)\t0.08390310466935802\n",
      "  (0, 139343)\t0.06384473070243955\n",
      "  (0, 139053)\t0.24962846284902818\n",
      "  (0, 137803)\t0.12154780116327625\n",
      "  (0, 135914)\t0.11291771666467475\n",
      "  (0, 135710)\t0.10344786027627755\n",
      "  (0, 134565)\t0.11062648715600867\n",
      "  (0, 131011)\t0.1295656000608667\n",
      "  (0, 129473)\t0.1530257136075339\n",
      "  (0, 128411)\t0.2538159476458894\n",
      "  (0, 126504)\t0.10411054657793721\n",
      "  (0, 117107)\t0.13547589793687673\n",
      "  (0, 109407)\t0.08570497439079185\n",
      "  (0, 107610)\t0.09367171688551747\n",
      "  (0, 106571)\t0.09479023379855103\n",
      "  (0, 103701)\t0.09649593451515524\n",
      "  :\t:\n",
      "  (39999, 16409)\t0.06953640167761231\n",
      "  (39999, 16025)\t0.019221553286145755\n",
      "  (39999, 15386)\t0.06314997104237892\n",
      "  (39999, 12029)\t0.05467957974000992\n",
      "  (39999, 11563)\t0.06105652174974218\n",
      "  (39999, 10874)\t0.05381501635044175\n",
      "  (39999, 10345)\t0.02124471382602533\n",
      "  (39999, 8785)\t0.02342922588338872\n",
      "  (39999, 7852)\t0.03767639556285229\n",
      "  (39999, 7790)\t0.050147242805258244\n",
      "  (39999, 7119)\t0.021148800230637577\n",
      "  (39999, 6767)\t0.06511310266343837\n",
      "  (39999, 6538)\t0.034322469660044715\n",
      "  (39999, 6149)\t0.02889308637192328\n",
      "  (39999, 6057)\t0.03126762288643291\n",
      "  (39999, 6056)\t0.033537424433441876\n",
      "  (39999, 5699)\t0.04859207980464183\n",
      "  (39999, 5117)\t0.030026937473502033\n",
      "  (39999, 4918)\t0.06023572026136585\n",
      "  (39999, 4804)\t0.02865795872895924\n",
      "  (39999, 3224)\t0.042149224943681826\n",
      "  (39999, 2524)\t0.03929360897253551\n",
      "  (39999, 1956)\t0.03522779372425148\n",
      "  (39999, 1865)\t0.07104234994917163\n",
      "  (39999, 1824)\t0.02455460170330064\n"
     ]
    }
   ],
   "source": [
    "from sklearn.feature_extraction.text import CountVectorizer, TfidfTransformer\n",
    "from sklearn.naive_bayes import MultinomialNB\n",
    "\n",
    "vectorizador = CountVectorizer()\n",
    "X_train_counts = vectorizador.fit_transform(X_train)\n",
    "\n",
    "print(X_train_counts)\n",
    "escaladorTfidf = TfidfTransformer()\n",
    "X_train_tfidf = escaladorTfidf.fit_transform(X_train_counts)\n",
    "\n",
    "print(X_train_tfidf)"
   ]
  },
  {
   "cell_type": "markdown",
   "id": "d21e9ef6-2f6e-4767-a083-7d8e100369b6",
   "metadata": {},
   "source": [
    "Ahora que tenemos la información en el formato correcto, creamos nuestro modelo de tipo Bayes Naive. En este caso usamos uno de tipo multinomial."
   ]
  },
  {
   "cell_type": "code",
   "execution_count": 15,
   "id": "a353fbf8-82e2-4af5-9098-e32a82ca6d49",
   "metadata": {
    "tags": []
   },
   "outputs": [
    {
     "data": {
      "text/html": [
       "<style>#sk-container-id-1 {color: black;background-color: white;}#sk-container-id-1 pre{padding: 0;}#sk-container-id-1 div.sk-toggleable {background-color: white;}#sk-container-id-1 label.sk-toggleable__label {cursor: pointer;display: block;width: 100%;margin-bottom: 0;padding: 0.3em;box-sizing: border-box;text-align: center;}#sk-container-id-1 label.sk-toggleable__label-arrow:before {content: \"▸\";float: left;margin-right: 0.25em;color: #696969;}#sk-container-id-1 label.sk-toggleable__label-arrow:hover:before {color: black;}#sk-container-id-1 div.sk-estimator:hover label.sk-toggleable__label-arrow:before {color: black;}#sk-container-id-1 div.sk-toggleable__content {max-height: 0;max-width: 0;overflow: hidden;text-align: left;background-color: #f0f8ff;}#sk-container-id-1 div.sk-toggleable__content pre {margin: 0.2em;color: black;border-radius: 0.25em;background-color: #f0f8ff;}#sk-container-id-1 input.sk-toggleable__control:checked~div.sk-toggleable__content {max-height: 200px;max-width: 100%;overflow: auto;}#sk-container-id-1 input.sk-toggleable__control:checked~label.sk-toggleable__label-arrow:before {content: \"▾\";}#sk-container-id-1 div.sk-estimator input.sk-toggleable__control:checked~label.sk-toggleable__label {background-color: #d4ebff;}#sk-container-id-1 div.sk-label input.sk-toggleable__control:checked~label.sk-toggleable__label {background-color: #d4ebff;}#sk-container-id-1 input.sk-hidden--visually {border: 0;clip: rect(1px 1px 1px 1px);clip: rect(1px, 1px, 1px, 1px);height: 1px;margin: -1px;overflow: hidden;padding: 0;position: absolute;width: 1px;}#sk-container-id-1 div.sk-estimator {font-family: monospace;background-color: #f0f8ff;border: 1px dotted black;border-radius: 0.25em;box-sizing: border-box;margin-bottom: 0.5em;}#sk-container-id-1 div.sk-estimator:hover {background-color: #d4ebff;}#sk-container-id-1 div.sk-parallel-item::after {content: \"\";width: 100%;border-bottom: 1px solid gray;flex-grow: 1;}#sk-container-id-1 div.sk-label:hover label.sk-toggleable__label {background-color: #d4ebff;}#sk-container-id-1 div.sk-serial::before {content: \"\";position: absolute;border-left: 1px solid gray;box-sizing: border-box;top: 0;bottom: 0;left: 50%;z-index: 0;}#sk-container-id-1 div.sk-serial {display: flex;flex-direction: column;align-items: center;background-color: white;padding-right: 0.2em;padding-left: 0.2em;position: relative;}#sk-container-id-1 div.sk-item {position: relative;z-index: 1;}#sk-container-id-1 div.sk-parallel {display: flex;align-items: stretch;justify-content: center;background-color: white;position: relative;}#sk-container-id-1 div.sk-item::before, #sk-container-id-1 div.sk-parallel-item::before {content: \"\";position: absolute;border-left: 1px solid gray;box-sizing: border-box;top: 0;bottom: 0;left: 50%;z-index: -1;}#sk-container-id-1 div.sk-parallel-item {display: flex;flex-direction: column;z-index: 1;position: relative;background-color: white;}#sk-container-id-1 div.sk-parallel-item:first-child::after {align-self: flex-end;width: 50%;}#sk-container-id-1 div.sk-parallel-item:last-child::after {align-self: flex-start;width: 50%;}#sk-container-id-1 div.sk-parallel-item:only-child::after {width: 0;}#sk-container-id-1 div.sk-dashed-wrapped {border: 1px dashed gray;margin: 0 0.4em 0.5em 0.4em;box-sizing: border-box;padding-bottom: 0.4em;background-color: white;}#sk-container-id-1 div.sk-label label {font-family: monospace;font-weight: bold;display: inline-block;line-height: 1.2em;}#sk-container-id-1 div.sk-label-container {text-align: center;}#sk-container-id-1 div.sk-container {/* jupyter's `normalize.less` sets `[hidden] { display: none; }` but bootstrap.min.css set `[hidden] { display: none !important; }` so we also need the `!important` here to be able to override the default hidden behavior on the sphinx rendered scikit-learn.org. See: https://github.com/scikit-learn/scikit-learn/issues/21755 */display: inline-block !important;position: relative;}#sk-container-id-1 div.sk-text-repr-fallback {display: none;}</style><div id=\"sk-container-id-1\" class=\"sk-top-container\"><div class=\"sk-text-repr-fallback\"><pre>MultinomialNB()</pre><b>In a Jupyter environment, please rerun this cell to show the HTML representation or trust the notebook. <br />On GitHub, the HTML representation is unable to render, please try loading this page with nbviewer.org.</b></div><div class=\"sk-container\" hidden><div class=\"sk-item\"><div class=\"sk-estimator sk-toggleable\"><input class=\"sk-toggleable__control sk-hidden--visually\" id=\"sk-estimator-id-1\" type=\"checkbox\" checked><label for=\"sk-estimator-id-1\" class=\"sk-toggleable__label sk-toggleable__label-arrow\">MultinomialNB</label><div class=\"sk-toggleable__content\"><pre>MultinomialNB()</pre></div></div></div></div></div>"
      ],
      "text/plain": [
       "MultinomialNB()"
      ]
     },
     "execution_count": 15,
     "metadata": {},
     "output_type": "execute_result"
    }
   ],
   "source": [
    "clasificadorBayesNaive = MultinomialNB()\n",
    "clasificadorBayesNaive.fit(X_train_tfidf, y_train)"
   ]
  },
  {
   "cell_type": "markdown",
   "id": "ee86bea6-d19d-4c7a-9718-0deb37d67649",
   "metadata": {
    "tags": []
   },
   "source": [
    "Realizamos el mismo procedimiento para transformar los datos de validación y poder realizar nuestras predicciones."
   ]
  },
  {
   "cell_type": "code",
   "execution_count": 16,
   "id": "58b0f204-a797-4209-9e57-26082928411d",
   "metadata": {
    "tags": []
   },
   "outputs": [],
   "source": [
    "X_test_counts = vectorizador.transform(X_test)\n",
    "X_test_tfidf = escaladorTfidf.transform(X_test_counts)\n",
    "y_pred = np.where(clasificadorBayesNaive.predict(X_test_tfidf) >= 0.5, 1, 0)"
   ]
  },
  {
   "cell_type": "markdown",
   "id": "7c256099-641f-4148-a4b8-e1e2835c66fb",
   "metadata": {},
   "source": [
    "Construimos nuestra matriz de confusión y analizamos métricas"
   ]
  },
  {
   "cell_type": "code",
   "execution_count": 17,
   "id": "2bbc22a4-894c-49a8-856b-085038f324da",
   "metadata": {
    "tags": []
   },
   "outputs": [
    {
     "data": {
      "text/plain": [
       "Text(0.5, 1.0, 'Confusion matrix de validación')"
      ]
     },
     "execution_count": 17,
     "metadata": {},
     "output_type": "execute_result"
    },
    {
     "data": {
      "image/png": "[encoded data removed]",
      "text/plain": [
       "<Figure size 640x480 with 2 Axes>"
      ]
     },
     "metadata": {},
     "output_type": "display_data"
    }
   ],
   "source": [
    "confusion = confusion_matrix(y_test, y_pred)\n",
    "sns.heatmap(confusion, annot=True, fmt='.0f')\n",
    "plt.ylabel('true')\n",
    "plt.xlabel('predicted')\n",
    "plt.title(\"Confusion matrix de validación\")"
   ]
  },
  {
   "cell_type": "code",
   "execution_count": 18,
   "id": "21cb966b-ac09-465f-8e2a-869f818e06fe",
   "metadata": {
    "tags": []
   },
   "outputs": [
    {
     "name": "stdout",
     "output_type": "stream",
     "text": [
      "Accuracy: 0.8552\n",
      "Precision: 0.8503921174341443\n",
      "Recall: 0.8572876545712548\n",
      "F1-score: 0.8538259640621845\n"
     ]
    }
   ],
   "source": [
    "print(\"Accuracy:\", accuracy_score(y_test, y_pred))\n",
    "print(\"Precision:\", precision_score(y_test, y_pred))\n",
    "print(\"Recall:\", recall_score(y_test, y_pred))\n",
    "print(\"F1-score:\", f1_score(y_test, y_pred))"
   ]
  },
  {
   "cell_type": "markdown",
   "id": "402dffb2-1591-4c64-a5a1-b800b2212296",
   "metadata": {},
   "source": [
    "Creamos el submit para la competencia de Kaggle."
   ]
  },
  {
   "cell_type": "code",
   "execution_count": null,
   "id": "144021c5-29b0-4367-9fb9-2139922a39d7",
   "metadata": {},
   "outputs": [],
   "source": [
    "df_test = pd.read_csv(\"dataset/test.csv\")\n",
    "assert(len(df_test)==8599)\n",
    "\n",
    "X = df_test['review_es']\n",
    "    \n",
    "X_counts = vectorizador.transform(X)\n",
    "X_tfidf = escaladorTfidf.transform(X_counts)\n",
    "    \n",
    "prediccion = np.where(clasificadorBayesNaive.predict(X_tfidf) >= 0.5, 'positivo', 'negativo')\n",
    "\n",
    "assert(len(prediccion)==8599)\n",
    "\n",
    "submit = pd.DataFrame(\n",
    "    {\"sentimiento\": prediccion},\n",
    "    index=df_test[\"ID\"],\n",
    ")\n",
    "assert(len(submit)==8599)\n",
    "\n",
    "submit.to_csv(\"dataset/submit.csv\")"
   ]
  },
  {
   "cell_type": "markdown",
   "id": "b0d017cc",
   "metadata": {},
   "source": [
    "### Cross validation naive bayes"
   ]
  },
  {
   "cell_type": "code",
   "execution_count": 23,
   "id": "b2e21cb9",
   "metadata": {},
   "outputs": [],
   "source": [
    "from sklearn.model_selection import GridSearchCV\n",
    "from sklearn.model_selection import StratifiedKFold"
   ]
  },
  {
   "cell_type": "code",
   "execution_count": 43,
   "id": "64d24254",
   "metadata": {},
   "outputs": [
    {
     "data": {
      "text/html": [
       "<style>#sk-container-id-6 {color: black;background-color: white;}#sk-container-id-6 pre{padding: 0;}#sk-container-id-6 div.sk-toggleable {background-color: white;}#sk-container-id-6 label.sk-toggleable__label {cursor: pointer;display: block;width: 100%;margin-bottom: 0;padding: 0.3em;box-sizing: border-box;text-align: center;}#sk-container-id-6 label.sk-toggleable__label-arrow:before {content: \"▸\";float: left;margin-right: 0.25em;color: #696969;}#sk-container-id-6 label.sk-toggleable__label-arrow:hover:before {color: black;}#sk-container-id-6 div.sk-estimator:hover label.sk-toggleable__label-arrow:before {color: black;}#sk-container-id-6 div.sk-toggleable__content {max-height: 0;max-width: 0;overflow: hidden;text-align: left;background-color: #f0f8ff;}#sk-container-id-6 div.sk-toggleable__content pre {margin: 0.2em;color: black;border-radius: 0.25em;background-color: #f0f8ff;}#sk-container-id-6 input.sk-toggleable__control:checked~div.sk-toggleable__content {max-height: 200px;max-width: 100%;overflow: auto;}#sk-container-id-6 input.sk-toggleable__control:checked~label.sk-toggleable__label-arrow:before {content: \"▾\";}#sk-container-id-6 div.sk-estimator input.sk-toggleable__control:checked~label.sk-toggleable__label {background-color: #d4ebff;}#sk-container-id-6 div.sk-label input.sk-toggleable__control:checked~label.sk-toggleable__label {background-color: #d4ebff;}#sk-container-id-6 input.sk-hidden--visually {border: 0;clip: rect(1px 1px 1px 1px);clip: rect(1px, 1px, 1px, 1px);height: 1px;margin: -1px;overflow: hidden;padding: 0;position: absolute;width: 1px;}#sk-container-id-6 div.sk-estimator {font-family: monospace;background-color: #f0f8ff;border: 1px dotted black;border-radius: 0.25em;box-sizing: border-box;margin-bottom: 0.5em;}#sk-container-id-6 div.sk-estimator:hover {background-color: #d4ebff;}#sk-container-id-6 div.sk-parallel-item::after {content: \"\";width: 100%;border-bottom: 1px solid gray;flex-grow: 1;}#sk-container-id-6 div.sk-label:hover label.sk-toggleable__label {background-color: #d4ebff;}#sk-container-id-6 div.sk-serial::before {content: \"\";position: absolute;border-left: 1px solid gray;box-sizing: border-box;top: 0;bottom: 0;left: 50%;z-index: 0;}#sk-container-id-6 div.sk-serial {display: flex;flex-direction: column;align-items: center;background-color: white;padding-right: 0.2em;padding-left: 0.2em;position: relative;}#sk-container-id-6 div.sk-item {position: relative;z-index: 1;}#sk-container-id-6 div.sk-parallel {display: flex;align-items: stretch;justify-content: center;background-color: white;position: relative;}#sk-container-id-6 div.sk-item::before, #sk-container-id-6 div.sk-parallel-item::before {content: \"\";position: absolute;border-left: 1px solid gray;box-sizing: border-box;top: 0;bottom: 0;left: 50%;z-index: -1;}#sk-container-id-6 div.sk-parallel-item {display: flex;flex-direction: column;z-index: 1;position: relative;background-color: white;}#sk-container-id-6 div.sk-parallel-item:first-child::after {align-self: flex-end;width: 50%;}#sk-container-id-6 div.sk-parallel-item:last-child::after {align-self: flex-start;width: 50%;}#sk-container-id-6 div.sk-parallel-item:only-child::after {width: 0;}#sk-container-id-6 div.sk-dashed-wrapped {border: 1px dashed gray;margin: 0 0.4em 0.5em 0.4em;box-sizing: border-box;padding-bottom: 0.4em;background-color: white;}#sk-container-id-6 div.sk-label label {font-family: monospace;font-weight: bold;display: inline-block;line-height: 1.2em;}#sk-container-id-6 div.sk-label-container {text-align: center;}#sk-container-id-6 div.sk-container {/* jupyter's `normalize.less` sets `[hidden] { display: none; }` but bootstrap.min.css set `[hidden] { display: none !important; }` so we also need the `!important` here to be able to override the default hidden behavior on the sphinx rendered scikit-learn.org. See: https://github.com/scikit-learn/scikit-learn/issues/21755 */display: inline-block !important;position: relative;}#sk-container-id-6 div.sk-text-repr-fallback {display: none;}</style><div id=\"sk-container-id-6\" class=\"sk-top-container\"><div class=\"sk-text-repr-fallback\"><pre>GridSearchCV(cv=StratifiedKFold(n_splits=6, random_state=None, shuffle=False),\n",
       "             estimator=MultinomialNB(fit_prior=False),\n",
       "             param_grid={&#x27;alpha&#x27;: array([0.3       , 0.31794872, 0.33589744, 0.35384615, 0.37179487,\n",
       "       0.38974359, 0.40769231, 0.42564103, 0.44358974, 0.46153846,\n",
       "       0.47948718, 0.4974359 , 0.51538462, 0.53333333, 0.55128205,\n",
       "       0.56923077, 0.58717949, 0.60512821, 0.62307692, 0.64102564,\n",
       "       0.65897436, 0.67692308, 0.69487179, 0.71282051, 0.73076923,\n",
       "       0.74871795, 0.76666667, 0.78461538, 0.8025641 , 0.82051282,\n",
       "       0.83846154, 0.85641026, 0.87435897, 0.89230769, 0.91025641,\n",
       "       0.92820513, 0.94615385, 0.96410256, 0.98205128, 1.        ])},\n",
       "             scoring=make_scorer(f1_score))</pre><b>In a Jupyter environment, please rerun this cell to show the HTML representation or trust the notebook. <br />On GitHub, the HTML representation is unable to render, please try loading this page with nbviewer.org.</b></div><div class=\"sk-container\" hidden><div class=\"sk-item sk-dashed-wrapped\"><div class=\"sk-label-container\"><div class=\"sk-label sk-toggleable\"><input class=\"sk-toggleable__control sk-hidden--visually\" id=\"sk-estimator-id-14\" type=\"checkbox\" ><label for=\"sk-estimator-id-14\" class=\"sk-toggleable__label sk-toggleable__label-arrow\">GridSearchCV</label><div class=\"sk-toggleable__content\"><pre>GridSearchCV(cv=StratifiedKFold(n_splits=6, random_state=None, shuffle=False),\n",
       "             estimator=MultinomialNB(fit_prior=False),\n",
       "             param_grid={&#x27;alpha&#x27;: array([0.3       , 0.31794872, 0.33589744, 0.35384615, 0.37179487,\n",
       "       0.38974359, 0.40769231, 0.42564103, 0.44358974, 0.46153846,\n",
       "       0.47948718, 0.4974359 , 0.51538462, 0.53333333, 0.55128205,\n",
       "       0.56923077, 0.58717949, 0.60512821, 0.62307692, 0.64102564,\n",
       "       0.65897436, 0.67692308, 0.69487179, 0.71282051, 0.73076923,\n",
       "       0.74871795, 0.76666667, 0.78461538, 0.8025641 , 0.82051282,\n",
       "       0.83846154, 0.85641026, 0.87435897, 0.89230769, 0.91025641,\n",
       "       0.92820513, 0.94615385, 0.96410256, 0.98205128, 1.        ])},\n",
       "             scoring=make_scorer(f1_score))</pre></div></div></div><div class=\"sk-parallel\"><div class=\"sk-parallel-item\"><div class=\"sk-item\"><div class=\"sk-label-container\"><div class=\"sk-label sk-toggleable\"><input class=\"sk-toggleable__control sk-hidden--visually\" id=\"sk-estimator-id-15\" type=\"checkbox\" ><label for=\"sk-estimator-id-15\" class=\"sk-toggleable__label sk-toggleable__label-arrow\">estimator: MultinomialNB</label><div class=\"sk-toggleable__content\"><pre>MultinomialNB(fit_prior=False)</pre></div></div></div><div class=\"sk-serial\"><div class=\"sk-item\"><div class=\"sk-estimator sk-toggleable\"><input class=\"sk-toggleable__control sk-hidden--visually\" id=\"sk-estimator-id-16\" type=\"checkbox\" ><label for=\"sk-estimator-id-16\" class=\"sk-toggleable__label sk-toggleable__label-arrow\">MultinomialNB</label><div class=\"sk-toggleable__content\"><pre>MultinomialNB(fit_prior=False)</pre></div></div></div></div></div></div></div></div></div></div>"
      ],
      "text/plain": [
       "GridSearchCV(cv=StratifiedKFold(n_splits=6, random_state=None, shuffle=False),\n",
       "             estimator=MultinomialNB(fit_prior=False),\n",
       "             param_grid={'alpha': array([0.3       , 0.31794872, 0.33589744, 0.35384615, 0.37179487,\n",
       "       0.38974359, 0.40769231, 0.42564103, 0.44358974, 0.46153846,\n",
       "       0.47948718, 0.4974359 , 0.51538462, 0.53333333, 0.55128205,\n",
       "       0.56923077, 0.58717949, 0.60512821, 0.62307692, 0.64102564,\n",
       "       0.65897436, 0.67692308, 0.69487179, 0.71282051, 0.73076923,\n",
       "       0.74871795, 0.76666667, 0.78461538, 0.8025641 , 0.82051282,\n",
       "       0.83846154, 0.85641026, 0.87435897, 0.89230769, 0.91025641,\n",
       "       0.92820513, 0.94615385, 0.96410256, 0.98205128, 1.        ])},\n",
       "             scoring=make_scorer(f1_score))"
      ]
     },
     "execution_count": 43,
     "metadata": {},
     "output_type": "execute_result"
    }
   ],
   "source": [
    "clf_naive_bayes = MultinomialNB(fit_prior=False)\n",
    "\n",
    "params_grid2 = {\n",
    "    \"alpha\": np.linspace(0.3,1,40),\n",
    "}\n",
    "\n",
    "kfoldcv = StratifiedKFold(n_splits=6)\n",
    "\n",
    "model = GridSearchCV (\n",
    "    estimator=clf_naive_bayes,\n",
    "    param_grid=params_grid2,\n",
    "    scoring=make_scorer(f1_score),\n",
    "    cv=kfoldcv,\n",
    ")\n",
    "\n",
    "model.fit(X_train_tfidf, y_train)"
   ]
  },
  {
   "cell_type": "code",
   "execution_count": 44,
   "id": "340248cd",
   "metadata": {},
   "outputs": [
    {
     "name": "stdout",
     "output_type": "stream",
     "text": [
      "Los mejores parametros encontrados son:  {'alpha': 0.8384615384615384}\n",
      "con un f1 score:  0.8583055484472998\n"
     ]
    }
   ],
   "source": [
    "print(\"Los mejores parametros encontrados son: \", model.best_params_)\n",
    "print(\"con un f1 score: \", model.best_score_)"
   ]
  },
  {
   "cell_type": "code",
   "execution_count": 52,
   "id": "3b72936b",
   "metadata": {},
   "outputs": [
    {
     "data": {
      "text/html": [
       "<div>\n",
       "<style scoped>\n",
       "    .dataframe tbody tr th:only-of-type {\n",
       "        vertical-align: middle;\n",
       "    }\n",
       "\n",
       "    .dataframe tbody tr th {\n",
       "        vertical-align: top;\n",
       "    }\n",
       "\n",
       "    .dataframe thead th {\n",
       "        text-align: right;\n",
       "    }\n",
       "</style>\n",
       "<table border=\"1\" class=\"dataframe\">\n",
       "  <thead>\n",
       "    <tr style=\"text-align: right;\">\n",
       "      <th></th>\n",
       "      <th>mean_fit_time</th>\n",
       "      <th>std_fit_time</th>\n",
       "      <th>mean_score_time</th>\n",
       "      <th>std_score_time</th>\n",
       "      <th>param_alpha</th>\n",
       "      <th>params</th>\n",
       "      <th>split0_test_score</th>\n",
       "      <th>split1_test_score</th>\n",
       "      <th>split2_test_score</th>\n",
       "      <th>split3_test_score</th>\n",
       "      <th>split4_test_score</th>\n",
       "      <th>split5_test_score</th>\n",
       "      <th>mean_test_score</th>\n",
       "      <th>std_test_score</th>\n",
       "      <th>rank_test_score</th>\n",
       "    </tr>\n",
       "  </thead>\n",
       "  <tbody>\n",
       "    <tr>\n",
       "      <th>30</th>\n",
       "      <td>0.046736</td>\n",
       "      <td>0.005051</td>\n",
       "      <td>0.008673</td>\n",
       "      <td>0.000772</td>\n",
       "      <td>0.838462</td>\n",
       "      <td>{'alpha': 0.8384615384615384}</td>\n",
       "      <td>0.847203</td>\n",
       "      <td>0.856112</td>\n",
       "      <td>0.872079</td>\n",
       "      <td>0.856631</td>\n",
       "      <td>0.859982</td>\n",
       "      <td>0.857826</td>\n",
       "      <td>0.858306</td>\n",
       "      <td>0.007344</td>\n",
       "      <td>1</td>\n",
       "    </tr>\n",
       "    <tr>\n",
       "      <th>29</th>\n",
       "      <td>0.046374</td>\n",
       "      <td>0.005445</td>\n",
       "      <td>0.008971</td>\n",
       "      <td>0.000841</td>\n",
       "      <td>0.820513</td>\n",
       "      <td>{'alpha': 0.8205128205128205}</td>\n",
       "      <td>0.847249</td>\n",
       "      <td>0.856112</td>\n",
       "      <td>0.872379</td>\n",
       "      <td>0.856333</td>\n",
       "      <td>0.860238</td>\n",
       "      <td>0.857484</td>\n",
       "      <td>0.858299</td>\n",
       "      <td>0.007454</td>\n",
       "      <td>2</td>\n",
       "    </tr>\n",
       "    <tr>\n",
       "      <th>16</th>\n",
       "      <td>0.040436</td>\n",
       "      <td>0.001772</td>\n",
       "      <td>0.007851</td>\n",
       "      <td>0.000146</td>\n",
       "      <td>0.587179</td>\n",
       "      <td>{'alpha': 0.5871794871794871}</td>\n",
       "      <td>0.848539</td>\n",
       "      <td>0.856885</td>\n",
       "      <td>0.871142</td>\n",
       "      <td>0.856760</td>\n",
       "      <td>0.859072</td>\n",
       "      <td>0.856930</td>\n",
       "      <td>0.858221</td>\n",
       "      <td>0.006671</td>\n",
       "      <td>3</td>\n",
       "    </tr>\n",
       "    <tr>\n",
       "      <th>31</th>\n",
       "      <td>0.040919</td>\n",
       "      <td>0.001120</td>\n",
       "      <td>0.007828</td>\n",
       "      <td>0.000258</td>\n",
       "      <td>0.85641</td>\n",
       "      <td>{'alpha': 0.8564102564102563}</td>\n",
       "      <td>0.847422</td>\n",
       "      <td>0.855811</td>\n",
       "      <td>0.872079</td>\n",
       "      <td>0.856504</td>\n",
       "      <td>0.859898</td>\n",
       "      <td>0.857484</td>\n",
       "      <td>0.858200</td>\n",
       "      <td>0.007312</td>\n",
       "      <td>4</td>\n",
       "    </tr>\n",
       "    <tr>\n",
       "      <th>28</th>\n",
       "      <td>0.040171</td>\n",
       "      <td>0.000549</td>\n",
       "      <td>0.007724</td>\n",
       "      <td>0.000069</td>\n",
       "      <td>0.802564</td>\n",
       "      <td>{'alpha': 0.8025641025641026}</td>\n",
       "      <td>0.847249</td>\n",
       "      <td>0.856112</td>\n",
       "      <td>0.871741</td>\n",
       "      <td>0.856035</td>\n",
       "      <td>0.860539</td>\n",
       "      <td>0.857356</td>\n",
       "      <td>0.858172</td>\n",
       "      <td>0.007286</td>\n",
       "      <td>5</td>\n",
       "    </tr>\n",
       "  </tbody>\n",
       "</table>\n",
       "</div>"
      ],
      "text/plain": [
       "    mean_fit_time  std_fit_time  mean_score_time  std_score_time param_alpha   \n",
       "30       0.046736      0.005051         0.008673        0.000772    0.838462  \\\n",
       "29       0.046374      0.005445         0.008971        0.000841    0.820513   \n",
       "16       0.040436      0.001772         0.007851        0.000146    0.587179   \n",
       "31       0.040919      0.001120         0.007828        0.000258     0.85641   \n",
       "28       0.040171      0.000549         0.007724        0.000069    0.802564   \n",
       "\n",
       "                           params  split0_test_score  split1_test_score   \n",
       "30  {'alpha': 0.8384615384615384}           0.847203           0.856112  \\\n",
       "29  {'alpha': 0.8205128205128205}           0.847249           0.856112   \n",
       "16  {'alpha': 0.5871794871794871}           0.848539           0.856885   \n",
       "31  {'alpha': 0.8564102564102563}           0.847422           0.855811   \n",
       "28  {'alpha': 0.8025641025641026}           0.847249           0.856112   \n",
       "\n",
       "    split2_test_score  split3_test_score  split4_test_score   \n",
       "30           0.872079           0.856631           0.859982  \\\n",
       "29           0.872379           0.856333           0.860238   \n",
       "16           0.871142           0.856760           0.859072   \n",
       "31           0.872079           0.856504           0.859898   \n",
       "28           0.871741           0.856035           0.860539   \n",
       "\n",
       "    split5_test_score  mean_test_score  std_test_score  rank_test_score  \n",
       "30           0.857826         0.858306        0.007344                1  \n",
       "29           0.857484         0.858299        0.007454                2  \n",
       "16           0.856930         0.858221        0.006671                3  \n",
       "31           0.857484         0.858200        0.007312                4  \n",
       "28           0.857356         0.858172        0.007286                5  "
      ]
     },
     "execution_count": 52,
     "metadata": {},
     "output_type": "execute_result"
    }
   ],
   "source": [
    "pd.DataFrame(model.cv_results_).sort_values(by=\"rank_test_score\").head()"
   ]
  },
  {
   "cell_type": "code",
   "execution_count": 46,
   "id": "7e31592a",
   "metadata": {},
   "outputs": [
    {
     "name": "stdout",
     "output_type": "stream",
     "text": [
      "Accuracy: 0.8564\n",
      "Precision: 0.8521651560926485\n",
      "Recall: 0.8576930873707683\n",
      "F1-score: 0.8549201858961406\n"
     ]
    }
   ],
   "source": [
    "X_test_counts = vectorizador.transform(X_test)\n",
    "X_test_tfidf = escaladorTfidf.transform(X_test_counts)\n",
    "y_pred = np.where(model.predict(X_test_tfidf) >= 0.5, 1, 0)\n",
    "\n",
    "print(\"Accuracy:\", accuracy_score(y_test, y_pred))\n",
    "print(\"Precision:\", precision_score(y_test, y_pred))\n",
    "print(\"Recall:\", recall_score(y_test, y_pred))\n",
    "print(\"F1-score:\", f1_score(y_test, y_pred))"
   ]
  },
  {
   "cell_type": "markdown",
   "id": "d1a57dfb-2710-4d8b-a908-9092d694285f",
   "metadata": {},
   "source": [
    "### Random Forest"
   ]
  },
  {
   "cell_type": "code",
   "execution_count": null,
   "id": "cb7e21e5-1e44-47d9-b75e-f428eed551a3",
   "metadata": {},
   "outputs": [],
   "source": []
  },
  {
   "cell_type": "markdown",
   "id": "adee283a-30f0-46a0-9ab1-a3b47977403d",
   "metadata": {},
   "source": [
    "### XGBoost"
   ]
  },
  {
   "cell_type": "code",
   "execution_count": null,
   "id": "116b3627-a0ee-435f-b2ed-50d7d2566b89",
   "metadata": {
    "tags": []
   },
   "outputs": [],
   "source": []
  },
  {
   "cell_type": "markdown",
   "id": "4548350f-e242-49f6-9fde-4fe63b3cbdb6",
   "metadata": {},
   "source": [
    "### Red neuronal con Keras y TensorFlow"
   ]
  },
  {
   "cell_type": "code",
   "execution_count": null,
   "id": "ff642e41-0622-45b8-8033-c373d017011b",
   "metadata": {},
   "outputs": [],
   "source": [
    "from keras.models import Sequential\n",
    "from keras.layers import LSTM\n",
    "from keras.layers import Embedding, Dense\n",
    "from keras.utils import pad_sequences"
   ]
  },
  {
   "cell_type": "code",
   "execution_count": null,
   "id": "0b4e540c-9ee3-40e3-be68-8e56db1266a0",
   "metadata": {
    "tags": []
   },
   "outputs": [],
   "source": [
    "tokenizer = Tokenizer()\n",
    "tokenizer.fit_on_texts(X_train)\n",
    "vocabulario = len(tokenizer.word_index) + 1"
   ]
  },
  {
   "cell_type": "code",
   "execution_count": null,
   "id": "d544325e-e956-450f-8010-8ca37abeb622",
   "metadata": {
    "tags": []
   },
   "outputs": [],
   "source": [
    "max_words = 500000\n",
    "X_train_sequences = tokenizer.texts_to_sequences(X_train)\n",
    "X_test_sequences = tokenizer.texts_to_sequences(X_test)\n",
    "X_train_padded = pad_sequences(X_train_sequences, maxlen=max_words)\n",
    "X_test_padded = pad_sequences(X_test_sequences, maxlen=max_words)"
   ]
  },
  {
   "cell_type": "code",
   "execution_count": null,
   "id": "688d8678-284e-4caf-a14d-da9e4aee51e5",
   "metadata": {
    "tags": []
   },
   "outputs": [],
   "source": [
    "lstm_nn = Sequential()\n",
    "\n",
    "lstm_nn.add(Embedding(vocabulario, 32, input_length=max_words,trainable=False))\n",
    "lstm_nn.add(LSTM(100))\n",
    "lstm_nn.add(Dense(1,activation='sigmoid'))"
   ]
  },
  {
   "cell_type": "code",
   "execution_count": null,
   "id": "816c9c2a-affa-4d49-9172-fd4f5a4240bc",
   "metadata": {
    "tags": []
   },
   "outputs": [],
   "source": [
    "lstm_nn.compile(optimizer='adam', loss='binary_crossentropy')\n",
    "print(lstm_nn.summary())"
   ]
  },
  {
   "cell_type": "code",
   "execution_count": null,
   "id": "556efff5-a461-4ae8-9202-367e58b6d057",
   "metadata": {
    "tags": []
   },
   "outputs": [],
   "source": [
    "lstm_nn_history = lstm_nn.fit(X_train_padded, y_train, epochs=6)"
   ]
  },
  {
   "cell_type": "code",
   "execution_count": null,
   "id": "2c3dcf84-f477-483d-9af7-b56d6f050821",
   "metadata": {
    "tags": []
   },
   "outputs": [],
   "source": [
    "y_pred = np.where(lstm_nn.predict(X_test_padded) >= 0.5, 1, 0)"
   ]
  },
  {
   "cell_type": "code",
   "execution_count": null,
   "id": "db89db3b-7946-450e-9a2e-86270d08d801",
   "metadata": {
    "tags": []
   },
   "outputs": [],
   "source": [
    "confusion = confusion_matrix(y_test, y_pred)\n",
    "sns.heatmap(confusion, annot=True, fmt='.0f')\n",
    "plt.ylabel('true')\n",
    "plt.xlabel('predicted')\n",
    "plt.title(\"Confusion matrix de validación\")"
   ]
  },
  {
   "cell_type": "code",
   "execution_count": null,
   "id": "6fbf9d76-e4eb-44a4-bd26-9eff154439ed",
   "metadata": {
    "tags": []
   },
   "outputs": [],
   "source": [
    "print(\"Accuracy:\", accuracy_score(y_test, y_pred))\n",
    "print(\"Precision:\", precision_score(y_test, y_pred))\n",
    "print(\"Recall:\", recall_score(y_test, y_pred))\n",
    "print(\"F1-score:\", f1_score(y_test, y_pred))"
   ]
  },
  {
   "cell_type": "code",
   "execution_count": null,
   "id": "b9eb9cbd-01f9-4fb3-8b08-690295f59d4b",
   "metadata": {},
   "outputs": [],
   "source": [
    "df_test = pd.read_csv(\"dataset/test.csv\")\n",
    "assert(len(df_test)==8599)\n",
    "\n",
    "X = df_test.review_es\n",
    "X_sequences = tokenizer.texts_to_sequences(X)\n",
    "X_padded = pad_sequences(X_sequences, maxlen=max_words)\n",
    "    \n",
    "prediccion = np.where(lstm_nn.predict(X_padded) >= 0.5, 'positivo', 'negativo').reshape(-1)\n",
    "assert(len(prediccion)==8599)\n",
    "\n",
    "submit = pd.DataFrame(\n",
    "    {\"sentimiento\": prediccion},\n",
    "    index=df_test[\"ID\"],\n",
    ")\n",
    "assert(len(submit)==8599)\n",
    "\n",
    "submit.to_csv(\"dataset/submit.csv\")"
   ]
  },
  {
   "cell_type": "markdown",
   "id": "34bfcb60-abcb-4a81-ad78-c196e8bc538d",
   "metadata": {},
   "source": [
    "### Ensamble de modelos"
   ]
  },
  {
   "cell_type": "code",
   "execution_count": null,
   "id": "b0c14d2a-d017-4be0-a913-753f44ee077e",
   "metadata": {},
   "outputs": [],
   "source": []
  },
  {
   "cell_type": "code",
   "execution_count": null,
   "id": "6562de0a-df77-4ae6-8718-5a50e0ecf9d9",
   "metadata": {},
   "outputs": [],
   "source": []
  }
 ],
 "metadata": {
  "kernelspec": {
   "display_name": "Python 3 (ipykernel)",
   "language": "python",
   "name": "python3"
  },
  "language_info": {
   "codemirror_mode": {
    "name": "ipython",
    "version": 3
   },
   "file_extension": ".py",
   "mimetype": "text/x-python",
   "name": "python",
   "nbconvert_exporter": "python",
   "pygments_lexer": "ipython3",
   "version": "3.11.3"
  }
 },
 "nbformat": 4,
 "nbformat_minor": 5
}
