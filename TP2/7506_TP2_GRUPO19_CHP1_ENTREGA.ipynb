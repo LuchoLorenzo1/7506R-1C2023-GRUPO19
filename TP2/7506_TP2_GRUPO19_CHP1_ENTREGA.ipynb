{
 "cells": [
  {
   "cell_type": "markdown",
   "id": "3adad8c9-6fbc-4b44-9c18-7cd36fdaf06f",
   "metadata": {},
   "source": [
    "# <center>Organizaci&oacute;n de Datos</center>\n",
    "## <center>Trabajo Práctico 2: Criticas de cine</center>\n",
    "\n",
    "#### Integrantes grupo 19: Sudanalytics \n",
    "* Adrian Leandro Re\n",
    "* Alan Toulouse\n",
    "* Luciano Lorenzo\n",
    "* Nicolas Tonizzo"
   ]
  },
  {
   "cell_type": "markdown",
   "id": "d078fb10-b41a-4422-806a-84782f1b972e",
   "metadata": {},
   "source": [
    "Importamos las librerias y modulos necesarios."
   ]
  },
  {
   "cell_type": "code",
   "execution_count": 25,
   "id": "52dfbb58-ce25-4d25-863b-1ea0a68a120e",
   "metadata": {
    "tags": []
   },
   "outputs": [],
   "source": [
    "import pandas as pd\n",
    "import numpy as np\n",
    "import seaborn as sns\n",
    "import matplotlib.pyplot as plt\n",
    "import pickle\n",
    "\n",
    "from sklearn.metrics import make_scorer, f1_score, confusion_matrix, precision_score, recall_score, accuracy_score"
   ]
  },
  {
   "cell_type": "markdown",
   "id": "357f5fb6-ff12-4a05-9c70-17beaf01c584",
   "metadata": {},
   "source": [
    "Cargamos nuestro set de entrenamiento"
   ]
  },
  {
   "cell_type": "code",
   "execution_count": 2,
   "id": "cece0f68-c142-458d-ac6e-4a9d57d1332d",
   "metadata": {
    "tags": []
   },
   "outputs": [
    {
     "data": {
      "text/html": [
       "<div>\n",
       "<style scoped>\n",
       "    .dataframe tbody tr th:only-of-type {\n",
       "        vertical-align: middle;\n",
       "    }\n",
       "\n",
       "    .dataframe tbody tr th {\n",
       "        vertical-align: top;\n",
       "    }\n",
       "\n",
       "    .dataframe thead th {\n",
       "        text-align: right;\n",
       "    }\n",
       "</style>\n",
       "<table border=\"1\" class=\"dataframe\">\n",
       "  <thead>\n",
       "    <tr style=\"text-align: right;\">\n",
       "      <th></th>\n",
       "      <th>ID</th>\n",
       "      <th>review_es</th>\n",
       "      <th>sentimiento</th>\n",
       "    </tr>\n",
       "  </thead>\n",
       "  <tbody>\n",
       "    <tr>\n",
       "      <th>0</th>\n",
       "      <td>0</td>\n",
       "      <td>Uno de los otros críticos ha mencionado que de...</td>\n",
       "      <td>positivo</td>\n",
       "    </tr>\n",
       "    <tr>\n",
       "      <th>1</th>\n",
       "      <td>1</td>\n",
       "      <td>Una pequeña pequeña producción.La técnica de f...</td>\n",
       "      <td>positivo</td>\n",
       "    </tr>\n",
       "    <tr>\n",
       "      <th>2</th>\n",
       "      <td>2</td>\n",
       "      <td>Pensé que esta era una manera maravillosa de p...</td>\n",
       "      <td>positivo</td>\n",
       "    </tr>\n",
       "    <tr>\n",
       "      <th>3</th>\n",
       "      <td>3</td>\n",
       "      <td>Básicamente, hay una familia donde un niño peq...</td>\n",
       "      <td>negativo</td>\n",
       "    </tr>\n",
       "    <tr>\n",
       "      <th>4</th>\n",
       "      <td>4</td>\n",
       "      <td>El \"amor en el tiempo\" de Petter Mattei es una...</td>\n",
       "      <td>positivo</td>\n",
       "    </tr>\n",
       "  </tbody>\n",
       "</table>\n",
       "</div>"
      ],
      "text/plain": [
       "   ID                                          review_es sentimiento\n",
       "0   0  Uno de los otros críticos ha mencionado que de...    positivo\n",
       "1   1  Una pequeña pequeña producción.La técnica de f...    positivo\n",
       "2   2  Pensé que esta era una manera maravillosa de p...    positivo\n",
       "3   3  Básicamente, hay una familia donde un niño peq...    negativo\n",
       "4   4  El \"amor en el tiempo\" de Petter Mattei es una...    positivo"
      ]
     },
     "execution_count": 2,
     "metadata": {},
     "output_type": "execute_result"
    }
   ],
   "source": [
    "df = pd.read_csv(\"dataset/train.csv\")\n",
    "df.head()"
   ]
  },
  {
   "cell_type": "markdown",
   "id": "d9591530-f175-4ada-b17a-705709a5f432",
   "metadata": {},
   "source": [
    "## Feature Engineering"
   ]
  },
  {
   "cell_type": "markdown",
   "id": "fe4408cb-500f-49e1-8f27-36f5ca338841",
   "metadata": {},
   "source": [
    "Primero verificamos que no haya ningun valor nulo en nuestro dataframe, ya que no tendria sentido hacer el analisis de sentimientos a partir de una review vacía."
   ]
  },
  {
   "cell_type": "code",
   "execution_count": 3,
   "id": "6a1fcc23-a2c3-48f6-b1c5-a52a3bdc202c",
   "metadata": {
    "tags": []
   },
   "outputs": [
    {
     "data": {
      "text/plain": [
       "0"
      ]
     },
     "execution_count": 3,
     "metadata": {},
     "output_type": "execute_result"
    }
   ],
   "source": [
    "df['review_es'].isnull().sum()"
   ]
  },
  {
   "cell_type": "markdown",
   "id": "a63e76d6-0d4e-457f-9b2c-501cdeae688d",
   "metadata": {},
   "source": [
    "Encodeamos el target para que las review positivas esten representadas por un 1 y las negativas por 0."
   ]
  },
  {
   "cell_type": "code",
   "execution_count": 4,
   "id": "74b99b9f-5bc3-4380-8d84-7fc68748cfdc",
   "metadata": {
    "tags": []
   },
   "outputs": [],
   "source": [
    "df['sentimiento_es_positivo'] = np.where(df.sentimiento == 'positivo', 1, 0)"
   ]
  },
  {
   "cell_type": "markdown",
   "id": "f932dbf9-d7ed-4db7-8597-949f45b51b24",
   "metadata": {},
   "source": [
    "Pasamos todos los caracteres a minúscula para que sea más fácil preporcesarlos."
   ]
  },
  {
   "cell_type": "code",
   "execution_count": 5,
   "id": "a68176ab-6dd2-4389-8b18-43cc7de03330",
   "metadata": {
    "tags": []
   },
   "outputs": [],
   "source": [
    "df['review_es'] = df['review_es'].str.lower()"
   ]
  },
  {
   "cell_type": "markdown",
   "id": "aca52e7c-c7a5-423a-8fd4-0b91a841f83a",
   "metadata": {},
   "source": [
    "Quitamos los acentos de todas las palabras y reemplazamos el caracter ñ por n."
   ]
  },
  {
   "cell_type": "code",
   "execution_count": 6,
   "id": "ea0e1c4a-4303-4c93-a890-2f4baaf97d27",
   "metadata": {
    "tags": []
   },
   "outputs": [],
   "source": [
    "caracteres_especiales = {'á':'a', 'é':'e', 'í':'i', 'ó':'o', 'ú':'u', 'ñ':'n'}\n",
    "for original, nuevo in caracteres_especiales.items():\n",
    "    df['review_es'] = df['review_es'].str.replace(original, nuevo, regex=True)"
   ]
  },
  {
   "cell_type": "markdown",
   "id": "103e5b14-9eb6-4ab4-acc0-767520d94cc6",
   "metadata": {},
   "source": [
    "Removemos todo caracter que no sean letras (números, puntos, comas, comillas, etc.) y los espacios dobles que puedan llegar a aparecer con esta operación."
   ]
  },
  {
   "cell_type": "code",
   "execution_count": 7,
   "id": "7db63314-c3cd-4c4b-917e-5a0fd6373f22",
   "metadata": {
    "tags": []
   },
   "outputs": [],
   "source": [
    "df['review_es'] = df['review_es'].str.replace('[^a-zA-Z]', ' ', regex=True)\n",
    "df['review_es'] = df['review_es'].str.replace('  ', ' ', regex=True)"
   ]
  },
  {
   "cell_type": "markdown",
   "id": "136abfe4-0ebf-4ff5-b67e-acff4c2d1cf3",
   "metadata": {},
   "source": [
    "Como último paso para el preprocesamiento, eliminamos las stopwords"
   ]
  },
  {
   "cell_type": "code",
   "execution_count": 8,
   "id": "4df010c7-7a7b-4afa-bdb9-5e87b4f87e26",
   "metadata": {
    "tags": []
   },
   "outputs": [],
   "source": [
    "from nltk.corpus import stopwords\n",
    "palabras = '|'.join(stopwords.words('spanish'))\n",
    "df['review_es'] = df['review_es'].str.replace(fr'\\b({palabras})\\b', '',regex=True)"
   ]
  },
  {
   "cell_type": "markdown",
   "id": "8add164a-6482-45f5-80df-735006789950",
   "metadata": {},
   "source": [
    "Nuestro dataset preprocesado queda de la siguiente manera:"
   ]
  },
  {
   "cell_type": "code",
   "execution_count": 9,
   "id": "8d8e7442-eb2d-4c84-94b0-cd1bf7841557",
   "metadata": {
    "tags": []
   },
   "outputs": [
    {
     "data": {
      "text/html": [
       "<div>\n",
       "<style scoped>\n",
       "    .dataframe tbody tr th:only-of-type {\n",
       "        vertical-align: middle;\n",
       "    }\n",
       "\n",
       "    .dataframe tbody tr th {\n",
       "        vertical-align: top;\n",
       "    }\n",
       "\n",
       "    .dataframe thead th {\n",
       "        text-align: right;\n",
       "    }\n",
       "</style>\n",
       "<table border=\"1\" class=\"dataframe\">\n",
       "  <thead>\n",
       "    <tr style=\"text-align: right;\">\n",
       "      <th></th>\n",
       "      <th>ID</th>\n",
       "      <th>review_es</th>\n",
       "      <th>sentimiento</th>\n",
       "      <th>sentimiento_es_positivo</th>\n",
       "    </tr>\n",
       "  </thead>\n",
       "  <tbody>\n",
       "    <tr>\n",
       "      <th>0</th>\n",
       "      <td>0</td>\n",
       "      <td>criticos  mencionado  despues  ver solo  o...</td>\n",
       "      <td>positivo</td>\n",
       "      <td>1</td>\n",
       "    </tr>\n",
       "    <tr>\n",
       "      <th>1</th>\n",
       "      <td>1</td>\n",
       "      <td>pequena pequena produccion  tecnica  filmacio...</td>\n",
       "      <td>positivo</td>\n",
       "      <td>1</td>\n",
       "    </tr>\n",
       "    <tr>\n",
       "      <th>2</th>\n",
       "      <td>2</td>\n",
       "      <td>pense     manera maravillosa  pasar tiempo   f...</td>\n",
       "      <td>positivo</td>\n",
       "      <td>1</td>\n",
       "    </tr>\n",
       "    <tr>\n",
       "      <th>3</th>\n",
       "      <td>3</td>\n",
       "      <td>basicamente   familia   nino pequeno jake pien...</td>\n",
       "      <td>negativo</td>\n",
       "      <td>0</td>\n",
       "    </tr>\n",
       "    <tr>\n",
       "      <th>4</th>\n",
       "      <td>4</td>\n",
       "      <td>amor   tiempo  petter mattei   pelicula visua...</td>\n",
       "      <td>positivo</td>\n",
       "      <td>1</td>\n",
       "    </tr>\n",
       "    <tr>\n",
       "      <th>5</th>\n",
       "      <td>5</td>\n",
       "      <td>probablemente  pelicula favorita    tiempos  h...</td>\n",
       "      <td>positivo</td>\n",
       "      <td>1</td>\n",
       "    </tr>\n",
       "    <tr>\n",
       "      <th>6</th>\n",
       "      <td>6</td>\n",
       "      <td>seguro   gustaria ver  resurreccion   serie  s...</td>\n",
       "      <td>positivo</td>\n",
       "      <td>1</td>\n",
       "    </tr>\n",
       "    <tr>\n",
       "      <th>7</th>\n",
       "      <td>7</td>\n",
       "      <td>espectaculo   idea increible fresca  innovado...</td>\n",
       "      <td>negativo</td>\n",
       "      <td>0</td>\n",
       "    </tr>\n",
       "    <tr>\n",
       "      <th>8</th>\n",
       "      <td>8</td>\n",
       "      <td>alentados   comentarios positivos   pelicula a...</td>\n",
       "      <td>negativo</td>\n",
       "      <td>0</td>\n",
       "    </tr>\n",
       "    <tr>\n",
       "      <th>9</th>\n",
       "      <td>9</td>\n",
       "      <td>si  gusta  risa original desgarradora  gustara...</td>\n",
       "      <td>positivo</td>\n",
       "      <td>1</td>\n",
       "    </tr>\n",
       "    <tr>\n",
       "      <th>10</th>\n",
       "      <td>10</td>\n",
       "      <td>phil  alienigena     peliculas peculiares   hu...</td>\n",
       "      <td>negativo</td>\n",
       "      <td>0</td>\n",
       "    </tr>\n",
       "    <tr>\n",
       "      <th>11</th>\n",
       "      <td>11</td>\n",
       "      <td>vi  pelicula  tenia alrededor    sali recuerdo...</td>\n",
       "      <td>negativo</td>\n",
       "      <td>0</td>\n",
       "    </tr>\n",
       "    <tr>\n",
       "      <th>12</th>\n",
       "      <td>12</td>\n",
       "      <td>asi     gran fanatico  trabajo  boll   nuevo  ...</td>\n",
       "      <td>negativo</td>\n",
       "      <td>0</td>\n",
       "    </tr>\n",
       "    <tr>\n",
       "      <th>13</th>\n",
       "      <td>13</td>\n",
       "      <td>reparto jugo  shakespeare shakespeare perdido...</td>\n",
       "      <td>negativo</td>\n",
       "      <td>0</td>\n",
       "    </tr>\n",
       "    <tr>\n",
       "      <th>14</th>\n",
       "      <td>14</td>\n",
       "      <td>fantastica pelicula  tres prisioneros   hac...</td>\n",
       "      <td>positivo</td>\n",
       "      <td>1</td>\n",
       "    </tr>\n",
       "  </tbody>\n",
       "</table>\n",
       "</div>"
      ],
      "text/plain": [
       "    ID                                          review_es sentimiento   \n",
       "0    0      criticos  mencionado  despues  ver solo  o...    positivo  \\\n",
       "1    1   pequena pequena produccion  tecnica  filmacio...    positivo   \n",
       "2    2  pense     manera maravillosa  pasar tiempo   f...    positivo   \n",
       "3    3  basicamente   familia   nino pequeno jake pien...    negativo   \n",
       "4    4   amor   tiempo  petter mattei   pelicula visua...    positivo   \n",
       "5    5  probablemente  pelicula favorita    tiempos  h...    positivo   \n",
       "6    6  seguro   gustaria ver  resurreccion   serie  s...    positivo   \n",
       "7    7   espectaculo   idea increible fresca  innovado...    negativo   \n",
       "8    8  alentados   comentarios positivos   pelicula a...    negativo   \n",
       "9    9  si  gusta  risa original desgarradora  gustara...    positivo   \n",
       "10  10  phil  alienigena     peliculas peculiares   hu...    negativo   \n",
       "11  11  vi  pelicula  tenia alrededor    sali recuerdo...    negativo   \n",
       "12  12  asi     gran fanatico  trabajo  boll   nuevo  ...    negativo   \n",
       "13  13   reparto jugo  shakespeare shakespeare perdido...    negativo   \n",
       "14  14     fantastica pelicula  tres prisioneros   hac...    positivo   \n",
       "\n",
       "    sentimiento_es_positivo  \n",
       "0                         1  \n",
       "1                         1  \n",
       "2                         1  \n",
       "3                         0  \n",
       "4                         1  \n",
       "5                         1  \n",
       "6                         1  \n",
       "7                         0  \n",
       "8                         0  \n",
       "9                         1  \n",
       "10                        0  \n",
       "11                        0  \n",
       "12                        0  \n",
       "13                        0  \n",
       "14                        1  "
      ]
     },
     "execution_count": 9,
     "metadata": {},
     "output_type": "execute_result"
    }
   ],
   "source": [
    "df.head(15)"
   ]
  },
  {
   "cell_type": "markdown",
   "id": "0213be94-fcd4-4178-888d-e1759f139b3f",
   "metadata": {},
   "source": [
    "## Sets de test y train\n",
    "Dividimos el dataframe en datos de test y train. Usaremos estos mismos sets para el entrenamiento de todos los modelos."
   ]
  },
  {
   "cell_type": "code",
   "execution_count": 105,
   "id": "68b64756-1fcb-417e-ab4d-144e6d69beca",
   "metadata": {
    "tags": []
   },
   "outputs": [],
   "source": [
    "from sklearn.model_selection import train_test_split\n",
    "from keras.preprocessing.text import Tokenizer\n",
    "\n",
    "X = df.review_es\n",
    "y = df.sentimiento_es_positivo\n",
    "X_train, X_test, y_train, y_test = train_test_split(X, y, test_size=0.2, random_state=19)"
   ]
  },
  {
   "cell_type": "markdown",
   "id": "8df89a4f-c5b2-48ea-8f00-a28d3387eb30",
   "metadata": {},
   "source": [
    "## Ensamblado de modelos"
   ]
  },
  {
   "cell_type": "markdown",
   "id": "e7475dee-4cae-4cd9-b81e-1205d6962b61",
   "metadata": {},
   "source": [
    "### Bayes Naive\n",
    "Primero transformamos nuestros documentos en una matriz en la cual se almacena la cantidad de tokens (\"palabras clave\"). Luego convertimos esa misma matriz en una representación normalizada de término/frecuencia. \n",
    "Esto lo hacemos para reducir el impacto de los tokens que aparecen más veces."
   ]
  },
  {
   "cell_type": "code",
   "execution_count": 106,
   "id": "23ddf491-7fb6-4674-9913-0cb0b4adc914",
   "metadata": {
    "tags": []
   },
   "outputs": [
    {
     "name": "stdout",
     "output_type": "stream",
     "text": [
      "  (0, 151956)\t0.07839375983945933\n",
      "  (0, 151166)\t0.11323120376010341\n",
      "  (0, 150776)\t0.08902974801322862\n",
      "  (0, 149990)\t0.07465001685823258\n",
      "  (0, 149669)\t0.07447143467830195\n",
      "  (0, 147913)\t0.10162340869422316\n",
      "  (0, 146910)\t0.14883229052925429\n",
      "  (0, 144470)\t0.14883229052925429\n",
      "  (0, 140314)\t0.12501222871042422\n",
      "  (0, 139438)\t0.08390310466935802\n",
      "  (0, 139343)\t0.06384473070243955\n",
      "  (0, 139053)\t0.24962846284902818\n",
      "  (0, 137803)\t0.12154780116327625\n",
      "  (0, 135914)\t0.11291771666467475\n",
      "  (0, 135710)\t0.10344786027627755\n",
      "  (0, 134565)\t0.11062648715600867\n",
      "  (0, 131011)\t0.1295656000608667\n",
      "  (0, 129473)\t0.1530257136075339\n",
      "  (0, 128411)\t0.2538159476458894\n",
      "  (0, 126504)\t0.10411054657793721\n",
      "  (0, 117107)\t0.13547589793687673\n",
      "  (0, 109407)\t0.08570497439079185\n",
      "  (0, 107610)\t0.09367171688551747\n",
      "  (0, 106571)\t0.09479023379855103\n",
      "  (0, 103701)\t0.09649593451515524\n",
      "  :\t:\n",
      "  (39999, 16409)\t0.06953640167761231\n",
      "  (39999, 16025)\t0.019221553286145755\n",
      "  (39999, 15386)\t0.06314997104237892\n",
      "  (39999, 12029)\t0.05467957974000992\n",
      "  (39999, 11563)\t0.06105652174974218\n",
      "  (39999, 10874)\t0.05381501635044175\n",
      "  (39999, 10345)\t0.02124471382602533\n",
      "  (39999, 8785)\t0.02342922588338872\n",
      "  (39999, 7852)\t0.03767639556285229\n",
      "  (39999, 7790)\t0.050147242805258244\n",
      "  (39999, 7119)\t0.021148800230637577\n",
      "  (39999, 6767)\t0.06511310266343837\n",
      "  (39999, 6538)\t0.034322469660044715\n",
      "  (39999, 6149)\t0.02889308637192328\n",
      "  (39999, 6057)\t0.03126762288643291\n",
      "  (39999, 6056)\t0.033537424433441876\n",
      "  (39999, 5699)\t0.04859207980464183\n",
      "  (39999, 5117)\t0.030026937473502033\n",
      "  (39999, 4918)\t0.06023572026136585\n",
      "  (39999, 4804)\t0.02865795872895924\n",
      "  (39999, 3224)\t0.042149224943681826\n",
      "  (39999, 2524)\t0.03929360897253551\n",
      "  (39999, 1956)\t0.03522779372425148\n",
      "  (39999, 1865)\t0.07104234994917163\n",
      "  (39999, 1824)\t0.02455460170330064\n"
     ]
    }
   ],
   "source": [
    "from sklearn.feature_extraction.text import CountVectorizer, TfidfTransformer\n",
    "from sklearn.naive_bayes import MultinomialNB\n",
    "\n",
    "vectorizador = CountVectorizer()\n",
    "X_train_counts = vectorizador.fit_transform(X_train)\n",
    "\n",
    "escaladorTfidf = TfidfTransformer()\n",
    "X_train_tfidf = escaladorTfidf.fit_transform(X_train_counts)\n",
    "\n",
    "print(X_train_tfidf)"
   ]
  },
  {
   "cell_type": "markdown",
   "id": "d21e9ef6-2f6e-4767-a083-7d8e100369b6",
   "metadata": {},
   "source": [
    "Ahora que tenemos la información en el formato correcto, creamos nuestro modelo de tipo Bayes Naive. En este caso usamos uno de tipo multinomial."
   ]
  },
  {
   "cell_type": "code",
   "execution_count": 107,
   "id": "a353fbf8-82e2-4af5-9098-e32a82ca6d49",
   "metadata": {
    "tags": []
   },
   "outputs": [
    {
     "data": {
      "text/html": [
       "<style>#sk-container-id-12 {color: black;background-color: white;}#sk-container-id-12 pre{padding: 0;}#sk-container-id-12 div.sk-toggleable {background-color: white;}#sk-container-id-12 label.sk-toggleable__label {cursor: pointer;display: block;width: 100%;margin-bottom: 0;padding: 0.3em;box-sizing: border-box;text-align: center;}#sk-container-id-12 label.sk-toggleable__label-arrow:before {content: \"▸\";float: left;margin-right: 0.25em;color: #696969;}#sk-container-id-12 label.sk-toggleable__label-arrow:hover:before {color: black;}#sk-container-id-12 div.sk-estimator:hover label.sk-toggleable__label-arrow:before {color: black;}#sk-container-id-12 div.sk-toggleable__content {max-height: 0;max-width: 0;overflow: hidden;text-align: left;background-color: #f0f8ff;}#sk-container-id-12 div.sk-toggleable__content pre {margin: 0.2em;color: black;border-radius: 0.25em;background-color: #f0f8ff;}#sk-container-id-12 input.sk-toggleable__control:checked~div.sk-toggleable__content {max-height: 200px;max-width: 100%;overflow: auto;}#sk-container-id-12 input.sk-toggleable__control:checked~label.sk-toggleable__label-arrow:before {content: \"▾\";}#sk-container-id-12 div.sk-estimator input.sk-toggleable__control:checked~label.sk-toggleable__label {background-color: #d4ebff;}#sk-container-id-12 div.sk-label input.sk-toggleable__control:checked~label.sk-toggleable__label {background-color: #d4ebff;}#sk-container-id-12 input.sk-hidden--visually {border: 0;clip: rect(1px 1px 1px 1px);clip: rect(1px, 1px, 1px, 1px);height: 1px;margin: -1px;overflow: hidden;padding: 0;position: absolute;width: 1px;}#sk-container-id-12 div.sk-estimator {font-family: monospace;background-color: #f0f8ff;border: 1px dotted black;border-radius: 0.25em;box-sizing: border-box;margin-bottom: 0.5em;}#sk-container-id-12 div.sk-estimator:hover {background-color: #d4ebff;}#sk-container-id-12 div.sk-parallel-item::after {content: \"\";width: 100%;border-bottom: 1px solid gray;flex-grow: 1;}#sk-container-id-12 div.sk-label:hover label.sk-toggleable__label {background-color: #d4ebff;}#sk-container-id-12 div.sk-serial::before {content: \"\";position: absolute;border-left: 1px solid gray;box-sizing: border-box;top: 0;bottom: 0;left: 50%;z-index: 0;}#sk-container-id-12 div.sk-serial {display: flex;flex-direction: column;align-items: center;background-color: white;padding-right: 0.2em;padding-left: 0.2em;position: relative;}#sk-container-id-12 div.sk-item {position: relative;z-index: 1;}#sk-container-id-12 div.sk-parallel {display: flex;align-items: stretch;justify-content: center;background-color: white;position: relative;}#sk-container-id-12 div.sk-item::before, #sk-container-id-12 div.sk-parallel-item::before {content: \"\";position: absolute;border-left: 1px solid gray;box-sizing: border-box;top: 0;bottom: 0;left: 50%;z-index: -1;}#sk-container-id-12 div.sk-parallel-item {display: flex;flex-direction: column;z-index: 1;position: relative;background-color: white;}#sk-container-id-12 div.sk-parallel-item:first-child::after {align-self: flex-end;width: 50%;}#sk-container-id-12 div.sk-parallel-item:last-child::after {align-self: flex-start;width: 50%;}#sk-container-id-12 div.sk-parallel-item:only-child::after {width: 0;}#sk-container-id-12 div.sk-dashed-wrapped {border: 1px dashed gray;margin: 0 0.4em 0.5em 0.4em;box-sizing: border-box;padding-bottom: 0.4em;background-color: white;}#sk-container-id-12 div.sk-label label {font-family: monospace;font-weight: bold;display: inline-block;line-height: 1.2em;}#sk-container-id-12 div.sk-label-container {text-align: center;}#sk-container-id-12 div.sk-container {/* jupyter's `normalize.less` sets `[hidden] { display: none; }` but bootstrap.min.css set `[hidden] { display: none !important; }` so we also need the `!important` here to be able to override the default hidden behavior on the sphinx rendered scikit-learn.org. See: https://github.com/scikit-learn/scikit-learn/issues/21755 */display: inline-block !important;position: relative;}#sk-container-id-12 div.sk-text-repr-fallback {display: none;}</style><div id=\"sk-container-id-12\" class=\"sk-top-container\"><div class=\"sk-text-repr-fallback\"><pre>MultinomialNB()</pre><b>In a Jupyter environment, please rerun this cell to show the HTML representation or trust the notebook. <br />On GitHub, the HTML representation is unable to render, please try loading this page with nbviewer.org.</b></div><div class=\"sk-container\" hidden><div class=\"sk-item\"><div class=\"sk-estimator sk-toggleable\"><input class=\"sk-toggleable__control sk-hidden--visually\" id=\"sk-estimator-id-39\" type=\"checkbox\" checked><label for=\"sk-estimator-id-39\" class=\"sk-toggleable__label sk-toggleable__label-arrow\">MultinomialNB</label><div class=\"sk-toggleable__content\"><pre>MultinomialNB()</pre></div></div></div></div></div>"
      ],
      "text/plain": [
       "MultinomialNB()"
      ]
     },
     "execution_count": 107,
     "metadata": {},
     "output_type": "execute_result"
    }
   ],
   "source": [
    "clasificadorBayesNaive = MultinomialNB()\n",
    "clasificadorBayesNaive.fit(X_train_tfidf, y_train)"
   ]
  },
  {
   "cell_type": "markdown",
   "id": "ee86bea6-d19d-4c7a-9718-0deb37d67649",
   "metadata": {
    "tags": []
   },
   "source": [
    "Realizamos el mismo procedimiento para transformar los datos de validación y poder realizar nuestras predicciones."
   ]
  },
  {
   "cell_type": "code",
   "execution_count": 108,
   "id": "58b0f204-a797-4209-9e57-26082928411d",
   "metadata": {
    "tags": []
   },
   "outputs": [],
   "source": [
    "X_test_counts = vectorizador.transform(X_test)\n",
    "X_test_tfidf = escaladorTfidf.transform(X_test_counts)\n",
    "y_pred = np.where(clasificadorBayesNaive.predict(X_test_tfidf) >= 0.5, 1, 0)"
   ]
  },
  {
   "cell_type": "markdown",
   "id": "7c256099-641f-4148-a4b8-e1e2835c66fb",
   "metadata": {},
   "source": [
    "Construimos nuestra matriz de confusión y analizamos métricas"
   ]
  },
  {
   "cell_type": "code",
   "execution_count": 109,
   "id": "2bbc22a4-894c-49a8-856b-085038f324da",
   "metadata": {
    "tags": []
   },
   "outputs": [
    {
     "data": {
      "text/plain": [
       "Text(0.5, 1.0, 'Confusion matrix de validación')"
      ]
     },
     "execution_count": 109,
     "metadata": {},
     "output_type": "execute_result"
    },
    {
     "data": {
      "image/png": "[encoded data removed]",
      "text/plain": [
       "<Figure size 640x480 with 2 Axes>"
      ]
     },
     "metadata": {},
     "output_type": "display_data"
    }
   ],
   "source": [
    "confusion = confusion_matrix(y_test, y_pred)\n",
    "sns.heatmap(confusion, annot=True, fmt='.0f')\n",
    "plt.ylabel('true')\n",
    "plt.xlabel('predicted')\n",
    "plt.title(\"Confusion matrix de validación\")"
   ]
  },
  {
   "cell_type": "code",
   "execution_count": 110,
   "id": "21cb966b-ac09-465f-8e2a-869f818e06fe",
   "metadata": {
    "tags": []
   },
   "outputs": [
    {
     "name": "stdout",
     "output_type": "stream",
     "text": [
      "Accuracy: 0.8552\n",
      "Precision: 0.8503921174341443\n",
      "Recall: 0.8572876545712548\n",
      "F1-score: 0.8538259640621845\n"
     ]
    }
   ],
   "source": [
    "print(\"Accuracy:\", accuracy_score(y_test, y_pred))\n",
    "print(\"Precision:\", precision_score(y_test, y_pred))\n",
    "print(\"Recall:\", recall_score(y_test, y_pred))\n",
    "print(\"F1-score:\", f1_score(y_test, y_pred))"
   ]
  },
  {
   "cell_type": "markdown",
   "id": "402dffb2-1591-4c64-a5a1-b800b2212296",
   "metadata": {},
   "source": [
    "Creamos el submit para la competencia de Kaggle."
   ]
  },
  {
   "cell_type": "code",
   "execution_count": 16,
   "id": "1b4502a0",
   "metadata": {
    "tags": []
   },
   "outputs": [],
   "source": [
    "df_test = pd.read_csv(\"dataset/test.csv\")\n",
    "assert(len(df_test)==8599)\n",
    "\n",
    "X = df_test['review_es']\n",
    "    \n",
    "X_counts = vectorizador.transform(X)\n",
    "X_tfidf = escaladorTfidf.transform(X_counts)\n",
    "    \n",
    "prediccion = np.where(clasificadorBayesNaive.predict(X_tfidf) >= 0.5, 'positivo', 'negativo')\n",
    "\n",
    "assert(len(prediccion)==8599)\n",
    "\n",
    "submit = pd.DataFrame(\n",
    "    {\"sentimiento\": prediccion},\n",
    "    index=df_test[\"ID\"],\n",
    ")\n",
    "assert(len(submit)==8599)\n",
    "\n",
    "submit.to_csv(\"dataset/submit.csv\")"
   ]
  },
  {
   "cell_type": "markdown",
   "id": "a47118df",
   "metadata": {},
   "source": [
    "### Cross validation naive bayes"
   ]
  },
  {
   "cell_type": "code",
   "execution_count": 112,
   "id": "dc89ed11",
   "metadata": {
    "tags": []
   },
   "outputs": [],
   "source": [
    "from sklearn.model_selection import GridSearchCV\n",
    "from sklearn.model_selection import StratifiedKFold"
   ]
  },
  {
   "cell_type": "code",
   "execution_count": 113,
   "id": "1f351ba9",
   "metadata": {
    "tags": []
   },
   "outputs": [
    {
     "data": {
      "text/html": [
       "<style>#sk-container-id-13 {color: black;background-color: white;}#sk-container-id-13 pre{padding: 0;}#sk-container-id-13 div.sk-toggleable {background-color: white;}#sk-container-id-13 label.sk-toggleable__label {cursor: pointer;display: block;width: 100%;margin-bottom: 0;padding: 0.3em;box-sizing: border-box;text-align: center;}#sk-container-id-13 label.sk-toggleable__label-arrow:before {content: \"▸\";float: left;margin-right: 0.25em;color: #696969;}#sk-container-id-13 label.sk-toggleable__label-arrow:hover:before {color: black;}#sk-container-id-13 div.sk-estimator:hover label.sk-toggleable__label-arrow:before {color: black;}#sk-container-id-13 div.sk-toggleable__content {max-height: 0;max-width: 0;overflow: hidden;text-align: left;background-color: #f0f8ff;}#sk-container-id-13 div.sk-toggleable__content pre {margin: 0.2em;color: black;border-radius: 0.25em;background-color: #f0f8ff;}#sk-container-id-13 input.sk-toggleable__control:checked~div.sk-toggleable__content {max-height: 200px;max-width: 100%;overflow: auto;}#sk-container-id-13 input.sk-toggleable__control:checked~label.sk-toggleable__label-arrow:before {content: \"▾\";}#sk-container-id-13 div.sk-estimator input.sk-toggleable__control:checked~label.sk-toggleable__label {background-color: #d4ebff;}#sk-container-id-13 div.sk-label input.sk-toggleable__control:checked~label.sk-toggleable__label {background-color: #d4ebff;}#sk-container-id-13 input.sk-hidden--visually {border: 0;clip: rect(1px 1px 1px 1px);clip: rect(1px, 1px, 1px, 1px);height: 1px;margin: -1px;overflow: hidden;padding: 0;position: absolute;width: 1px;}#sk-container-id-13 div.sk-estimator {font-family: monospace;background-color: #f0f8ff;border: 1px dotted black;border-radius: 0.25em;box-sizing: border-box;margin-bottom: 0.5em;}#sk-container-id-13 div.sk-estimator:hover {background-color: #d4ebff;}#sk-container-id-13 div.sk-parallel-item::after {content: \"\";width: 100%;border-bottom: 1px solid gray;flex-grow: 1;}#sk-container-id-13 div.sk-label:hover label.sk-toggleable__label {background-color: #d4ebff;}#sk-container-id-13 div.sk-serial::before {content: \"\";position: absolute;border-left: 1px solid gray;box-sizing: border-box;top: 0;bottom: 0;left: 50%;z-index: 0;}#sk-container-id-13 div.sk-serial {display: flex;flex-direction: column;align-items: center;background-color: white;padding-right: 0.2em;padding-left: 0.2em;position: relative;}#sk-container-id-13 div.sk-item {position: relative;z-index: 1;}#sk-container-id-13 div.sk-parallel {display: flex;align-items: stretch;justify-content: center;background-color: white;position: relative;}#sk-container-id-13 div.sk-item::before, #sk-container-id-13 div.sk-parallel-item::before {content: \"\";position: absolute;border-left: 1px solid gray;box-sizing: border-box;top: 0;bottom: 0;left: 50%;z-index: -1;}#sk-container-id-13 div.sk-parallel-item {display: flex;flex-direction: column;z-index: 1;position: relative;background-color: white;}#sk-container-id-13 div.sk-parallel-item:first-child::after {align-self: flex-end;width: 50%;}#sk-container-id-13 div.sk-parallel-item:last-child::after {align-self: flex-start;width: 50%;}#sk-container-id-13 div.sk-parallel-item:only-child::after {width: 0;}#sk-container-id-13 div.sk-dashed-wrapped {border: 1px dashed gray;margin: 0 0.4em 0.5em 0.4em;box-sizing: border-box;padding-bottom: 0.4em;background-color: white;}#sk-container-id-13 div.sk-label label {font-family: monospace;font-weight: bold;display: inline-block;line-height: 1.2em;}#sk-container-id-13 div.sk-label-container {text-align: center;}#sk-container-id-13 div.sk-container {/* jupyter's `normalize.less` sets `[hidden] { display: none; }` but bootstrap.min.css set `[hidden] { display: none !important; }` so we also need the `!important` here to be able to override the default hidden behavior on the sphinx rendered scikit-learn.org. See: https://github.com/scikit-learn/scikit-learn/issues/21755 */display: inline-block !important;position: relative;}#sk-container-id-13 div.sk-text-repr-fallback {display: none;}</style><div id=\"sk-container-id-13\" class=\"sk-top-container\"><div class=\"sk-text-repr-fallback\"><pre>GridSearchCV(cv=StratifiedKFold(n_splits=6, random_state=None, shuffle=False),\n",
       "             estimator=MultinomialNB(fit_prior=False),\n",
       "             param_grid={&#x27;alpha&#x27;: array([0.3       , 0.31794872, 0.33589744, 0.35384615, 0.37179487,\n",
       "       0.38974359, 0.40769231, 0.42564103, 0.44358974, 0.46153846,\n",
       "       0.47948718, 0.4974359 , 0.51538462, 0.53333333, 0.55128205,\n",
       "       0.56923077, 0.58717949, 0.60512821, 0.62307692, 0.64102564,\n",
       "       0.65897436, 0.67692308, 0.69487179, 0.71282051, 0.73076923,\n",
       "       0.74871795, 0.76666667, 0.78461538, 0.8025641 , 0.82051282,\n",
       "       0.83846154, 0.85641026, 0.87435897, 0.89230769, 0.91025641,\n",
       "       0.92820513, 0.94615385, 0.96410256, 0.98205128, 1.        ])},\n",
       "             scoring=make_scorer(f1_score))</pre><b>In a Jupyter environment, please rerun this cell to show the HTML representation or trust the notebook. <br />On GitHub, the HTML representation is unable to render, please try loading this page with nbviewer.org.</b></div><div class=\"sk-container\" hidden><div class=\"sk-item sk-dashed-wrapped\"><div class=\"sk-label-container\"><div class=\"sk-label sk-toggleable\"><input class=\"sk-toggleable__control sk-hidden--visually\" id=\"sk-estimator-id-40\" type=\"checkbox\" ><label for=\"sk-estimator-id-40\" class=\"sk-toggleable__label sk-toggleable__label-arrow\">GridSearchCV</label><div class=\"sk-toggleable__content\"><pre>GridSearchCV(cv=StratifiedKFold(n_splits=6, random_state=None, shuffle=False),\n",
       "             estimator=MultinomialNB(fit_prior=False),\n",
       "             param_grid={&#x27;alpha&#x27;: array([0.3       , 0.31794872, 0.33589744, 0.35384615, 0.37179487,\n",
       "       0.38974359, 0.40769231, 0.42564103, 0.44358974, 0.46153846,\n",
       "       0.47948718, 0.4974359 , 0.51538462, 0.53333333, 0.55128205,\n",
       "       0.56923077, 0.58717949, 0.60512821, 0.62307692, 0.64102564,\n",
       "       0.65897436, 0.67692308, 0.69487179, 0.71282051, 0.73076923,\n",
       "       0.74871795, 0.76666667, 0.78461538, 0.8025641 , 0.82051282,\n",
       "       0.83846154, 0.85641026, 0.87435897, 0.89230769, 0.91025641,\n",
       "       0.92820513, 0.94615385, 0.96410256, 0.98205128, 1.        ])},\n",
       "             scoring=make_scorer(f1_score))</pre></div></div></div><div class=\"sk-parallel\"><div class=\"sk-parallel-item\"><div class=\"sk-item\"><div class=\"sk-label-container\"><div class=\"sk-label sk-toggleable\"><input class=\"sk-toggleable__control sk-hidden--visually\" id=\"sk-estimator-id-41\" type=\"checkbox\" ><label for=\"sk-estimator-id-41\" class=\"sk-toggleable__label sk-toggleable__label-arrow\">estimator: MultinomialNB</label><div class=\"sk-toggleable__content\"><pre>MultinomialNB(fit_prior=False)</pre></div></div></div><div class=\"sk-serial\"><div class=\"sk-item\"><div class=\"sk-estimator sk-toggleable\"><input class=\"sk-toggleable__control sk-hidden--visually\" id=\"sk-estimator-id-42\" type=\"checkbox\" ><label for=\"sk-estimator-id-42\" class=\"sk-toggleable__label sk-toggleable__label-arrow\">MultinomialNB</label><div class=\"sk-toggleable__content\"><pre>MultinomialNB(fit_prior=False)</pre></div></div></div></div></div></div></div></div></div></div>"
      ],
      "text/plain": [
       "GridSearchCV(cv=StratifiedKFold(n_splits=6, random_state=None, shuffle=False),\n",
       "             estimator=MultinomialNB(fit_prior=False),\n",
       "             param_grid={'alpha': array([0.3       , 0.31794872, 0.33589744, 0.35384615, 0.37179487,\n",
       "       0.38974359, 0.40769231, 0.42564103, 0.44358974, 0.46153846,\n",
       "       0.47948718, 0.4974359 , 0.51538462, 0.53333333, 0.55128205,\n",
       "       0.56923077, 0.58717949, 0.60512821, 0.62307692, 0.64102564,\n",
       "       0.65897436, 0.67692308, 0.69487179, 0.71282051, 0.73076923,\n",
       "       0.74871795, 0.76666667, 0.78461538, 0.8025641 , 0.82051282,\n",
       "       0.83846154, 0.85641026, 0.87435897, 0.89230769, 0.91025641,\n",
       "       0.92820513, 0.94615385, 0.96410256, 0.98205128, 1.        ])},\n",
       "             scoring=make_scorer(f1_score))"
      ]
     },
     "execution_count": 113,
     "metadata": {},
     "output_type": "execute_result"
    }
   ],
   "source": [
    "clf_naive_bayes = MultinomialNB(fit_prior=False)\n",
    "\n",
    "params_grid2 = {\n",
    "    \"alpha\": np.linspace(0.3,1,40),\n",
    "}\n",
    "\n",
    "kfoldcv = StratifiedKFold(n_splits=6)\n",
    "\n",
    "model = GridSearchCV (\n",
    "    estimator=clf_naive_bayes,\n",
    "    param_grid=params_grid2,\n",
    "    scoring=make_scorer(f1_score),\n",
    "    cv=kfoldcv,\n",
    ")\n",
    "\n",
    "model.fit(X_train_tfidf, y_train)"
   ]
  },
  {
   "cell_type": "code",
   "execution_count": 114,
   "id": "11c14ebf",
   "metadata": {
    "tags": []
   },
   "outputs": [
    {
     "name": "stdout",
     "output_type": "stream",
     "text": [
      "Los mejores parametros encontrados son:  {'alpha': 0.8384615384615384}\n",
      "con un f1 score:  0.8583055484472998\n"
     ]
    }
   ],
   "source": [
    "print(\"Los mejores parametros encontrados son: \", model.best_params_)\n",
    "print(\"con un f1 score: \", model.best_score_)"
   ]
  },
  {
   "cell_type": "code",
   "execution_count": 115,
   "id": "77a36a93",
   "metadata": {
    "tags": []
   },
   "outputs": [
    {
     "data": {
      "text/html": [
       "<div>\n",
       "<style scoped>\n",
       "    .dataframe tbody tr th:only-of-type {\n",
       "        vertical-align: middle;\n",
       "    }\n",
       "\n",
       "    .dataframe tbody tr th {\n",
       "        vertical-align: top;\n",
       "    }\n",
       "\n",
       "    .dataframe thead th {\n",
       "        text-align: right;\n",
       "    }\n",
       "</style>\n",
       "<table border=\"1\" class=\"dataframe\">\n",
       "  <thead>\n",
       "    <tr style=\"text-align: right;\">\n",
       "      <th></th>\n",
       "      <th>mean_fit_time</th>\n",
       "      <th>std_fit_time</th>\n",
       "      <th>mean_score_time</th>\n",
       "      <th>std_score_time</th>\n",
       "      <th>param_alpha</th>\n",
       "      <th>params</th>\n",
       "      <th>split0_test_score</th>\n",
       "      <th>split1_test_score</th>\n",
       "      <th>split2_test_score</th>\n",
       "      <th>split3_test_score</th>\n",
       "      <th>split4_test_score</th>\n",
       "      <th>split5_test_score</th>\n",
       "      <th>mean_test_score</th>\n",
       "      <th>std_test_score</th>\n",
       "      <th>rank_test_score</th>\n",
       "    </tr>\n",
       "  </thead>\n",
       "  <tbody>\n",
       "    <tr>\n",
       "      <th>30</th>\n",
       "      <td>0.038959</td>\n",
       "      <td>0.010789</td>\n",
       "      <td>0.014717</td>\n",
       "      <td>0.002078</td>\n",
       "      <td>0.838462</td>\n",
       "      <td>{'alpha': 0.8384615384615384}</td>\n",
       "      <td>0.847203</td>\n",
       "      <td>0.856112</td>\n",
       "      <td>0.872079</td>\n",
       "      <td>0.856631</td>\n",
       "      <td>0.859982</td>\n",
       "      <td>0.857826</td>\n",
       "      <td>0.858306</td>\n",
       "      <td>0.007344</td>\n",
       "      <td>1</td>\n",
       "    </tr>\n",
       "    <tr>\n",
       "      <th>29</th>\n",
       "      <td>0.033854</td>\n",
       "      <td>0.005812</td>\n",
       "      <td>0.005209</td>\n",
       "      <td>0.007366</td>\n",
       "      <td>0.820513</td>\n",
       "      <td>{'alpha': 0.8205128205128205}</td>\n",
       "      <td>0.847249</td>\n",
       "      <td>0.856112</td>\n",
       "      <td>0.872379</td>\n",
       "      <td>0.856333</td>\n",
       "      <td>0.860238</td>\n",
       "      <td>0.857484</td>\n",
       "      <td>0.858299</td>\n",
       "      <td>0.007454</td>\n",
       "      <td>2</td>\n",
       "    </tr>\n",
       "    <tr>\n",
       "      <th>16</th>\n",
       "      <td>0.031304</td>\n",
       "      <td>0.000022</td>\n",
       "      <td>0.000000</td>\n",
       "      <td>0.000000</td>\n",
       "      <td>0.587179</td>\n",
       "      <td>{'alpha': 0.5871794871794871}</td>\n",
       "      <td>0.848539</td>\n",
       "      <td>0.856885</td>\n",
       "      <td>0.871142</td>\n",
       "      <td>0.856760</td>\n",
       "      <td>0.859072</td>\n",
       "      <td>0.856930</td>\n",
       "      <td>0.858221</td>\n",
       "      <td>0.006671</td>\n",
       "      <td>3</td>\n",
       "    </tr>\n",
       "    <tr>\n",
       "      <th>31</th>\n",
       "      <td>0.045565</td>\n",
       "      <td>0.010138</td>\n",
       "      <td>0.006544</td>\n",
       "      <td>0.007015</td>\n",
       "      <td>0.85641</td>\n",
       "      <td>{'alpha': 0.8564102564102563}</td>\n",
       "      <td>0.847422</td>\n",
       "      <td>0.855811</td>\n",
       "      <td>0.872079</td>\n",
       "      <td>0.856504</td>\n",
       "      <td>0.859898</td>\n",
       "      <td>0.857484</td>\n",
       "      <td>0.858200</td>\n",
       "      <td>0.007312</td>\n",
       "      <td>4</td>\n",
       "    </tr>\n",
       "    <tr>\n",
       "      <th>28</th>\n",
       "      <td>0.043107</td>\n",
       "      <td>0.012746</td>\n",
       "      <td>0.012698</td>\n",
       "      <td>0.010203</td>\n",
       "      <td>0.802564</td>\n",
       "      <td>{'alpha': 0.8025641025641026}</td>\n",
       "      <td>0.847249</td>\n",
       "      <td>0.856112</td>\n",
       "      <td>0.871741</td>\n",
       "      <td>0.856035</td>\n",
       "      <td>0.860539</td>\n",
       "      <td>0.857356</td>\n",
       "      <td>0.858172</td>\n",
       "      <td>0.007286</td>\n",
       "      <td>5</td>\n",
       "    </tr>\n",
       "  </tbody>\n",
       "</table>\n",
       "</div>"
      ],
      "text/plain": [
       "    mean_fit_time  std_fit_time  mean_score_time  std_score_time param_alpha   \n",
       "30       0.038959      0.010789         0.014717        0.002078    0.838462  \\\n",
       "29       0.033854      0.005812         0.005209        0.007366    0.820513   \n",
       "16       0.031304      0.000022         0.000000        0.000000    0.587179   \n",
       "31       0.045565      0.010138         0.006544        0.007015     0.85641   \n",
       "28       0.043107      0.012746         0.012698        0.010203    0.802564   \n",
       "\n",
       "                           params  split0_test_score  split1_test_score   \n",
       "30  {'alpha': 0.8384615384615384}           0.847203           0.856112  \\\n",
       "29  {'alpha': 0.8205128205128205}           0.847249           0.856112   \n",
       "16  {'alpha': 0.5871794871794871}           0.848539           0.856885   \n",
       "31  {'alpha': 0.8564102564102563}           0.847422           0.855811   \n",
       "28  {'alpha': 0.8025641025641026}           0.847249           0.856112   \n",
       "\n",
       "    split2_test_score  split3_test_score  split4_test_score   \n",
       "30           0.872079           0.856631           0.859982  \\\n",
       "29           0.872379           0.856333           0.860238   \n",
       "16           0.871142           0.856760           0.859072   \n",
       "31           0.872079           0.856504           0.859898   \n",
       "28           0.871741           0.856035           0.860539   \n",
       "\n",
       "    split5_test_score  mean_test_score  std_test_score  rank_test_score  \n",
       "30           0.857826         0.858306        0.007344                1  \n",
       "29           0.857484         0.858299        0.007454                2  \n",
       "16           0.856930         0.858221        0.006671                3  \n",
       "31           0.857484         0.858200        0.007312                4  \n",
       "28           0.857356         0.858172        0.007286                5  "
      ]
     },
     "execution_count": 115,
     "metadata": {},
     "output_type": "execute_result"
    }
   ],
   "source": [
    "pd.DataFrame(model.cv_results_).sort_values(by=\"rank_test_score\").head()"
   ]
  },
  {
   "cell_type": "code",
   "execution_count": 116,
   "id": "6c5de76c",
   "metadata": {
    "tags": []
   },
   "outputs": [
    {
     "name": "stdout",
     "output_type": "stream",
     "text": [
      "Accuracy: 0.8564\n",
      "Precision: 0.8521651560926485\n",
      "Recall: 0.8576930873707683\n",
      "F1-score: 0.8549201858961406\n"
     ]
    }
   ],
   "source": [
    "X_test_counts = vectorizador.transform(X_test)\n",
    "X_test_tfidf = escaladorTfidf.transform(X_test_counts)\n",
    "y_pred = np.where(model.predict(X_test_tfidf) >= 0.5, 1, 0)\n",
    "\n",
    "print(\"Accuracy:\", accuracy_score(y_test, y_pred))\n",
    "print(\"Precision:\", precision_score(y_test, y_pred))\n",
    "print(\"Recall:\", recall_score(y_test, y_pred))\n",
    "print(\"F1-score:\", f1_score(y_test, y_pred))"
   ]
  },
  {
   "cell_type": "markdown",
   "id": "7d5ef4f8-4137-40e1-831a-2c699453b1ab",
   "metadata": {},
   "source": [
    "Creamos submit para competencia Kaggle"
   ]
  },
  {
   "cell_type": "code",
   "execution_count": 22,
   "id": "73f4d79a-a9e0-40dd-8a27-bd2120441f05",
   "metadata": {
    "tags": []
   },
   "outputs": [],
   "source": [
    "df_test = pd.read_csv(\"dataset/test.csv\")\n",
    "assert(len(df_test)==8599)\n",
    "\n",
    "X = df_test['review_es']\n",
    "    \n",
    "X_counts = vectorizador.transform(X)\n",
    "X_tfidf = escaladorTfidf.transform(X_counts)\n",
    "    \n",
    "prediccion = np.where(model.predict(X_tfidf) >= 0.5, 'positivo', 'negativo')\n",
    "\n",
    "assert(len(prediccion)==8599)\n",
    "\n",
    "submit = pd.DataFrame(\n",
    "    {\"sentimiento\": prediccion},\n",
    "    index=df_test[\"ID\"],\n",
    ")\n",
    "assert(len(submit)==8599)\n",
    "\n",
    "submit.to_csv(\"dataset/submit.csv\")"
   ]
  },
  {
   "cell_type": "markdown",
   "id": "8256ed0d-4c37-4f8c-817a-e21ace532bb2",
   "metadata": {},
   "source": [
    "Guardamos el model para ser usado mas tarde en el ensamble"
   ]
  },
  {
   "cell_type": "code",
   "execution_count": 117,
   "id": "c4d9335e-736f-4f0c-bc7f-371e76b608a4",
   "metadata": {
    "tags": []
   },
   "outputs": [],
   "source": [
    "with open('modelos/BayesNaiveCV.pickle', 'wb') as file:\n",
    "    pickle.dump(model, file)"
   ]
  },
  {
   "cell_type": "markdown",
   "id": "d1a57dfb-2710-4d8b-a908-9092d694285f",
   "metadata": {},
   "source": [
    "### Random Forest"
   ]
  },
  {
   "cell_type": "code",
   "execution_count": 29,
   "id": "cb7e21e5-1e44-47d9-b75e-f428eed551a3",
   "metadata": {
    "tags": []
   },
   "outputs": [],
   "source": [
    "from sklearn.ensemble import RandomForestClassifier\n",
    "from sklearn.model_selection import GridSearchCV"
   ]
  },
  {
   "cell_type": "code",
   "execution_count": 32,
   "id": "55ce356c-d397-4e59-98a0-3bb4230d226d",
   "metadata": {
    "tags": []
   },
   "outputs": [],
   "source": [
    "X = df.review_es\n",
    "y = df.sentimiento_es_positivo\n",
    "X_train, X_test, y_train, y_test = train_test_split(X, y, test_size=0.6, random_state=19)\n",
    "vectorizador = CountVectorizer()\n",
    "escaladorTfidf = TfidfTransformer()\n",
    "X_train_counts_2 = vectorizador.fit_transform(X_train)\n",
    "X_train_tfidf_2 = escaladorTfidf.fit_transform(X_train_counts_2)\n",
    "X_test_counts_2 = vectorizador.transform(X_test)\n",
    "X_test_tfidf_2 = escaladorTfidf.transform(X_test_counts_2)"
   ]
  },
  {
   "cell_type": "markdown",
   "id": "098bca22-e7b0-47e8-9250-e7e8238fa917",
   "metadata": {},
   "source": [
    "Probamos RF con sus parametros por defecto y analizamos sus resultados en train y test"
   ]
  },
  {
   "cell_type": "code",
   "execution_count": null,
   "id": "d2ae20fd-bbb1-4aac-97c9-2a41c14e3995",
   "metadata": {
    "tags": []
   },
   "outputs": [],
   "source": [
    "rfc_default = RandomForestClassifier()\n",
    "model = rfc_default.fit(X = X_train_counts_2, y = y_train)"
   ]
  },
  {
   "cell_type": "code",
   "execution_count": null,
   "id": "0dff8b26-d60a-477c-a20a-54d7f037153e",
   "metadata": {
    "tags": []
   },
   "outputs": [],
   "source": [
    "print(\"f1 score sobre train: \", f1_score(y_train, rfc_default.predict(X_train_counts_2)))"
   ]
  },
  {
   "cell_type": "code",
   "execution_count": null,
   "id": "69df45ce-b48f-424b-8104-fca0f77dc05c",
   "metadata": {
    "tags": []
   },
   "outputs": [],
   "source": [
    "print(\"f1 score sobre validacion: \", f1_score(y_test, rfc_default.predict(X_test_counts_2)))"
   ]
  },
  {
   "cell_type": "markdown",
   "id": "7edec3b9-919a-4af8-8362-3747f93f2825",
   "metadata": {},
   "source": [
    "Buscamos los mejores hiperparametros"
   ]
  },
  {
   "cell_type": "code",
   "execution_count": 33,
   "id": "6c598d2a-adce-4205-8662-df52f7c89d5f",
   "metadata": {
    "tags": []
   },
   "outputs": [],
   "source": [
    "rf_cv = RandomForestClassifier(max_features='sqrt', oob_score=True, random_state=1, n_jobs=-1)\n",
    "\n",
    "param_grid = { \"criterion\" : [\"gini\", \"entropy\"],\n",
    "               \"min_samples_leaf\" : [10,25,50,75,100], \n",
    "               \"n_estimators\": [100,150,200,250,300],\n",
    "               \"oob_score\":[False, True],\n",
    "               \"random_state\":[1],\n",
    "               \"n_jobs\":[-1]}\n",
    "\n",
    "#Probamos entrenando sólo con 1 métrica\n",
    "gs = GridSearchCV(estimator=rf_cv, param_grid=param_grid, scoring=\"f1\", cv=5, n_jobs=-1)\n",
    "gs_fit = gs.fit(X = X_train_counts_2, y = y_train)"
   ]
  },
  {
   "cell_type": "code",
   "execution_count": 34,
   "id": "1f44daf3-d432-4140-abc2-efb3dc410ae1",
   "metadata": {
    "tags": []
   },
   "outputs": [
    {
     "data": {
      "text/plain": [
       "{'criterion': 'entropy',\n",
       " 'min_samples_leaf': 10,\n",
       " 'n_estimators': 300,\n",
       " 'n_jobs': -1,\n",
       " 'oob_score': False,\n",
       " 'random_state': 1}"
      ]
     },
     "execution_count": 34,
     "metadata": {},
     "output_type": "execute_result"
    }
   ],
   "source": [
    "gs_fit.best_params_"
   ]
  },
  {
   "cell_type": "code",
   "execution_count": 36,
   "id": "5f2b5b6f-e1d9-45eb-81a8-bcc374bcee41",
   "metadata": {
    "tags": []
   },
   "outputs": [],
   "source": [
    "rf_cv_best=gs_fit.best_estimator_"
   ]
  },
  {
   "cell_type": "code",
   "execution_count": 37,
   "id": "12654e0a-1fc0-483b-b2a6-b42e69baf437",
   "metadata": {
    "tags": []
   },
   "outputs": [
    {
     "name": "stdout",
     "output_type": "stream",
     "text": [
      "f1 score sobre train:  0.8939372015627262\n"
     ]
    }
   ],
   "source": [
    "print(\"f1 score sobre train: \", f1_score(y_train, rf_cv_best.predict(X_train_counts_2)))"
   ]
  },
  {
   "cell_type": "code",
   "execution_count": 38,
   "id": "01d3f349-16f8-4ad4-93a3-fd6d6da4a554",
   "metadata": {
    "tags": []
   },
   "outputs": [
    {
     "name": "stdout",
     "output_type": "stream",
     "text": [
      "f1 score sobre validacion:  0.8506922951620784\n"
     ]
    }
   ],
   "source": [
    "print(\"f1 score sobre validacion: \", f1_score(y_test, rf_cv_best.predict(X_test_counts_2)))"
   ]
  },
  {
   "cell_type": "code",
   "execution_count": 39,
   "id": "f77c34ee-ca9c-4135-b61e-d4b75c1533c8",
   "metadata": {
    "tags": []
   },
   "outputs": [
    {
     "name": "stdout",
     "output_type": "stream",
     "text": [
      "F1 Score: 0.8506922951620784\n",
      "Precision: 0.8257542217443552\n",
      "Recall: 0.8771835528083849\n",
      "Accuracy: 0.8472333333333333\n"
     ]
    }
   ],
   "source": [
    "y_pred = rf_cv_best.predict(X_test_counts_2)\n",
    "accuracy = accuracy_score(y_test, y_pred)\n",
    "precision = precision_score(y_test, y_pred)\n",
    "recall = recall_score(y_test, y_pred)\n",
    "f1 = f1_score(y_test, y_pred)\n",
    "\n",
    "print(\"F1 Score:\", f1)\n",
    "print(\"Precision:\", precision)\n",
    "print(\"Recall:\", recall)\n",
    "print(\"Accuracy:\", accuracy)"
   ]
  },
  {
   "cell_type": "code",
   "execution_count": 40,
   "id": "21e0ab4e-481c-4b96-9ed5-5d965b8ef156",
   "metadata": {
    "tags": []
   },
   "outputs": [
    {
     "data": {
      "text/plain": [
       "Text(0.5, 1.0, 'Confusion matrix de training set')"
      ]
     },
     "execution_count": 40,
     "metadata": {},
     "output_type": "execute_result"
    },
    {
     "data": {
      "image/png": "[encoded data removed]",
      "text/plain": [
       "<Figure size 640x480 with 2 Axes>"
      ]
     },
     "metadata": {},
     "output_type": "display_data"
    }
   ],
   "source": [
    "confusion = confusion_matrix(y_test, y_pred)\n",
    "sns.heatmap(confusion, annot=True, fmt='.0f')\n",
    "plt.ylabel('true')\n",
    "plt.xlabel('predicted')\n",
    "plt.title(\"Confusion matrix de training set\")"
   ]
  },
  {
   "cell_type": "code",
   "execution_count": 41,
   "id": "63c166e7-29b2-4394-afe4-33eb5bacaa91",
   "metadata": {
    "tags": []
   },
   "outputs": [],
   "source": [
    "df_test = pd.read_csv(\"dataset/test.csv\")\n",
    "assert(len(df_test)==8599)\n",
    "\n",
    "X = df_test['review_es']\n",
    "    \n",
    "X_counts = vectorizador.transform(X)\n",
    "X_tfidf = escaladorTfidf.transform(X_counts)\n",
    "    \n",
    "prediccion = np.where(rf_cv_best.predict(X_tfidf) >= 0.5, 'positivo', 'negativo')\n",
    "\n",
    "assert(len(prediccion)==8599)\n",
    "\n",
    "submit = pd.DataFrame(\n",
    "    {\"sentimiento\": prediccion},\n",
    "    index=df_test[\"ID\"],\n",
    ")\n",
    "assert(len(submit)==8599)\n",
    "\n",
    "submit.to_csv(\"dataset/submit.csv\")"
   ]
  },
  {
   "cell_type": "markdown",
   "id": "eb554ff6-55d5-457e-a042-c4db8dcab157",
   "metadata": {},
   "source": [
    "Guardamos el modelo para ser usado mas tarde en el ensamble"
   ]
  },
  {
   "cell_type": "code",
   "execution_count": 128,
   "id": "63d267c7-f6dd-410f-ae26-f2603e611e67",
   "metadata": {
    "tags": []
   },
   "outputs": [],
   "source": [
    "with open('modelos/RandomForestCV.pickle', 'wb') as file:\n",
    "    pickle.dump(rf_cv_best, file)"
   ]
  },
  {
   "cell_type": "markdown",
   "id": "adee283a-30f0-46a0-9ab1-a3b47977403d",
   "metadata": {},
   "source": [
    "### XGBoost"
   ]
  },
  {
   "cell_type": "code",
   "execution_count": 46,
   "id": "970f53d3",
   "metadata": {
    "tags": []
   },
   "outputs": [],
   "source": [
    "import xgboost as xgb\n",
    "from sklearn.model_selection import RandomizedSearchCV"
   ]
  },
  {
   "cell_type": "code",
   "execution_count": 47,
   "id": "116b3627-a0ee-435f-b2ed-50d7d2566b89",
   "metadata": {
    "tags": []
   },
   "outputs": [],
   "source": [
    "vectorizador = CountVectorizer()\n",
    "escaladorTfidf = TfidfTransformer()\n",
    "X_train_counts_1 = vectorizador.fit_transform(X_train)\n",
    "X_train_tfidf_1 = escaladorTfidf.fit_transform(X_train_counts_1)\n",
    "X_test_counts_1 = vectorizador.transform(X_test)\n",
    "X_test_tfidf_1 = escaladorTfidf.transform(X_test_counts_1)\n"
   ]
  },
  {
   "cell_type": "code",
   "execution_count": 48,
   "id": "eb97f6bc",
   "metadata": {
    "tags": []
   },
   "outputs": [],
   "source": [
    "d_train = xgb.DMatrix(X_train_tfidf_1, label=y_train)\n",
    "d_test = xgb.DMatrix(X_test_tfidf_1, label=y_test)"
   ]
  },
  {
   "cell_type": "code",
   "execution_count": null,
   "id": "4dc7cab7",
   "metadata": {},
   "outputs": [
    {
     "name": "stdout",
     "output_type": "stream",
     "text": [
      "[0]\tvalidation_0-logloss:0.67379\tvalidation_1-logloss:0.67467\n",
      "[50]\tvalidation_0-logloss:0.44841\tvalidation_1-logloss:0.48307\n",
      "[100]\tvalidation_0-logloss:0.37940\tvalidation_1-logloss:0.43327\n",
      "[150]\tvalidation_0-logloss:0.33638\tvalidation_1-logloss:0.40626\n",
      "[200]\tvalidation_0-logloss:0.30557\tvalidation_1-logloss:0.38813\n",
      "[250]\tvalidation_0-logloss:0.28090\tvalidation_1-logloss:0.37476\n",
      "[300]\tvalidation_0-logloss:0.26092\tvalidation_1-logloss:0.36480\n",
      "[350]\tvalidation_0-logloss:0.24460\tvalidation_1-logloss:0.35689\n",
      "[400]\tvalidation_0-logloss:0.22972\tvalidation_1-logloss:0.35017\n",
      "[450]\tvalidation_0-logloss:0.21787\tvalidation_1-logloss:0.34477\n",
      "[500]\tvalidation_0-logloss:0.20686\tvalidation_1-logloss:0.33987\n",
      "[550]\tvalidation_0-logloss:0.19707\tvalidation_1-logloss:0.33619\n",
      "[600]\tvalidation_0-logloss:0.18799\tvalidation_1-logloss:0.33256\n",
      "[650]\tvalidation_0-logloss:0.17969\tvalidation_1-logloss:0.32937\n",
      "[700]\tvalidation_0-logloss:0.17271\tvalidation_1-logloss:0.32663\n",
      "[750]\tvalidation_0-logloss:0.16597\tvalidation_1-logloss:0.32459\n",
      "[800]\tvalidation_0-logloss:0.15991\tvalidation_1-logloss:0.32249\n",
      "[850]\tvalidation_0-logloss:0.15356\tvalidation_1-logloss:0.32042\n",
      "[900]\tvalidation_0-logloss:0.14792\tvalidation_1-logloss:0.31925\n",
      "[950]\tvalidation_0-logloss:0.14264\tvalidation_1-logloss:0.31774\n",
      "[999]\tvalidation_0-logloss:0.13741\tvalidation_1-logloss:0.31631\n"
     ]
    },
    {
     "data": {
      "text/html": [
       "<style>#sk-container-id-2 {color: black;background-color: white;}#sk-container-id-2 pre{padding: 0;}#sk-container-id-2 div.sk-toggleable {background-color: white;}#sk-container-id-2 label.sk-toggleable__label {cursor: pointer;display: block;width: 100%;margin-bottom: 0;padding: 0.3em;box-sizing: border-box;text-align: center;}#sk-container-id-2 label.sk-toggleable__label-arrow:before {content: \"▸\";float: left;margin-right: 0.25em;color: #696969;}#sk-container-id-2 label.sk-toggleable__label-arrow:hover:before {color: black;}#sk-container-id-2 div.sk-estimator:hover label.sk-toggleable__label-arrow:before {color: black;}#sk-container-id-2 div.sk-toggleable__content {max-height: 0;max-width: 0;overflow: hidden;text-align: left;background-color: #f0f8ff;}#sk-container-id-2 div.sk-toggleable__content pre {margin: 0.2em;color: black;border-radius: 0.25em;background-color: #f0f8ff;}#sk-container-id-2 input.sk-toggleable__control:checked~div.sk-toggleable__content {max-height: 200px;max-width: 100%;overflow: auto;}#sk-container-id-2 input.sk-toggleable__control:checked~label.sk-toggleable__label-arrow:before {content: \"▾\";}#sk-container-id-2 div.sk-estimator input.sk-toggleable__control:checked~label.sk-toggleable__label {background-color: #d4ebff;}#sk-container-id-2 div.sk-label input.sk-toggleable__control:checked~label.sk-toggleable__label {background-color: #d4ebff;}#sk-container-id-2 input.sk-hidden--visually {border: 0;clip: rect(1px 1px 1px 1px);clip: rect(1px, 1px, 1px, 1px);height: 1px;margin: -1px;overflow: hidden;padding: 0;position: absolute;width: 1px;}#sk-container-id-2 div.sk-estimator {font-family: monospace;background-color: #f0f8ff;border: 1px dotted black;border-radius: 0.25em;box-sizing: border-box;margin-bottom: 0.5em;}#sk-container-id-2 div.sk-estimator:hover {background-color: #d4ebff;}#sk-container-id-2 div.sk-parallel-item::after {content: \"\";width: 100%;border-bottom: 1px solid gray;flex-grow: 1;}#sk-container-id-2 div.sk-label:hover label.sk-toggleable__label {background-color: #d4ebff;}#sk-container-id-2 div.sk-serial::before {content: \"\";position: absolute;border-left: 1px solid gray;box-sizing: border-box;top: 0;bottom: 0;left: 50%;z-index: 0;}#sk-container-id-2 div.sk-serial {display: flex;flex-direction: column;align-items: center;background-color: white;padding-right: 0.2em;padding-left: 0.2em;position: relative;}#sk-container-id-2 div.sk-item {position: relative;z-index: 1;}#sk-container-id-2 div.sk-parallel {display: flex;align-items: stretch;justify-content: center;background-color: white;position: relative;}#sk-container-id-2 div.sk-item::before, #sk-container-id-2 div.sk-parallel-item::before {content: \"\";position: absolute;border-left: 1px solid gray;box-sizing: border-box;top: 0;bottom: 0;left: 50%;z-index: -1;}#sk-container-id-2 div.sk-parallel-item {display: flex;flex-direction: column;z-index: 1;position: relative;background-color: white;}#sk-container-id-2 div.sk-parallel-item:first-child::after {align-self: flex-end;width: 50%;}#sk-container-id-2 div.sk-parallel-item:last-child::after {align-self: flex-start;width: 50%;}#sk-container-id-2 div.sk-parallel-item:only-child::after {width: 0;}#sk-container-id-2 div.sk-dashed-wrapped {border: 1px dashed gray;margin: 0 0.4em 0.5em 0.4em;box-sizing: border-box;padding-bottom: 0.4em;background-color: white;}#sk-container-id-2 div.sk-label label {font-family: monospace;font-weight: bold;display: inline-block;line-height: 1.2em;}#sk-container-id-2 div.sk-label-container {text-align: center;}#sk-container-id-2 div.sk-container {/* jupyter's `normalize.less` sets `[hidden] { display: none; }` but bootstrap.min.css set `[hidden] { display: none !important; }` so we also need the `!important` here to be able to override the default hidden behavior on the sphinx rendered scikit-learn.org. See: https://github.com/scikit-learn/scikit-learn/issues/21755 */display: inline-block !important;position: relative;}#sk-container-id-2 div.sk-text-repr-fallback {display: none;}</style><div id=\"sk-container-id-2\" class=\"sk-top-container\"><div class=\"sk-text-repr-fallback\"><pre>XGBClassifier(base_score=None, booster=None, callbacks=None,\n",
       "              colsample_bylevel=None, colsample_bynode=None,\n",
       "              colsample_bytree=None, early_stopping_rounds=50,\n",
       "              enable_categorical=False, eval_metric=None, feature_types=None,\n",
       "              gamma=None, gpu_id=None, grow_policy=None, importance_type=None,\n",
       "              interaction_constraints=None, learning_rate=0.1, max_bin=None,\n",
       "              max_cat_threshold=None, max_cat_to_onehot=None,\n",
       "              max_delta_step=None, max_depth=None, max_leaves=None,\n",
       "              min_child_weight=None, missing=nan, monotone_constraints=None,\n",
       "              n_estimators=1000, n_jobs=None, num_parallel_tree=None,\n",
       "              predictor=None, random_state=None, ...)</pre><b>In a Jupyter environment, please rerun this cell to show the HTML representation or trust the notebook. <br />On GitHub, the HTML representation is unable to render, please try loading this page with nbviewer.org.</b></div><div class=\"sk-container\" hidden><div class=\"sk-item\"><div class=\"sk-estimator sk-toggleable\"><input class=\"sk-toggleable__control sk-hidden--visually\" id=\"sk-estimator-id-2\" type=\"checkbox\" checked><label for=\"sk-estimator-id-2\" class=\"sk-toggleable__label sk-toggleable__label-arrow\">XGBClassifier</label><div class=\"sk-toggleable__content\"><pre>XGBClassifier(base_score=None, booster=None, callbacks=None,\n",
       "              colsample_bylevel=None, colsample_bynode=None,\n",
       "              colsample_bytree=None, early_stopping_rounds=50,\n",
       "              enable_categorical=False, eval_metric=None, feature_types=None,\n",
       "              gamma=None, gpu_id=None, grow_policy=None, importance_type=None,\n",
       "              interaction_constraints=None, learning_rate=0.1, max_bin=None,\n",
       "              max_cat_threshold=None, max_cat_to_onehot=None,\n",
       "              max_delta_step=None, max_depth=None, max_leaves=None,\n",
       "              min_child_weight=None, missing=nan, monotone_constraints=None,\n",
       "              n_estimators=1000, n_jobs=None, num_parallel_tree=None,\n",
       "              predictor=None, random_state=None, ...)</pre></div></div></div></div></div>"
      ],
      "text/plain": [
       "XGBClassifier(base_score=None, booster=None, callbacks=None,\n",
       "              colsample_bylevel=None, colsample_bynode=None,\n",
       "              colsample_bytree=None, early_stopping_rounds=50,\n",
       "              enable_categorical=False, eval_metric=None, feature_types=None,\n",
       "              gamma=None, gpu_id=None, grow_policy=None, importance_type=None,\n",
       "              interaction_constraints=None, learning_rate=0.1, max_bin=None,\n",
       "              max_cat_threshold=None, max_cat_to_onehot=None,\n",
       "              max_delta_step=None, max_depth=None, max_leaves=None,\n",
       "              min_child_weight=None, missing=nan, monotone_constraints=None,\n",
       "              n_estimators=1000, n_jobs=None, num_parallel_tree=None,\n",
       "              predictor=None, random_state=None, ...)"
      ]
     },
     "execution_count": 26,
     "metadata": {},
     "output_type": "execute_result"
    }
   ],
   "source": [
    "clf = xgb.XGBClassifier(learning_rate=0.1, n_estimators=1000, early_stopping_rounds=50)\n",
    "\n",
    "clf.fit(X_train_tfidf_1, y_train,\n",
    "       eval_set=[(X_train_tfidf_1, y_train), (X_test_tfidf_1, y_test)],\n",
    "       verbose=50)"
   ]
  },
  {
   "cell_type": "code",
   "execution_count": null,
   "id": "5df911ae",
   "metadata": {},
   "outputs": [
    {
     "name": "stdout",
     "output_type": "stream",
     "text": [
      "f1 score sobre validacion:  0.8629673826571201\n",
      "f1 score sobre train:  0.9805899661251638\n"
     ]
    }
   ],
   "source": [
    "print(\"f1 score sobre validacion: \", f1_score(y_test, clf.predict(X_test_tfidf_1)))\n",
    "print(\"f1 score sobre train: \", f1_score(y_train, clf.predict(X_train_tfidf_1)))"
   ]
  },
  {
   "cell_type": "code",
   "execution_count": null,
   "id": "01c50f5e",
   "metadata": {},
   "outputs": [
    {
     "name": "stdout",
     "output_type": "stream",
     "text": [
      "[0]\tvalidation_0-logloss:0.66882\tvalidation_1-logloss:0.67042\n",
      "[50]\tvalidation_0-logloss:0.39136\tvalidation_1-logloss:0.44845\n",
      "[100]\tvalidation_0-logloss:0.31287\tvalidation_1-logloss:0.39965\n",
      "[150]\tvalidation_0-logloss:0.26653\tvalidation_1-logloss:0.37553\n",
      "[200]\tvalidation_0-logloss:0.23447\tvalidation_1-logloss:0.35980\n",
      "[250]\tvalidation_0-logloss:0.20990\tvalidation_1-logloss:0.34838\n",
      "[300]\tvalidation_0-logloss:0.18886\tvalidation_1-logloss:0.34061\n",
      "[350]\tvalidation_0-logloss:0.17235\tvalidation_1-logloss:0.33435\n",
      "[400]\tvalidation_0-logloss:0.15860\tvalidation_1-logloss:0.33024\n",
      "[450]\tvalidation_0-logloss:0.14577\tvalidation_1-logloss:0.32639\n",
      "[500]\tvalidation_0-logloss:0.13424\tvalidation_1-logloss:0.32381\n",
      "[550]\tvalidation_0-logloss:0.12450\tvalidation_1-logloss:0.32132\n",
      "[600]\tvalidation_0-logloss:0.11566\tvalidation_1-logloss:0.32008\n",
      "[650]\tvalidation_0-logloss:0.10804\tvalidation_1-logloss:0.31955\n",
      "[700]\tvalidation_0-logloss:0.10019\tvalidation_1-logloss:0.31919\n",
      "[714]\tvalidation_0-logloss:0.09841\tvalidation_1-logloss:0.31922\n"
     ]
    },
    {
     "data": {
      "text/html": [
       "<style>#sk-container-id-3 {color: black;background-color: white;}#sk-container-id-3 pre{padding: 0;}#sk-container-id-3 div.sk-toggleable {background-color: white;}#sk-container-id-3 label.sk-toggleable__label {cursor: pointer;display: block;width: 100%;margin-bottom: 0;padding: 0.3em;box-sizing: border-box;text-align: center;}#sk-container-id-3 label.sk-toggleable__label-arrow:before {content: \"▸\";float: left;margin-right: 0.25em;color: #696969;}#sk-container-id-3 label.sk-toggleable__label-arrow:hover:before {color: black;}#sk-container-id-3 div.sk-estimator:hover label.sk-toggleable__label-arrow:before {color: black;}#sk-container-id-3 div.sk-toggleable__content {max-height: 0;max-width: 0;overflow: hidden;text-align: left;background-color: #f0f8ff;}#sk-container-id-3 div.sk-toggleable__content pre {margin: 0.2em;color: black;border-radius: 0.25em;background-color: #f0f8ff;}#sk-container-id-3 input.sk-toggleable__control:checked~div.sk-toggleable__content {max-height: 200px;max-width: 100%;overflow: auto;}#sk-container-id-3 input.sk-toggleable__control:checked~label.sk-toggleable__label-arrow:before {content: \"▾\";}#sk-container-id-3 div.sk-estimator input.sk-toggleable__control:checked~label.sk-toggleable__label {background-color: #d4ebff;}#sk-container-id-3 div.sk-label input.sk-toggleable__control:checked~label.sk-toggleable__label {background-color: #d4ebff;}#sk-container-id-3 input.sk-hidden--visually {border: 0;clip: rect(1px 1px 1px 1px);clip: rect(1px, 1px, 1px, 1px);height: 1px;margin: -1px;overflow: hidden;padding: 0;position: absolute;width: 1px;}#sk-container-id-3 div.sk-estimator {font-family: monospace;background-color: #f0f8ff;border: 1px dotted black;border-radius: 0.25em;box-sizing: border-box;margin-bottom: 0.5em;}#sk-container-id-3 div.sk-estimator:hover {background-color: #d4ebff;}#sk-container-id-3 div.sk-parallel-item::after {content: \"\";width: 100%;border-bottom: 1px solid gray;flex-grow: 1;}#sk-container-id-3 div.sk-label:hover label.sk-toggleable__label {background-color: #d4ebff;}#sk-container-id-3 div.sk-serial::before {content: \"\";position: absolute;border-left: 1px solid gray;box-sizing: border-box;top: 0;bottom: 0;left: 50%;z-index: 0;}#sk-container-id-3 div.sk-serial {display: flex;flex-direction: column;align-items: center;background-color: white;padding-right: 0.2em;padding-left: 0.2em;position: relative;}#sk-container-id-3 div.sk-item {position: relative;z-index: 1;}#sk-container-id-3 div.sk-parallel {display: flex;align-items: stretch;justify-content: center;background-color: white;position: relative;}#sk-container-id-3 div.sk-item::before, #sk-container-id-3 div.sk-parallel-item::before {content: \"\";position: absolute;border-left: 1px solid gray;box-sizing: border-box;top: 0;bottom: 0;left: 50%;z-index: -1;}#sk-container-id-3 div.sk-parallel-item {display: flex;flex-direction: column;z-index: 1;position: relative;background-color: white;}#sk-container-id-3 div.sk-parallel-item:first-child::after {align-self: flex-end;width: 50%;}#sk-container-id-3 div.sk-parallel-item:last-child::after {align-self: flex-start;width: 50%;}#sk-container-id-3 div.sk-parallel-item:only-child::after {width: 0;}#sk-container-id-3 div.sk-dashed-wrapped {border: 1px dashed gray;margin: 0 0.4em 0.5em 0.4em;box-sizing: border-box;padding-bottom: 0.4em;background-color: white;}#sk-container-id-3 div.sk-label label {font-family: monospace;font-weight: bold;display: inline-block;line-height: 1.2em;}#sk-container-id-3 div.sk-label-container {text-align: center;}#sk-container-id-3 div.sk-container {/* jupyter's `normalize.less` sets `[hidden] { display: none; }` but bootstrap.min.css set `[hidden] { display: none !important; }` so we also need the `!important` here to be able to override the default hidden behavior on the sphinx rendered scikit-learn.org. See: https://github.com/scikit-learn/scikit-learn/issues/21755 */display: inline-block !important;position: relative;}#sk-container-id-3 div.sk-text-repr-fallback {display: none;}</style><div id=\"sk-container-id-3\" class=\"sk-top-container\"><div class=\"sk-text-repr-fallback\"><pre>XGBClassifier(base_score=None, booster=None, callbacks=None,\n",
       "              colsample_bylevel=None, colsample_bynode=None,\n",
       "              colsample_bytree=None, early_stopping_rounds=50,\n",
       "              enable_categorical=False, eval_metric=None, feature_types=None,\n",
       "              gamma=None, gpu_id=None, grow_policy=None, importance_type=None,\n",
       "              interaction_constraints=None, learning_rate=0.1, max_bin=None,\n",
       "              max_cat_threshold=None, max_cat_to_onehot=None,\n",
       "              max_delta_step=None, max_depth=10, max_leaves=None,\n",
       "              min_child_weight=None, missing=nan, monotone_constraints=None,\n",
       "              n_estimators=1000, n_jobs=None, nthread=-1,\n",
       "              num_parallel_tree=None, predictor=None, ...)</pre><b>In a Jupyter environment, please rerun this cell to show the HTML representation or trust the notebook. <br />On GitHub, the HTML representation is unable to render, please try loading this page with nbviewer.org.</b></div><div class=\"sk-container\" hidden><div class=\"sk-item\"><div class=\"sk-estimator sk-toggleable\"><input class=\"sk-toggleable__control sk-hidden--visually\" id=\"sk-estimator-id-3\" type=\"checkbox\" checked><label for=\"sk-estimator-id-3\" class=\"sk-toggleable__label sk-toggleable__label-arrow\">XGBClassifier</label><div class=\"sk-toggleable__content\"><pre>XGBClassifier(base_score=None, booster=None, callbacks=None,\n",
       "              colsample_bylevel=None, colsample_bynode=None,\n",
       "              colsample_bytree=None, early_stopping_rounds=50,\n",
       "              enable_categorical=False, eval_metric=None, feature_types=None,\n",
       "              gamma=None, gpu_id=None, grow_policy=None, importance_type=None,\n",
       "              interaction_constraints=None, learning_rate=0.1, max_bin=None,\n",
       "              max_cat_threshold=None, max_cat_to_onehot=None,\n",
       "              max_delta_step=None, max_depth=10, max_leaves=None,\n",
       "              min_child_weight=None, missing=nan, monotone_constraints=None,\n",
       "              n_estimators=1000, n_jobs=None, nthread=-1,\n",
       "              num_parallel_tree=None, predictor=None, ...)</pre></div></div></div></div></div>"
      ],
      "text/plain": [
       "XGBClassifier(base_score=None, booster=None, callbacks=None,\n",
       "              colsample_bylevel=None, colsample_bynode=None,\n",
       "              colsample_bytree=None, early_stopping_rounds=50,\n",
       "              enable_categorical=False, eval_metric=None, feature_types=None,\n",
       "              gamma=None, gpu_id=None, grow_policy=None, importance_type=None,\n",
       "              interaction_constraints=None, learning_rate=0.1, max_bin=None,\n",
       "              max_cat_threshold=None, max_cat_to_onehot=None,\n",
       "              max_delta_step=None, max_depth=10, max_leaves=None,\n",
       "              min_child_weight=None, missing=nan, monotone_constraints=None,\n",
       "              n_estimators=1000, n_jobs=None, nthread=-1,\n",
       "              num_parallel_tree=None, predictor=None, ...)"
      ]
     },
     "execution_count": 33,
     "metadata": {},
     "output_type": "execute_result"
    }
   ],
   "source": [
    "clf2 = xgb.XGBClassifier(learning_rate=0.1,\n",
    "                         max_depth=10,\n",
    "                         subsample=0.8,\n",
    "                         reg_lambda = 4,\n",
    "                         reg_alpha = 3,\n",
    "                         nthread = -1,\n",
    "                         n_estimators=1000, early_stopping_rounds=50)\n",
    "\n",
    "clf2.fit(X_train_tfidf_1, y_train,\n",
    "       eval_set=[(X_train_tfidf_1, y_train), (X_test_tfidf_1, y_test)],\n",
    "       verbose=50)"
   ]
  },
  {
   "cell_type": "code",
   "execution_count": null,
   "id": "77066e53",
   "metadata": {},
   "outputs": [
    {
     "name": "stdout",
     "output_type": "stream",
     "text": [
      "f1 score sobre validacion:  0.8564593301435406\n",
      "f1 score sobre train:  0.9852050441862775\n"
     ]
    }
   ],
   "source": [
    "print(\"f1 score sobre validacion: \", f1_score(y_test, clf2.predict(X_test_tfidf_1)))\n",
    "print(\"f1 score sobre train: \", f1_score(y_train, clf2.predict(X_train_tfidf_1)))"
   ]
  },
  {
   "cell_type": "code",
   "execution_count": null,
   "id": "3eec578f",
   "metadata": {},
   "outputs": [
    {
     "name": "stdout",
     "output_type": "stream",
     "text": [
      "[0]\tvalidation_0-logloss:0.66579\tvalidation_1-logloss:0.66877\n",
      "[50]\tvalidation_0-logloss:0.38087\tvalidation_1-logloss:0.43420\n",
      "[100]\tvalidation_0-logloss:0.32384\tvalidation_1-logloss:0.39058\n",
      "[150]\tvalidation_0-logloss:0.29430\tvalidation_1-logloss:0.36886\n",
      "[200]\tvalidation_0-logloss:0.27395\tvalidation_1-logloss:0.35389\n",
      "[250]\tvalidation_0-logloss:0.25829\tvalidation_1-logloss:0.34417\n",
      "[300]\tvalidation_0-logloss:0.24883\tvalidation_1-logloss:0.33855\n",
      "[350]\tvalidation_0-logloss:0.24543\tvalidation_1-logloss:0.33679\n",
      "[400]\tvalidation_0-logloss:0.24399\tvalidation_1-logloss:0.33587\n",
      "[450]\tvalidation_0-logloss:0.24286\tvalidation_1-logloss:0.33528\n",
      "[500]\tvalidation_0-logloss:0.24198\tvalidation_1-logloss:0.33488\n",
      "[550]\tvalidation_0-logloss:0.24127\tvalidation_1-logloss:0.33457\n",
      "[600]\tvalidation_0-logloss:0.24073\tvalidation_1-logloss:0.33433\n",
      "[650]\tvalidation_0-logloss:0.23972\tvalidation_1-logloss:0.33389\n",
      "[700]\tvalidation_0-logloss:0.23892\tvalidation_1-logloss:0.33333\n",
      "[750]\tvalidation_0-logloss:0.23801\tvalidation_1-logloss:0.33267\n",
      "[799]\tvalidation_0-logloss:0.23771\tvalidation_1-logloss:0.33251\n"
     ]
    },
    {
     "data": {
      "text/html": [
       "<style>#sk-container-id-6 {color: black;background-color: white;}#sk-container-id-6 pre{padding: 0;}#sk-container-id-6 div.sk-toggleable {background-color: white;}#sk-container-id-6 label.sk-toggleable__label {cursor: pointer;display: block;width: 100%;margin-bottom: 0;padding: 0.3em;box-sizing: border-box;text-align: center;}#sk-container-id-6 label.sk-toggleable__label-arrow:before {content: \"▸\";float: left;margin-right: 0.25em;color: #696969;}#sk-container-id-6 label.sk-toggleable__label-arrow:hover:before {color: black;}#sk-container-id-6 div.sk-estimator:hover label.sk-toggleable__label-arrow:before {color: black;}#sk-container-id-6 div.sk-toggleable__content {max-height: 0;max-width: 0;overflow: hidden;text-align: left;background-color: #f0f8ff;}#sk-container-id-6 div.sk-toggleable__content pre {margin: 0.2em;color: black;border-radius: 0.25em;background-color: #f0f8ff;}#sk-container-id-6 input.sk-toggleable__control:checked~div.sk-toggleable__content {max-height: 200px;max-width: 100%;overflow: auto;}#sk-container-id-6 input.sk-toggleable__control:checked~label.sk-toggleable__label-arrow:before {content: \"▾\";}#sk-container-id-6 div.sk-estimator input.sk-toggleable__control:checked~label.sk-toggleable__label {background-color: #d4ebff;}#sk-container-id-6 div.sk-label input.sk-toggleable__control:checked~label.sk-toggleable__label {background-color: #d4ebff;}#sk-container-id-6 input.sk-hidden--visually {border: 0;clip: rect(1px 1px 1px 1px);clip: rect(1px, 1px, 1px, 1px);height: 1px;margin: -1px;overflow: hidden;padding: 0;position: absolute;width: 1px;}#sk-container-id-6 div.sk-estimator {font-family: monospace;background-color: #f0f8ff;border: 1px dotted black;border-radius: 0.25em;box-sizing: border-box;margin-bottom: 0.5em;}#sk-container-id-6 div.sk-estimator:hover {background-color: #d4ebff;}#sk-container-id-6 div.sk-parallel-item::after {content: \"\";width: 100%;border-bottom: 1px solid gray;flex-grow: 1;}#sk-container-id-6 div.sk-label:hover label.sk-toggleable__label {background-color: #d4ebff;}#sk-container-id-6 div.sk-serial::before {content: \"\";position: absolute;border-left: 1px solid gray;box-sizing: border-box;top: 0;bottom: 0;left: 50%;z-index: 0;}#sk-container-id-6 div.sk-serial {display: flex;flex-direction: column;align-items: center;background-color: white;padding-right: 0.2em;padding-left: 0.2em;position: relative;}#sk-container-id-6 div.sk-item {position: relative;z-index: 1;}#sk-container-id-6 div.sk-parallel {display: flex;align-items: stretch;justify-content: center;background-color: white;position: relative;}#sk-container-id-6 div.sk-item::before, #sk-container-id-6 div.sk-parallel-item::before {content: \"\";position: absolute;border-left: 1px solid gray;box-sizing: border-box;top: 0;bottom: 0;left: 50%;z-index: -1;}#sk-container-id-6 div.sk-parallel-item {display: flex;flex-direction: column;z-index: 1;position: relative;background-color: white;}#sk-container-id-6 div.sk-parallel-item:first-child::after {align-self: flex-end;width: 50%;}#sk-container-id-6 div.sk-parallel-item:last-child::after {align-self: flex-start;width: 50%;}#sk-container-id-6 div.sk-parallel-item:only-child::after {width: 0;}#sk-container-id-6 div.sk-dashed-wrapped {border: 1px dashed gray;margin: 0 0.4em 0.5em 0.4em;box-sizing: border-box;padding-bottom: 0.4em;background-color: white;}#sk-container-id-6 div.sk-label label {font-family: monospace;font-weight: bold;display: inline-block;line-height: 1.2em;}#sk-container-id-6 div.sk-label-container {text-align: center;}#sk-container-id-6 div.sk-container {/* jupyter's `normalize.less` sets `[hidden] { display: none; }` but bootstrap.min.css set `[hidden] { display: none !important; }` so we also need the `!important` here to be able to override the default hidden behavior on the sphinx rendered scikit-learn.org. See: https://github.com/scikit-learn/scikit-learn/issues/21755 */display: inline-block !important;position: relative;}#sk-container-id-6 div.sk-text-repr-fallback {display: none;}</style><div id=\"sk-container-id-6\" class=\"sk-top-container\"><div class=\"sk-text-repr-fallback\"><pre>XGBClassifier(base_score=None, booster=None, callbacks=None,\n",
       "              colsample_bylevel=None, colsample_bynode=None,\n",
       "              colsample_bytree=None, early_stopping_rounds=50,\n",
       "              enable_categorical=False, eval_metric=None, feature_types=None,\n",
       "              gamma=7, gpu_id=None, grow_policy=None, importance_type=None,\n",
       "              interaction_constraints=None, learning_rate=0.1, max_bin=None,\n",
       "              max_cat_threshold=None, max_cat_to_onehot=None,\n",
       "              max_delta_step=None, max_depth=14, max_leaves=None,\n",
       "              min_child_weight=None, missing=nan, monotone_constraints=None,\n",
       "              n_estimators=800, n_jobs=None, nthread=-1, num_parallel_tree=None,\n",
       "              predictor=None, ...)</pre><b>In a Jupyter environment, please rerun this cell to show the HTML representation or trust the notebook. <br />On GitHub, the HTML representation is unable to render, please try loading this page with nbviewer.org.</b></div><div class=\"sk-container\" hidden><div class=\"sk-item\"><div class=\"sk-estimator sk-toggleable\"><input class=\"sk-toggleable__control sk-hidden--visually\" id=\"sk-estimator-id-6\" type=\"checkbox\" checked><label for=\"sk-estimator-id-6\" class=\"sk-toggleable__label sk-toggleable__label-arrow\">XGBClassifier</label><div class=\"sk-toggleable__content\"><pre>XGBClassifier(base_score=None, booster=None, callbacks=None,\n",
       "              colsample_bylevel=None, colsample_bynode=None,\n",
       "              colsample_bytree=None, early_stopping_rounds=50,\n",
       "              enable_categorical=False, eval_metric=None, feature_types=None,\n",
       "              gamma=7, gpu_id=None, grow_policy=None, importance_type=None,\n",
       "              interaction_constraints=None, learning_rate=0.1, max_bin=None,\n",
       "              max_cat_threshold=None, max_cat_to_onehot=None,\n",
       "              max_delta_step=None, max_depth=14, max_leaves=None,\n",
       "              min_child_weight=None, missing=nan, monotone_constraints=None,\n",
       "              n_estimators=800, n_jobs=None, nthread=-1, num_parallel_tree=None,\n",
       "              predictor=None, ...)</pre></div></div></div></div></div>"
      ],
      "text/plain": [
       "XGBClassifier(base_score=None, booster=None, callbacks=None,\n",
       "              colsample_bylevel=None, colsample_bynode=None,\n",
       "              colsample_bytree=None, early_stopping_rounds=50,\n",
       "              enable_categorical=False, eval_metric=None, feature_types=None,\n",
       "              gamma=7, gpu_id=None, grow_policy=None, importance_type=None,\n",
       "              interaction_constraints=None, learning_rate=0.1, max_bin=None,\n",
       "              max_cat_threshold=None, max_cat_to_onehot=None,\n",
       "              max_delta_step=None, max_depth=14, max_leaves=None,\n",
       "              min_child_weight=None, missing=nan, monotone_constraints=None,\n",
       "              n_estimators=800, n_jobs=None, nthread=-1, num_parallel_tree=None,\n",
       "              predictor=None, ...)"
      ]
     },
     "execution_count": 42,
     "metadata": {},
     "output_type": "execute_result"
    }
   ],
   "source": [
    "clf3 = xgb.XGBClassifier(learning_rate=0.1,\n",
    "                         max_depth=14,\n",
    "                         subsample=0.9,\n",
    "                         gamma = 7,\n",
    "                         reg_lambda = 4,\n",
    "                         reg_alpha = 3,\n",
    "                         nthread = -1,\n",
    "                         n_estimators=800, early_stopping_rounds=50)\n",
    "\n",
    "clf3.fit(X_train_tfidf_1, y_train,\n",
    "       eval_set=[(X_train_tfidf_1, y_train), (X_test_tfidf_1, y_test)],\n",
    "       verbose=50)"
   ]
  },
  {
   "cell_type": "code",
   "execution_count": null,
   "id": "412b1f83",
   "metadata": {},
   "outputs": [
    {
     "name": "stdout",
     "output_type": "stream",
     "text": [
      "f1 score sobre validacion:  0.852952913008779\n",
      "f1 score sobre train:  0.9214765265720679\n"
     ]
    }
   ],
   "source": [
    "print(\"f1 score sobre validacion: \", f1_score(y_test, clf3.predict(X_test_tfidf_1)))\n",
    "print(\"f1 score sobre train: \", f1_score(y_train, clf3.predict(X_train_tfidf_1)))"
   ]
  },
  {
   "cell_type": "code",
   "execution_count": 53,
   "id": "386986b7",
   "metadata": {
    "tags": []
   },
   "outputs": [
    {
     "data": {
      "text/html": [
       "<style>#sk-container-id-4 {color: black;background-color: white;}#sk-container-id-4 pre{padding: 0;}#sk-container-id-4 div.sk-toggleable {background-color: white;}#sk-container-id-4 label.sk-toggleable__label {cursor: pointer;display: block;width: 100%;margin-bottom: 0;padding: 0.3em;box-sizing: border-box;text-align: center;}#sk-container-id-4 label.sk-toggleable__label-arrow:before {content: \"▸\";float: left;margin-right: 0.25em;color: #696969;}#sk-container-id-4 label.sk-toggleable__label-arrow:hover:before {color: black;}#sk-container-id-4 div.sk-estimator:hover label.sk-toggleable__label-arrow:before {color: black;}#sk-container-id-4 div.sk-toggleable__content {max-height: 0;max-width: 0;overflow: hidden;text-align: left;background-color: #f0f8ff;}#sk-container-id-4 div.sk-toggleable__content pre {margin: 0.2em;color: black;border-radius: 0.25em;background-color: #f0f8ff;}#sk-container-id-4 input.sk-toggleable__control:checked~div.sk-toggleable__content {max-height: 200px;max-width: 100%;overflow: auto;}#sk-container-id-4 input.sk-toggleable__control:checked~label.sk-toggleable__label-arrow:before {content: \"▾\";}#sk-container-id-4 div.sk-estimator input.sk-toggleable__control:checked~label.sk-toggleable__label {background-color: #d4ebff;}#sk-container-id-4 div.sk-label input.sk-toggleable__control:checked~label.sk-toggleable__label {background-color: #d4ebff;}#sk-container-id-4 input.sk-hidden--visually {border: 0;clip: rect(1px 1px 1px 1px);clip: rect(1px, 1px, 1px, 1px);height: 1px;margin: -1px;overflow: hidden;padding: 0;position: absolute;width: 1px;}#sk-container-id-4 div.sk-estimator {font-family: monospace;background-color: #f0f8ff;border: 1px dotted black;border-radius: 0.25em;box-sizing: border-box;margin-bottom: 0.5em;}#sk-container-id-4 div.sk-estimator:hover {background-color: #d4ebff;}#sk-container-id-4 div.sk-parallel-item::after {content: \"\";width: 100%;border-bottom: 1px solid gray;flex-grow: 1;}#sk-container-id-4 div.sk-label:hover label.sk-toggleable__label {background-color: #d4ebff;}#sk-container-id-4 div.sk-serial::before {content: \"\";position: absolute;border-left: 1px solid gray;box-sizing: border-box;top: 0;bottom: 0;left: 50%;z-index: 0;}#sk-container-id-4 div.sk-serial {display: flex;flex-direction: column;align-items: center;background-color: white;padding-right: 0.2em;padding-left: 0.2em;position: relative;}#sk-container-id-4 div.sk-item {position: relative;z-index: 1;}#sk-container-id-4 div.sk-parallel {display: flex;align-items: stretch;justify-content: center;background-color: white;position: relative;}#sk-container-id-4 div.sk-item::before, #sk-container-id-4 div.sk-parallel-item::before {content: \"\";position: absolute;border-left: 1px solid gray;box-sizing: border-box;top: 0;bottom: 0;left: 50%;z-index: -1;}#sk-container-id-4 div.sk-parallel-item {display: flex;flex-direction: column;z-index: 1;position: relative;background-color: white;}#sk-container-id-4 div.sk-parallel-item:first-child::after {align-self: flex-end;width: 50%;}#sk-container-id-4 div.sk-parallel-item:last-child::after {align-self: flex-start;width: 50%;}#sk-container-id-4 div.sk-parallel-item:only-child::after {width: 0;}#sk-container-id-4 div.sk-dashed-wrapped {border: 1px dashed gray;margin: 0 0.4em 0.5em 0.4em;box-sizing: border-box;padding-bottom: 0.4em;background-color: white;}#sk-container-id-4 div.sk-label label {font-family: monospace;font-weight: bold;display: inline-block;line-height: 1.2em;}#sk-container-id-4 div.sk-label-container {text-align: center;}#sk-container-id-4 div.sk-container {/* jupyter's `normalize.less` sets `[hidden] { display: none; }` but bootstrap.min.css set `[hidden] { display: none !important; }` so we also need the `!important` here to be able to override the default hidden behavior on the sphinx rendered scikit-learn.org. See: https://github.com/scikit-learn/scikit-learn/issues/21755 */display: inline-block !important;position: relative;}#sk-container-id-4 div.sk-text-repr-fallback {display: none;}</style><div id=\"sk-container-id-4\" class=\"sk-top-container\"><div class=\"sk-text-repr-fallback\"><pre>XGBClassifier(base_score=None, booster=None, callbacks=None,\n",
       "              colsample_bylevel=None, colsample_bynode=None,\n",
       "              colsample_bytree=None, early_stopping_rounds=None,\n",
       "              enable_categorical=False, eval_metric=None, feature_types=None,\n",
       "              gamma=None, gpu_id=None, grow_policy=None, importance_type=None,\n",
       "              interaction_constraints=None, learning_rate=0.2, max_bin=None,\n",
       "              max_cat_threshold=None, max_cat_to_onehot=None,\n",
       "              max_delta_step=None, max_depth=5, max_leaves=None,\n",
       "              min_child_weight=None, missing=nan, monotone_constraints=None,\n",
       "              n_estimators=500, n_jobs=None, num_parallel_tree=None,\n",
       "              predictor=None, random_state=None, ...)</pre><b>In a Jupyter environment, please rerun this cell to show the HTML representation or trust the notebook. <br />On GitHub, the HTML representation is unable to render, please try loading this page with nbviewer.org.</b></div><div class=\"sk-container\" hidden><div class=\"sk-item\"><div class=\"sk-estimator sk-toggleable\"><input class=\"sk-toggleable__control sk-hidden--visually\" id=\"sk-estimator-id-6\" type=\"checkbox\" checked><label for=\"sk-estimator-id-6\" class=\"sk-toggleable__label sk-toggleable__label-arrow\">XGBClassifier</label><div class=\"sk-toggleable__content\"><pre>XGBClassifier(base_score=None, booster=None, callbacks=None,\n",
       "              colsample_bylevel=None, colsample_bynode=None,\n",
       "              colsample_bytree=None, early_stopping_rounds=None,\n",
       "              enable_categorical=False, eval_metric=None, feature_types=None,\n",
       "              gamma=None, gpu_id=None, grow_policy=None, importance_type=None,\n",
       "              interaction_constraints=None, learning_rate=0.2, max_bin=None,\n",
       "              max_cat_threshold=None, max_cat_to_onehot=None,\n",
       "              max_delta_step=None, max_depth=5, max_leaves=None,\n",
       "              min_child_weight=None, missing=nan, monotone_constraints=None,\n",
       "              n_estimators=500, n_jobs=None, num_parallel_tree=None,\n",
       "              predictor=None, random_state=None, ...)</pre></div></div></div></div></div>"
      ],
      "text/plain": [
       "XGBClassifier(base_score=None, booster=None, callbacks=None,\n",
       "              colsample_bylevel=None, colsample_bynode=None,\n",
       "              colsample_bytree=None, early_stopping_rounds=None,\n",
       "              enable_categorical=False, eval_metric=None, feature_types=None,\n",
       "              gamma=None, gpu_id=None, grow_policy=None, importance_type=None,\n",
       "              interaction_constraints=None, learning_rate=0.2, max_bin=None,\n",
       "              max_cat_threshold=None, max_cat_to_onehot=None,\n",
       "              max_delta_step=None, max_depth=5, max_leaves=None,\n",
       "              min_child_weight=None, missing=nan, monotone_constraints=None,\n",
       "              n_estimators=500, n_jobs=None, num_parallel_tree=None,\n",
       "              predictor=None, random_state=None, ...)"
      ]
     },
     "execution_count": 53,
     "metadata": {},
     "output_type": "execute_result"
    }
   ],
   "source": [
    "param_grid = {\n",
    "'learning_rate': [0.01, 0.1, 0.2],\n",
    "'max_depth': [3, 5, 7, 10],\n",
    "'subsample': [0.6, 0.7, 0.8, 0.9, 1.0],\n",
    "'reg_lambda': [0.1, 1, 10],\n",
    "'reg_alpha': [0.1, 1, 10],\n",
    "'n_estimators': [100, 500, 1000]\n",
    "}\n",
    "\n",
    "xgb_clf = xgb.XGBClassifier()\n",
    "\n",
    "grid = RandomizedSearchCV(xgb_clf, param_distributions=param_grid, cv=3, n_iter=10, scoring=make_scorer(f1_score), n_jobs = -1)\n",
    "grid.fit(X_train_tfidf_1, y_train)"
   ]
  },
  {
   "cell_type": "code",
   "execution_count": null,
   "id": "41ba3552",
   "metadata": {},
   "outputs": [
    {
     "data": {
      "text/plain": [
       "{'subsample': 0.8,\n",
       " 'reg_lambda': 0.1,\n",
       " 'reg_alpha': 1,\n",
       " 'n_estimators': 500,\n",
       " 'max_depth': 5,\n",
       " 'learning_rate': 0.2}"
      ]
     },
     "execution_count": 49,
     "metadata": {},
     "output_type": "execute_result"
    }
   ],
   "source": [
    "grid.best_params_"
   ]
  },
  {
   "cell_type": "code",
   "execution_count": 51,
   "id": "6335f4f4",
   "metadata": {
    "tags": []
   },
   "outputs": [
    {
     "ename": "NameError",
     "evalue": "name 'grid' is not defined",
     "output_type": "error",
     "traceback": [
      "\u001b[1;31m---------------------------------------------------------------------------\u001b[0m",
      "\u001b[1;31mNameError\u001b[0m                                 Traceback (most recent call last)",
      "Cell \u001b[1;32mIn[51], line 1\u001b[0m\n\u001b[1;32m----> 1\u001b[0m f1_score(y_test, \u001b[43mgrid\u001b[49m\u001b[38;5;241m.\u001b[39mpredict(X_test_tfidf_1))\n",
      "\u001b[1;31mNameError\u001b[0m: name 'grid' is not defined"
     ]
    }
   ],
   "source": [
    "f1_score(y_test, grid.predict(X_test_tfidf_1))"
   ]
  },
  {
   "cell_type": "code",
   "execution_count": 55,
   "id": "6a7bb7a4",
   "metadata": {
    "tags": []
   },
   "outputs": [
    {
     "name": "stdout",
     "output_type": "stream",
     "text": [
      "F1 Score: 0.8518310231896523\n",
      "Precision: 0.8390355164548713\n",
      "Recall: 0.8650228433216878\n",
      "Accuracy: 0.8507\n"
     ]
    }
   ],
   "source": [
    "y_pred = grid.predict(X_test_tfidf_1)\n",
    "\n",
    "accuracy = accuracy_score(y_test, y_pred)\n",
    "precision = precision_score(y_test, y_pred)\n",
    "recall = recall_score(y_test, y_pred)\n",
    "f1 = f1_score(y_test, y_pred)\n",
    "\n",
    "print(\"F1 Score:\", f1)\n",
    "print(\"Precision:\", precision)\n",
    "print(\"Recall:\", recall)\n",
    "print(\"Accuracy:\", accuracy)"
   ]
  },
  {
   "cell_type": "code",
   "execution_count": null,
   "id": "82fa2a27",
   "metadata": {},
   "outputs": [
    {
     "data": {
      "text/plain": [
       "Text(0.5, 1.0, 'Confusion matrix de training set')"
      ]
     },
     "execution_count": 52,
     "metadata": {},
     "output_type": "execute_result"
    },
    {
     "data": {
      "image/png": "[encoded data removed]",
      "text/plain": [
       "<Figure size 640x480 with 2 Axes>"
      ]
     },
     "metadata": {},
     "output_type": "display_data"
    }
   ],
   "source": [
    "y_pred = grid.predict(X_train_tfidf_1)\n",
    "confusion = confusion_matrix(y_train, y_pred)\n",
    "sns.heatmap(confusion, annot=True, fmt='.0f')\n",
    "plt.ylabel('true')\n",
    "plt.xlabel('predicted')\n",
    "plt.title(\"Confusion matrix de training set\")"
   ]
  },
  {
   "cell_type": "code",
   "execution_count": 56,
   "id": "7cafff8f",
   "metadata": {
    "tags": []
   },
   "outputs": [
    {
     "ename": "NameError",
     "evalue": "name 'grid' is not defined",
     "output_type": "error",
     "traceback": [
      "\u001b[1;31m---------------------------------------------------------------------------\u001b[0m",
      "\u001b[1;31mNameError\u001b[0m                                 Traceback (most recent call last)",
      "Cell \u001b[1;32mIn[56], line 8\u001b[0m\n\u001b[0;32m      5\u001b[0m X_counts \u001b[38;5;241m=\u001b[39m vectorizador\u001b[38;5;241m.\u001b[39mtransform(X)\n\u001b[0;32m      6\u001b[0m X_tfidf \u001b[38;5;241m=\u001b[39m escaladorTfidf\u001b[38;5;241m.\u001b[39mtransform(X_counts)\n\u001b[1;32m----> 8\u001b[0m prediccion \u001b[38;5;241m=\u001b[39m np\u001b[38;5;241m.\u001b[39mwhere(\u001b[43mgrid\u001b[49m\u001b[38;5;241m.\u001b[39mpredict(X_tfidf) \u001b[38;5;241m>\u001b[39m\u001b[38;5;241m=\u001b[39m \u001b[38;5;241m0.5\u001b[39m, \u001b[38;5;124m'\u001b[39m\u001b[38;5;124mpositivo\u001b[39m\u001b[38;5;124m'\u001b[39m, \u001b[38;5;124m'\u001b[39m\u001b[38;5;124mnegativo\u001b[39m\u001b[38;5;124m'\u001b[39m)\n\u001b[0;32m      9\u001b[0m \u001b[38;5;28;01massert\u001b[39;00m(\u001b[38;5;28mlen\u001b[39m(prediccion)\u001b[38;5;241m==\u001b[39m\u001b[38;5;241m8599\u001b[39m)\n\u001b[0;32m     11\u001b[0m submit \u001b[38;5;241m=\u001b[39m pd\u001b[38;5;241m.\u001b[39mDataFrame(\n\u001b[0;32m     12\u001b[0m     {\u001b[38;5;124m\"\u001b[39m\u001b[38;5;124msentimiento\u001b[39m\u001b[38;5;124m\"\u001b[39m: prediccion},\n\u001b[0;32m     13\u001b[0m     index\u001b[38;5;241m=\u001b[39mdf_test[\u001b[38;5;124m\"\u001b[39m\u001b[38;5;124mID\u001b[39m\u001b[38;5;124m\"\u001b[39m],\n\u001b[0;32m     14\u001b[0m )\n",
      "\u001b[1;31mNameError\u001b[0m: name 'grid' is not defined"
     ]
    }
   ],
   "source": [
    "df_test = pd.read_csv(\"dataset/test.csv\")\n",
    "assert(len(df_test)==8599)\n",
    "\n",
    "X = df_test['review_es']    \n",
    "X_counts = vectorizador.transform(X)\n",
    "X_tfidf = escaladorTfidf.transform(X_counts)\n",
    "    \n",
    "prediccion = np.where(grid.predict(X_tfidf) >= 0.5, 'positivo', 'negativo')\n",
    "assert(len(prediccion)==8599)\n",
    "\n",
    "submit = pd.DataFrame(\n",
    "    {\"sentimiento\": prediccion},\n",
    "    index=df_test[\"ID\"],\n",
    ")\n",
    "assert(len(submit)==8599)\n",
    "\n",
    "submit.to_csv(\"dataset/submit.csv\")"
   ]
  },
  {
   "cell_type": "code",
   "execution_count": 57,
   "id": "4edb43db-c4b2-470b-ae65-2ff1d7c92787",
   "metadata": {
    "tags": []
   },
   "outputs": [],
   "source": [
    "with open('modelos/XgBoostCV.pickle', 'wb') as file:\n",
    "    pickle.dump(grid, file)"
   ]
  },
  {
   "cell_type": "markdown",
   "id": "4548350f-e242-49f6-9fde-4fe63b3cbdb6",
   "metadata": {},
   "source": [
    "### Red neuronal con Keras y TensorFlow"
   ]
  },
  {
   "cell_type": "code",
   "execution_count": null,
   "id": "ff642e41-0622-45b8-8033-c373d017011b",
   "metadata": {},
   "outputs": [],
   "source": [
    "from keras.models import Sequential\n",
    "from keras.layers import LSTM\n",
    "from keras.layers import Embedding, Dense\n",
    "from keras.utils import pad_sequences"
   ]
  },
  {
   "cell_type": "code",
   "execution_count": null,
   "id": "0b4e540c-9ee3-40e3-be68-8e56db1266a0",
   "metadata": {
    "tags": []
   },
   "outputs": [],
   "source": [
    "tokenizer = Tokenizer()\n",
    "tokenizer.fit_on_texts(X_train)\n",
    "vocabulario = len(tokenizer.word_index) + 1"
   ]
  },
  {
   "cell_type": "code",
   "execution_count": null,
   "id": "d544325e-e956-450f-8010-8ca37abeb622",
   "metadata": {
    "tags": []
   },
   "outputs": [],
   "source": [
    "max_words = 5000\n",
    "X_train_sequences = tokenizer.texts_to_sequences(X_train)\n",
    "X_test_sequences = tokenizer.texts_to_sequences(X_test)\n",
    "X_train_padded = pad_sequences(X_train_sequences, maxlen=max_words)\n",
    "X_test_padded = pad_sequences(X_test_sequences, maxlen=max_words)"
   ]
  },
  {
   "cell_type": "code",
   "execution_count": null,
   "id": "688d8678-284e-4caf-a14d-da9e4aee51e5",
   "metadata": {
    "tags": []
   },
   "outputs": [],
   "source": [
    "lstm_nn = Sequential()\n",
    "\n",
    "lstm_nn.add(Embedding(vocabulario, 32, input_length=max_words,trainable=False))\n",
    "lstm_nn.add(LSTM(100))\n",
    "lstm_nn.add(Dense(1,activation='sigmoid'))"
   ]
  },
  {
   "cell_type": "code",
   "execution_count": null,
   "id": "816c9c2a-affa-4d49-9172-fd4f5a4240bc",
   "metadata": {
    "tags": []
   },
   "outputs": [
    {
     "name": "stdout",
     "output_type": "stream",
     "text": [
      "Model: \"sequential\"\n",
      "_________________________________________________________________\n",
      " Layer (type)                Output Shape              Param #   \n",
      "=================================================================\n",
      " embedding (Embedding)       (None, 5000, 32)          4889824   \n",
      "                                                                 \n",
      " lstm (LSTM)                 (None, 100)               53200     \n",
      "                                                                 \n",
      " dense (Dense)               (None, 1)                 101       \n",
      "                                                                 \n",
      "=================================================================\n",
      "Total params: 4,943,125\n",
      "Trainable params: 53,301\n",
      "Non-trainable params: 4,889,824\n",
      "_________________________________________________________________\n",
      "None\n"
     ]
    }
   ],
   "source": [
    "lstm_nn.compile(optimizer='adam', loss='binary_crossentropy')\n",
    "print(lstm_nn.summary())"
   ]
  },
  {
   "cell_type": "code",
   "execution_count": null,
   "id": "556efff5-a461-4ae8-9202-367e58b6d057",
   "metadata": {
    "tags": []
   },
   "outputs": [],
   "source": [
    "lstm_nn_history = lstm_nn.fit(X_train_padded, y_train, epochs=6)"
   ]
  },
  {
   "cell_type": "code",
   "execution_count": null,
   "id": "2c3dcf84-f477-483d-9af7-b56d6f050821",
   "metadata": {
    "tags": []
   },
   "outputs": [],
   "source": [
    "y_pred = np.where(lstm_nn.predict(X_test_padded) >= 0.5, 1, 0)"
   ]
  },
  {
   "cell_type": "code",
   "execution_count": null,
   "id": "db89db3b-7946-450e-9a2e-86270d08d801",
   "metadata": {
    "tags": []
   },
   "outputs": [
    {
     "data": {
      "text/plain": [
       "Text(0.5, 1.0, 'Confusion matrix de validación')"
      ]
     },
     "execution_count": 25,
     "metadata": {},
     "output_type": "execute_result"
    },
    {
     "data": {
      "image/png": "[encoded data removed]",
      "text/plain": [
       "<Figure size 640x480 with 2 Axes>"
      ]
     },
     "metadata": {},
     "output_type": "display_data"
    }
   ],
   "source": [
    "confusion = confusion_matrix(y_test, y_pred)\n",
    "sns.heatmap(confusion, annot=True, fmt='.0f')\n",
    "plt.ylabel('true')\n",
    "plt.xlabel('predicted')\n",
    "plt.title(\"Confusion matrix de validación\")"
   ]
  },
  {
   "cell_type": "code",
   "execution_count": null,
   "id": "6fbf9d76-e4eb-44a4-bd26-9eff154439ed",
   "metadata": {
    "tags": []
   },
   "outputs": [
    {
     "name": "stdout",
     "output_type": "stream",
     "text": [
      "Accuracy: 0.5806\n",
      "Precision: 0.5959989607690309\n",
      "Recall: 0.46503142104196227\n",
      "F1-score: 0.522432247779549\n"
     ]
    }
   ],
   "source": [
    "print(\"Accuracy:\", accuracy_score(y_test, y_pred))\n",
    "print(\"Precision:\", precision_score(y_test, y_pred))\n",
    "print(\"Recall:\", recall_score(y_test, y_pred))\n",
    "print(\"F1-score:\", f1_score(y_test, y_pred))"
   ]
  },
  {
   "cell_type": "code",
   "execution_count": null,
   "id": "b9eb9cbd-01f9-4fb3-8b08-690295f59d4b",
   "metadata": {},
   "outputs": [],
   "source": [
    "df_test = pd.read_csv(\"dataset/test.csv\")\n",
    "assert(len(df_test)==8599)\n",
    "\n",
    "X = df_test.review_es\n",
    "X_sequences = tokenizer.texts_to_sequences(X)\n",
    "X_padded = pad_sequences(X_sequences, maxlen=max_words)\n",
    "    \n",
    "prediccion = np.where(lstm_nn.predict(X_padded) >= 0.5, 'positivo', 'negativo').reshape(-1)\n",
    "assert(len(prediccion)==8599)\n",
    "\n",
    "submit = pd.DataFrame(\n",
    "    {\"sentimiento\": prediccion},\n",
    "    index=df_test[\"ID\"],\n",
    ")\n",
    "assert(len(submit)==8599)\n",
    "\n",
    "submit.to_csv(\"dataset/submit.csv\")"
   ]
  },
  {
   "cell_type": "markdown",
   "id": "34bfcb60-abcb-4a81-ad78-c196e8bc538d",
   "metadata": {},
   "source": [
    "### Ensamble de modelos"
   ]
  },
  {
   "cell_type": "code",
   "execution_count": 118,
   "id": "b0c14d2a-d017-4be0-a913-753f44ee077e",
   "metadata": {
    "tags": []
   },
   "outputs": [],
   "source": [
    "from sklearn.ensemble import VotingClassifier"
   ]
  },
  {
   "cell_type": "code",
   "execution_count": 129,
   "id": "6562de0a-df77-4ae6-8718-5a50e0ecf9d9",
   "metadata": {
    "tags": []
   },
   "outputs": [],
   "source": [
    "bn = pickle.load(open('modelos/BayesNaiveCV.pickle', 'rb'))\n",
    "rf = pickle.load(open('modelos/RandomForestCV.pickle', 'rb'))\n",
    "xgb = pickle.load(open('modelos/XgBoostCV.pickle', 'rb'))"
   ]
  },
  {
   "cell_type": "code",
   "execution_count": 132,
   "id": "cd33e353-b59e-49b9-96de-8ef0f1678d17",
   "metadata": {
    "tags": []
   },
   "outputs": [],
   "source": [
    "voting = VotingClassifier(estimators=[ ('rf', rf),('xgb', xgb),('bn', bn)], voting='hard')"
   ]
  },
  {
   "cell_type": "code",
   "execution_count": 125,
   "id": "3e362575-5297-4b86-a6b4-2c80e87ede64",
   "metadata": {
    "tags": []
   },
   "outputs": [],
   "source": [
    "X = df.review_es\n",
    "y = df.sentimiento_es_positivo\n",
    "X_train, X_test, y_train, y_test = train_test_split(X, y, test_size=0.6, random_state=19)\n",
    "vectorizador = CountVectorizer()\n",
    "escaladorTfidf = TfidfTransformer()\n",
    "X_train_counts_3 = vectorizador.fit_transform(X_train)\n",
    "X_train_tfidf_3 = escaladorTfidf.fit_transform(X_train_counts_3)\n",
    "X_test_counts_3 = vectorizador.transform(X_test)\n",
    "X_test_tfidf_3 = escaladorTfidf.transform(X_test_counts_3)"
   ]
  },
  {
   "cell_type": "code",
   "execution_count": 133,
   "id": "e2c6981c-09df-4ee5-bbe2-16ff5dc3755c",
   "metadata": {
    "tags": []
   },
   "outputs": [
    {
     "data": {
      "text/html": [
       "<style>#sk-container-id-18 {color: black;background-color: white;}#sk-container-id-18 pre{padding: 0;}#sk-container-id-18 div.sk-toggleable {background-color: white;}#sk-container-id-18 label.sk-toggleable__label {cursor: pointer;display: block;width: 100%;margin-bottom: 0;padding: 0.3em;box-sizing: border-box;text-align: center;}#sk-container-id-18 label.sk-toggleable__label-arrow:before {content: \"▸\";float: left;margin-right: 0.25em;color: #696969;}#sk-container-id-18 label.sk-toggleable__label-arrow:hover:before {color: black;}#sk-container-id-18 div.sk-estimator:hover label.sk-toggleable__label-arrow:before {color: black;}#sk-container-id-18 div.sk-toggleable__content {max-height: 0;max-width: 0;overflow: hidden;text-align: left;background-color: #f0f8ff;}#sk-container-id-18 div.sk-toggleable__content pre {margin: 0.2em;color: black;border-radius: 0.25em;background-color: #f0f8ff;}#sk-container-id-18 input.sk-toggleable__control:checked~div.sk-toggleable__content {max-height: 200px;max-width: 100%;overflow: auto;}#sk-container-id-18 input.sk-toggleable__control:checked~label.sk-toggleable__label-arrow:before {content: \"▾\";}#sk-container-id-18 div.sk-estimator input.sk-toggleable__control:checked~label.sk-toggleable__label {background-color: #d4ebff;}#sk-container-id-18 div.sk-label input.sk-toggleable__control:checked~label.sk-toggleable__label {background-color: #d4ebff;}#sk-container-id-18 input.sk-hidden--visually {border: 0;clip: rect(1px 1px 1px 1px);clip: rect(1px, 1px, 1px, 1px);height: 1px;margin: -1px;overflow: hidden;padding: 0;position: absolute;width: 1px;}#sk-container-id-18 div.sk-estimator {font-family: monospace;background-color: #f0f8ff;border: 1px dotted black;border-radius: 0.25em;box-sizing: border-box;margin-bottom: 0.5em;}#sk-container-id-18 div.sk-estimator:hover {background-color: #d4ebff;}#sk-container-id-18 div.sk-parallel-item::after {content: \"\";width: 100%;border-bottom: 1px solid gray;flex-grow: 1;}#sk-container-id-18 div.sk-label:hover label.sk-toggleable__label {background-color: #d4ebff;}#sk-container-id-18 div.sk-serial::before {content: \"\";position: absolute;border-left: 1px solid gray;box-sizing: border-box;top: 0;bottom: 0;left: 50%;z-index: 0;}#sk-container-id-18 div.sk-serial {display: flex;flex-direction: column;align-items: center;background-color: white;padding-right: 0.2em;padding-left: 0.2em;position: relative;}#sk-container-id-18 div.sk-item {position: relative;z-index: 1;}#sk-container-id-18 div.sk-parallel {display: flex;align-items: stretch;justify-content: center;background-color: white;position: relative;}#sk-container-id-18 div.sk-item::before, #sk-container-id-18 div.sk-parallel-item::before {content: \"\";position: absolute;border-left: 1px solid gray;box-sizing: border-box;top: 0;bottom: 0;left: 50%;z-index: -1;}#sk-container-id-18 div.sk-parallel-item {display: flex;flex-direction: column;z-index: 1;position: relative;background-color: white;}#sk-container-id-18 div.sk-parallel-item:first-child::after {align-self: flex-end;width: 50%;}#sk-container-id-18 div.sk-parallel-item:last-child::after {align-self: flex-start;width: 50%;}#sk-container-id-18 div.sk-parallel-item:only-child::after {width: 0;}#sk-container-id-18 div.sk-dashed-wrapped {border: 1px dashed gray;margin: 0 0.4em 0.5em 0.4em;box-sizing: border-box;padding-bottom: 0.4em;background-color: white;}#sk-container-id-18 div.sk-label label {font-family: monospace;font-weight: bold;display: inline-block;line-height: 1.2em;}#sk-container-id-18 div.sk-label-container {text-align: center;}#sk-container-id-18 div.sk-container {/* jupyter's `normalize.less` sets `[hidden] { display: none; }` but bootstrap.min.css set `[hidden] { display: none !important; }` so we also need the `!important` here to be able to override the default hidden behavior on the sphinx rendered scikit-learn.org. See: https://github.com/scikit-learn/scikit-learn/issues/21755 */display: inline-block !important;position: relative;}#sk-container-id-18 div.sk-text-repr-fallback {display: none;}</style><div id=\"sk-container-id-18\" class=\"sk-top-container\"><div class=\"sk-text-repr-fallback\"><pre>VotingClassifier(estimators=[(&#x27;rf&#x27;,\n",
       "                              RandomForestClassifier(criterion=&#x27;entropy&#x27;,\n",
       "                                                     min_samples_leaf=10,\n",
       "                                                     n_estimators=300)),\n",
       "                             (&#x27;xgb&#x27;,\n",
       "                              XGBClassifier(base_score=None, booster=None,\n",
       "                                            callbacks=None,\n",
       "                                            colsample_bylevel=None,\n",
       "                                            colsample_bynode=None,\n",
       "                                            colsample_bytree=None,\n",
       "                                            early_stopping_rounds=None,\n",
       "                                            enable_categorical=False,\n",
       "                                            eval_metric=None,\n",
       "                                            feature_types=None, gamma=None,\n",
       "                                            gp...\n",
       "       0.47948718, 0.4974359 , 0.51538462, 0.53333333, 0.55128205,\n",
       "       0.56923077, 0.58717949, 0.60512821, 0.62307692, 0.64102564,\n",
       "       0.65897436, 0.67692308, 0.69487179, 0.71282051, 0.73076923,\n",
       "       0.74871795, 0.76666667, 0.78461538, 0.8025641 , 0.82051282,\n",
       "       0.83846154, 0.85641026, 0.87435897, 0.89230769, 0.91025641,\n",
       "       0.92820513, 0.94615385, 0.96410256, 0.98205128, 1.        ])},\n",
       "                                           scoring=make_scorer(f1_score)))])</pre><b>In a Jupyter environment, please rerun this cell to show the HTML representation or trust the notebook. <br />On GitHub, the HTML representation is unable to render, please try loading this page with nbviewer.org.</b></div><div class=\"sk-container\" hidden><div class=\"sk-item sk-dashed-wrapped\"><div class=\"sk-label-container\"><div class=\"sk-label sk-toggleable\"><input class=\"sk-toggleable__control sk-hidden--visually\" id=\"sk-estimator-id-67\" type=\"checkbox\" ><label for=\"sk-estimator-id-67\" class=\"sk-toggleable__label sk-toggleable__label-arrow\">VotingClassifier</label><div class=\"sk-toggleable__content\"><pre>VotingClassifier(estimators=[(&#x27;rf&#x27;,\n",
       "                              RandomForestClassifier(criterion=&#x27;entropy&#x27;,\n",
       "                                                     min_samples_leaf=10,\n",
       "                                                     n_estimators=300)),\n",
       "                             (&#x27;xgb&#x27;,\n",
       "                              XGBClassifier(base_score=None, booster=None,\n",
       "                                            callbacks=None,\n",
       "                                            colsample_bylevel=None,\n",
       "                                            colsample_bynode=None,\n",
       "                                            colsample_bytree=None,\n",
       "                                            early_stopping_rounds=None,\n",
       "                                            enable_categorical=False,\n",
       "                                            eval_metric=None,\n",
       "                                            feature_types=None, gamma=None,\n",
       "                                            gp...\n",
       "       0.47948718, 0.4974359 , 0.51538462, 0.53333333, 0.55128205,\n",
       "       0.56923077, 0.58717949, 0.60512821, 0.62307692, 0.64102564,\n",
       "       0.65897436, 0.67692308, 0.69487179, 0.71282051, 0.73076923,\n",
       "       0.74871795, 0.76666667, 0.78461538, 0.8025641 , 0.82051282,\n",
       "       0.83846154, 0.85641026, 0.87435897, 0.89230769, 0.91025641,\n",
       "       0.92820513, 0.94615385, 0.96410256, 0.98205128, 1.        ])},\n",
       "                                           scoring=make_scorer(f1_score)))])</pre></div></div></div><div class=\"sk-parallel\"><div class=\"sk-parallel-item\"><div class=\"sk-item\"><div class=\"sk-label-container\"><div class=\"sk-label sk-toggleable\"><label>rf</label></div></div><div class=\"sk-serial\"><div class=\"sk-item\"><div class=\"sk-estimator sk-toggleable\"><input class=\"sk-toggleable__control sk-hidden--visually\" id=\"sk-estimator-id-68\" type=\"checkbox\" ><label for=\"sk-estimator-id-68\" class=\"sk-toggleable__label sk-toggleable__label-arrow\">RandomForestClassifier</label><div class=\"sk-toggleable__content\"><pre>RandomForestClassifier(criterion=&#x27;entropy&#x27;, min_samples_leaf=10,\n",
       "                       n_estimators=300)</pre></div></div></div></div></div></div><div class=\"sk-parallel-item\"><div class=\"sk-item\"><div class=\"sk-label-container\"><div class=\"sk-label sk-toggleable\"><label>xgb</label></div></div><div class=\"sk-serial\"><div class=\"sk-item\"><div class=\"sk-estimator sk-toggleable\"><input class=\"sk-toggleable__control sk-hidden--visually\" id=\"sk-estimator-id-69\" type=\"checkbox\" ><label for=\"sk-estimator-id-69\" class=\"sk-toggleable__label sk-toggleable__label-arrow\">XGBClassifier</label><div class=\"sk-toggleable__content\"><pre>XGBClassifier(base_score=None, booster=None, callbacks=None,\n",
       "              colsample_bylevel=None, colsample_bynode=None,\n",
       "              colsample_bytree=None, early_stopping_rounds=None,\n",
       "              enable_categorical=False, eval_metric=None, feature_types=None,\n",
       "              gamma=None, gpu_id=None, grow_policy=None, importance_type=None,\n",
       "              interaction_constraints=None, learning_rate=0.2, max_bin=None,\n",
       "              max_cat_threshold=None, max_cat_to_onehot=None,\n",
       "              max_delta_step=None, max_depth=5, max_leaves=None,\n",
       "              min_child_weight=None, missing=nan, monotone_constraints=None,\n",
       "              n_estimators=500, n_jobs=None, num_parallel_tree=None,\n",
       "              predictor=None, random_state=None, ...)</pre></div></div></div></div></div></div><div class=\"sk-parallel-item\"><div class=\"sk-item\"><div class=\"sk-label-container\"><div class=\"sk-label sk-toggleable\"><label>bn</label></div></div><div class=\"sk-serial\"><div class=\"sk-item sk-dashed-wrapped\"><div class=\"sk-parallel\"><div class=\"sk-parallel-item\"><div class=\"sk-item\"><div class=\"sk-label-container\"><div class=\"sk-label sk-toggleable\"><input class=\"sk-toggleable__control sk-hidden--visually\" id=\"sk-estimator-id-70\" type=\"checkbox\" ><label for=\"sk-estimator-id-70\" class=\"sk-toggleable__label sk-toggleable__label-arrow\">estimator: MultinomialNB</label><div class=\"sk-toggleable__content\"><pre>MultinomialNB(fit_prior=False)</pre></div></div></div><div class=\"sk-serial\"><div class=\"sk-item\"><div class=\"sk-estimator sk-toggleable\"><input class=\"sk-toggleable__control sk-hidden--visually\" id=\"sk-estimator-id-71\" type=\"checkbox\" ><label for=\"sk-estimator-id-71\" class=\"sk-toggleable__label sk-toggleable__label-arrow\">MultinomialNB</label><div class=\"sk-toggleable__content\"><pre>MultinomialNB(fit_prior=False)</pre></div></div></div></div></div></div></div></div></div></div></div></div></div></div></div>"
      ],
      "text/plain": [
       "VotingClassifier(estimators=[('rf',\n",
       "                              RandomForestClassifier(criterion='entropy',\n",
       "                                                     min_samples_leaf=10,\n",
       "                                                     n_estimators=300)),\n",
       "                             ('xgb',\n",
       "                              XGBClassifier(base_score=None, booster=None,\n",
       "                                            callbacks=None,\n",
       "                                            colsample_bylevel=None,\n",
       "                                            colsample_bynode=None,\n",
       "                                            colsample_bytree=None,\n",
       "                                            early_stopping_rounds=None,\n",
       "                                            enable_categorical=False,\n",
       "                                            eval_metric=None,\n",
       "                                            feature_types=None, gamma=None,\n",
       "                                            gp...\n",
       "       0.47948718, 0.4974359 , 0.51538462, 0.53333333, 0.55128205,\n",
       "       0.56923077, 0.58717949, 0.60512821, 0.62307692, 0.64102564,\n",
       "       0.65897436, 0.67692308, 0.69487179, 0.71282051, 0.73076923,\n",
       "       0.74871795, 0.76666667, 0.78461538, 0.8025641 , 0.82051282,\n",
       "       0.83846154, 0.85641026, 0.87435897, 0.89230769, 0.91025641,\n",
       "       0.92820513, 0.94615385, 0.96410256, 0.98205128, 1.        ])},\n",
       "                                           scoring=make_scorer(f1_score)))])"
      ]
     },
     "execution_count": 133,
     "metadata": {},
     "output_type": "execute_result"
    }
   ],
   "source": [
    "voting.fit(X_train_tfidf_3, y_train)"
   ]
  },
  {
   "cell_type": "code",
   "execution_count": 134,
   "id": "43b9d678-7b44-4fcb-8223-c78767a8097a",
   "metadata": {
    "tags": []
   },
   "outputs": [
    {
     "name": "stdout",
     "output_type": "stream",
     "text": [
      "f1 score sobre validacion con el ensamble de voting:  0.866429089949185\n",
      "f1 score sobre train con el modelo de voting:  0.9566029390082076\n"
     ]
    }
   ],
   "source": [
    "print(\"f1 score sobre validacion con el ensamble de voting: \", f1_score(y_test, voting.predict(X_test_tfidf_3)))\n",
    "print(\"f1 score sobre train con el modelo de voting: \", f1_score(y_train, voting.predict(X_train_tfidf_3 )))"
   ]
  },
  {
   "cell_type": "markdown",
   "id": "bbf4b804-059e-48eb-8b0f-ae88d34569ec",
   "metadata": {},
   "source": [
    "Ploteamos matriz de confusion sobre el conjunto de validacion"
   ]
  },
  {
   "cell_type": "code",
   "execution_count": 135,
   "id": "071ab843-70c4-437f-b199-dafc36d9d855",
   "metadata": {
    "tags": []
   },
   "outputs": [
    {
     "data": {
      "text/plain": [
       "Text(0.5, 1.0, 'Confusion matrix del validation set (voting)')"
      ]
     },
     "execution_count": 135,
     "metadata": {},
     "output_type": "execute_result"
    },
    {
     "data": {
      "image/png": "[encoded data removed]",
      "text/plain": [
       "<Figure size 640x480 with 2 Axes>"
      ]
     },
     "metadata": {},
     "output_type": "display_data"
    }
   ],
   "source": [
    "y_pred = voting.predict(X_test_tfidf_3)\n",
    "confusion = confusion_matrix(y_test, y_pred)\n",
    "sns.heatmap(confusion, annot=True, fmt='.0f')\n",
    "plt.ylabel('true')\n",
    "plt.xlabel('predicted')\n",
    "plt.title(\"Confusion matrix del validation set (voting)\")"
   ]
  },
  {
   "cell_type": "markdown",
   "id": "2402276d-24c7-4363-8ea6-8f1c8682cc5d",
   "metadata": {},
   "source": [
    "Creamos submit para competencia Kaggle"
   ]
  },
  {
   "cell_type": "code",
   "execution_count": 136,
   "id": "876326a4-6ddd-449d-90c6-fb0d87efb99a",
   "metadata": {
    "tags": []
   },
   "outputs": [],
   "source": [
    "df_test = pd.read_csv(\"dataset/test.csv\")\n",
    "assert(len(df_test)==8599)\n",
    "\n",
    "X = df_test['review_es']\n",
    "    \n",
    "X_counts = vectorizador.transform(X)\n",
    "X_tfidf = escaladorTfidf.transform(X_counts)\n",
    "    \n",
    "prediccion = np.where(rf_cv_best.predict(X_tfidf) >= 0.5, 'positivo', 'negativo')\n",
    "\n",
    "assert(len(prediccion)==8599)\n",
    "\n",
    "submit = pd.DataFrame(\n",
    "    {\"sentimiento\": prediccion},\n",
    "    index=df_test[\"ID\"],\n",
    ")\n",
    "assert(len(submit)==8599)\n",
    "\n",
    "submit.to_csv(\"dataset/submit.csv\")"
   ]
  },
  {
   "cell_type": "markdown",
   "id": "73d7e922-40b0-46c7-b323-b37b5ee94d27",
   "metadata": {},
   "source": [
    "Guardamos modelo con pickle"
   ]
  },
  {
   "cell_type": "code",
   "execution_count": 74,
   "id": "5ac13d76-61e1-4f90-82b0-5c17a446af48",
   "metadata": {
    "tags": []
   },
   "outputs": [],
   "source": [
    "with open('modelos/Voting.pickle', 'wb') as file:\n",
    "    pickle.dump(voting, file)"
   ]
  }
 ],
 "metadata": {
  "kernelspec": {
   "display_name": "Python 3 (ipykernel)",
   "language": "python",
   "name": "python3"
  },
  "language_info": {
   "codemirror_mode": {
    "name": "ipython",
    "version": 3
   },
   "file_extension": ".py",
   "mimetype": "text/x-python",
   "name": "python",
   "nbconvert_exporter": "python",
   "pygments_lexer": "ipython3",
   "version": "3.11.2"
  },
  "vscode": {
   "interpreter": {
    "hash": "b530d9c2c2b5bebcf7d6e28a50876d0da6caa0e340fb26c46920b1580d5d916c"
   }
  }
 },
 "nbformat": 4,
 "nbformat_minor": 5
}
