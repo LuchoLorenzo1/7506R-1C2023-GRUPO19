{
 "cells": [
  {
   "cell_type": "markdown",
   "id": "3adad8c9-6fbc-4b44-9c18-7cd36fdaf06f",
   "metadata": {},
   "source": [
    "# <center>Organizaci&oacute;n de Datos</center>\n",
    "## <center>Trabajo Práctico 2: Criticas de cine</center>\n",
    "\n",
    "#### Integrantes grupo 19: Sudanalytics \n",
    "* Adrian Leandro Re\n",
    "* Alan Toulouse\n",
    "* Luciano Lorenzo\n",
    "* Nicolas Tonizzo"
   ]
  },
  {
   "cell_type": "markdown",
   "id": "d078fb10-b41a-4422-806a-84782f1b972e",
   "metadata": {},
   "source": [
    "Importamos las librerias y modulos necesarios."
   ]
  },
  {
   "cell_type": "code",
   "execution_count": 1,
   "id": "52dfbb58-ce25-4d25-863b-1ea0a68a120e",
   "metadata": {
    "tags": []
   },
   "outputs": [],
   "source": [
    "import pandas as pd\n",
    "import numpy as np\n",
    "import seaborn as sns\n",
    "import matplotlib.pyplot as plt\n",
    "\n",
    "from sklearn.metrics import make_scorer, f1_score, confusion_matrix, precision_score, recall_score, accuracy_score"
   ]
  },
  {
   "cell_type": "markdown",
   "id": "357f5fb6-ff12-4a05-9c70-17beaf01c584",
   "metadata": {},
   "source": [
    "Cargamos nuestro set de entrenamiento"
   ]
  },
  {
   "cell_type": "code",
   "execution_count": 2,
   "id": "cece0f68-c142-458d-ac6e-4a9d57d1332d",
   "metadata": {
    "tags": []
   },
   "outputs": [
    {
     "data": {
      "text/html": [
       "<div>\n",
       "<style scoped>\n",
       "    .dataframe tbody tr th:only-of-type {\n",
       "        vertical-align: middle;\n",
       "    }\n",
       "\n",
       "    .dataframe tbody tr th {\n",
       "        vertical-align: top;\n",
       "    }\n",
       "\n",
       "    .dataframe thead th {\n",
       "        text-align: right;\n",
       "    }\n",
       "</style>\n",
       "<table border=\"1\" class=\"dataframe\">\n",
       "  <thead>\n",
       "    <tr style=\"text-align: right;\">\n",
       "      <th></th>\n",
       "      <th>ID</th>\n",
       "      <th>review_es</th>\n",
       "      <th>sentimiento</th>\n",
       "    </tr>\n",
       "  </thead>\n",
       "  <tbody>\n",
       "    <tr>\n",
       "      <th>0</th>\n",
       "      <td>0</td>\n",
       "      <td>Uno de los otros críticos ha mencionado que de...</td>\n",
       "      <td>positivo</td>\n",
       "    </tr>\n",
       "    <tr>\n",
       "      <th>1</th>\n",
       "      <td>1</td>\n",
       "      <td>Una pequeña pequeña producción.La técnica de f...</td>\n",
       "      <td>positivo</td>\n",
       "    </tr>\n",
       "    <tr>\n",
       "      <th>2</th>\n",
       "      <td>2</td>\n",
       "      <td>Pensé que esta era una manera maravillosa de p...</td>\n",
       "      <td>positivo</td>\n",
       "    </tr>\n",
       "    <tr>\n",
       "      <th>3</th>\n",
       "      <td>3</td>\n",
       "      <td>Básicamente, hay una familia donde un niño peq...</td>\n",
       "      <td>negativo</td>\n",
       "    </tr>\n",
       "    <tr>\n",
       "      <th>4</th>\n",
       "      <td>4</td>\n",
       "      <td>El \"amor en el tiempo\" de Petter Mattei es una...</td>\n",
       "      <td>positivo</td>\n",
       "    </tr>\n",
       "  </tbody>\n",
       "</table>\n",
       "</div>"
      ],
      "text/plain": [
       "   ID                                          review_es sentimiento\n",
       "0   0  Uno de los otros críticos ha mencionado que de...    positivo\n",
       "1   1  Una pequeña pequeña producción.La técnica de f...    positivo\n",
       "2   2  Pensé que esta era una manera maravillosa de p...    positivo\n",
       "3   3  Básicamente, hay una familia donde un niño peq...    negativo\n",
       "4   4  El \"amor en el tiempo\" de Petter Mattei es una...    positivo"
      ]
     },
     "execution_count": 2,
     "metadata": {},
     "output_type": "execute_result"
    }
   ],
   "source": [
    "df = pd.read_csv(\"dataset/train.csv\")\n",
    "df.head()"
   ]
  },
  {
   "cell_type": "markdown",
   "id": "d9591530-f175-4ada-b17a-705709a5f432",
   "metadata": {},
   "source": [
    "## Feature Engineering"
   ]
  },
  {
   "cell_type": "markdown",
   "id": "fe4408cb-500f-49e1-8f27-36f5ca338841",
   "metadata": {},
   "source": [
    "Primero verificamos que no haya ningun valor nulo en nuestro dataframe, ya que no tendria sentido hacer el analisis de sentimientos a partir de una review vacía."
   ]
  },
  {
   "cell_type": "code",
   "execution_count": 3,
   "id": "6a1fcc23-a2c3-48f6-b1c5-a52a3bdc202c",
   "metadata": {
    "tags": []
   },
   "outputs": [
    {
     "data": {
      "text/plain": [
       "0"
      ]
     },
     "execution_count": 3,
     "metadata": {},
     "output_type": "execute_result"
    }
   ],
   "source": [
    "df['review_es'].isnull().sum()"
   ]
  },
  {
   "cell_type": "markdown",
   "id": "a63e76d6-0d4e-457f-9b2c-501cdeae688d",
   "metadata": {},
   "source": [
    "Encodeamos el target para que las review positivas esten representadas por un 1 y las negativas por 0."
   ]
  },
  {
   "cell_type": "code",
   "execution_count": 4,
   "id": "74b99b9f-5bc3-4380-8d84-7fc68748cfdc",
   "metadata": {
    "tags": []
   },
   "outputs": [],
   "source": [
    "df['sentimiento_es_positivo'] = np.where(df.sentimiento == 'positivo', 1, 0)"
   ]
  },
  {
   "cell_type": "markdown",
   "id": "f932dbf9-d7ed-4db7-8597-949f45b51b24",
   "metadata": {},
   "source": [
    "Pasamos todos los caracteres a minúscula para que sea más fácil preporcesarlos."
   ]
  },
  {
   "cell_type": "code",
   "execution_count": 5,
   "id": "a68176ab-6dd2-4389-8b18-43cc7de03330",
   "metadata": {
    "tags": []
   },
   "outputs": [],
   "source": [
    "df['review_es'] = df['review_es'].str.lower()"
   ]
  },
  {
   "cell_type": "markdown",
   "id": "aca52e7c-c7a5-423a-8fd4-0b91a841f83a",
   "metadata": {},
   "source": [
    "Quitamos los acentos de todas las palabras y reemplazamos el caracter ñ por n."
   ]
  },
  {
   "cell_type": "code",
   "execution_count": 6,
   "id": "ea0e1c4a-4303-4c93-a890-2f4baaf97d27",
   "metadata": {
    "tags": []
   },
   "outputs": [],
   "source": [
    "caracteres_especiales = {'á':'a', 'é':'e', 'í':'i', 'ó':'o', 'ú':'u', 'ñ':'n'}\n",
    "for original, nuevo in caracteres_especiales.items():\n",
    "    df['review_es'] = df['review_es'].str.replace(original, nuevo, regex=True)"
   ]
  },
  {
   "cell_type": "markdown",
   "id": "103e5b14-9eb6-4ab4-acc0-767520d94cc6",
   "metadata": {},
   "source": [
    "Removemos todo caracter que no sean letras (números, puntos, comas, comillas, etc.) y los espacios dobles que puedan llegar a aparecer con esta operación."
   ]
  },
  {
   "cell_type": "code",
   "execution_count": 7,
   "id": "7db63314-c3cd-4c4b-917e-5a0fd6373f22",
   "metadata": {
    "tags": []
   },
   "outputs": [],
   "source": [
    "df['review_es'] = df['review_es'].str.replace('[^a-zA-Z]', ' ', regex=True)\n",
    "df['review_es'] = df['review_es'].str.replace('  ', ' ', regex=True)"
   ]
  },
  {
   "cell_type": "markdown",
   "id": "136abfe4-0ebf-4ff5-b67e-acff4c2d1cf3",
   "metadata": {},
   "source": [
    "Como último paso para el preprocesamiento, eliminamos las stopwords"
   ]
  },
  {
   "cell_type": "code",
   "execution_count": 8,
   "id": "4df010c7-7a7b-4afa-bdb9-5e87b4f87e26",
   "metadata": {
    "tags": []
   },
   "outputs": [],
   "source": [
    "from nltk.corpus import stopwords\n",
    "palabras = '|'.join(stopwords.words('spanish'))\n",
    "df['review_es'] = df['review_es'].str.replace(fr'\\b({palabras})\\b', '',regex=True)"
   ]
  },
  {
   "cell_type": "markdown",
   "id": "8add164a-6482-45f5-80df-735006789950",
   "metadata": {},
   "source": [
    "Nuestro dataset preprocesado queda de la siguiente manera:"
   ]
  },
  {
   "cell_type": "code",
   "execution_count": 9,
   "id": "8d8e7442-eb2d-4c84-94b0-cd1bf7841557",
   "metadata": {
    "tags": []
   },
   "outputs": [
    {
     "data": {
      "text/html": [
       "<div>\n",
       "<style scoped>\n",
       "    .dataframe tbody tr th:only-of-type {\n",
       "        vertical-align: middle;\n",
       "    }\n",
       "\n",
       "    .dataframe tbody tr th {\n",
       "        vertical-align: top;\n",
       "    }\n",
       "\n",
       "    .dataframe thead th {\n",
       "        text-align: right;\n",
       "    }\n",
       "</style>\n",
       "<table border=\"1\" class=\"dataframe\">\n",
       "  <thead>\n",
       "    <tr style=\"text-align: right;\">\n",
       "      <th></th>\n",
       "      <th>ID</th>\n",
       "      <th>review_es</th>\n",
       "      <th>sentimiento</th>\n",
       "      <th>sentimiento_es_positivo</th>\n",
       "    </tr>\n",
       "  </thead>\n",
       "  <tbody>\n",
       "    <tr>\n",
       "      <th>0</th>\n",
       "      <td>0</td>\n",
       "      <td>criticos  mencionado  despues  ver solo  o...</td>\n",
       "      <td>positivo</td>\n",
       "      <td>1</td>\n",
       "    </tr>\n",
       "    <tr>\n",
       "      <th>1</th>\n",
       "      <td>1</td>\n",
       "      <td>pequena pequena produccion  tecnica  filmacio...</td>\n",
       "      <td>positivo</td>\n",
       "      <td>1</td>\n",
       "    </tr>\n",
       "    <tr>\n",
       "      <th>2</th>\n",
       "      <td>2</td>\n",
       "      <td>pense     manera maravillosa  pasar tiempo   f...</td>\n",
       "      <td>positivo</td>\n",
       "      <td>1</td>\n",
       "    </tr>\n",
       "    <tr>\n",
       "      <th>3</th>\n",
       "      <td>3</td>\n",
       "      <td>basicamente   familia   nino pequeno jake pien...</td>\n",
       "      <td>negativo</td>\n",
       "      <td>0</td>\n",
       "    </tr>\n",
       "    <tr>\n",
       "      <th>4</th>\n",
       "      <td>4</td>\n",
       "      <td>amor   tiempo  petter mattei   pelicula visua...</td>\n",
       "      <td>positivo</td>\n",
       "      <td>1</td>\n",
       "    </tr>\n",
       "    <tr>\n",
       "      <th>5</th>\n",
       "      <td>5</td>\n",
       "      <td>probablemente  pelicula favorita    tiempos  h...</td>\n",
       "      <td>positivo</td>\n",
       "      <td>1</td>\n",
       "    </tr>\n",
       "    <tr>\n",
       "      <th>6</th>\n",
       "      <td>6</td>\n",
       "      <td>seguro   gustaria ver  resurreccion   serie  s...</td>\n",
       "      <td>positivo</td>\n",
       "      <td>1</td>\n",
       "    </tr>\n",
       "    <tr>\n",
       "      <th>7</th>\n",
       "      <td>7</td>\n",
       "      <td>espectaculo   idea increible fresca  innovado...</td>\n",
       "      <td>negativo</td>\n",
       "      <td>0</td>\n",
       "    </tr>\n",
       "    <tr>\n",
       "      <th>8</th>\n",
       "      <td>8</td>\n",
       "      <td>alentados   comentarios positivos   pelicula a...</td>\n",
       "      <td>negativo</td>\n",
       "      <td>0</td>\n",
       "    </tr>\n",
       "    <tr>\n",
       "      <th>9</th>\n",
       "      <td>9</td>\n",
       "      <td>si  gusta  risa original desgarradora  gustara...</td>\n",
       "      <td>positivo</td>\n",
       "      <td>1</td>\n",
       "    </tr>\n",
       "    <tr>\n",
       "      <th>10</th>\n",
       "      <td>10</td>\n",
       "      <td>phil  alienigena     peliculas peculiares   hu...</td>\n",
       "      <td>negativo</td>\n",
       "      <td>0</td>\n",
       "    </tr>\n",
       "    <tr>\n",
       "      <th>11</th>\n",
       "      <td>11</td>\n",
       "      <td>vi  pelicula  tenia alrededor    sali recuerdo...</td>\n",
       "      <td>negativo</td>\n",
       "      <td>0</td>\n",
       "    </tr>\n",
       "    <tr>\n",
       "      <th>12</th>\n",
       "      <td>12</td>\n",
       "      <td>asi     gran fanatico  trabajo  boll   nuevo  ...</td>\n",
       "      <td>negativo</td>\n",
       "      <td>0</td>\n",
       "    </tr>\n",
       "    <tr>\n",
       "      <th>13</th>\n",
       "      <td>13</td>\n",
       "      <td>reparto jugo  shakespeare shakespeare perdido...</td>\n",
       "      <td>negativo</td>\n",
       "      <td>0</td>\n",
       "    </tr>\n",
       "    <tr>\n",
       "      <th>14</th>\n",
       "      <td>14</td>\n",
       "      <td>fantastica pelicula  tres prisioneros   hac...</td>\n",
       "      <td>positivo</td>\n",
       "      <td>1</td>\n",
       "    </tr>\n",
       "  </tbody>\n",
       "</table>\n",
       "</div>"
      ],
      "text/plain": [
       "    ID                                          review_es sentimiento  \\\n",
       "0    0      criticos  mencionado  despues  ver solo  o...    positivo   \n",
       "1    1   pequena pequena produccion  tecnica  filmacio...    positivo   \n",
       "2    2  pense     manera maravillosa  pasar tiempo   f...    positivo   \n",
       "3    3  basicamente   familia   nino pequeno jake pien...    negativo   \n",
       "4    4   amor   tiempo  petter mattei   pelicula visua...    positivo   \n",
       "5    5  probablemente  pelicula favorita    tiempos  h...    positivo   \n",
       "6    6  seguro   gustaria ver  resurreccion   serie  s...    positivo   \n",
       "7    7   espectaculo   idea increible fresca  innovado...    negativo   \n",
       "8    8  alentados   comentarios positivos   pelicula a...    negativo   \n",
       "9    9  si  gusta  risa original desgarradora  gustara...    positivo   \n",
       "10  10  phil  alienigena     peliculas peculiares   hu...    negativo   \n",
       "11  11  vi  pelicula  tenia alrededor    sali recuerdo...    negativo   \n",
       "12  12  asi     gran fanatico  trabajo  boll   nuevo  ...    negativo   \n",
       "13  13   reparto jugo  shakespeare shakespeare perdido...    negativo   \n",
       "14  14     fantastica pelicula  tres prisioneros   hac...    positivo   \n",
       "\n",
       "    sentimiento_es_positivo  \n",
       "0                         1  \n",
       "1                         1  \n",
       "2                         1  \n",
       "3                         0  \n",
       "4                         1  \n",
       "5                         1  \n",
       "6                         1  \n",
       "7                         0  \n",
       "8                         0  \n",
       "9                         1  \n",
       "10                        0  \n",
       "11                        0  \n",
       "12                        0  \n",
       "13                        0  \n",
       "14                        1  "
      ]
     },
     "execution_count": 9,
     "metadata": {},
     "output_type": "execute_result"
    }
   ],
   "source": [
    "df.head(15)"
   ]
  },
  {
   "cell_type": "markdown",
   "id": "0213be94-fcd4-4178-888d-e1759f139b3f",
   "metadata": {},
   "source": [
    "## Sets de test y train\n",
    "Dividimos el dataframe en datos de test y train. Usaremos estos mismos sets para el entrenamiento de todos los modelos."
   ]
  },
  {
   "cell_type": "code",
   "execution_count": 10,
   "id": "68b64756-1fcb-417e-ab4d-144e6d69beca",
   "metadata": {
    "tags": []
   },
   "outputs": [
    {
     "name": "stderr",
     "output_type": "stream",
     "text": [
      "2023-06-13 18:43:15.715575: I tensorflow/tsl/cuda/cudart_stub.cc:28] Could not find cuda drivers on your machine, GPU will not be used.\n",
      "2023-06-13 18:43:18.296141: I tensorflow/tsl/cuda/cudart_stub.cc:28] Could not find cuda drivers on your machine, GPU will not be used.\n",
      "2023-06-13 18:43:18.306136: I tensorflow/core/platform/cpu_feature_guard.cc:182] This TensorFlow binary is optimized to use available CPU instructions in performance-critical operations.\n",
      "To enable the following instructions: AVX2 FMA, in other operations, rebuild TensorFlow with the appropriate compiler flags.\n",
      "2023-06-13 18:43:25.744157: W tensorflow/compiler/tf2tensorrt/utils/py_utils.cc:38] TF-TRT Warning: Could not find TensorRT\n"
     ]
    }
   ],
   "source": [
    "from sklearn.model_selection import train_test_split\n",
    "from keras.preprocessing.text import Tokenizer\n",
    "\n",
    "X = df.review_es\n",
    "y = df.sentimiento_es_positivo\n",
    "X_train, X_test, y_train, y_test = train_test_split(X, y, test_size=0.2, random_state=19)"
   ]
  },
  {
   "cell_type": "markdown",
   "id": "8df89a4f-c5b2-48ea-8f00-a28d3387eb30",
   "metadata": {},
   "source": [
    "## Ensamblado de modelos"
   ]
  },
  {
   "cell_type": "markdown",
   "id": "e7475dee-4cae-4cd9-b81e-1205d6962b61",
   "metadata": {},
   "source": [
    "### Bayes Naive\n",
    "Primero transformamos nuestros documentos en una matriz en la cual se almacena la cantidad de tokens (\"palabras clave\"). Luego convertimos esa misma matriz en una representación normalizada de término/frecuencia. \n",
    "Esto lo hacemos para reducir el impacto de los tokens que aparecen más veces."
   ]
  },
  {
   "cell_type": "code",
   "execution_count": 11,
   "id": "23ddf491-7fb6-4674-9913-0cb0b4adc914",
   "metadata": {
    "tags": []
   },
   "outputs": [],
   "source": [
    "from sklearn.feature_extraction.text import CountVectorizer, TfidfTransformer\n",
    "from sklearn.naive_bayes import MultinomialNB\n",
    "\n",
    "vectorizador = CountVectorizer()\n",
    "X_train_counts = vectorizador.fit_transform(X_train)\n",
    "\n",
    "escaladorTfidf = TfidfTransformer()\n",
    "X_train_tfidf = escaladorTfidf.fit_transform(X_train_counts)"
   ]
  },
  {
   "cell_type": "markdown",
   "id": "d21e9ef6-2f6e-4767-a083-7d8e100369b6",
   "metadata": {},
   "source": [
    "Ahora que tenemos la información en el formato correcto, creamos nuestro modelo de tipo Bayes Naive. En este caso usamos uno de tipo multinomial."
   ]
  },
  {
   "cell_type": "code",
   "execution_count": 12,
   "id": "a353fbf8-82e2-4af5-9098-e32a82ca6d49",
   "metadata": {
    "tags": []
   },
   "outputs": [
    {
     "data": {
      "text/html": [
       "<style>#sk-container-id-1 {color: black;background-color: white;}#sk-container-id-1 pre{padding: 0;}#sk-container-id-1 div.sk-toggleable {background-color: white;}#sk-container-id-1 label.sk-toggleable__label {cursor: pointer;display: block;width: 100%;margin-bottom: 0;padding: 0.3em;box-sizing: border-box;text-align: center;}#sk-container-id-1 label.sk-toggleable__label-arrow:before {content: \"▸\";float: left;margin-right: 0.25em;color: #696969;}#sk-container-id-1 label.sk-toggleable__label-arrow:hover:before {color: black;}#sk-container-id-1 div.sk-estimator:hover label.sk-toggleable__label-arrow:before {color: black;}#sk-container-id-1 div.sk-toggleable__content {max-height: 0;max-width: 0;overflow: hidden;text-align: left;background-color: #f0f8ff;}#sk-container-id-1 div.sk-toggleable__content pre {margin: 0.2em;color: black;border-radius: 0.25em;background-color: #f0f8ff;}#sk-container-id-1 input.sk-toggleable__control:checked~div.sk-toggleable__content {max-height: 200px;max-width: 100%;overflow: auto;}#sk-container-id-1 input.sk-toggleable__control:checked~label.sk-toggleable__label-arrow:before {content: \"▾\";}#sk-container-id-1 div.sk-estimator input.sk-toggleable__control:checked~label.sk-toggleable__label {background-color: #d4ebff;}#sk-container-id-1 div.sk-label input.sk-toggleable__control:checked~label.sk-toggleable__label {background-color: #d4ebff;}#sk-container-id-1 input.sk-hidden--visually {border: 0;clip: rect(1px 1px 1px 1px);clip: rect(1px, 1px, 1px, 1px);height: 1px;margin: -1px;overflow: hidden;padding: 0;position: absolute;width: 1px;}#sk-container-id-1 div.sk-estimator {font-family: monospace;background-color: #f0f8ff;border: 1px dotted black;border-radius: 0.25em;box-sizing: border-box;margin-bottom: 0.5em;}#sk-container-id-1 div.sk-estimator:hover {background-color: #d4ebff;}#sk-container-id-1 div.sk-parallel-item::after {content: \"\";width: 100%;border-bottom: 1px solid gray;flex-grow: 1;}#sk-container-id-1 div.sk-label:hover label.sk-toggleable__label {background-color: #d4ebff;}#sk-container-id-1 div.sk-serial::before {content: \"\";position: absolute;border-left: 1px solid gray;box-sizing: border-box;top: 0;bottom: 0;left: 50%;z-index: 0;}#sk-container-id-1 div.sk-serial {display: flex;flex-direction: column;align-items: center;background-color: white;padding-right: 0.2em;padding-left: 0.2em;position: relative;}#sk-container-id-1 div.sk-item {position: relative;z-index: 1;}#sk-container-id-1 div.sk-parallel {display: flex;align-items: stretch;justify-content: center;background-color: white;position: relative;}#sk-container-id-1 div.sk-item::before, #sk-container-id-1 div.sk-parallel-item::before {content: \"\";position: absolute;border-left: 1px solid gray;box-sizing: border-box;top: 0;bottom: 0;left: 50%;z-index: -1;}#sk-container-id-1 div.sk-parallel-item {display: flex;flex-direction: column;z-index: 1;position: relative;background-color: white;}#sk-container-id-1 div.sk-parallel-item:first-child::after {align-self: flex-end;width: 50%;}#sk-container-id-1 div.sk-parallel-item:last-child::after {align-self: flex-start;width: 50%;}#sk-container-id-1 div.sk-parallel-item:only-child::after {width: 0;}#sk-container-id-1 div.sk-dashed-wrapped {border: 1px dashed gray;margin: 0 0.4em 0.5em 0.4em;box-sizing: border-box;padding-bottom: 0.4em;background-color: white;}#sk-container-id-1 div.sk-label label {font-family: monospace;font-weight: bold;display: inline-block;line-height: 1.2em;}#sk-container-id-1 div.sk-label-container {text-align: center;}#sk-container-id-1 div.sk-container {/* jupyter's `normalize.less` sets `[hidden] { display: none; }` but bootstrap.min.css set `[hidden] { display: none !important; }` so we also need the `!important` here to be able to override the default hidden behavior on the sphinx rendered scikit-learn.org. See: https://github.com/scikit-learn/scikit-learn/issues/21755 */display: inline-block !important;position: relative;}#sk-container-id-1 div.sk-text-repr-fallback {display: none;}</style><div id=\"sk-container-id-1\" class=\"sk-top-container\"><div class=\"sk-text-repr-fallback\"><pre>MultinomialNB()</pre><b>In a Jupyter environment, please rerun this cell to show the HTML representation or trust the notebook. <br />On GitHub, the HTML representation is unable to render, please try loading this page with nbviewer.org.</b></div><div class=\"sk-container\" hidden><div class=\"sk-item\"><div class=\"sk-estimator sk-toggleable\"><input class=\"sk-toggleable__control sk-hidden--visually\" id=\"sk-estimator-id-1\" type=\"checkbox\" checked><label for=\"sk-estimator-id-1\" class=\"sk-toggleable__label sk-toggleable__label-arrow\">MultinomialNB</label><div class=\"sk-toggleable__content\"><pre>MultinomialNB()</pre></div></div></div></div></div>"
      ],
      "text/plain": [
       "MultinomialNB()"
      ]
     },
     "execution_count": 12,
     "metadata": {},
     "output_type": "execute_result"
    }
   ],
   "source": [
    "clasificadorBayesNaive = MultinomialNB()\n",
    "clasificadorBayesNaive.fit(X_train_tfidf, y_train)"
   ]
  },
  {
   "cell_type": "markdown",
   "id": "ee86bea6-d19d-4c7a-9718-0deb37d67649",
   "metadata": {
    "tags": []
   },
   "source": [
    "Realizamos el mismo procedimiento para transformar los datos de validación y poder realizar nuestras predicciones."
   ]
  },
  {
   "cell_type": "code",
   "execution_count": 13,
   "id": "58b0f204-a797-4209-9e57-26082928411d",
   "metadata": {
    "tags": []
   },
   "outputs": [],
   "source": [
    "X_test_counts = vectorizador.transform(X_test)\n",
    "X_test_tfidf = escaladorTfidf.transform(X_test_counts)\n",
    "y_pred = np.where(clasificadorBayesNaive.predict(X_test_tfidf) >= 0.5, 1, 0)"
   ]
  },
  {
   "cell_type": "markdown",
   "id": "7c256099-641f-4148-a4b8-e1e2835c66fb",
   "metadata": {},
   "source": [
    "Construimos nuestra matriz de confusión y analizamos métricas"
   ]
  },
  {
   "cell_type": "code",
   "execution_count": 14,
   "id": "2bbc22a4-894c-49a8-856b-085038f324da",
   "metadata": {
    "tags": []
   },
   "outputs": [
    {
     "data": {
      "text/plain": [
       "Text(0.5, 1.0, 'Confusion matrix de validación')"
      ]
     },
     "execution_count": 14,
     "metadata": {},
     "output_type": "execute_result"
    },
    {
     "data": {
      "image/png": "[encoded data removed]",
      "text/plain": [
       "<Figure size 640x480 with 2 Axes>"
      ]
     },
     "metadata": {},
     "output_type": "display_data"
    }
   ],
   "source": [
    "confusion = confusion_matrix(y_test, y_pred)\n",
    "sns.heatmap(confusion, annot=True, fmt='.0f')\n",
    "plt.ylabel('true')\n",
    "plt.xlabel('predicted')\n",
    "plt.title(\"Confusion matrix de validación\")"
   ]
  },
  {
   "cell_type": "code",
   "execution_count": 15,
   "id": "21cb966b-ac09-465f-8e2a-869f818e06fe",
   "metadata": {
    "tags": []
   },
   "outputs": [
    {
     "name": "stdout",
     "output_type": "stream",
     "text": [
      "Accuracy: 0.8552\n",
      "Precision: 0.8503921174341443\n",
      "Recall: 0.8572876545712548\n",
      "F1-score: 0.8538259640621845\n"
     ]
    }
   ],
   "source": [
    "print(\"Accuracy:\", accuracy_score(y_test, y_pred))\n",
    "print(\"Precision:\", precision_score(y_test, y_pred))\n",
    "print(\"Recall:\", recall_score(y_test, y_pred))\n",
    "print(\"F1-score:\", f1_score(y_test, y_pred))"
   ]
  },
  {
   "cell_type": "markdown",
   "id": "402dffb2-1591-4c64-a5a1-b800b2212296",
   "metadata": {},
   "source": [
    "Creamos el submit para la competencia de Kaggle."
   ]
  },
  {
   "cell_type": "code",
   "execution_count": 16,
   "id": "144021c5-29b0-4367-9fb9-2139922a39d7",
   "metadata": {},
   "outputs": [],
   "source": [
    "df_test = pd.read_csv(\"dataset/test.csv\")\n",
    "assert(len(df_test)==8599)\n",
    "\n",
    "X = df_test['review_es']\n",
    "    \n",
    "X_counts = vectorizador.transform(X)\n",
    "X_tfidf = escaladorTfidf.transform(X_counts)\n",
    "    \n",
    "prediccion = np.where(clasificadorBayesNaive.predict(X_tfidf) >= 0.5, 'positivo', 'negativo')\n",
    "\n",
    "assert(len(prediccion)==8599)\n",
    "\n",
    "submit = pd.DataFrame(\n",
    "    {\"sentimiento\": prediccion},\n",
    "    index=df_test[\"ID\"],\n",
    ")\n",
    "assert(len(submit)==8599)\n",
    "\n",
    "submit.to_csv(\"dataset/submit.csv\")"
   ]
  },
  {
   "cell_type": "markdown",
   "id": "d1a57dfb-2710-4d8b-a908-9092d694285f",
   "metadata": {},
   "source": [
    "### Random Forest"
   ]
  },
  {
   "cell_type": "code",
   "execution_count": null,
   "id": "cb7e21e5-1e44-47d9-b75e-f428eed551a3",
   "metadata": {},
   "outputs": [],
   "source": []
  },
  {
   "cell_type": "markdown",
   "id": "adee283a-30f0-46a0-9ab1-a3b47977403d",
   "metadata": {},
   "source": [
    "### XGBoost"
   ]
  },
  {
   "cell_type": "code",
   "execution_count": null,
   "id": "116b3627-a0ee-435f-b2ed-50d7d2566b89",
   "metadata": {
    "tags": []
   },
   "outputs": [],
   "source": []
  },
  {
   "cell_type": "markdown",
   "id": "4548350f-e242-49f6-9fde-4fe63b3cbdb6",
   "metadata": {},
   "source": [
    "### Red neuronal con Keras y TensorFlow"
   ]
  },
  {
   "cell_type": "code",
   "execution_count": 17,
   "id": "ff642e41-0622-45b8-8033-c373d017011b",
   "metadata": {},
   "outputs": [],
   "source": [
    "from keras.models import Sequential\n",
    "from keras.layers import LSTM\n",
    "from keras.layers import Embedding, Dense\n",
    "from keras.utils import pad_sequences"
   ]
  },
  {
   "cell_type": "code",
   "execution_count": 18,
   "id": "0b4e540c-9ee3-40e3-be68-8e56db1266a0",
   "metadata": {
    "tags": []
   },
   "outputs": [],
   "source": [
    "tokenizer = Tokenizer()\n",
    "tokenizer.fit_on_texts(X_train)\n",
    "vocabulario = len(tokenizer.word_index) + 1"
   ]
  },
  {
   "cell_type": "code",
   "execution_count": 19,
   "id": "d544325e-e956-450f-8010-8ca37abeb622",
   "metadata": {
    "tags": []
   },
   "outputs": [],
   "source": [
    "max_words = 500000\n",
    "X_train_sequences = tokenizer.texts_to_sequences(X_train)\n",
    "X_test_sequences = tokenizer.texts_to_sequences(X_test)\n",
    "X_train_padded = pad_sequences(X_train_sequences, maxlen=max_words)\n",
    "X_test_padded = pad_sequences(X_test_sequences, maxlen=max_words)"
   ]
  },
  {
   "cell_type": "code",
   "execution_count": 21,
   "id": "688d8678-284e-4caf-a14d-da9e4aee51e5",
   "metadata": {
    "tags": []
   },
   "outputs": [
    {
     "name": "stderr",
     "output_type": "stream",
     "text": [
      "2023-06-13 18:43:55.322612: W tensorflow/tsl/framework/cpu_allocator_impl.cc:83] Allocation of 19559296 exceeds 10% of free system memory.\n",
      "2023-06-13 18:43:55.524675: W tensorflow/tsl/framework/cpu_allocator_impl.cc:83] Allocation of 19559296 exceeds 10% of free system memory.\n",
      "2023-06-13 18:43:55.535878: W tensorflow/tsl/framework/cpu_allocator_impl.cc:83] Allocation of 19559296 exceeds 10% of free system memory.\n",
      "2023-06-13 18:43:56.476203: I tensorflow/core/common_runtime/executor.cc:1197] [/device:CPU:0] (DEBUG INFO) Executor start aborting (this does not indicate an error and you can ignore this message): INVALID_ARGUMENT: You must feed a value for placeholder tensor 'gradients/split_2_grad/concat/split_2/split_dim' with dtype int32\n",
      "\t [[{{node gradients/split_2_grad/concat/split_2/split_dim}}]]\n",
      "2023-06-13 18:43:56.480515: I tensorflow/core/common_runtime/executor.cc:1197] [/device:CPU:0] (DEBUG INFO) Executor start aborting (this does not indicate an error and you can ignore this message): INVALID_ARGUMENT: You must feed a value for placeholder tensor 'gradients/split_grad/concat/split/split_dim' with dtype int32\n",
      "\t [[{{node gradients/split_grad/concat/split/split_dim}}]]\n",
      "2023-06-13 18:43:56.483288: I tensorflow/core/common_runtime/executor.cc:1197] [/device:CPU:0] (DEBUG INFO) Executor start aborting (this does not indicate an error and you can ignore this message): INVALID_ARGUMENT: You must feed a value for placeholder tensor 'gradients/split_1_grad/concat/split_1/split_dim' with dtype int32\n",
      "\t [[{{node gradients/split_1_grad/concat/split_1/split_dim}}]]\n"
     ]
    }
   ],
   "source": [
    "lstm_nn = Sequential()\n",
    "\n",
    "lstm_nn.add(Embedding(vocabulario, 32, input_length=max_words,trainable=False))\n",
    "lstm_nn.add(LSTM(100))\n",
    "lstm_nn.add(Dense(1,activation='sigmoid'))"
   ]
  },
  {
   "cell_type": "code",
   "execution_count": 22,
   "id": "816c9c2a-affa-4d49-9172-fd4f5a4240bc",
   "metadata": {
    "tags": []
   },
   "outputs": [
    {
     "name": "stdout",
     "output_type": "stream",
     "text": [
      "Model: \"sequential\"\n",
      "_________________________________________________________________\n",
      " Layer (type)                Output Shape              Param #   \n",
      "=================================================================\n",
      " embedding (Embedding)       (None, 500, 32)           4889824   \n",
      "                                                                 \n",
      " lstm (LSTM)                 (None, 100)               53200     \n",
      "                                                                 \n",
      " dense (Dense)               (None, 1)                 101       \n",
      "                                                                 \n",
      "=================================================================\n",
      "Total params: 4,943,125\n",
      "Trainable params: 53,301\n",
      "Non-trainable params: 4,889,824\n",
      "_________________________________________________________________\n",
      "None\n"
     ]
    }
   ],
   "source": [
    "lstm_nn.compile(optimizer='adam', loss='binary_crossentropy')\n",
    "print(lstm_nn.summary())"
   ]
  },
  {
   "cell_type": "code",
   "execution_count": 23,
   "id": "556efff5-a461-4ae8-9202-367e58b6d057",
   "metadata": {
    "tags": []
   },
   "outputs": [
    {
     "name": "stdout",
     "output_type": "stream",
     "text": [
      "Epoch 1/6\n"
     ]
    },
    {
     "name": "stderr",
     "output_type": "stream",
     "text": [
      "2023-06-13 18:43:57.792458: I tensorflow/core/common_runtime/executor.cc:1197] [/device:CPU:0] (DEBUG INFO) Executor start aborting (this does not indicate an error and you can ignore this message): INVALID_ARGUMENT: You must feed a value for placeholder tensor 'gradients/split_2_grad/concat/split_2/split_dim' with dtype int32\n",
      "\t [[{{node gradients/split_2_grad/concat/split_2/split_dim}}]]\n",
      "2023-06-13 18:43:57.794026: I tensorflow/core/common_runtime/executor.cc:1197] [/device:CPU:0] (DEBUG INFO) Executor start aborting (this does not indicate an error and you can ignore this message): INVALID_ARGUMENT: You must feed a value for placeholder tensor 'gradients/split_grad/concat/split/split_dim' with dtype int32\n",
      "\t [[{{node gradients/split_grad/concat/split/split_dim}}]]\n",
      "2023-06-13 18:43:57.795228: I tensorflow/core/common_runtime/executor.cc:1197] [/device:CPU:0] (DEBUG INFO) Executor start aborting (this does not indicate an error and you can ignore this message): INVALID_ARGUMENT: You must feed a value for placeholder tensor 'gradients/split_1_grad/concat/split_1/split_dim' with dtype int32\n",
      "\t [[{{node gradients/split_1_grad/concat/split_1/split_dim}}]]\n",
      "2023-06-13 18:43:58.369725: I tensorflow/core/common_runtime/executor.cc:1197] [/device:CPU:0] (DEBUG INFO) Executor start aborting (this does not indicate an error and you can ignore this message): INVALID_ARGUMENT: You must feed a value for placeholder tensor 'gradients/split_2_grad/concat/split_2/split_dim' with dtype int32\n",
      "\t [[{{node gradients/split_2_grad/concat/split_2/split_dim}}]]\n",
      "2023-06-13 18:43:58.371253: I tensorflow/core/common_runtime/executor.cc:1197] [/device:CPU:0] (DEBUG INFO) Executor start aborting (this does not indicate an error and you can ignore this message): INVALID_ARGUMENT: You must feed a value for placeholder tensor 'gradients/split_grad/concat/split/split_dim' with dtype int32\n",
      "\t [[{{node gradients/split_grad/concat/split/split_dim}}]]\n",
      "2023-06-13 18:43:58.372226: I tensorflow/core/common_runtime/executor.cc:1197] [/device:CPU:0] (DEBUG INFO) Executor start aborting (this does not indicate an error and you can ignore this message): INVALID_ARGUMENT: You must feed a value for placeholder tensor 'gradients/split_1_grad/concat/split_1/split_dim' with dtype int32\n",
      "\t [[{{node gradients/split_1_grad/concat/split_1/split_dim}}]]\n"
     ]
    },
    {
     "name": "stdout",
     "output_type": "stream",
     "text": [
      "1250/1250 [==============================] - 213s 168ms/step - loss: 0.6909\n",
      "Epoch 2/6\n",
      "1250/1250 [==============================] - 199s 159ms/step - loss: 0.6864\n",
      "Epoch 3/6\n",
      "1250/1250 [==============================] - 211s 168ms/step - loss: 0.6813\n",
      "Epoch 4/6\n",
      "1250/1250 [==============================] - 219s 176ms/step - loss: 0.6819\n",
      "Epoch 5/6\n",
      "1250/1250 [==============================] - 205s 164ms/step - loss: 0.6768\n",
      "Epoch 6/6\n",
      "1250/1250 [==============================] - 216s 173ms/step - loss: 0.6725\n"
     ]
    }
   ],
   "source": [
    "lstm_nn_history = lstm_nn.fit(X_train_padded, y_train, epochs=6)"
   ]
  },
  {
   "cell_type": "code",
   "execution_count": 24,
   "id": "2c3dcf84-f477-483d-9af7-b56d6f050821",
   "metadata": {
    "tags": []
   },
   "outputs": [
    {
     "name": "stderr",
     "output_type": "stream",
     "text": [
      "2023-06-13 19:04:59.580681: W tensorflow/tsl/framework/cpu_allocator_impl.cc:83] Allocation of 20000000 exceeds 10% of free system memory.\n"
     ]
    },
    {
     "name": "stdout",
     "output_type": "stream",
     "text": [
      "  1/313 [..............................] - ETA: 1:53"
     ]
    },
    {
     "name": "stderr",
     "output_type": "stream",
     "text": [
      "2023-06-13 19:05:00.596796: I tensorflow/core/common_runtime/executor.cc:1197] [/device:CPU:0] (DEBUG INFO) Executor start aborting (this does not indicate an error and you can ignore this message): INVALID_ARGUMENT: You must feed a value for placeholder tensor 'gradients/split_2_grad/concat/split_2/split_dim' with dtype int32\n",
      "\t [[{{node gradients/split_2_grad/concat/split_2/split_dim}}]]\n",
      "2023-06-13 19:05:00.598399: I tensorflow/core/common_runtime/executor.cc:1197] [/device:CPU:0] (DEBUG INFO) Executor start aborting (this does not indicate an error and you can ignore this message): INVALID_ARGUMENT: You must feed a value for placeholder tensor 'gradients/split_grad/concat/split/split_dim' with dtype int32\n",
      "\t [[{{node gradients/split_grad/concat/split/split_dim}}]]\n",
      "2023-06-13 19:05:00.599513: I tensorflow/core/common_runtime/executor.cc:1197] [/device:CPU:0] (DEBUG INFO) Executor start aborting (this does not indicate an error and you can ignore this message): INVALID_ARGUMENT: You must feed a value for placeholder tensor 'gradients/split_1_grad/concat/split_1/split_dim' with dtype int32\n",
      "\t [[{{node gradients/split_1_grad/concat/split_1/split_dim}}]]\n"
     ]
    },
    {
     "name": "stdout",
     "output_type": "stream",
     "text": [
      "313/313 [==============================] - 21s 67ms/step\n"
     ]
    }
   ],
   "source": [
    "y_pred = np.where(lstm_nn.predict(X_test_padded) >= 0.5, 1, 0)"
   ]
  },
  {
   "cell_type": "code",
   "execution_count": 25,
   "id": "db89db3b-7946-450e-9a2e-86270d08d801",
   "metadata": {
    "tags": []
   },
   "outputs": [
    {
     "data": {
      "text/plain": [
       "Text(0.5, 1.0, 'Confusion matrix de validación')"
      ]
     },
     "execution_count": 25,
     "metadata": {},
     "output_type": "execute_result"
    },
    {
     "data": {
      "image/png": "[encoded data removed]",
      "text/plain": [
       "<Figure size 640x480 with 2 Axes>"
      ]
     },
     "metadata": {},
     "output_type": "display_data"
    }
   ],
   "source": [
    "confusion = confusion_matrix(y_test, y_pred)\n",
    "sns.heatmap(confusion, annot=True, fmt='.0f')\n",
    "plt.ylabel('true')\n",
    "plt.xlabel('predicted')\n",
    "plt.title(\"Confusion matrix de validación\")"
   ]
  },
  {
   "cell_type": "code",
   "execution_count": 26,
   "id": "6fbf9d76-e4eb-44a4-bd26-9eff154439ed",
   "metadata": {
    "tags": []
   },
   "outputs": [
    {
     "name": "stdout",
     "output_type": "stream",
     "text": [
      "Accuracy: 0.5806\n",
      "Precision: 0.5959989607690309\n",
      "Recall: 0.46503142104196227\n",
      "F1-score: 0.522432247779549\n"
     ]
    }
   ],
   "source": [
    "print(\"Accuracy:\", accuracy_score(y_test, y_pred))\n",
    "print(\"Precision:\", precision_score(y_test, y_pred))\n",
    "print(\"Recall:\", recall_score(y_test, y_pred))\n",
    "print(\"F1-score:\", f1_score(y_test, y_pred))"
   ]
  },
  {
   "cell_type": "code",
   "execution_count": 27,
   "id": "b9eb9cbd-01f9-4fb3-8b08-690295f59d4b",
   "metadata": {},
   "outputs": [
    {
     "name": "stdout",
     "output_type": "stream",
     "text": [
      "  2/269 [..............................] - ETA: 15s"
     ]
    },
    {
     "name": "stderr",
     "output_type": "stream",
     "text": [
      "2023-06-13 19:05:23.828601: W tensorflow/tsl/framework/cpu_allocator_impl.cc:83] Allocation of 17198000 exceeds 10% of free system memory.\n"
     ]
    },
    {
     "name": "stdout",
     "output_type": "stream",
     "text": [
      "269/269 [==============================] - 18s 67ms/step\n"
     ]
    }
   ],
   "source": [
    "df_test = pd.read_csv(\"dataset/test.csv\")\n",
    "assert(len(df_test)==8599)\n",
    "\n",
    "X = df_test.review_es\n",
    "X_sequences = tokenizer.texts_to_sequences(X)\n",
    "X_padded = pad_sequences(X_sequences, maxlen=max_words)\n",
    "    \n",
    "prediccion = np.where(lstm_nn.predict(X_padded) >= 0.5, 'positivo', 'negativo').reshape(-1)\n",
    "assert(len(prediccion)==8599)\n",
    "\n",
    "submit = pd.DataFrame(\n",
    "    {\"sentimiento\": prediccion},\n",
    "    index=df_test[\"ID\"],\n",
    ")\n",
    "assert(len(submit)==8599)\n",
    "\n",
    "submit.to_csv(\"dataset/submit.csv\")"
   ]
  },
  {
   "cell_type": "markdown",
   "id": "34bfcb60-abcb-4a81-ad78-c196e8bc538d",
   "metadata": {},
   "source": [
    "### Ensamble de modelos"
   ]
  },
  {
   "cell_type": "code",
   "execution_count": null,
   "id": "b0c14d2a-d017-4be0-a913-753f44ee077e",
   "metadata": {},
   "outputs": [],
   "source": []
  },
  {
   "cell_type": "code",
   "execution_count": null,
   "id": "6562de0a-df77-4ae6-8718-5a50e0ecf9d9",
   "metadata": {},
   "outputs": [],
   "source": []
  }
 ],
 "metadata": {
  "kernelspec": {
   "display_name": "Python 3 (ipykernel)",
   "language": "python",
   "name": "python3"
  },
  "language_info": {
   "codemirror_mode": {
    "name": "ipython",
    "version": 3
   },
   "file_extension": ".py",
   "mimetype": "text/x-python",
   "name": "python",
   "nbconvert_exporter": "python",
   "pygments_lexer": "ipython3",
   "version": "3.8.10"
  }
 },
 "nbformat": 4,
 "nbformat_minor": 5
}
